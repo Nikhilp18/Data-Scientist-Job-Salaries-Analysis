{
 "cells": [
  {
   "cell_type": "markdown",
   "metadata": {},
   "source": [
    "# Data Science Job salaries Analysis\n",
    "\n",
    "Data Science and Machine Learning are increasing gaining popularity in various fields such as Sports, Art, Space, medicine, healthcare and many more. It would be insightful to have a look at the salaries and current employment status of these data scientist across various places around the world.\n",
    "\n",
    "The dataset was downloaded from kaggle (link given below) and we will be making an exploratory analysis of the data, visualise it and make prediction based on the data.\n",
    "https://www.kaggle.com/datasets/ruchi798/data-science-job-salaries"
   ]
  },
  {
   "cell_type": "markdown",
   "metadata": {},
   "source": [
    "## Downloading the Dataset\n",
    "\n",
    "The dataset used for this project can be download with the link given below.\n",
    "https://www.kaggle.com/datasets/ruchi798/data-science-job-salaries"
   ]
  },
  {
   "cell_type": "markdown",
   "metadata": {},
   "source": [
    "Let's begin by downloading the data, and listing the files within the dataset."
   ]
  },
  {
   "cell_type": "code",
   "execution_count": 1,
   "metadata": {},
   "outputs": [],
   "source": [
    "# Change this\n",
    "dataset_url = 'https://www.kaggle.com/datasets/ruchi798/data-science-job-salaries' "
   ]
  },
  {
   "cell_type": "code",
   "execution_count": 2,
   "metadata": {},
   "outputs": [
    {
     "name": "stdout",
     "output_type": "stream",
     "text": [
      "Please provide your Kaggle credentials to download this dataset. Learn more: http://bit.ly/kaggle-creds\n",
      "Your Kaggle username: nikhilpurao\n",
      "Your Kaggle Key: ········\n",
      "Downloading data-science-job-salaries.zip to .\\data-science-job-salaries\n"
     ]
    },
    {
     "name": "stderr",
     "output_type": "stream",
     "text": [
      "100%|█████████████████████████████████████████████████████████████████████████████| 7.37k/7.37k [00:00<00:00, 1.26MB/s]"
     ]
    },
    {
     "name": "stdout",
     "output_type": "stream",
     "text": [
      "\n"
     ]
    },
    {
     "name": "stderr",
     "output_type": "stream",
     "text": [
      "\n"
     ]
    }
   ],
   "source": [
    "import opendatasets as od\n",
    "od.download(dataset_url)"
   ]
  },
  {
   "cell_type": "markdown",
   "metadata": {},
   "source": [
    "The dataset has been downloaded and extracted."
   ]
  },
  {
   "cell_type": "code",
   "execution_count": 37,
   "metadata": {},
   "outputs": [],
   "source": [
    "data_dir = './data-science-job-salaries'"
   ]
  },
  {
   "cell_type": "code",
   "execution_count": 4,
   "metadata": {},
   "outputs": [
    {
     "data": {
      "text/plain": [
       "['ds_salaries.csv']"
      ]
     },
     "execution_count": 4,
     "metadata": {},
     "output_type": "execute_result"
    }
   ],
   "source": [
    "import os\n",
    "os.listdir(data_dir)"
   ]
  },
  {
   "cell_type": "markdown",
   "metadata": {},
   "source": [
    "# Importing required libraries"
   ]
  },
  {
   "cell_type": "code",
   "execution_count": 5,
   "metadata": {},
   "outputs": [],
   "source": [
    "# Import numpy and pandas\n",
    "import numpy as np\n",
    "import pandas as pd\n",
    "\n",
    "# Import visualization libraries\n",
    "import plotly.express as px\n",
    "import seaborn as sns\n",
    "import matplotlib\n",
    "import matplotlib.pyplot as plt\n",
    "%matplotlib inline\n",
    "\n",
    "sns.set_style('darkgrid')\n",
    "matplotlib.rcParams['font.size'] = 14\n",
    "matplotlib.rcParams['figure.figsize'] = (9, 5)\n",
    "matplotlib.rcParams['figure.facecolor'] = '#00000000'"
   ]
  },
  {
   "cell_type": "markdown",
   "metadata": {},
   "source": [
    "## Data Preparation and Cleaning\n",
    "\n",
    "In this section, we will do the basic data preparation and initial analysis such as reading the csv file to dataframe, dropping unnecessary series, getting info on the dataframe and converting object variables to categorical variables whereever applicable.\n"
   ]
  },
  {
   "cell_type": "code",
   "execution_count": 6,
   "metadata": {},
   "outputs": [],
   "source": [
    "# Reading the csv file \n",
    "dsjobs = pd.read_csv(data_dir+'/ds_salaries.csv')"
   ]
  },
  {
   "cell_type": "code",
   "execution_count": 7,
   "metadata": {},
   "outputs": [
    {
     "data": {
      "text/plain": [
       "Index(['Unnamed: 0', 'work_year', 'experience_level', 'employment_type',\n",
       "       'job_title', 'salary', 'salary_currency', 'salary_in_usd',\n",
       "       'employee_residence', 'remote_ratio', 'company_location',\n",
       "       'company_size'],\n",
       "      dtype='object')"
      ]
     },
     "execution_count": 7,
     "metadata": {},
     "output_type": "execute_result"
    }
   ],
   "source": [
    "# Looking at the columns\n",
    "dsjobs.columns"
   ]
  },
  {
   "cell_type": "code",
   "execution_count": 8,
   "metadata": {},
   "outputs": [],
   "source": [
    "# Dropping the unnnamed: 0 column\n",
    "dsjobs.drop('Unnamed: 0', axis = 1, inplace = True)"
   ]
  },
  {
   "cell_type": "code",
   "execution_count": 9,
   "metadata": {
    "scrolled": true
   },
   "outputs": [
    {
     "name": "stdout",
     "output_type": "stream",
     "text": [
      "<class 'pandas.core.frame.DataFrame'>\n",
      "RangeIndex: 607 entries, 0 to 606\n",
      "Data columns (total 11 columns):\n",
      " #   Column              Non-Null Count  Dtype \n",
      "---  ------              --------------  ----- \n",
      " 0   work_year           607 non-null    int64 \n",
      " 1   experience_level    607 non-null    object\n",
      " 2   employment_type     607 non-null    object\n",
      " 3   job_title           607 non-null    object\n",
      " 4   salary              607 non-null    int64 \n",
      " 5   salary_currency     607 non-null    object\n",
      " 6   salary_in_usd       607 non-null    int64 \n",
      " 7   employee_residence  607 non-null    object\n",
      " 8   remote_ratio        607 non-null    int64 \n",
      " 9   company_location    607 non-null    object\n",
      " 10  company_size        607 non-null    object\n",
      "dtypes: int64(4), object(7)\n",
      "memory usage: 52.3+ KB\n"
     ]
    }
   ],
   "source": [
    "# Looking at the datatypes of all the series\n",
    "dsjobs.info()"
   ]
  },
  {
   "cell_type": "code",
   "execution_count": 10,
   "metadata": {},
   "outputs": [],
   "source": [
    "# Converting 'employee_residence','company_location','company_size','experience_level','employment_type' to categorical variables.\n",
    "\n",
    "dsjobs['employee_residence'] = dsjobs['employee_residence'].astype('category')\n",
    "dsjobs['company_location'] = dsjobs['company_location'].astype('category')\n",
    "dsjobs['company_size'] = dsjobs['company_size'].astype('category')\n",
    "dsjobs['experience_level'] = dsjobs['experience_level'].astype('category')\n",
    "dsjobs['employment_type'] = dsjobs['employment_type'].astype('category')"
   ]
  },
  {
   "cell_type": "code",
   "execution_count": 11,
   "metadata": {},
   "outputs": [
    {
     "data": {
      "text/html": [
       "<div>\n",
       "<style scoped>\n",
       "    .dataframe tbody tr th:only-of-type {\n",
       "        vertical-align: middle;\n",
       "    }\n",
       "\n",
       "    .dataframe tbody tr th {\n",
       "        vertical-align: top;\n",
       "    }\n",
       "\n",
       "    .dataframe thead th {\n",
       "        text-align: right;\n",
       "    }\n",
       "</style>\n",
       "<table border=\"1\" class=\"dataframe\">\n",
       "  <thead>\n",
       "    <tr style=\"text-align: right;\">\n",
       "      <th></th>\n",
       "      <th>work_year</th>\n",
       "      <th>experience_level</th>\n",
       "      <th>employment_type</th>\n",
       "      <th>job_title</th>\n",
       "      <th>salary</th>\n",
       "      <th>salary_currency</th>\n",
       "      <th>salary_in_usd</th>\n",
       "      <th>employee_residence</th>\n",
       "      <th>remote_ratio</th>\n",
       "      <th>company_location</th>\n",
       "      <th>company_size</th>\n",
       "    </tr>\n",
       "  </thead>\n",
       "  <tbody>\n",
       "    <tr>\n",
       "      <th>0</th>\n",
       "      <td>2020</td>\n",
       "      <td>MI</td>\n",
       "      <td>FT</td>\n",
       "      <td>Data Scientist</td>\n",
       "      <td>70000</td>\n",
       "      <td>EUR</td>\n",
       "      <td>79833</td>\n",
       "      <td>DE</td>\n",
       "      <td>0</td>\n",
       "      <td>DE</td>\n",
       "      <td>L</td>\n",
       "    </tr>\n",
       "    <tr>\n",
       "      <th>1</th>\n",
       "      <td>2020</td>\n",
       "      <td>SE</td>\n",
       "      <td>FT</td>\n",
       "      <td>Machine Learning Scientist</td>\n",
       "      <td>260000</td>\n",
       "      <td>USD</td>\n",
       "      <td>260000</td>\n",
       "      <td>JP</td>\n",
       "      <td>0</td>\n",
       "      <td>JP</td>\n",
       "      <td>S</td>\n",
       "    </tr>\n",
       "    <tr>\n",
       "      <th>2</th>\n",
       "      <td>2020</td>\n",
       "      <td>SE</td>\n",
       "      <td>FT</td>\n",
       "      <td>Big Data Engineer</td>\n",
       "      <td>85000</td>\n",
       "      <td>GBP</td>\n",
       "      <td>109024</td>\n",
       "      <td>GB</td>\n",
       "      <td>50</td>\n",
       "      <td>GB</td>\n",
       "      <td>M</td>\n",
       "    </tr>\n",
       "    <tr>\n",
       "      <th>3</th>\n",
       "      <td>2020</td>\n",
       "      <td>MI</td>\n",
       "      <td>FT</td>\n",
       "      <td>Product Data Analyst</td>\n",
       "      <td>20000</td>\n",
       "      <td>USD</td>\n",
       "      <td>20000</td>\n",
       "      <td>HN</td>\n",
       "      <td>0</td>\n",
       "      <td>HN</td>\n",
       "      <td>S</td>\n",
       "    </tr>\n",
       "    <tr>\n",
       "      <th>4</th>\n",
       "      <td>2020</td>\n",
       "      <td>SE</td>\n",
       "      <td>FT</td>\n",
       "      <td>Machine Learning Engineer</td>\n",
       "      <td>150000</td>\n",
       "      <td>USD</td>\n",
       "      <td>150000</td>\n",
       "      <td>US</td>\n",
       "      <td>50</td>\n",
       "      <td>US</td>\n",
       "      <td>L</td>\n",
       "    </tr>\n",
       "  </tbody>\n",
       "</table>\n",
       "</div>"
      ],
      "text/plain": [
       "   work_year experience_level employment_type                   job_title  \\\n",
       "0       2020               MI              FT              Data Scientist   \n",
       "1       2020               SE              FT  Machine Learning Scientist   \n",
       "2       2020               SE              FT           Big Data Engineer   \n",
       "3       2020               MI              FT        Product Data Analyst   \n",
       "4       2020               SE              FT   Machine Learning Engineer   \n",
       "\n",
       "   salary salary_currency  salary_in_usd employee_residence  remote_ratio  \\\n",
       "0   70000             EUR          79833                 DE             0   \n",
       "1  260000             USD         260000                 JP             0   \n",
       "2   85000             GBP         109024                 GB            50   \n",
       "3   20000             USD          20000                 HN             0   \n",
       "4  150000             USD         150000                 US            50   \n",
       "\n",
       "  company_location company_size  \n",
       "0               DE            L  \n",
       "1               JP            S  \n",
       "2               GB            M  \n",
       "3               HN            S  \n",
       "4               US            L  "
      ]
     },
     "execution_count": 11,
     "metadata": {},
     "output_type": "execute_result"
    }
   ],
   "source": [
    "dsjobs.head()"
   ]
  },
  {
   "cell_type": "code",
   "execution_count": 12,
   "metadata": {},
   "outputs": [
    {
     "data": {
      "text/html": [
       "<div>\n",
       "<style scoped>\n",
       "    .dataframe tbody tr th:only-of-type {\n",
       "        vertical-align: middle;\n",
       "    }\n",
       "\n",
       "    .dataframe tbody tr th {\n",
       "        vertical-align: top;\n",
       "    }\n",
       "\n",
       "    .dataframe thead th {\n",
       "        text-align: right;\n",
       "    }\n",
       "</style>\n",
       "<table border=\"1\" class=\"dataframe\">\n",
       "  <thead>\n",
       "    <tr style=\"text-align: right;\">\n",
       "      <th></th>\n",
       "      <th>work_year</th>\n",
       "      <th>salary</th>\n",
       "      <th>salary_in_usd</th>\n",
       "      <th>remote_ratio</th>\n",
       "    </tr>\n",
       "  </thead>\n",
       "  <tbody>\n",
       "    <tr>\n",
       "      <th>count</th>\n",
       "      <td>607.000000</td>\n",
       "      <td>6.070000e+02</td>\n",
       "      <td>607.000000</td>\n",
       "      <td>607.00000</td>\n",
       "    </tr>\n",
       "    <tr>\n",
       "      <th>mean</th>\n",
       "      <td>2021.405272</td>\n",
       "      <td>3.240001e+05</td>\n",
       "      <td>112297.869852</td>\n",
       "      <td>70.92257</td>\n",
       "    </tr>\n",
       "    <tr>\n",
       "      <th>std</th>\n",
       "      <td>0.692133</td>\n",
       "      <td>1.544357e+06</td>\n",
       "      <td>70957.259411</td>\n",
       "      <td>40.70913</td>\n",
       "    </tr>\n",
       "    <tr>\n",
       "      <th>min</th>\n",
       "      <td>2020.000000</td>\n",
       "      <td>4.000000e+03</td>\n",
       "      <td>2859.000000</td>\n",
       "      <td>0.00000</td>\n",
       "    </tr>\n",
       "    <tr>\n",
       "      <th>25%</th>\n",
       "      <td>2021.000000</td>\n",
       "      <td>7.000000e+04</td>\n",
       "      <td>62726.000000</td>\n",
       "      <td>50.00000</td>\n",
       "    </tr>\n",
       "    <tr>\n",
       "      <th>50%</th>\n",
       "      <td>2022.000000</td>\n",
       "      <td>1.150000e+05</td>\n",
       "      <td>101570.000000</td>\n",
       "      <td>100.00000</td>\n",
       "    </tr>\n",
       "    <tr>\n",
       "      <th>75%</th>\n",
       "      <td>2022.000000</td>\n",
       "      <td>1.650000e+05</td>\n",
       "      <td>150000.000000</td>\n",
       "      <td>100.00000</td>\n",
       "    </tr>\n",
       "    <tr>\n",
       "      <th>max</th>\n",
       "      <td>2022.000000</td>\n",
       "      <td>3.040000e+07</td>\n",
       "      <td>600000.000000</td>\n",
       "      <td>100.00000</td>\n",
       "    </tr>\n",
       "  </tbody>\n",
       "</table>\n",
       "</div>"
      ],
      "text/plain": [
       "         work_year        salary  salary_in_usd  remote_ratio\n",
       "count   607.000000  6.070000e+02     607.000000     607.00000\n",
       "mean   2021.405272  3.240001e+05  112297.869852      70.92257\n",
       "std       0.692133  1.544357e+06   70957.259411      40.70913\n",
       "min    2020.000000  4.000000e+03    2859.000000       0.00000\n",
       "25%    2021.000000  7.000000e+04   62726.000000      50.00000\n",
       "50%    2022.000000  1.150000e+05  101570.000000     100.00000\n",
       "75%    2022.000000  1.650000e+05  150000.000000     100.00000\n",
       "max    2022.000000  3.040000e+07  600000.000000     100.00000"
      ]
     },
     "execution_count": 12,
     "metadata": {},
     "output_type": "execute_result"
    }
   ],
   "source": [
    "dsjobs.describe()"
   ]
  },
  {
   "cell_type": "code",
   "execution_count": 13,
   "metadata": {},
   "outputs": [
    {
     "data": {
      "text/plain": [
       "['MI', 'SE', 'EN', 'EX']\n",
       "Categories (4, object): ['EN', 'EX', 'MI', 'SE']"
      ]
     },
     "execution_count": 13,
     "metadata": {},
     "output_type": "execute_result"
    }
   ],
   "source": [
    "dsjobs['experience_level'].unique()"
   ]
  },
  {
   "cell_type": "markdown",
   "metadata": {},
   "source": [
    "#### Here the dataset is divided based on Experience level as follows:\n",
    "1. EN: Entry Level\n",
    "2. MI: Mid Level\n",
    "3. SE: Senior Level\n",
    "4. EX: Executive Level"
   ]
  },
  {
   "cell_type": "code",
   "execution_count": 14,
   "metadata": {},
   "outputs": [
    {
     "data": {
      "text/plain": [
       "['FT', 'CT', 'PT', 'FL']\n",
       "Categories (4, object): ['CT', 'FL', 'FT', 'PT']"
      ]
     },
     "execution_count": 14,
     "metadata": {},
     "output_type": "execute_result"
    }
   ],
   "source": [
    "dsjobs['employment_type'].unique()"
   ]
  },
  {
   "cell_type": "markdown",
   "metadata": {},
   "source": [
    "#### Here the dataset is divided based on Employment types as follows:\n",
    "1. FT: Full Time\n",
    "2. PT: Part Time\n",
    "3. CT: Contract basis\n",
    "4. FL: Freelancer"
   ]
  },
  {
   "cell_type": "code",
   "execution_count": 15,
   "metadata": {},
   "outputs": [
    {
     "data": {
      "text/plain": [
       "['L', 'S', 'M']\n",
       "Categories (3, object): ['L', 'M', 'S']"
      ]
     },
     "execution_count": 15,
     "metadata": {},
     "output_type": "execute_result"
    }
   ],
   "source": [
    "dsjobs['company_size'].unique()"
   ]
  },
  {
   "cell_type": "markdown",
   "metadata": {},
   "source": [
    "#### Here the dataset is divided based on Company size as follows:\n",
    "1. S: Small\n",
    "2. M: Medium\n",
    "3. L: Large"
   ]
  },
  {
   "cell_type": "markdown",
   "metadata": {},
   "source": [
    "# Handling Missing Values"
   ]
  },
  {
   "cell_type": "code",
   "execution_count": 16,
   "metadata": {},
   "outputs": [
    {
     "data": {
      "text/plain": [
       "work_year             0\n",
       "experience_level      0\n",
       "employment_type       0\n",
       "job_title             0\n",
       "salary                0\n",
       "salary_currency       0\n",
       "salary_in_usd         0\n",
       "employee_residence    0\n",
       "remote_ratio          0\n",
       "company_location      0\n",
       "company_size          0\n",
       "dtype: int64"
      ]
     },
     "execution_count": 16,
     "metadata": {},
     "output_type": "execute_result"
    }
   ],
   "source": [
    "# Checking for missing values\n",
    "dsjobs.isna().sum()"
   ]
  },
  {
   "cell_type": "markdown",
   "metadata": {},
   "source": [
    "#### There are no missing values in this dataset."
   ]
  },
  {
   "cell_type": "markdown",
   "metadata": {},
   "source": [
    "## Exploratory Analysis and Visualization\n",
    "\n",
    "In this section, we will be doing exploratory data analysis and visualization of given dataset. Following items are on the agenda:\n",
    "1. Distribution of Experience level\n",
    "2. Distribution of Work type\n",
    "3. Plotting Correlation matrix\n",
    "4. Comparing salaries of Data scientist jobs based on Experience level\n",
    "5. Comparing salaries of Data scientist jobs based on Employment type\n",
    "6. Comparing salaries based on experience level and Size of company\n",
    "7. Comaparing Data scientist salaries across the world\n",
    "8. Average salary as a function of currency\n",
    "9. Average Salary as a function of location\n",
    "10. Top 10 Data Science job positions\n",
    "11. Remote work status as function of time\n",
    "\n"
   ]
  },
  {
   "cell_type": "markdown",
   "metadata": {},
   "source": [
    "### Distribution of Experience level"
   ]
  },
  {
   "cell_type": "code",
   "execution_count": 43,
   "metadata": {},
   "outputs": [
    {
     "data": {
      "application/vnd.plotly.v1+json": {
       "config": {
        "plotlyServerURL": "https://plot.ly"
       },
       "data": [
        {
         "domain": {
          "x": [
           0,
           1
          ],
          "y": [
           0,
           1
          ]
         },
         "hovertemplate": "index=%{label}<br>experience_level=%{value}<extra></extra>",
         "labels": [
          "SE",
          "MI",
          "EN",
          "EX"
         ],
         "legendgroup": "",
         "name": "",
         "showlegend": true,
         "type": "pie",
         "values": [
          280,
          213,
          88,
          26
         ]
        }
       ],
       "layout": {
        "legend": {
         "tracegroupgap": 0
        },
        "piecolorway": [
         "rgb(179,226,205)",
         "rgb(253,205,172)",
         "rgb(203,213,232)",
         "rgb(244,202,228)",
         "rgb(230,245,201)",
         "rgb(255,242,174)",
         "rgb(241,226,204)",
         "rgb(204,204,204)"
        ],
        "template": {
         "data": {
          "bar": [
           {
            "error_x": {
             "color": "#2a3f5f"
            },
            "error_y": {
             "color": "#2a3f5f"
            },
            "marker": {
             "line": {
              "color": "#E5ECF6",
              "width": 0.5
             },
             "pattern": {
              "fillmode": "overlay",
              "size": 10,
              "solidity": 0.2
             }
            },
            "type": "bar"
           }
          ],
          "barpolar": [
           {
            "marker": {
             "line": {
              "color": "#E5ECF6",
              "width": 0.5
             },
             "pattern": {
              "fillmode": "overlay",
              "size": 10,
              "solidity": 0.2
             }
            },
            "type": "barpolar"
           }
          ],
          "carpet": [
           {
            "aaxis": {
             "endlinecolor": "#2a3f5f",
             "gridcolor": "white",
             "linecolor": "white",
             "minorgridcolor": "white",
             "startlinecolor": "#2a3f5f"
            },
            "baxis": {
             "endlinecolor": "#2a3f5f",
             "gridcolor": "white",
             "linecolor": "white",
             "minorgridcolor": "white",
             "startlinecolor": "#2a3f5f"
            },
            "type": "carpet"
           }
          ],
          "choropleth": [
           {
            "colorbar": {
             "outlinewidth": 0,
             "ticks": ""
            },
            "type": "choropleth"
           }
          ],
          "contour": [
           {
            "colorbar": {
             "outlinewidth": 0,
             "ticks": ""
            },
            "colorscale": [
             [
              0,
              "#0d0887"
             ],
             [
              0.1111111111111111,
              "#46039f"
             ],
             [
              0.2222222222222222,
              "#7201a8"
             ],
             [
              0.3333333333333333,
              "#9c179e"
             ],
             [
              0.4444444444444444,
              "#bd3786"
             ],
             [
              0.5555555555555556,
              "#d8576b"
             ],
             [
              0.6666666666666666,
              "#ed7953"
             ],
             [
              0.7777777777777778,
              "#fb9f3a"
             ],
             [
              0.8888888888888888,
              "#fdca26"
             ],
             [
              1,
              "#f0f921"
             ]
            ],
            "type": "contour"
           }
          ],
          "contourcarpet": [
           {
            "colorbar": {
             "outlinewidth": 0,
             "ticks": ""
            },
            "type": "contourcarpet"
           }
          ],
          "heatmap": [
           {
            "colorbar": {
             "outlinewidth": 0,
             "ticks": ""
            },
            "colorscale": [
             [
              0,
              "#0d0887"
             ],
             [
              0.1111111111111111,
              "#46039f"
             ],
             [
              0.2222222222222222,
              "#7201a8"
             ],
             [
              0.3333333333333333,
              "#9c179e"
             ],
             [
              0.4444444444444444,
              "#bd3786"
             ],
             [
              0.5555555555555556,
              "#d8576b"
             ],
             [
              0.6666666666666666,
              "#ed7953"
             ],
             [
              0.7777777777777778,
              "#fb9f3a"
             ],
             [
              0.8888888888888888,
              "#fdca26"
             ],
             [
              1,
              "#f0f921"
             ]
            ],
            "type": "heatmap"
           }
          ],
          "heatmapgl": [
           {
            "colorbar": {
             "outlinewidth": 0,
             "ticks": ""
            },
            "colorscale": [
             [
              0,
              "#0d0887"
             ],
             [
              0.1111111111111111,
              "#46039f"
             ],
             [
              0.2222222222222222,
              "#7201a8"
             ],
             [
              0.3333333333333333,
              "#9c179e"
             ],
             [
              0.4444444444444444,
              "#bd3786"
             ],
             [
              0.5555555555555556,
              "#d8576b"
             ],
             [
              0.6666666666666666,
              "#ed7953"
             ],
             [
              0.7777777777777778,
              "#fb9f3a"
             ],
             [
              0.8888888888888888,
              "#fdca26"
             ],
             [
              1,
              "#f0f921"
             ]
            ],
            "type": "heatmapgl"
           }
          ],
          "histogram": [
           {
            "marker": {
             "pattern": {
              "fillmode": "overlay",
              "size": 10,
              "solidity": 0.2
             }
            },
            "type": "histogram"
           }
          ],
          "histogram2d": [
           {
            "colorbar": {
             "outlinewidth": 0,
             "ticks": ""
            },
            "colorscale": [
             [
              0,
              "#0d0887"
             ],
             [
              0.1111111111111111,
              "#46039f"
             ],
             [
              0.2222222222222222,
              "#7201a8"
             ],
             [
              0.3333333333333333,
              "#9c179e"
             ],
             [
              0.4444444444444444,
              "#bd3786"
             ],
             [
              0.5555555555555556,
              "#d8576b"
             ],
             [
              0.6666666666666666,
              "#ed7953"
             ],
             [
              0.7777777777777778,
              "#fb9f3a"
             ],
             [
              0.8888888888888888,
              "#fdca26"
             ],
             [
              1,
              "#f0f921"
             ]
            ],
            "type": "histogram2d"
           }
          ],
          "histogram2dcontour": [
           {
            "colorbar": {
             "outlinewidth": 0,
             "ticks": ""
            },
            "colorscale": [
             [
              0,
              "#0d0887"
             ],
             [
              0.1111111111111111,
              "#46039f"
             ],
             [
              0.2222222222222222,
              "#7201a8"
             ],
             [
              0.3333333333333333,
              "#9c179e"
             ],
             [
              0.4444444444444444,
              "#bd3786"
             ],
             [
              0.5555555555555556,
              "#d8576b"
             ],
             [
              0.6666666666666666,
              "#ed7953"
             ],
             [
              0.7777777777777778,
              "#fb9f3a"
             ],
             [
              0.8888888888888888,
              "#fdca26"
             ],
             [
              1,
              "#f0f921"
             ]
            ],
            "type": "histogram2dcontour"
           }
          ],
          "mesh3d": [
           {
            "colorbar": {
             "outlinewidth": 0,
             "ticks": ""
            },
            "type": "mesh3d"
           }
          ],
          "parcoords": [
           {
            "line": {
             "colorbar": {
              "outlinewidth": 0,
              "ticks": ""
             }
            },
            "type": "parcoords"
           }
          ],
          "pie": [
           {
            "automargin": true,
            "type": "pie"
           }
          ],
          "scatter": [
           {
            "marker": {
             "colorbar": {
              "outlinewidth": 0,
              "ticks": ""
             }
            },
            "type": "scatter"
           }
          ],
          "scatter3d": [
           {
            "line": {
             "colorbar": {
              "outlinewidth": 0,
              "ticks": ""
             }
            },
            "marker": {
             "colorbar": {
              "outlinewidth": 0,
              "ticks": ""
             }
            },
            "type": "scatter3d"
           }
          ],
          "scattercarpet": [
           {
            "marker": {
             "colorbar": {
              "outlinewidth": 0,
              "ticks": ""
             }
            },
            "type": "scattercarpet"
           }
          ],
          "scattergeo": [
           {
            "marker": {
             "colorbar": {
              "outlinewidth": 0,
              "ticks": ""
             }
            },
            "type": "scattergeo"
           }
          ],
          "scattergl": [
           {
            "marker": {
             "colorbar": {
              "outlinewidth": 0,
              "ticks": ""
             }
            },
            "type": "scattergl"
           }
          ],
          "scattermapbox": [
           {
            "marker": {
             "colorbar": {
              "outlinewidth": 0,
              "ticks": ""
             }
            },
            "type": "scattermapbox"
           }
          ],
          "scatterpolar": [
           {
            "marker": {
             "colorbar": {
              "outlinewidth": 0,
              "ticks": ""
             }
            },
            "type": "scatterpolar"
           }
          ],
          "scatterpolargl": [
           {
            "marker": {
             "colorbar": {
              "outlinewidth": 0,
              "ticks": ""
             }
            },
            "type": "scatterpolargl"
           }
          ],
          "scatterternary": [
           {
            "marker": {
             "colorbar": {
              "outlinewidth": 0,
              "ticks": ""
             }
            },
            "type": "scatterternary"
           }
          ],
          "surface": [
           {
            "colorbar": {
             "outlinewidth": 0,
             "ticks": ""
            },
            "colorscale": [
             [
              0,
              "#0d0887"
             ],
             [
              0.1111111111111111,
              "#46039f"
             ],
             [
              0.2222222222222222,
              "#7201a8"
             ],
             [
              0.3333333333333333,
              "#9c179e"
             ],
             [
              0.4444444444444444,
              "#bd3786"
             ],
             [
              0.5555555555555556,
              "#d8576b"
             ],
             [
              0.6666666666666666,
              "#ed7953"
             ],
             [
              0.7777777777777778,
              "#fb9f3a"
             ],
             [
              0.8888888888888888,
              "#fdca26"
             ],
             [
              1,
              "#f0f921"
             ]
            ],
            "type": "surface"
           }
          ],
          "table": [
           {
            "cells": {
             "fill": {
              "color": "#EBF0F8"
             },
             "line": {
              "color": "white"
             }
            },
            "header": {
             "fill": {
              "color": "#C8D4E3"
             },
             "line": {
              "color": "white"
             }
            },
            "type": "table"
           }
          ]
         },
         "layout": {
          "annotationdefaults": {
           "arrowcolor": "#2a3f5f",
           "arrowhead": 0,
           "arrowwidth": 1
          },
          "autotypenumbers": "strict",
          "coloraxis": {
           "colorbar": {
            "outlinewidth": 0,
            "ticks": ""
           }
          },
          "colorscale": {
           "diverging": [
            [
             0,
             "#8e0152"
            ],
            [
             0.1,
             "#c51b7d"
            ],
            [
             0.2,
             "#de77ae"
            ],
            [
             0.3,
             "#f1b6da"
            ],
            [
             0.4,
             "#fde0ef"
            ],
            [
             0.5,
             "#f7f7f7"
            ],
            [
             0.6,
             "#e6f5d0"
            ],
            [
             0.7,
             "#b8e186"
            ],
            [
             0.8,
             "#7fbc41"
            ],
            [
             0.9,
             "#4d9221"
            ],
            [
             1,
             "#276419"
            ]
           ],
           "sequential": [
            [
             0,
             "#0d0887"
            ],
            [
             0.1111111111111111,
             "#46039f"
            ],
            [
             0.2222222222222222,
             "#7201a8"
            ],
            [
             0.3333333333333333,
             "#9c179e"
            ],
            [
             0.4444444444444444,
             "#bd3786"
            ],
            [
             0.5555555555555556,
             "#d8576b"
            ],
            [
             0.6666666666666666,
             "#ed7953"
            ],
            [
             0.7777777777777778,
             "#fb9f3a"
            ],
            [
             0.8888888888888888,
             "#fdca26"
            ],
            [
             1,
             "#f0f921"
            ]
           ],
           "sequentialminus": [
            [
             0,
             "#0d0887"
            ],
            [
             0.1111111111111111,
             "#46039f"
            ],
            [
             0.2222222222222222,
             "#7201a8"
            ],
            [
             0.3333333333333333,
             "#9c179e"
            ],
            [
             0.4444444444444444,
             "#bd3786"
            ],
            [
             0.5555555555555556,
             "#d8576b"
            ],
            [
             0.6666666666666666,
             "#ed7953"
            ],
            [
             0.7777777777777778,
             "#fb9f3a"
            ],
            [
             0.8888888888888888,
             "#fdca26"
            ],
            [
             1,
             "#f0f921"
            ]
           ]
          },
          "colorway": [
           "#636efa",
           "#EF553B",
           "#00cc96",
           "#ab63fa",
           "#FFA15A",
           "#19d3f3",
           "#FF6692",
           "#B6E880",
           "#FF97FF",
           "#FECB52"
          ],
          "font": {
           "color": "#2a3f5f"
          },
          "geo": {
           "bgcolor": "white",
           "lakecolor": "white",
           "landcolor": "#E5ECF6",
           "showlakes": true,
           "showland": true,
           "subunitcolor": "white"
          },
          "hoverlabel": {
           "align": "left"
          },
          "hovermode": "closest",
          "mapbox": {
           "style": "light"
          },
          "paper_bgcolor": "white",
          "plot_bgcolor": "#E5ECF6",
          "polar": {
           "angularaxis": {
            "gridcolor": "white",
            "linecolor": "white",
            "ticks": ""
           },
           "bgcolor": "#E5ECF6",
           "radialaxis": {
            "gridcolor": "white",
            "linecolor": "white",
            "ticks": ""
           }
          },
          "scene": {
           "xaxis": {
            "backgroundcolor": "#E5ECF6",
            "gridcolor": "white",
            "gridwidth": 2,
            "linecolor": "white",
            "showbackground": true,
            "ticks": "",
            "zerolinecolor": "white"
           },
           "yaxis": {
            "backgroundcolor": "#E5ECF6",
            "gridcolor": "white",
            "gridwidth": 2,
            "linecolor": "white",
            "showbackground": true,
            "ticks": "",
            "zerolinecolor": "white"
           },
           "zaxis": {
            "backgroundcolor": "#E5ECF6",
            "gridcolor": "white",
            "gridwidth": 2,
            "linecolor": "white",
            "showbackground": true,
            "ticks": "",
            "zerolinecolor": "white"
           }
          },
          "shapedefaults": {
           "line": {
            "color": "#2a3f5f"
           }
          },
          "ternary": {
           "aaxis": {
            "gridcolor": "white",
            "linecolor": "white",
            "ticks": ""
           },
           "baxis": {
            "gridcolor": "white",
            "linecolor": "white",
            "ticks": ""
           },
           "bgcolor": "#E5ECF6",
           "caxis": {
            "gridcolor": "white",
            "linecolor": "white",
            "ticks": ""
           }
          },
          "title": {
           "x": 0.05
          },
          "xaxis": {
           "automargin": true,
           "gridcolor": "white",
           "linecolor": "white",
           "ticks": "",
           "title": {
            "standoff": 15
           },
           "zerolinecolor": "white",
           "zerolinewidth": 2
          },
          "yaxis": {
           "automargin": true,
           "gridcolor": "white",
           "linecolor": "white",
           "ticks": "",
           "title": {
            "standoff": 15
           },
           "zerolinecolor": "white",
           "zerolinewidth": 2
          }
         }
        },
        "title": {
         "text": "Distribution of Experience level"
        }
       }
      },
      "text/html": [
       "<div>                            <div id=\"58faa7c4-9a4a-48bc-ac92-05b47e47d5b1\" class=\"plotly-graph-div\" style=\"height:525px; width:100%;\"></div>            <script type=\"text/javascript\">                require([\"plotly\"], function(Plotly) {                    window.PLOTLYENV=window.PLOTLYENV || {};                                    if (document.getElementById(\"58faa7c4-9a4a-48bc-ac92-05b47e47d5b1\")) {                    Plotly.newPlot(                        \"58faa7c4-9a4a-48bc-ac92-05b47e47d5b1\",                        [{\"domain\":{\"x\":[0.0,1.0],\"y\":[0.0,1.0]},\"hovertemplate\":\"index=%{label}<br>experience_level=%{value}<extra></extra>\",\"labels\":[\"SE\",\"MI\",\"EN\",\"EX\"],\"legendgroup\":\"\",\"name\":\"\",\"showlegend\":true,\"values\":[280,213,88,26],\"type\":\"pie\"}],                        {\"template\":{\"data\":{\"bar\":[{\"error_x\":{\"color\":\"#2a3f5f\"},\"error_y\":{\"color\":\"#2a3f5f\"},\"marker\":{\"line\":{\"color\":\"#E5ECF6\",\"width\":0.5},\"pattern\":{\"fillmode\":\"overlay\",\"size\":10,\"solidity\":0.2}},\"type\":\"bar\"}],\"barpolar\":[{\"marker\":{\"line\":{\"color\":\"#E5ECF6\",\"width\":0.5},\"pattern\":{\"fillmode\":\"overlay\",\"size\":10,\"solidity\":0.2}},\"type\":\"barpolar\"}],\"carpet\":[{\"aaxis\":{\"endlinecolor\":\"#2a3f5f\",\"gridcolor\":\"white\",\"linecolor\":\"white\",\"minorgridcolor\":\"white\",\"startlinecolor\":\"#2a3f5f\"},\"baxis\":{\"endlinecolor\":\"#2a3f5f\",\"gridcolor\":\"white\",\"linecolor\":\"white\",\"minorgridcolor\":\"white\",\"startlinecolor\":\"#2a3f5f\"},\"type\":\"carpet\"}],\"choropleth\":[{\"colorbar\":{\"outlinewidth\":0,\"ticks\":\"\"},\"type\":\"choropleth\"}],\"contour\":[{\"colorbar\":{\"outlinewidth\":0,\"ticks\":\"\"},\"colorscale\":[[0.0,\"#0d0887\"],[0.1111111111111111,\"#46039f\"],[0.2222222222222222,\"#7201a8\"],[0.3333333333333333,\"#9c179e\"],[0.4444444444444444,\"#bd3786\"],[0.5555555555555556,\"#d8576b\"],[0.6666666666666666,\"#ed7953\"],[0.7777777777777778,\"#fb9f3a\"],[0.8888888888888888,\"#fdca26\"],[1.0,\"#f0f921\"]],\"type\":\"contour\"}],\"contourcarpet\":[{\"colorbar\":{\"outlinewidth\":0,\"ticks\":\"\"},\"type\":\"contourcarpet\"}],\"heatmap\":[{\"colorbar\":{\"outlinewidth\":0,\"ticks\":\"\"},\"colorscale\":[[0.0,\"#0d0887\"],[0.1111111111111111,\"#46039f\"],[0.2222222222222222,\"#7201a8\"],[0.3333333333333333,\"#9c179e\"],[0.4444444444444444,\"#bd3786\"],[0.5555555555555556,\"#d8576b\"],[0.6666666666666666,\"#ed7953\"],[0.7777777777777778,\"#fb9f3a\"],[0.8888888888888888,\"#fdca26\"],[1.0,\"#f0f921\"]],\"type\":\"heatmap\"}],\"heatmapgl\":[{\"colorbar\":{\"outlinewidth\":0,\"ticks\":\"\"},\"colorscale\":[[0.0,\"#0d0887\"],[0.1111111111111111,\"#46039f\"],[0.2222222222222222,\"#7201a8\"],[0.3333333333333333,\"#9c179e\"],[0.4444444444444444,\"#bd3786\"],[0.5555555555555556,\"#d8576b\"],[0.6666666666666666,\"#ed7953\"],[0.7777777777777778,\"#fb9f3a\"],[0.8888888888888888,\"#fdca26\"],[1.0,\"#f0f921\"]],\"type\":\"heatmapgl\"}],\"histogram\":[{\"marker\":{\"pattern\":{\"fillmode\":\"overlay\",\"size\":10,\"solidity\":0.2}},\"type\":\"histogram\"}],\"histogram2d\":[{\"colorbar\":{\"outlinewidth\":0,\"ticks\":\"\"},\"colorscale\":[[0.0,\"#0d0887\"],[0.1111111111111111,\"#46039f\"],[0.2222222222222222,\"#7201a8\"],[0.3333333333333333,\"#9c179e\"],[0.4444444444444444,\"#bd3786\"],[0.5555555555555556,\"#d8576b\"],[0.6666666666666666,\"#ed7953\"],[0.7777777777777778,\"#fb9f3a\"],[0.8888888888888888,\"#fdca26\"],[1.0,\"#f0f921\"]],\"type\":\"histogram2d\"}],\"histogram2dcontour\":[{\"colorbar\":{\"outlinewidth\":0,\"ticks\":\"\"},\"colorscale\":[[0.0,\"#0d0887\"],[0.1111111111111111,\"#46039f\"],[0.2222222222222222,\"#7201a8\"],[0.3333333333333333,\"#9c179e\"],[0.4444444444444444,\"#bd3786\"],[0.5555555555555556,\"#d8576b\"],[0.6666666666666666,\"#ed7953\"],[0.7777777777777778,\"#fb9f3a\"],[0.8888888888888888,\"#fdca26\"],[1.0,\"#f0f921\"]],\"type\":\"histogram2dcontour\"}],\"mesh3d\":[{\"colorbar\":{\"outlinewidth\":0,\"ticks\":\"\"},\"type\":\"mesh3d\"}],\"parcoords\":[{\"line\":{\"colorbar\":{\"outlinewidth\":0,\"ticks\":\"\"}},\"type\":\"parcoords\"}],\"pie\":[{\"automargin\":true,\"type\":\"pie\"}],\"scatter\":[{\"marker\":{\"colorbar\":{\"outlinewidth\":0,\"ticks\":\"\"}},\"type\":\"scatter\"}],\"scatter3d\":[{\"line\":{\"colorbar\":{\"outlinewidth\":0,\"ticks\":\"\"}},\"marker\":{\"colorbar\":{\"outlinewidth\":0,\"ticks\":\"\"}},\"type\":\"scatter3d\"}],\"scattercarpet\":[{\"marker\":{\"colorbar\":{\"outlinewidth\":0,\"ticks\":\"\"}},\"type\":\"scattercarpet\"}],\"scattergeo\":[{\"marker\":{\"colorbar\":{\"outlinewidth\":0,\"ticks\":\"\"}},\"type\":\"scattergeo\"}],\"scattergl\":[{\"marker\":{\"colorbar\":{\"outlinewidth\":0,\"ticks\":\"\"}},\"type\":\"scattergl\"}],\"scattermapbox\":[{\"marker\":{\"colorbar\":{\"outlinewidth\":0,\"ticks\":\"\"}},\"type\":\"scattermapbox\"}],\"scatterpolar\":[{\"marker\":{\"colorbar\":{\"outlinewidth\":0,\"ticks\":\"\"}},\"type\":\"scatterpolar\"}],\"scatterpolargl\":[{\"marker\":{\"colorbar\":{\"outlinewidth\":0,\"ticks\":\"\"}},\"type\":\"scatterpolargl\"}],\"scatterternary\":[{\"marker\":{\"colorbar\":{\"outlinewidth\":0,\"ticks\":\"\"}},\"type\":\"scatterternary\"}],\"surface\":[{\"colorbar\":{\"outlinewidth\":0,\"ticks\":\"\"},\"colorscale\":[[0.0,\"#0d0887\"],[0.1111111111111111,\"#46039f\"],[0.2222222222222222,\"#7201a8\"],[0.3333333333333333,\"#9c179e\"],[0.4444444444444444,\"#bd3786\"],[0.5555555555555556,\"#d8576b\"],[0.6666666666666666,\"#ed7953\"],[0.7777777777777778,\"#fb9f3a\"],[0.8888888888888888,\"#fdca26\"],[1.0,\"#f0f921\"]],\"type\":\"surface\"}],\"table\":[{\"cells\":{\"fill\":{\"color\":\"#EBF0F8\"},\"line\":{\"color\":\"white\"}},\"header\":{\"fill\":{\"color\":\"#C8D4E3\"},\"line\":{\"color\":\"white\"}},\"type\":\"table\"}]},\"layout\":{\"annotationdefaults\":{\"arrowcolor\":\"#2a3f5f\",\"arrowhead\":0,\"arrowwidth\":1},\"autotypenumbers\":\"strict\",\"coloraxis\":{\"colorbar\":{\"outlinewidth\":0,\"ticks\":\"\"}},\"colorscale\":{\"diverging\":[[0,\"#8e0152\"],[0.1,\"#c51b7d\"],[0.2,\"#de77ae\"],[0.3,\"#f1b6da\"],[0.4,\"#fde0ef\"],[0.5,\"#f7f7f7\"],[0.6,\"#e6f5d0\"],[0.7,\"#b8e186\"],[0.8,\"#7fbc41\"],[0.9,\"#4d9221\"],[1,\"#276419\"]],\"sequential\":[[0.0,\"#0d0887\"],[0.1111111111111111,\"#46039f\"],[0.2222222222222222,\"#7201a8\"],[0.3333333333333333,\"#9c179e\"],[0.4444444444444444,\"#bd3786\"],[0.5555555555555556,\"#d8576b\"],[0.6666666666666666,\"#ed7953\"],[0.7777777777777778,\"#fb9f3a\"],[0.8888888888888888,\"#fdca26\"],[1.0,\"#f0f921\"]],\"sequentialminus\":[[0.0,\"#0d0887\"],[0.1111111111111111,\"#46039f\"],[0.2222222222222222,\"#7201a8\"],[0.3333333333333333,\"#9c179e\"],[0.4444444444444444,\"#bd3786\"],[0.5555555555555556,\"#d8576b\"],[0.6666666666666666,\"#ed7953\"],[0.7777777777777778,\"#fb9f3a\"],[0.8888888888888888,\"#fdca26\"],[1.0,\"#f0f921\"]]},\"colorway\":[\"#636efa\",\"#EF553B\",\"#00cc96\",\"#ab63fa\",\"#FFA15A\",\"#19d3f3\",\"#FF6692\",\"#B6E880\",\"#FF97FF\",\"#FECB52\"],\"font\":{\"color\":\"#2a3f5f\"},\"geo\":{\"bgcolor\":\"white\",\"lakecolor\":\"white\",\"landcolor\":\"#E5ECF6\",\"showlakes\":true,\"showland\":true,\"subunitcolor\":\"white\"},\"hoverlabel\":{\"align\":\"left\"},\"hovermode\":\"closest\",\"mapbox\":{\"style\":\"light\"},\"paper_bgcolor\":\"white\",\"plot_bgcolor\":\"#E5ECF6\",\"polar\":{\"angularaxis\":{\"gridcolor\":\"white\",\"linecolor\":\"white\",\"ticks\":\"\"},\"bgcolor\":\"#E5ECF6\",\"radialaxis\":{\"gridcolor\":\"white\",\"linecolor\":\"white\",\"ticks\":\"\"}},\"scene\":{\"xaxis\":{\"backgroundcolor\":\"#E5ECF6\",\"gridcolor\":\"white\",\"gridwidth\":2,\"linecolor\":\"white\",\"showbackground\":true,\"ticks\":\"\",\"zerolinecolor\":\"white\"},\"yaxis\":{\"backgroundcolor\":\"#E5ECF6\",\"gridcolor\":\"white\",\"gridwidth\":2,\"linecolor\":\"white\",\"showbackground\":true,\"ticks\":\"\",\"zerolinecolor\":\"white\"},\"zaxis\":{\"backgroundcolor\":\"#E5ECF6\",\"gridcolor\":\"white\",\"gridwidth\":2,\"linecolor\":\"white\",\"showbackground\":true,\"ticks\":\"\",\"zerolinecolor\":\"white\"}},\"shapedefaults\":{\"line\":{\"color\":\"#2a3f5f\"}},\"ternary\":{\"aaxis\":{\"gridcolor\":\"white\",\"linecolor\":\"white\",\"ticks\":\"\"},\"baxis\":{\"gridcolor\":\"white\",\"linecolor\":\"white\",\"ticks\":\"\"},\"bgcolor\":\"#E5ECF6\",\"caxis\":{\"gridcolor\":\"white\",\"linecolor\":\"white\",\"ticks\":\"\"}},\"title\":{\"x\":0.05},\"xaxis\":{\"automargin\":true,\"gridcolor\":\"white\",\"linecolor\":\"white\",\"ticks\":\"\",\"title\":{\"standoff\":15},\"zerolinecolor\":\"white\",\"zerolinewidth\":2},\"yaxis\":{\"automargin\":true,\"gridcolor\":\"white\",\"linecolor\":\"white\",\"ticks\":\"\",\"title\":{\"standoff\":15},\"zerolinecolor\":\"white\",\"zerolinewidth\":2}}},\"legend\":{\"tracegroupgap\":0},\"title\":{\"text\":\"Distribution of Experience level\"},\"piecolorway\":[\"rgb(179,226,205)\",\"rgb(253,205,172)\",\"rgb(203,213,232)\",\"rgb(244,202,228)\",\"rgb(230,245,201)\",\"rgb(255,242,174)\",\"rgb(241,226,204)\",\"rgb(204,204,204)\"]},                        {\"responsive\": true}                    ).then(function(){\n",
       "                            \n",
       "var gd = document.getElementById('58faa7c4-9a4a-48bc-ac92-05b47e47d5b1');\n",
       "var x = new MutationObserver(function (mutations, observer) {{\n",
       "        var display = window.getComputedStyle(gd).display;\n",
       "        if (!display || display === 'none') {{\n",
       "            console.log([gd, 'removed!']);\n",
       "            Plotly.purge(gd);\n",
       "            observer.disconnect();\n",
       "        }}\n",
       "}});\n",
       "\n",
       "// Listen for the removal of the full notebook cells\n",
       "var notebookContainer = gd.closest('#notebook-container');\n",
       "if (notebookContainer) {{\n",
       "    x.observe(notebookContainer, {childList: true});\n",
       "}}\n",
       "\n",
       "// Listen for the clearing of the current output cell\n",
       "var outputEl = gd.closest('.output');\n",
       "if (outputEl) {{\n",
       "    x.observe(outputEl, {childList: true});\n",
       "}}\n",
       "\n",
       "                        })                };                });            </script>        </div>"
      ]
     },
     "metadata": {},
     "output_type": "display_data"
    }
   ],
   "source": [
    "df = dsjobs['experience_level'].value_counts().reset_index()\n",
    "fig = px.pie(df, values='experience_level', names='index', title= 'Distribution of Experience level',\n",
    "            color_discrete_sequence=px.colors.qualitative.Pastel2)\n",
    "fig.show()"
   ]
  },
  {
   "cell_type": "markdown",
   "metadata": {},
   "source": [
    "#### In the dataset 14.5% members are freshers while most quota is filled by Senior Engineers at 46.1%."
   ]
  },
  {
   "cell_type": "markdown",
   "metadata": {},
   "source": [
    "### Distribution of Work type"
   ]
  },
  {
   "cell_type": "code",
   "execution_count": 19,
   "metadata": {},
   "outputs": [
    {
     "data": {
      "application/vnd.plotly.v1+json": {
       "config": {
        "plotlyServerURL": "https://plot.ly"
       },
       "data": [
        {
         "domain": {
          "x": [
           0,
           1
          ],
          "y": [
           0,
           1
          ]
         },
         "hovertemplate": "label=%{label}<br>remote_ratio=%{value}<extra></extra>",
         "labels": [
          "Work from Home",
          "Office Work",
          "Hybrid"
         ],
         "legendgroup": "",
         "name": "",
         "showlegend": true,
         "type": "pie",
         "values": [
          381,
          127,
          99
         ]
        }
       ],
       "layout": {
        "legend": {
         "tracegroupgap": 0
        },
        "piecolorway": [
         "rgb(102,194,165)",
         "rgb(252,141,98)",
         "rgb(141,160,203)",
         "rgb(231,138,195)",
         "rgb(166,216,84)",
         "rgb(255,217,47)",
         "rgb(229,196,148)",
         "rgb(179,179,179)"
        ],
        "template": {
         "data": {
          "bar": [
           {
            "error_x": {
             "color": "#2a3f5f"
            },
            "error_y": {
             "color": "#2a3f5f"
            },
            "marker": {
             "line": {
              "color": "#E5ECF6",
              "width": 0.5
             },
             "pattern": {
              "fillmode": "overlay",
              "size": 10,
              "solidity": 0.2
             }
            },
            "type": "bar"
           }
          ],
          "barpolar": [
           {
            "marker": {
             "line": {
              "color": "#E5ECF6",
              "width": 0.5
             },
             "pattern": {
              "fillmode": "overlay",
              "size": 10,
              "solidity": 0.2
             }
            },
            "type": "barpolar"
           }
          ],
          "carpet": [
           {
            "aaxis": {
             "endlinecolor": "#2a3f5f",
             "gridcolor": "white",
             "linecolor": "white",
             "minorgridcolor": "white",
             "startlinecolor": "#2a3f5f"
            },
            "baxis": {
             "endlinecolor": "#2a3f5f",
             "gridcolor": "white",
             "linecolor": "white",
             "minorgridcolor": "white",
             "startlinecolor": "#2a3f5f"
            },
            "type": "carpet"
           }
          ],
          "choropleth": [
           {
            "colorbar": {
             "outlinewidth": 0,
             "ticks": ""
            },
            "type": "choropleth"
           }
          ],
          "contour": [
           {
            "colorbar": {
             "outlinewidth": 0,
             "ticks": ""
            },
            "colorscale": [
             [
              0,
              "#0d0887"
             ],
             [
              0.1111111111111111,
              "#46039f"
             ],
             [
              0.2222222222222222,
              "#7201a8"
             ],
             [
              0.3333333333333333,
              "#9c179e"
             ],
             [
              0.4444444444444444,
              "#bd3786"
             ],
             [
              0.5555555555555556,
              "#d8576b"
             ],
             [
              0.6666666666666666,
              "#ed7953"
             ],
             [
              0.7777777777777778,
              "#fb9f3a"
             ],
             [
              0.8888888888888888,
              "#fdca26"
             ],
             [
              1,
              "#f0f921"
             ]
            ],
            "type": "contour"
           }
          ],
          "contourcarpet": [
           {
            "colorbar": {
             "outlinewidth": 0,
             "ticks": ""
            },
            "type": "contourcarpet"
           }
          ],
          "heatmap": [
           {
            "colorbar": {
             "outlinewidth": 0,
             "ticks": ""
            },
            "colorscale": [
             [
              0,
              "#0d0887"
             ],
             [
              0.1111111111111111,
              "#46039f"
             ],
             [
              0.2222222222222222,
              "#7201a8"
             ],
             [
              0.3333333333333333,
              "#9c179e"
             ],
             [
              0.4444444444444444,
              "#bd3786"
             ],
             [
              0.5555555555555556,
              "#d8576b"
             ],
             [
              0.6666666666666666,
              "#ed7953"
             ],
             [
              0.7777777777777778,
              "#fb9f3a"
             ],
             [
              0.8888888888888888,
              "#fdca26"
             ],
             [
              1,
              "#f0f921"
             ]
            ],
            "type": "heatmap"
           }
          ],
          "heatmapgl": [
           {
            "colorbar": {
             "outlinewidth": 0,
             "ticks": ""
            },
            "colorscale": [
             [
              0,
              "#0d0887"
             ],
             [
              0.1111111111111111,
              "#46039f"
             ],
             [
              0.2222222222222222,
              "#7201a8"
             ],
             [
              0.3333333333333333,
              "#9c179e"
             ],
             [
              0.4444444444444444,
              "#bd3786"
             ],
             [
              0.5555555555555556,
              "#d8576b"
             ],
             [
              0.6666666666666666,
              "#ed7953"
             ],
             [
              0.7777777777777778,
              "#fb9f3a"
             ],
             [
              0.8888888888888888,
              "#fdca26"
             ],
             [
              1,
              "#f0f921"
             ]
            ],
            "type": "heatmapgl"
           }
          ],
          "histogram": [
           {
            "marker": {
             "pattern": {
              "fillmode": "overlay",
              "size": 10,
              "solidity": 0.2
             }
            },
            "type": "histogram"
           }
          ],
          "histogram2d": [
           {
            "colorbar": {
             "outlinewidth": 0,
             "ticks": ""
            },
            "colorscale": [
             [
              0,
              "#0d0887"
             ],
             [
              0.1111111111111111,
              "#46039f"
             ],
             [
              0.2222222222222222,
              "#7201a8"
             ],
             [
              0.3333333333333333,
              "#9c179e"
             ],
             [
              0.4444444444444444,
              "#bd3786"
             ],
             [
              0.5555555555555556,
              "#d8576b"
             ],
             [
              0.6666666666666666,
              "#ed7953"
             ],
             [
              0.7777777777777778,
              "#fb9f3a"
             ],
             [
              0.8888888888888888,
              "#fdca26"
             ],
             [
              1,
              "#f0f921"
             ]
            ],
            "type": "histogram2d"
           }
          ],
          "histogram2dcontour": [
           {
            "colorbar": {
             "outlinewidth": 0,
             "ticks": ""
            },
            "colorscale": [
             [
              0,
              "#0d0887"
             ],
             [
              0.1111111111111111,
              "#46039f"
             ],
             [
              0.2222222222222222,
              "#7201a8"
             ],
             [
              0.3333333333333333,
              "#9c179e"
             ],
             [
              0.4444444444444444,
              "#bd3786"
             ],
             [
              0.5555555555555556,
              "#d8576b"
             ],
             [
              0.6666666666666666,
              "#ed7953"
             ],
             [
              0.7777777777777778,
              "#fb9f3a"
             ],
             [
              0.8888888888888888,
              "#fdca26"
             ],
             [
              1,
              "#f0f921"
             ]
            ],
            "type": "histogram2dcontour"
           }
          ],
          "mesh3d": [
           {
            "colorbar": {
             "outlinewidth": 0,
             "ticks": ""
            },
            "type": "mesh3d"
           }
          ],
          "parcoords": [
           {
            "line": {
             "colorbar": {
              "outlinewidth": 0,
              "ticks": ""
             }
            },
            "type": "parcoords"
           }
          ],
          "pie": [
           {
            "automargin": true,
            "type": "pie"
           }
          ],
          "scatter": [
           {
            "marker": {
             "colorbar": {
              "outlinewidth": 0,
              "ticks": ""
             }
            },
            "type": "scatter"
           }
          ],
          "scatter3d": [
           {
            "line": {
             "colorbar": {
              "outlinewidth": 0,
              "ticks": ""
             }
            },
            "marker": {
             "colorbar": {
              "outlinewidth": 0,
              "ticks": ""
             }
            },
            "type": "scatter3d"
           }
          ],
          "scattercarpet": [
           {
            "marker": {
             "colorbar": {
              "outlinewidth": 0,
              "ticks": ""
             }
            },
            "type": "scattercarpet"
           }
          ],
          "scattergeo": [
           {
            "marker": {
             "colorbar": {
              "outlinewidth": 0,
              "ticks": ""
             }
            },
            "type": "scattergeo"
           }
          ],
          "scattergl": [
           {
            "marker": {
             "colorbar": {
              "outlinewidth": 0,
              "ticks": ""
             }
            },
            "type": "scattergl"
           }
          ],
          "scattermapbox": [
           {
            "marker": {
             "colorbar": {
              "outlinewidth": 0,
              "ticks": ""
             }
            },
            "type": "scattermapbox"
           }
          ],
          "scatterpolar": [
           {
            "marker": {
             "colorbar": {
              "outlinewidth": 0,
              "ticks": ""
             }
            },
            "type": "scatterpolar"
           }
          ],
          "scatterpolargl": [
           {
            "marker": {
             "colorbar": {
              "outlinewidth": 0,
              "ticks": ""
             }
            },
            "type": "scatterpolargl"
           }
          ],
          "scatterternary": [
           {
            "marker": {
             "colorbar": {
              "outlinewidth": 0,
              "ticks": ""
             }
            },
            "type": "scatterternary"
           }
          ],
          "surface": [
           {
            "colorbar": {
             "outlinewidth": 0,
             "ticks": ""
            },
            "colorscale": [
             [
              0,
              "#0d0887"
             ],
             [
              0.1111111111111111,
              "#46039f"
             ],
             [
              0.2222222222222222,
              "#7201a8"
             ],
             [
              0.3333333333333333,
              "#9c179e"
             ],
             [
              0.4444444444444444,
              "#bd3786"
             ],
             [
              0.5555555555555556,
              "#d8576b"
             ],
             [
              0.6666666666666666,
              "#ed7953"
             ],
             [
              0.7777777777777778,
              "#fb9f3a"
             ],
             [
              0.8888888888888888,
              "#fdca26"
             ],
             [
              1,
              "#f0f921"
             ]
            ],
            "type": "surface"
           }
          ],
          "table": [
           {
            "cells": {
             "fill": {
              "color": "#EBF0F8"
             },
             "line": {
              "color": "white"
             }
            },
            "header": {
             "fill": {
              "color": "#C8D4E3"
             },
             "line": {
              "color": "white"
             }
            },
            "type": "table"
           }
          ]
         },
         "layout": {
          "annotationdefaults": {
           "arrowcolor": "#2a3f5f",
           "arrowhead": 0,
           "arrowwidth": 1
          },
          "autotypenumbers": "strict",
          "coloraxis": {
           "colorbar": {
            "outlinewidth": 0,
            "ticks": ""
           }
          },
          "colorscale": {
           "diverging": [
            [
             0,
             "#8e0152"
            ],
            [
             0.1,
             "#c51b7d"
            ],
            [
             0.2,
             "#de77ae"
            ],
            [
             0.3,
             "#f1b6da"
            ],
            [
             0.4,
             "#fde0ef"
            ],
            [
             0.5,
             "#f7f7f7"
            ],
            [
             0.6,
             "#e6f5d0"
            ],
            [
             0.7,
             "#b8e186"
            ],
            [
             0.8,
             "#7fbc41"
            ],
            [
             0.9,
             "#4d9221"
            ],
            [
             1,
             "#276419"
            ]
           ],
           "sequential": [
            [
             0,
             "#0d0887"
            ],
            [
             0.1111111111111111,
             "#46039f"
            ],
            [
             0.2222222222222222,
             "#7201a8"
            ],
            [
             0.3333333333333333,
             "#9c179e"
            ],
            [
             0.4444444444444444,
             "#bd3786"
            ],
            [
             0.5555555555555556,
             "#d8576b"
            ],
            [
             0.6666666666666666,
             "#ed7953"
            ],
            [
             0.7777777777777778,
             "#fb9f3a"
            ],
            [
             0.8888888888888888,
             "#fdca26"
            ],
            [
             1,
             "#f0f921"
            ]
           ],
           "sequentialminus": [
            [
             0,
             "#0d0887"
            ],
            [
             0.1111111111111111,
             "#46039f"
            ],
            [
             0.2222222222222222,
             "#7201a8"
            ],
            [
             0.3333333333333333,
             "#9c179e"
            ],
            [
             0.4444444444444444,
             "#bd3786"
            ],
            [
             0.5555555555555556,
             "#d8576b"
            ],
            [
             0.6666666666666666,
             "#ed7953"
            ],
            [
             0.7777777777777778,
             "#fb9f3a"
            ],
            [
             0.8888888888888888,
             "#fdca26"
            ],
            [
             1,
             "#f0f921"
            ]
           ]
          },
          "colorway": [
           "#636efa",
           "#EF553B",
           "#00cc96",
           "#ab63fa",
           "#FFA15A",
           "#19d3f3",
           "#FF6692",
           "#B6E880",
           "#FF97FF",
           "#FECB52"
          ],
          "font": {
           "color": "#2a3f5f"
          },
          "geo": {
           "bgcolor": "white",
           "lakecolor": "white",
           "landcolor": "#E5ECF6",
           "showlakes": true,
           "showland": true,
           "subunitcolor": "white"
          },
          "hoverlabel": {
           "align": "left"
          },
          "hovermode": "closest",
          "mapbox": {
           "style": "light"
          },
          "paper_bgcolor": "white",
          "plot_bgcolor": "#E5ECF6",
          "polar": {
           "angularaxis": {
            "gridcolor": "white",
            "linecolor": "white",
            "ticks": ""
           },
           "bgcolor": "#E5ECF6",
           "radialaxis": {
            "gridcolor": "white",
            "linecolor": "white",
            "ticks": ""
           }
          },
          "scene": {
           "xaxis": {
            "backgroundcolor": "#E5ECF6",
            "gridcolor": "white",
            "gridwidth": 2,
            "linecolor": "white",
            "showbackground": true,
            "ticks": "",
            "zerolinecolor": "white"
           },
           "yaxis": {
            "backgroundcolor": "#E5ECF6",
            "gridcolor": "white",
            "gridwidth": 2,
            "linecolor": "white",
            "showbackground": true,
            "ticks": "",
            "zerolinecolor": "white"
           },
           "zaxis": {
            "backgroundcolor": "#E5ECF6",
            "gridcolor": "white",
            "gridwidth": 2,
            "linecolor": "white",
            "showbackground": true,
            "ticks": "",
            "zerolinecolor": "white"
           }
          },
          "shapedefaults": {
           "line": {
            "color": "#2a3f5f"
           }
          },
          "ternary": {
           "aaxis": {
            "gridcolor": "white",
            "linecolor": "white",
            "ticks": ""
           },
           "baxis": {
            "gridcolor": "white",
            "linecolor": "white",
            "ticks": ""
           },
           "bgcolor": "#E5ECF6",
           "caxis": {
            "gridcolor": "white",
            "linecolor": "white",
            "ticks": ""
           }
          },
          "title": {
           "x": 0.05
          },
          "xaxis": {
           "automargin": true,
           "gridcolor": "white",
           "linecolor": "white",
           "ticks": "",
           "title": {
            "standoff": 15
           },
           "zerolinecolor": "white",
           "zerolinewidth": 2
          },
          "yaxis": {
           "automargin": true,
           "gridcolor": "white",
           "linecolor": "white",
           "ticks": "",
           "title": {
            "standoff": 15
           },
           "zerolinecolor": "white",
           "zerolinewidth": 2
          }
         }
        },
        "title": {
         "text": "Distribution of Work type"
        }
       }
      },
      "text/html": [
       "<div>                            <div id=\"8ae8ad98-5980-48c8-b57c-c637d368992e\" class=\"plotly-graph-div\" style=\"height:525px; width:100%;\"></div>            <script type=\"text/javascript\">                require([\"plotly\"], function(Plotly) {                    window.PLOTLYENV=window.PLOTLYENV || {};                                    if (document.getElementById(\"8ae8ad98-5980-48c8-b57c-c637d368992e\")) {                    Plotly.newPlot(                        \"8ae8ad98-5980-48c8-b57c-c637d368992e\",                        [{\"domain\":{\"x\":[0.0,1.0],\"y\":[0.0,1.0]},\"hovertemplate\":\"label=%{label}<br>remote_ratio=%{value}<extra></extra>\",\"labels\":[\"Work from Home\",\"Office Work\",\"Hybrid\"],\"legendgroup\":\"\",\"name\":\"\",\"showlegend\":true,\"values\":[381,127,99],\"type\":\"pie\"}],                        {\"template\":{\"data\":{\"bar\":[{\"error_x\":{\"color\":\"#2a3f5f\"},\"error_y\":{\"color\":\"#2a3f5f\"},\"marker\":{\"line\":{\"color\":\"#E5ECF6\",\"width\":0.5},\"pattern\":{\"fillmode\":\"overlay\",\"size\":10,\"solidity\":0.2}},\"type\":\"bar\"}],\"barpolar\":[{\"marker\":{\"line\":{\"color\":\"#E5ECF6\",\"width\":0.5},\"pattern\":{\"fillmode\":\"overlay\",\"size\":10,\"solidity\":0.2}},\"type\":\"barpolar\"}],\"carpet\":[{\"aaxis\":{\"endlinecolor\":\"#2a3f5f\",\"gridcolor\":\"white\",\"linecolor\":\"white\",\"minorgridcolor\":\"white\",\"startlinecolor\":\"#2a3f5f\"},\"baxis\":{\"endlinecolor\":\"#2a3f5f\",\"gridcolor\":\"white\",\"linecolor\":\"white\",\"minorgridcolor\":\"white\",\"startlinecolor\":\"#2a3f5f\"},\"type\":\"carpet\"}],\"choropleth\":[{\"colorbar\":{\"outlinewidth\":0,\"ticks\":\"\"},\"type\":\"choropleth\"}],\"contour\":[{\"colorbar\":{\"outlinewidth\":0,\"ticks\":\"\"},\"colorscale\":[[0.0,\"#0d0887\"],[0.1111111111111111,\"#46039f\"],[0.2222222222222222,\"#7201a8\"],[0.3333333333333333,\"#9c179e\"],[0.4444444444444444,\"#bd3786\"],[0.5555555555555556,\"#d8576b\"],[0.6666666666666666,\"#ed7953\"],[0.7777777777777778,\"#fb9f3a\"],[0.8888888888888888,\"#fdca26\"],[1.0,\"#f0f921\"]],\"type\":\"contour\"}],\"contourcarpet\":[{\"colorbar\":{\"outlinewidth\":0,\"ticks\":\"\"},\"type\":\"contourcarpet\"}],\"heatmap\":[{\"colorbar\":{\"outlinewidth\":0,\"ticks\":\"\"},\"colorscale\":[[0.0,\"#0d0887\"],[0.1111111111111111,\"#46039f\"],[0.2222222222222222,\"#7201a8\"],[0.3333333333333333,\"#9c179e\"],[0.4444444444444444,\"#bd3786\"],[0.5555555555555556,\"#d8576b\"],[0.6666666666666666,\"#ed7953\"],[0.7777777777777778,\"#fb9f3a\"],[0.8888888888888888,\"#fdca26\"],[1.0,\"#f0f921\"]],\"type\":\"heatmap\"}],\"heatmapgl\":[{\"colorbar\":{\"outlinewidth\":0,\"ticks\":\"\"},\"colorscale\":[[0.0,\"#0d0887\"],[0.1111111111111111,\"#46039f\"],[0.2222222222222222,\"#7201a8\"],[0.3333333333333333,\"#9c179e\"],[0.4444444444444444,\"#bd3786\"],[0.5555555555555556,\"#d8576b\"],[0.6666666666666666,\"#ed7953\"],[0.7777777777777778,\"#fb9f3a\"],[0.8888888888888888,\"#fdca26\"],[1.0,\"#f0f921\"]],\"type\":\"heatmapgl\"}],\"histogram\":[{\"marker\":{\"pattern\":{\"fillmode\":\"overlay\",\"size\":10,\"solidity\":0.2}},\"type\":\"histogram\"}],\"histogram2d\":[{\"colorbar\":{\"outlinewidth\":0,\"ticks\":\"\"},\"colorscale\":[[0.0,\"#0d0887\"],[0.1111111111111111,\"#46039f\"],[0.2222222222222222,\"#7201a8\"],[0.3333333333333333,\"#9c179e\"],[0.4444444444444444,\"#bd3786\"],[0.5555555555555556,\"#d8576b\"],[0.6666666666666666,\"#ed7953\"],[0.7777777777777778,\"#fb9f3a\"],[0.8888888888888888,\"#fdca26\"],[1.0,\"#f0f921\"]],\"type\":\"histogram2d\"}],\"histogram2dcontour\":[{\"colorbar\":{\"outlinewidth\":0,\"ticks\":\"\"},\"colorscale\":[[0.0,\"#0d0887\"],[0.1111111111111111,\"#46039f\"],[0.2222222222222222,\"#7201a8\"],[0.3333333333333333,\"#9c179e\"],[0.4444444444444444,\"#bd3786\"],[0.5555555555555556,\"#d8576b\"],[0.6666666666666666,\"#ed7953\"],[0.7777777777777778,\"#fb9f3a\"],[0.8888888888888888,\"#fdca26\"],[1.0,\"#f0f921\"]],\"type\":\"histogram2dcontour\"}],\"mesh3d\":[{\"colorbar\":{\"outlinewidth\":0,\"ticks\":\"\"},\"type\":\"mesh3d\"}],\"parcoords\":[{\"line\":{\"colorbar\":{\"outlinewidth\":0,\"ticks\":\"\"}},\"type\":\"parcoords\"}],\"pie\":[{\"automargin\":true,\"type\":\"pie\"}],\"scatter\":[{\"marker\":{\"colorbar\":{\"outlinewidth\":0,\"ticks\":\"\"}},\"type\":\"scatter\"}],\"scatter3d\":[{\"line\":{\"colorbar\":{\"outlinewidth\":0,\"ticks\":\"\"}},\"marker\":{\"colorbar\":{\"outlinewidth\":0,\"ticks\":\"\"}},\"type\":\"scatter3d\"}],\"scattercarpet\":[{\"marker\":{\"colorbar\":{\"outlinewidth\":0,\"ticks\":\"\"}},\"type\":\"scattercarpet\"}],\"scattergeo\":[{\"marker\":{\"colorbar\":{\"outlinewidth\":0,\"ticks\":\"\"}},\"type\":\"scattergeo\"}],\"scattergl\":[{\"marker\":{\"colorbar\":{\"outlinewidth\":0,\"ticks\":\"\"}},\"type\":\"scattergl\"}],\"scattermapbox\":[{\"marker\":{\"colorbar\":{\"outlinewidth\":0,\"ticks\":\"\"}},\"type\":\"scattermapbox\"}],\"scatterpolar\":[{\"marker\":{\"colorbar\":{\"outlinewidth\":0,\"ticks\":\"\"}},\"type\":\"scatterpolar\"}],\"scatterpolargl\":[{\"marker\":{\"colorbar\":{\"outlinewidth\":0,\"ticks\":\"\"}},\"type\":\"scatterpolargl\"}],\"scatterternary\":[{\"marker\":{\"colorbar\":{\"outlinewidth\":0,\"ticks\":\"\"}},\"type\":\"scatterternary\"}],\"surface\":[{\"colorbar\":{\"outlinewidth\":0,\"ticks\":\"\"},\"colorscale\":[[0.0,\"#0d0887\"],[0.1111111111111111,\"#46039f\"],[0.2222222222222222,\"#7201a8\"],[0.3333333333333333,\"#9c179e\"],[0.4444444444444444,\"#bd3786\"],[0.5555555555555556,\"#d8576b\"],[0.6666666666666666,\"#ed7953\"],[0.7777777777777778,\"#fb9f3a\"],[0.8888888888888888,\"#fdca26\"],[1.0,\"#f0f921\"]],\"type\":\"surface\"}],\"table\":[{\"cells\":{\"fill\":{\"color\":\"#EBF0F8\"},\"line\":{\"color\":\"white\"}},\"header\":{\"fill\":{\"color\":\"#C8D4E3\"},\"line\":{\"color\":\"white\"}},\"type\":\"table\"}]},\"layout\":{\"annotationdefaults\":{\"arrowcolor\":\"#2a3f5f\",\"arrowhead\":0,\"arrowwidth\":1},\"autotypenumbers\":\"strict\",\"coloraxis\":{\"colorbar\":{\"outlinewidth\":0,\"ticks\":\"\"}},\"colorscale\":{\"diverging\":[[0,\"#8e0152\"],[0.1,\"#c51b7d\"],[0.2,\"#de77ae\"],[0.3,\"#f1b6da\"],[0.4,\"#fde0ef\"],[0.5,\"#f7f7f7\"],[0.6,\"#e6f5d0\"],[0.7,\"#b8e186\"],[0.8,\"#7fbc41\"],[0.9,\"#4d9221\"],[1,\"#276419\"]],\"sequential\":[[0.0,\"#0d0887\"],[0.1111111111111111,\"#46039f\"],[0.2222222222222222,\"#7201a8\"],[0.3333333333333333,\"#9c179e\"],[0.4444444444444444,\"#bd3786\"],[0.5555555555555556,\"#d8576b\"],[0.6666666666666666,\"#ed7953\"],[0.7777777777777778,\"#fb9f3a\"],[0.8888888888888888,\"#fdca26\"],[1.0,\"#f0f921\"]],\"sequentialminus\":[[0.0,\"#0d0887\"],[0.1111111111111111,\"#46039f\"],[0.2222222222222222,\"#7201a8\"],[0.3333333333333333,\"#9c179e\"],[0.4444444444444444,\"#bd3786\"],[0.5555555555555556,\"#d8576b\"],[0.6666666666666666,\"#ed7953\"],[0.7777777777777778,\"#fb9f3a\"],[0.8888888888888888,\"#fdca26\"],[1.0,\"#f0f921\"]]},\"colorway\":[\"#636efa\",\"#EF553B\",\"#00cc96\",\"#ab63fa\",\"#FFA15A\",\"#19d3f3\",\"#FF6692\",\"#B6E880\",\"#FF97FF\",\"#FECB52\"],\"font\":{\"color\":\"#2a3f5f\"},\"geo\":{\"bgcolor\":\"white\",\"lakecolor\":\"white\",\"landcolor\":\"#E5ECF6\",\"showlakes\":true,\"showland\":true,\"subunitcolor\":\"white\"},\"hoverlabel\":{\"align\":\"left\"},\"hovermode\":\"closest\",\"mapbox\":{\"style\":\"light\"},\"paper_bgcolor\":\"white\",\"plot_bgcolor\":\"#E5ECF6\",\"polar\":{\"angularaxis\":{\"gridcolor\":\"white\",\"linecolor\":\"white\",\"ticks\":\"\"},\"bgcolor\":\"#E5ECF6\",\"radialaxis\":{\"gridcolor\":\"white\",\"linecolor\":\"white\",\"ticks\":\"\"}},\"scene\":{\"xaxis\":{\"backgroundcolor\":\"#E5ECF6\",\"gridcolor\":\"white\",\"gridwidth\":2,\"linecolor\":\"white\",\"showbackground\":true,\"ticks\":\"\",\"zerolinecolor\":\"white\"},\"yaxis\":{\"backgroundcolor\":\"#E5ECF6\",\"gridcolor\":\"white\",\"gridwidth\":2,\"linecolor\":\"white\",\"showbackground\":true,\"ticks\":\"\",\"zerolinecolor\":\"white\"},\"zaxis\":{\"backgroundcolor\":\"#E5ECF6\",\"gridcolor\":\"white\",\"gridwidth\":2,\"linecolor\":\"white\",\"showbackground\":true,\"ticks\":\"\",\"zerolinecolor\":\"white\"}},\"shapedefaults\":{\"line\":{\"color\":\"#2a3f5f\"}},\"ternary\":{\"aaxis\":{\"gridcolor\":\"white\",\"linecolor\":\"white\",\"ticks\":\"\"},\"baxis\":{\"gridcolor\":\"white\",\"linecolor\":\"white\",\"ticks\":\"\"},\"bgcolor\":\"#E5ECF6\",\"caxis\":{\"gridcolor\":\"white\",\"linecolor\":\"white\",\"ticks\":\"\"}},\"title\":{\"x\":0.05},\"xaxis\":{\"automargin\":true,\"gridcolor\":\"white\",\"linecolor\":\"white\",\"ticks\":\"\",\"title\":{\"standoff\":15},\"zerolinecolor\":\"white\",\"zerolinewidth\":2},\"yaxis\":{\"automargin\":true,\"gridcolor\":\"white\",\"linecolor\":\"white\",\"ticks\":\"\",\"title\":{\"standoff\":15},\"zerolinecolor\":\"white\",\"zerolinewidth\":2}}},\"legend\":{\"tracegroupgap\":0},\"title\":{\"text\":\"Distribution of Work type\"},\"piecolorway\":[\"rgb(102,194,165)\",\"rgb(252,141,98)\",\"rgb(141,160,203)\",\"rgb(231,138,195)\",\"rgb(166,216,84)\",\"rgb(255,217,47)\",\"rgb(229,196,148)\",\"rgb(179,179,179)\"]},                        {\"responsive\": true}                    ).then(function(){\n",
       "                            \n",
       "var gd = document.getElementById('8ae8ad98-5980-48c8-b57c-c637d368992e');\n",
       "var x = new MutationObserver(function (mutations, observer) {{\n",
       "        var display = window.getComputedStyle(gd).display;\n",
       "        if (!display || display === 'none') {{\n",
       "            console.log([gd, 'removed!']);\n",
       "            Plotly.purge(gd);\n",
       "            observer.disconnect();\n",
       "        }}\n",
       "}});\n",
       "\n",
       "// Listen for the removal of the full notebook cells\n",
       "var notebookContainer = gd.closest('#notebook-container');\n",
       "if (notebookContainer) {{\n",
       "    x.observe(notebookContainer, {childList: true});\n",
       "}}\n",
       "\n",
       "// Listen for the clearing of the current output cell\n",
       "var outputEl = gd.closest('.output');\n",
       "if (outputEl) {{\n",
       "    x.observe(outputEl, {childList: true});\n",
       "}}\n",
       "\n",
       "                        })                };                });            </script>        </div>"
      ]
     },
     "metadata": {},
     "output_type": "display_data"
    }
   ],
   "source": [
    "df = dsjobs['remote_ratio'].value_counts().reset_index()\n",
    "fig = px.pie(df, values = 'remote_ratio', names = ['Work from Home','Office Work', 'Hybrid'],\n",
    "            title = 'Distribution of Work type',\n",
    "            color_discrete_sequence=px.colors.qualitative.Set2)\n",
    "fig.show()"
   ]
  },
  {
   "cell_type": "markdown",
   "metadata": {},
   "source": [
    "#### During the period 2020 - 2022, 62.8% of members have shifted to work from home modalities owing to Covid - 19 crisis. Later, we will see trend shifting back to the normalcy."
   ]
  },
  {
   "cell_type": "markdown",
   "metadata": {},
   "source": [
    "### Plotting correlation matrix"
   ]
  },
  {
   "cell_type": "code",
   "execution_count": 20,
   "metadata": {},
   "outputs": [
    {
     "data": {
      "application/vnd.plotly.v1+json": {
       "config": {
        "plotlyServerURL": "https://plot.ly"
       },
       "data": [
        {
         "coloraxis": "coloraxis",
         "hovertemplate": "x: %{x}<br>y: %{y}<br>color: %{z}<extra></extra>",
         "name": "0",
         "texttemplate": "%{z:.2f}",
         "type": "heatmap",
         "x": [
          "work_year",
          "salary",
          "salary_in_usd",
          "remote_ratio"
         ],
         "xaxis": "x",
         "y": [
          "work_year",
          "salary",
          "salary_in_usd",
          "remote_ratio"
         ],
         "yaxis": "y",
         "z": [
          [
           1,
           -0.0875773838945656,
           0.17049332455338606,
           0.07631437405384806
          ],
          [
           -0.0875773838945656,
           1,
           -0.0839056921059893,
           -0.014608470101377384
          ],
          [
           0.17049332455338606,
           -0.0839056921059893,
           1,
           0.13212233539422116
          ],
          [
           0.07631437405384806,
           -0.014608470101377384,
           0.13212233539422116,
           1
          ]
         ]
        }
       ],
       "layout": {
        "coloraxis": {
         "colorscale": [
          [
           0,
           "#0d0887"
          ],
          [
           0.1111111111111111,
           "#46039f"
          ],
          [
           0.2222222222222222,
           "#7201a8"
          ],
          [
           0.3333333333333333,
           "#9c179e"
          ],
          [
           0.4444444444444444,
           "#bd3786"
          ],
          [
           0.5555555555555556,
           "#d8576b"
          ],
          [
           0.6666666666666666,
           "#ed7953"
          ],
          [
           0.7777777777777778,
           "#fb9f3a"
          ],
          [
           0.8888888888888888,
           "#fdca26"
          ],
          [
           1,
           "#f0f921"
          ]
         ]
        },
        "template": {
         "data": {
          "bar": [
           {
            "error_x": {
             "color": "#2a3f5f"
            },
            "error_y": {
             "color": "#2a3f5f"
            },
            "marker": {
             "line": {
              "color": "#E5ECF6",
              "width": 0.5
             },
             "pattern": {
              "fillmode": "overlay",
              "size": 10,
              "solidity": 0.2
             }
            },
            "type": "bar"
           }
          ],
          "barpolar": [
           {
            "marker": {
             "line": {
              "color": "#E5ECF6",
              "width": 0.5
             },
             "pattern": {
              "fillmode": "overlay",
              "size": 10,
              "solidity": 0.2
             }
            },
            "type": "barpolar"
           }
          ],
          "carpet": [
           {
            "aaxis": {
             "endlinecolor": "#2a3f5f",
             "gridcolor": "white",
             "linecolor": "white",
             "minorgridcolor": "white",
             "startlinecolor": "#2a3f5f"
            },
            "baxis": {
             "endlinecolor": "#2a3f5f",
             "gridcolor": "white",
             "linecolor": "white",
             "minorgridcolor": "white",
             "startlinecolor": "#2a3f5f"
            },
            "type": "carpet"
           }
          ],
          "choropleth": [
           {
            "colorbar": {
             "outlinewidth": 0,
             "ticks": ""
            },
            "type": "choropleth"
           }
          ],
          "contour": [
           {
            "colorbar": {
             "outlinewidth": 0,
             "ticks": ""
            },
            "colorscale": [
             [
              0,
              "#0d0887"
             ],
             [
              0.1111111111111111,
              "#46039f"
             ],
             [
              0.2222222222222222,
              "#7201a8"
             ],
             [
              0.3333333333333333,
              "#9c179e"
             ],
             [
              0.4444444444444444,
              "#bd3786"
             ],
             [
              0.5555555555555556,
              "#d8576b"
             ],
             [
              0.6666666666666666,
              "#ed7953"
             ],
             [
              0.7777777777777778,
              "#fb9f3a"
             ],
             [
              0.8888888888888888,
              "#fdca26"
             ],
             [
              1,
              "#f0f921"
             ]
            ],
            "type": "contour"
           }
          ],
          "contourcarpet": [
           {
            "colorbar": {
             "outlinewidth": 0,
             "ticks": ""
            },
            "type": "contourcarpet"
           }
          ],
          "heatmap": [
           {
            "colorbar": {
             "outlinewidth": 0,
             "ticks": ""
            },
            "colorscale": [
             [
              0,
              "#0d0887"
             ],
             [
              0.1111111111111111,
              "#46039f"
             ],
             [
              0.2222222222222222,
              "#7201a8"
             ],
             [
              0.3333333333333333,
              "#9c179e"
             ],
             [
              0.4444444444444444,
              "#bd3786"
             ],
             [
              0.5555555555555556,
              "#d8576b"
             ],
             [
              0.6666666666666666,
              "#ed7953"
             ],
             [
              0.7777777777777778,
              "#fb9f3a"
             ],
             [
              0.8888888888888888,
              "#fdca26"
             ],
             [
              1,
              "#f0f921"
             ]
            ],
            "type": "heatmap"
           }
          ],
          "heatmapgl": [
           {
            "colorbar": {
             "outlinewidth": 0,
             "ticks": ""
            },
            "colorscale": [
             [
              0,
              "#0d0887"
             ],
             [
              0.1111111111111111,
              "#46039f"
             ],
             [
              0.2222222222222222,
              "#7201a8"
             ],
             [
              0.3333333333333333,
              "#9c179e"
             ],
             [
              0.4444444444444444,
              "#bd3786"
             ],
             [
              0.5555555555555556,
              "#d8576b"
             ],
             [
              0.6666666666666666,
              "#ed7953"
             ],
             [
              0.7777777777777778,
              "#fb9f3a"
             ],
             [
              0.8888888888888888,
              "#fdca26"
             ],
             [
              1,
              "#f0f921"
             ]
            ],
            "type": "heatmapgl"
           }
          ],
          "histogram": [
           {
            "marker": {
             "pattern": {
              "fillmode": "overlay",
              "size": 10,
              "solidity": 0.2
             }
            },
            "type": "histogram"
           }
          ],
          "histogram2d": [
           {
            "colorbar": {
             "outlinewidth": 0,
             "ticks": ""
            },
            "colorscale": [
             [
              0,
              "#0d0887"
             ],
             [
              0.1111111111111111,
              "#46039f"
             ],
             [
              0.2222222222222222,
              "#7201a8"
             ],
             [
              0.3333333333333333,
              "#9c179e"
             ],
             [
              0.4444444444444444,
              "#bd3786"
             ],
             [
              0.5555555555555556,
              "#d8576b"
             ],
             [
              0.6666666666666666,
              "#ed7953"
             ],
             [
              0.7777777777777778,
              "#fb9f3a"
             ],
             [
              0.8888888888888888,
              "#fdca26"
             ],
             [
              1,
              "#f0f921"
             ]
            ],
            "type": "histogram2d"
           }
          ],
          "histogram2dcontour": [
           {
            "colorbar": {
             "outlinewidth": 0,
             "ticks": ""
            },
            "colorscale": [
             [
              0,
              "#0d0887"
             ],
             [
              0.1111111111111111,
              "#46039f"
             ],
             [
              0.2222222222222222,
              "#7201a8"
             ],
             [
              0.3333333333333333,
              "#9c179e"
             ],
             [
              0.4444444444444444,
              "#bd3786"
             ],
             [
              0.5555555555555556,
              "#d8576b"
             ],
             [
              0.6666666666666666,
              "#ed7953"
             ],
             [
              0.7777777777777778,
              "#fb9f3a"
             ],
             [
              0.8888888888888888,
              "#fdca26"
             ],
             [
              1,
              "#f0f921"
             ]
            ],
            "type": "histogram2dcontour"
           }
          ],
          "mesh3d": [
           {
            "colorbar": {
             "outlinewidth": 0,
             "ticks": ""
            },
            "type": "mesh3d"
           }
          ],
          "parcoords": [
           {
            "line": {
             "colorbar": {
              "outlinewidth": 0,
              "ticks": ""
             }
            },
            "type": "parcoords"
           }
          ],
          "pie": [
           {
            "automargin": true,
            "type": "pie"
           }
          ],
          "scatter": [
           {
            "marker": {
             "colorbar": {
              "outlinewidth": 0,
              "ticks": ""
             }
            },
            "type": "scatter"
           }
          ],
          "scatter3d": [
           {
            "line": {
             "colorbar": {
              "outlinewidth": 0,
              "ticks": ""
             }
            },
            "marker": {
             "colorbar": {
              "outlinewidth": 0,
              "ticks": ""
             }
            },
            "type": "scatter3d"
           }
          ],
          "scattercarpet": [
           {
            "marker": {
             "colorbar": {
              "outlinewidth": 0,
              "ticks": ""
             }
            },
            "type": "scattercarpet"
           }
          ],
          "scattergeo": [
           {
            "marker": {
             "colorbar": {
              "outlinewidth": 0,
              "ticks": ""
             }
            },
            "type": "scattergeo"
           }
          ],
          "scattergl": [
           {
            "marker": {
             "colorbar": {
              "outlinewidth": 0,
              "ticks": ""
             }
            },
            "type": "scattergl"
           }
          ],
          "scattermapbox": [
           {
            "marker": {
             "colorbar": {
              "outlinewidth": 0,
              "ticks": ""
             }
            },
            "type": "scattermapbox"
           }
          ],
          "scatterpolar": [
           {
            "marker": {
             "colorbar": {
              "outlinewidth": 0,
              "ticks": ""
             }
            },
            "type": "scatterpolar"
           }
          ],
          "scatterpolargl": [
           {
            "marker": {
             "colorbar": {
              "outlinewidth": 0,
              "ticks": ""
             }
            },
            "type": "scatterpolargl"
           }
          ],
          "scatterternary": [
           {
            "marker": {
             "colorbar": {
              "outlinewidth": 0,
              "ticks": ""
             }
            },
            "type": "scatterternary"
           }
          ],
          "surface": [
           {
            "colorbar": {
             "outlinewidth": 0,
             "ticks": ""
            },
            "colorscale": [
             [
              0,
              "#0d0887"
             ],
             [
              0.1111111111111111,
              "#46039f"
             ],
             [
              0.2222222222222222,
              "#7201a8"
             ],
             [
              0.3333333333333333,
              "#9c179e"
             ],
             [
              0.4444444444444444,
              "#bd3786"
             ],
             [
              0.5555555555555556,
              "#d8576b"
             ],
             [
              0.6666666666666666,
              "#ed7953"
             ],
             [
              0.7777777777777778,
              "#fb9f3a"
             ],
             [
              0.8888888888888888,
              "#fdca26"
             ],
             [
              1,
              "#f0f921"
             ]
            ],
            "type": "surface"
           }
          ],
          "table": [
           {
            "cells": {
             "fill": {
              "color": "#EBF0F8"
             },
             "line": {
              "color": "white"
             }
            },
            "header": {
             "fill": {
              "color": "#C8D4E3"
             },
             "line": {
              "color": "white"
             }
            },
            "type": "table"
           }
          ]
         },
         "layout": {
          "annotationdefaults": {
           "arrowcolor": "#2a3f5f",
           "arrowhead": 0,
           "arrowwidth": 1
          },
          "autotypenumbers": "strict",
          "coloraxis": {
           "colorbar": {
            "outlinewidth": 0,
            "ticks": ""
           }
          },
          "colorscale": {
           "diverging": [
            [
             0,
             "#8e0152"
            ],
            [
             0.1,
             "#c51b7d"
            ],
            [
             0.2,
             "#de77ae"
            ],
            [
             0.3,
             "#f1b6da"
            ],
            [
             0.4,
             "#fde0ef"
            ],
            [
             0.5,
             "#f7f7f7"
            ],
            [
             0.6,
             "#e6f5d0"
            ],
            [
             0.7,
             "#b8e186"
            ],
            [
             0.8,
             "#7fbc41"
            ],
            [
             0.9,
             "#4d9221"
            ],
            [
             1,
             "#276419"
            ]
           ],
           "sequential": [
            [
             0,
             "#0d0887"
            ],
            [
             0.1111111111111111,
             "#46039f"
            ],
            [
             0.2222222222222222,
             "#7201a8"
            ],
            [
             0.3333333333333333,
             "#9c179e"
            ],
            [
             0.4444444444444444,
             "#bd3786"
            ],
            [
             0.5555555555555556,
             "#d8576b"
            ],
            [
             0.6666666666666666,
             "#ed7953"
            ],
            [
             0.7777777777777778,
             "#fb9f3a"
            ],
            [
             0.8888888888888888,
             "#fdca26"
            ],
            [
             1,
             "#f0f921"
            ]
           ],
           "sequentialminus": [
            [
             0,
             "#0d0887"
            ],
            [
             0.1111111111111111,
             "#46039f"
            ],
            [
             0.2222222222222222,
             "#7201a8"
            ],
            [
             0.3333333333333333,
             "#9c179e"
            ],
            [
             0.4444444444444444,
             "#bd3786"
            ],
            [
             0.5555555555555556,
             "#d8576b"
            ],
            [
             0.6666666666666666,
             "#ed7953"
            ],
            [
             0.7777777777777778,
             "#fb9f3a"
            ],
            [
             0.8888888888888888,
             "#fdca26"
            ],
            [
             1,
             "#f0f921"
            ]
           ]
          },
          "colorway": [
           "#636efa",
           "#EF553B",
           "#00cc96",
           "#ab63fa",
           "#FFA15A",
           "#19d3f3",
           "#FF6692",
           "#B6E880",
           "#FF97FF",
           "#FECB52"
          ],
          "font": {
           "color": "#2a3f5f"
          },
          "geo": {
           "bgcolor": "white",
           "lakecolor": "white",
           "landcolor": "#E5ECF6",
           "showlakes": true,
           "showland": true,
           "subunitcolor": "white"
          },
          "hoverlabel": {
           "align": "left"
          },
          "hovermode": "closest",
          "mapbox": {
           "style": "light"
          },
          "paper_bgcolor": "white",
          "plot_bgcolor": "#E5ECF6",
          "polar": {
           "angularaxis": {
            "gridcolor": "white",
            "linecolor": "white",
            "ticks": ""
           },
           "bgcolor": "#E5ECF6",
           "radialaxis": {
            "gridcolor": "white",
            "linecolor": "white",
            "ticks": ""
           }
          },
          "scene": {
           "xaxis": {
            "backgroundcolor": "#E5ECF6",
            "gridcolor": "white",
            "gridwidth": 2,
            "linecolor": "white",
            "showbackground": true,
            "ticks": "",
            "zerolinecolor": "white"
           },
           "yaxis": {
            "backgroundcolor": "#E5ECF6",
            "gridcolor": "white",
            "gridwidth": 2,
            "linecolor": "white",
            "showbackground": true,
            "ticks": "",
            "zerolinecolor": "white"
           },
           "zaxis": {
            "backgroundcolor": "#E5ECF6",
            "gridcolor": "white",
            "gridwidth": 2,
            "linecolor": "white",
            "showbackground": true,
            "ticks": "",
            "zerolinecolor": "white"
           }
          },
          "shapedefaults": {
           "line": {
            "color": "#2a3f5f"
           }
          },
          "ternary": {
           "aaxis": {
            "gridcolor": "white",
            "linecolor": "white",
            "ticks": ""
           },
           "baxis": {
            "gridcolor": "white",
            "linecolor": "white",
            "ticks": ""
           },
           "bgcolor": "#E5ECF6",
           "caxis": {
            "gridcolor": "white",
            "linecolor": "white",
            "ticks": ""
           }
          },
          "title": {
           "x": 0.05
          },
          "xaxis": {
           "automargin": true,
           "gridcolor": "white",
           "linecolor": "white",
           "ticks": "",
           "title": {
            "standoff": 15
           },
           "zerolinecolor": "white",
           "zerolinewidth": 2
          },
          "yaxis": {
           "automargin": true,
           "gridcolor": "white",
           "linecolor": "white",
           "ticks": "",
           "title": {
            "standoff": 15
           },
           "zerolinecolor": "white",
           "zerolinewidth": 2
          }
         }
        },
        "title": {
         "text": "Heatmap of Correlation matrix of the dataset"
        },
        "xaxis": {
         "anchor": "y",
         "constrain": "domain",
         "domain": [
          0,
          1
         ],
         "scaleanchor": "y"
        },
        "yaxis": {
         "anchor": "x",
         "autorange": "reversed",
         "constrain": "domain",
         "domain": [
          0,
          1
         ]
        }
       }
      },
      "text/html": [
       "<div>                            <div id=\"f951fd64-ff46-48a6-b7e3-8d9b04b784f7\" class=\"plotly-graph-div\" style=\"height:525px; width:100%;\"></div>            <script type=\"text/javascript\">                require([\"plotly\"], function(Plotly) {                    window.PLOTLYENV=window.PLOTLYENV || {};                                    if (document.getElementById(\"f951fd64-ff46-48a6-b7e3-8d9b04b784f7\")) {                    Plotly.newPlot(                        \"f951fd64-ff46-48a6-b7e3-8d9b04b784f7\",                        [{\"coloraxis\":\"coloraxis\",\"name\":\"0\",\"texttemplate\":\"%{z:.2f}\",\"x\":[\"work_year\",\"salary\",\"salary_in_usd\",\"remote_ratio\"],\"y\":[\"work_year\",\"salary\",\"salary_in_usd\",\"remote_ratio\"],\"z\":[[1.0,-0.0875773838945656,0.17049332455338606,0.07631437405384806],[-0.0875773838945656,1.0,-0.0839056921059893,-0.014608470101377384],[0.17049332455338606,-0.0839056921059893,1.0,0.13212233539422116],[0.07631437405384806,-0.014608470101377384,0.13212233539422116,1.0]],\"type\":\"heatmap\",\"xaxis\":\"x\",\"yaxis\":\"y\",\"hovertemplate\":\"x: %{x}<br>y: %{y}<br>color: %{z}<extra></extra>\"}],                        {\"template\":{\"data\":{\"bar\":[{\"error_x\":{\"color\":\"#2a3f5f\"},\"error_y\":{\"color\":\"#2a3f5f\"},\"marker\":{\"line\":{\"color\":\"#E5ECF6\",\"width\":0.5},\"pattern\":{\"fillmode\":\"overlay\",\"size\":10,\"solidity\":0.2}},\"type\":\"bar\"}],\"barpolar\":[{\"marker\":{\"line\":{\"color\":\"#E5ECF6\",\"width\":0.5},\"pattern\":{\"fillmode\":\"overlay\",\"size\":10,\"solidity\":0.2}},\"type\":\"barpolar\"}],\"carpet\":[{\"aaxis\":{\"endlinecolor\":\"#2a3f5f\",\"gridcolor\":\"white\",\"linecolor\":\"white\",\"minorgridcolor\":\"white\",\"startlinecolor\":\"#2a3f5f\"},\"baxis\":{\"endlinecolor\":\"#2a3f5f\",\"gridcolor\":\"white\",\"linecolor\":\"white\",\"minorgridcolor\":\"white\",\"startlinecolor\":\"#2a3f5f\"},\"type\":\"carpet\"}],\"choropleth\":[{\"colorbar\":{\"outlinewidth\":0,\"ticks\":\"\"},\"type\":\"choropleth\"}],\"contour\":[{\"colorbar\":{\"outlinewidth\":0,\"ticks\":\"\"},\"colorscale\":[[0.0,\"#0d0887\"],[0.1111111111111111,\"#46039f\"],[0.2222222222222222,\"#7201a8\"],[0.3333333333333333,\"#9c179e\"],[0.4444444444444444,\"#bd3786\"],[0.5555555555555556,\"#d8576b\"],[0.6666666666666666,\"#ed7953\"],[0.7777777777777778,\"#fb9f3a\"],[0.8888888888888888,\"#fdca26\"],[1.0,\"#f0f921\"]],\"type\":\"contour\"}],\"contourcarpet\":[{\"colorbar\":{\"outlinewidth\":0,\"ticks\":\"\"},\"type\":\"contourcarpet\"}],\"heatmap\":[{\"colorbar\":{\"outlinewidth\":0,\"ticks\":\"\"},\"colorscale\":[[0.0,\"#0d0887\"],[0.1111111111111111,\"#46039f\"],[0.2222222222222222,\"#7201a8\"],[0.3333333333333333,\"#9c179e\"],[0.4444444444444444,\"#bd3786\"],[0.5555555555555556,\"#d8576b\"],[0.6666666666666666,\"#ed7953\"],[0.7777777777777778,\"#fb9f3a\"],[0.8888888888888888,\"#fdca26\"],[1.0,\"#f0f921\"]],\"type\":\"heatmap\"}],\"heatmapgl\":[{\"colorbar\":{\"outlinewidth\":0,\"ticks\":\"\"},\"colorscale\":[[0.0,\"#0d0887\"],[0.1111111111111111,\"#46039f\"],[0.2222222222222222,\"#7201a8\"],[0.3333333333333333,\"#9c179e\"],[0.4444444444444444,\"#bd3786\"],[0.5555555555555556,\"#d8576b\"],[0.6666666666666666,\"#ed7953\"],[0.7777777777777778,\"#fb9f3a\"],[0.8888888888888888,\"#fdca26\"],[1.0,\"#f0f921\"]],\"type\":\"heatmapgl\"}],\"histogram\":[{\"marker\":{\"pattern\":{\"fillmode\":\"overlay\",\"size\":10,\"solidity\":0.2}},\"type\":\"histogram\"}],\"histogram2d\":[{\"colorbar\":{\"outlinewidth\":0,\"ticks\":\"\"},\"colorscale\":[[0.0,\"#0d0887\"],[0.1111111111111111,\"#46039f\"],[0.2222222222222222,\"#7201a8\"],[0.3333333333333333,\"#9c179e\"],[0.4444444444444444,\"#bd3786\"],[0.5555555555555556,\"#d8576b\"],[0.6666666666666666,\"#ed7953\"],[0.7777777777777778,\"#fb9f3a\"],[0.8888888888888888,\"#fdca26\"],[1.0,\"#f0f921\"]],\"type\":\"histogram2d\"}],\"histogram2dcontour\":[{\"colorbar\":{\"outlinewidth\":0,\"ticks\":\"\"},\"colorscale\":[[0.0,\"#0d0887\"],[0.1111111111111111,\"#46039f\"],[0.2222222222222222,\"#7201a8\"],[0.3333333333333333,\"#9c179e\"],[0.4444444444444444,\"#bd3786\"],[0.5555555555555556,\"#d8576b\"],[0.6666666666666666,\"#ed7953\"],[0.7777777777777778,\"#fb9f3a\"],[0.8888888888888888,\"#fdca26\"],[1.0,\"#f0f921\"]],\"type\":\"histogram2dcontour\"}],\"mesh3d\":[{\"colorbar\":{\"outlinewidth\":0,\"ticks\":\"\"},\"type\":\"mesh3d\"}],\"parcoords\":[{\"line\":{\"colorbar\":{\"outlinewidth\":0,\"ticks\":\"\"}},\"type\":\"parcoords\"}],\"pie\":[{\"automargin\":true,\"type\":\"pie\"}],\"scatter\":[{\"marker\":{\"colorbar\":{\"outlinewidth\":0,\"ticks\":\"\"}},\"type\":\"scatter\"}],\"scatter3d\":[{\"line\":{\"colorbar\":{\"outlinewidth\":0,\"ticks\":\"\"}},\"marker\":{\"colorbar\":{\"outlinewidth\":0,\"ticks\":\"\"}},\"type\":\"scatter3d\"}],\"scattercarpet\":[{\"marker\":{\"colorbar\":{\"outlinewidth\":0,\"ticks\":\"\"}},\"type\":\"scattercarpet\"}],\"scattergeo\":[{\"marker\":{\"colorbar\":{\"outlinewidth\":0,\"ticks\":\"\"}},\"type\":\"scattergeo\"}],\"scattergl\":[{\"marker\":{\"colorbar\":{\"outlinewidth\":0,\"ticks\":\"\"}},\"type\":\"scattergl\"}],\"scattermapbox\":[{\"marker\":{\"colorbar\":{\"outlinewidth\":0,\"ticks\":\"\"}},\"type\":\"scattermapbox\"}],\"scatterpolar\":[{\"marker\":{\"colorbar\":{\"outlinewidth\":0,\"ticks\":\"\"}},\"type\":\"scatterpolar\"}],\"scatterpolargl\":[{\"marker\":{\"colorbar\":{\"outlinewidth\":0,\"ticks\":\"\"}},\"type\":\"scatterpolargl\"}],\"scatterternary\":[{\"marker\":{\"colorbar\":{\"outlinewidth\":0,\"ticks\":\"\"}},\"type\":\"scatterternary\"}],\"surface\":[{\"colorbar\":{\"outlinewidth\":0,\"ticks\":\"\"},\"colorscale\":[[0.0,\"#0d0887\"],[0.1111111111111111,\"#46039f\"],[0.2222222222222222,\"#7201a8\"],[0.3333333333333333,\"#9c179e\"],[0.4444444444444444,\"#bd3786\"],[0.5555555555555556,\"#d8576b\"],[0.6666666666666666,\"#ed7953\"],[0.7777777777777778,\"#fb9f3a\"],[0.8888888888888888,\"#fdca26\"],[1.0,\"#f0f921\"]],\"type\":\"surface\"}],\"table\":[{\"cells\":{\"fill\":{\"color\":\"#EBF0F8\"},\"line\":{\"color\":\"white\"}},\"header\":{\"fill\":{\"color\":\"#C8D4E3\"},\"line\":{\"color\":\"white\"}},\"type\":\"table\"}]},\"layout\":{\"annotationdefaults\":{\"arrowcolor\":\"#2a3f5f\",\"arrowhead\":0,\"arrowwidth\":1},\"autotypenumbers\":\"strict\",\"coloraxis\":{\"colorbar\":{\"outlinewidth\":0,\"ticks\":\"\"}},\"colorscale\":{\"diverging\":[[0,\"#8e0152\"],[0.1,\"#c51b7d\"],[0.2,\"#de77ae\"],[0.3,\"#f1b6da\"],[0.4,\"#fde0ef\"],[0.5,\"#f7f7f7\"],[0.6,\"#e6f5d0\"],[0.7,\"#b8e186\"],[0.8,\"#7fbc41\"],[0.9,\"#4d9221\"],[1,\"#276419\"]],\"sequential\":[[0.0,\"#0d0887\"],[0.1111111111111111,\"#46039f\"],[0.2222222222222222,\"#7201a8\"],[0.3333333333333333,\"#9c179e\"],[0.4444444444444444,\"#bd3786\"],[0.5555555555555556,\"#d8576b\"],[0.6666666666666666,\"#ed7953\"],[0.7777777777777778,\"#fb9f3a\"],[0.8888888888888888,\"#fdca26\"],[1.0,\"#f0f921\"]],\"sequentialminus\":[[0.0,\"#0d0887\"],[0.1111111111111111,\"#46039f\"],[0.2222222222222222,\"#7201a8\"],[0.3333333333333333,\"#9c179e\"],[0.4444444444444444,\"#bd3786\"],[0.5555555555555556,\"#d8576b\"],[0.6666666666666666,\"#ed7953\"],[0.7777777777777778,\"#fb9f3a\"],[0.8888888888888888,\"#fdca26\"],[1.0,\"#f0f921\"]]},\"colorway\":[\"#636efa\",\"#EF553B\",\"#00cc96\",\"#ab63fa\",\"#FFA15A\",\"#19d3f3\",\"#FF6692\",\"#B6E880\",\"#FF97FF\",\"#FECB52\"],\"font\":{\"color\":\"#2a3f5f\"},\"geo\":{\"bgcolor\":\"white\",\"lakecolor\":\"white\",\"landcolor\":\"#E5ECF6\",\"showlakes\":true,\"showland\":true,\"subunitcolor\":\"white\"},\"hoverlabel\":{\"align\":\"left\"},\"hovermode\":\"closest\",\"mapbox\":{\"style\":\"light\"},\"paper_bgcolor\":\"white\",\"plot_bgcolor\":\"#E5ECF6\",\"polar\":{\"angularaxis\":{\"gridcolor\":\"white\",\"linecolor\":\"white\",\"ticks\":\"\"},\"bgcolor\":\"#E5ECF6\",\"radialaxis\":{\"gridcolor\":\"white\",\"linecolor\":\"white\",\"ticks\":\"\"}},\"scene\":{\"xaxis\":{\"backgroundcolor\":\"#E5ECF6\",\"gridcolor\":\"white\",\"gridwidth\":2,\"linecolor\":\"white\",\"showbackground\":true,\"ticks\":\"\",\"zerolinecolor\":\"white\"},\"yaxis\":{\"backgroundcolor\":\"#E5ECF6\",\"gridcolor\":\"white\",\"gridwidth\":2,\"linecolor\":\"white\",\"showbackground\":true,\"ticks\":\"\",\"zerolinecolor\":\"white\"},\"zaxis\":{\"backgroundcolor\":\"#E5ECF6\",\"gridcolor\":\"white\",\"gridwidth\":2,\"linecolor\":\"white\",\"showbackground\":true,\"ticks\":\"\",\"zerolinecolor\":\"white\"}},\"shapedefaults\":{\"line\":{\"color\":\"#2a3f5f\"}},\"ternary\":{\"aaxis\":{\"gridcolor\":\"white\",\"linecolor\":\"white\",\"ticks\":\"\"},\"baxis\":{\"gridcolor\":\"white\",\"linecolor\":\"white\",\"ticks\":\"\"},\"bgcolor\":\"#E5ECF6\",\"caxis\":{\"gridcolor\":\"white\",\"linecolor\":\"white\",\"ticks\":\"\"}},\"title\":{\"x\":0.05},\"xaxis\":{\"automargin\":true,\"gridcolor\":\"white\",\"linecolor\":\"white\",\"ticks\":\"\",\"title\":{\"standoff\":15},\"zerolinecolor\":\"white\",\"zerolinewidth\":2},\"yaxis\":{\"automargin\":true,\"gridcolor\":\"white\",\"linecolor\":\"white\",\"ticks\":\"\",\"title\":{\"standoff\":15},\"zerolinecolor\":\"white\",\"zerolinewidth\":2}}},\"xaxis\":{\"anchor\":\"y\",\"domain\":[0.0,1.0],\"scaleanchor\":\"y\",\"constrain\":\"domain\"},\"yaxis\":{\"anchor\":\"x\",\"domain\":[0.0,1.0],\"autorange\":\"reversed\",\"constrain\":\"domain\"},\"coloraxis\":{\"colorscale\":[[0.0,\"#0d0887\"],[0.1111111111111111,\"#46039f\"],[0.2222222222222222,\"#7201a8\"],[0.3333333333333333,\"#9c179e\"],[0.4444444444444444,\"#bd3786\"],[0.5555555555555556,\"#d8576b\"],[0.6666666666666666,\"#ed7953\"],[0.7777777777777778,\"#fb9f3a\"],[0.8888888888888888,\"#fdca26\"],[1.0,\"#f0f921\"]]},\"title\":{\"text\":\"Heatmap of Correlation matrix of the dataset\"}},                        {\"responsive\": true}                    ).then(function(){\n",
       "                            \n",
       "var gd = document.getElementById('f951fd64-ff46-48a6-b7e3-8d9b04b784f7');\n",
       "var x = new MutationObserver(function (mutations, observer) {{\n",
       "        var display = window.getComputedStyle(gd).display;\n",
       "        if (!display || display === 'none') {{\n",
       "            console.log([gd, 'removed!']);\n",
       "            Plotly.purge(gd);\n",
       "            observer.disconnect();\n",
       "        }}\n",
       "}});\n",
       "\n",
       "// Listen for the removal of the full notebook cells\n",
       "var notebookContainer = gd.closest('#notebook-container');\n",
       "if (notebookContainer) {{\n",
       "    x.observe(notebookContainer, {childList: true});\n",
       "}}\n",
       "\n",
       "// Listen for the clearing of the current output cell\n",
       "var outputEl = gd.closest('.output');\n",
       "if (outputEl) {{\n",
       "    x.observe(outputEl, {childList: true});\n",
       "}}\n",
       "\n",
       "                        })                };                });            </script>        </div>"
      ]
     },
     "metadata": {},
     "output_type": "display_data"
    }
   ],
   "source": [
    "fig = px.imshow(dsjobs.corr(),text_auto='.2f',\n",
    "               title = 'Heatmap of Correlation matrix of the dataset')\n",
    "fig.show()"
   ]
  },
  {
   "cell_type": "markdown",
   "metadata": {},
   "source": [
    "#### We have plotted correlation of various features eachother. We can see that, there is a certain relation between:\n",
    "1. Salary and work year\n",
    "2. Salary and remote ratio"
   ]
  },
  {
   "cell_type": "markdown",
   "metadata": {},
   "source": [
    "### Comparing salaries of Data scientist jobs based on Experience level."
   ]
  },
  {
   "cell_type": "code",
   "execution_count": 21,
   "metadata": {},
   "outputs": [
    {
     "data": {
      "application/vnd.plotly.v1+json": {
       "config": {
        "plotlyServerURL": "https://plot.ly"
       },
       "data": [
        {
         "alignmentgroup": "True",
         "hovertemplate": "experience_level=%{x}<br>salary_in_usd=%{y}<extra></extra>",
         "legendgroup": "MI",
         "marker": {
          "color": "rgb(229, 134, 6)"
         },
         "name": "MI",
         "notched": false,
         "offsetgroup": "MI",
         "orientation": "v",
         "showlegend": true,
         "type": "box",
         "x": [
          "MI",
          "MI",
          "MI",
          "MI",
          "MI",
          "MI",
          "MI",
          "MI",
          "MI",
          "MI",
          "MI",
          "MI",
          "MI",
          "MI",
          "MI",
          "MI",
          "MI",
          "MI",
          "MI",
          "MI",
          "MI",
          "MI",
          "MI",
          "MI",
          "MI",
          "MI",
          "MI",
          "MI",
          "MI",
          "MI",
          "MI",
          "MI",
          "MI",
          "MI",
          "MI",
          "MI",
          "MI",
          "MI",
          "MI",
          "MI",
          "MI",
          "MI",
          "MI",
          "MI",
          "MI",
          "MI",
          "MI",
          "MI",
          "MI",
          "MI",
          "MI",
          "MI",
          "MI",
          "MI",
          "MI",
          "MI",
          "MI",
          "MI",
          "MI",
          "MI",
          "MI",
          "MI",
          "MI",
          "MI",
          "MI",
          "MI",
          "MI",
          "MI",
          "MI",
          "MI",
          "MI",
          "MI",
          "MI",
          "MI",
          "MI",
          "MI",
          "MI",
          "MI",
          "MI",
          "MI",
          "MI",
          "MI",
          "MI",
          "MI",
          "MI",
          "MI",
          "MI",
          "MI",
          "MI",
          "MI",
          "MI",
          "MI",
          "MI",
          "MI",
          "MI",
          "MI",
          "MI",
          "MI",
          "MI",
          "MI",
          "MI",
          "MI",
          "MI",
          "MI",
          "MI",
          "MI",
          "MI",
          "MI",
          "MI",
          "MI",
          "MI",
          "MI",
          "MI",
          "MI",
          "MI",
          "MI",
          "MI",
          "MI",
          "MI",
          "MI",
          "MI",
          "MI",
          "MI",
          "MI",
          "MI",
          "MI",
          "MI",
          "MI",
          "MI",
          "MI",
          "MI",
          "MI",
          "MI",
          "MI",
          "MI",
          "MI",
          "MI",
          "MI",
          "MI",
          "MI",
          "MI",
          "MI",
          "MI",
          "MI",
          "MI",
          "MI",
          "MI",
          "MI",
          "MI",
          "MI",
          "MI",
          "MI",
          "MI",
          "MI",
          "MI",
          "MI",
          "MI",
          "MI",
          "MI",
          "MI",
          "MI",
          "MI",
          "MI",
          "MI",
          "MI",
          "MI",
          "MI",
          "MI",
          "MI",
          "MI",
          "MI",
          "MI",
          "MI",
          "MI",
          "MI",
          "MI",
          "MI",
          "MI",
          "MI",
          "MI",
          "MI",
          "MI",
          "MI",
          "MI",
          "MI",
          "MI",
          "MI",
          "MI",
          "MI",
          "MI",
          "MI",
          "MI",
          "MI",
          "MI",
          "MI",
          "MI",
          "MI",
          "MI",
          "MI",
          "MI",
          "MI",
          "MI",
          "MI",
          "MI",
          "MI",
          "MI",
          "MI",
          "MI",
          "MI",
          "MI",
          "MI",
          "MI",
          "MI"
         ],
         "x0": " ",
         "xaxis": "x",
         "y": [
          79833,
          20000,
          35735,
          135000,
          40481,
          87000,
          85000,
          8000,
          56000,
          43331,
          6072,
          98000,
          115000,
          59303,
          450000,
          46759,
          74130,
          103000,
          45760,
          50180,
          106000,
          112872,
          76958,
          105000,
          70139,
          38776,
          118000,
          138350,
          110000,
          130800,
          62726,
          42197,
          100000,
          5409,
          270000,
          140000,
          54238,
          47282,
          28476,
          110000,
          19609,
          89294,
          450000,
          95746,
          75000,
          36259,
          62000,
          73000,
          51519,
          187442,
          45391,
          50000,
          40189,
          200000,
          60000,
          151000,
          9466,
          38400,
          90000,
          63711,
          77364,
          135000,
          82500,
          100000,
          62649,
          90000,
          150000,
          75774,
          119059,
          423000,
          28369,
          150000,
          170000,
          82528,
          2859,
          40038,
          5679,
          22611,
          90734,
          26005,
          12000,
          4000,
          74000,
          18000,
          147000,
          61467,
          37825,
          160000,
          12901,
          20000,
          24823,
          56738,
          66022,
          90734,
          88654,
          46597,
          116914,
          33808,
          56256,
          88654,
          180000,
          110000,
          63810,
          46809,
          80000,
          110000,
          72212,
          12103,
          115000,
          93000,
          200000,
          130000,
          16904,
          25532,
          93150,
          111775,
          28016,
          112000,
          69741,
          69999,
          109000,
          51064,
          130000,
          90000,
          170000,
          150000,
          106260,
          126500,
          65438,
          39263,
          78526,
          52351,
          115500,
          167000,
          58000,
          54957,
          54957,
          124333,
          98158,
          120000,
          87932,
          117789,
          98158,
          58000,
          52351,
          71982,
          45807,
          65949,
          49461,
          78526,
          58894,
          63900,
          160000,
          112300,
          241000,
          159000,
          82900,
          49461,
          39263,
          43966,
          32974,
          87932,
          76940,
          104702,
          91614,
          65949,
          87932,
          43966,
          32974,
          98158,
          78526,
          76940,
          78791,
          120000,
          37236,
          18442,
          31615,
          58255,
          54957,
          135000,
          50000,
          183228,
          91614,
          200000,
          120000,
          100000,
          75000,
          35590,
          153000,
          32974,
          87425,
          75000,
          64849,
          157000,
          70912,
          48000,
          68147,
          122346,
          69336,
          20000,
          135000,
          78000,
          85000,
          75000,
          141300,
          102100,
          206699,
          99100,
          65438,
          45807,
          160000,
          130000,
          200000
         ],
         "y0": " ",
         "yaxis": "y"
        },
        {
         "alignmentgroup": "True",
         "hovertemplate": "experience_level=%{x}<br>salary_in_usd=%{y}<extra></extra>",
         "legendgroup": "SE",
         "marker": {
          "color": "rgb(93, 105, 177)"
         },
         "name": "SE",
         "notched": false,
         "offsetgroup": "SE",
         "orientation": "v",
         "showlegend": true,
         "type": "box",
         "x": [
          "SE",
          "SE",
          "SE",
          "SE",
          "SE",
          "SE",
          "SE",
          "SE",
          "SE",
          "SE",
          "SE",
          "SE",
          "SE",
          "SE",
          "SE",
          "SE",
          "SE",
          "SE",
          "SE",
          "SE",
          "SE",
          "SE",
          "SE",
          "SE",
          "SE",
          "SE",
          "SE",
          "SE",
          "SE",
          "SE",
          "SE",
          "SE",
          "SE",
          "SE",
          "SE",
          "SE",
          "SE",
          "SE",
          "SE",
          "SE",
          "SE",
          "SE",
          "SE",
          "SE",
          "SE",
          "SE",
          "SE",
          "SE",
          "SE",
          "SE",
          "SE",
          "SE",
          "SE",
          "SE",
          "SE",
          "SE",
          "SE",
          "SE",
          "SE",
          "SE",
          "SE",
          "SE",
          "SE",
          "SE",
          "SE",
          "SE",
          "SE",
          "SE",
          "SE",
          "SE",
          "SE",
          "SE",
          "SE",
          "SE",
          "SE",
          "SE",
          "SE",
          "SE",
          "SE",
          "SE",
          "SE",
          "SE",
          "SE",
          "SE",
          "SE",
          "SE",
          "SE",
          "SE",
          "SE",
          "SE",
          "SE",
          "SE",
          "SE",
          "SE",
          "SE",
          "SE",
          "SE",
          "SE",
          "SE",
          "SE",
          "SE",
          "SE",
          "SE",
          "SE",
          "SE",
          "SE",
          "SE",
          "SE",
          "SE",
          "SE",
          "SE",
          "SE",
          "SE",
          "SE",
          "SE",
          "SE",
          "SE",
          "SE",
          "SE",
          "SE",
          "SE",
          "SE",
          "SE",
          "SE",
          "SE",
          "SE",
          "SE",
          "SE",
          "SE",
          "SE",
          "SE",
          "SE",
          "SE",
          "SE",
          "SE",
          "SE",
          "SE",
          "SE",
          "SE",
          "SE",
          "SE",
          "SE",
          "SE",
          "SE",
          "SE",
          "SE",
          "SE",
          "SE",
          "SE",
          "SE",
          "SE",
          "SE",
          "SE",
          "SE",
          "SE",
          "SE",
          "SE",
          "SE",
          "SE",
          "SE",
          "SE",
          "SE",
          "SE",
          "SE",
          "SE",
          "SE",
          "SE",
          "SE",
          "SE",
          "SE",
          "SE",
          "SE",
          "SE",
          "SE",
          "SE",
          "SE",
          "SE",
          "SE",
          "SE",
          "SE",
          "SE",
          "SE",
          "SE",
          "SE",
          "SE",
          "SE",
          "SE",
          "SE",
          "SE",
          "SE",
          "SE",
          "SE",
          "SE",
          "SE",
          "SE",
          "SE",
          "SE",
          "SE",
          "SE",
          "SE",
          "SE",
          "SE",
          "SE",
          "SE",
          "SE",
          "SE",
          "SE",
          "SE",
          "SE",
          "SE",
          "SE",
          "SE",
          "SE",
          "SE",
          "SE",
          "SE",
          "SE",
          "SE",
          "SE",
          "SE",
          "SE",
          "SE",
          "SE",
          "SE",
          "SE",
          "SE",
          "SE",
          "SE",
          "SE",
          "SE",
          "SE",
          "SE",
          "SE",
          "SE",
          "SE",
          "SE",
          "SE",
          "SE",
          "SE",
          "SE",
          "SE",
          "SE",
          "SE",
          "SE",
          "SE",
          "SE",
          "SE",
          "SE",
          "SE",
          "SE",
          "SE",
          "SE",
          "SE",
          "SE",
          "SE",
          "SE",
          "SE",
          "SE",
          "SE",
          "SE",
          "SE",
          "SE",
          "SE",
          "SE",
          "SE",
          "SE",
          "SE",
          "SE",
          "SE",
          "SE",
          "SE",
          "SE",
          "SE",
          "SE",
          "SE",
          "SE",
          "SE",
          "SE",
          "SE",
          "SE"
         ],
         "x0": " ",
         "xaxis": "x",
         "y": [
          260000,
          109024,
          150000,
          190000,
          125000,
          114047,
          47899,
          33511,
          117104,
          68428,
          188000,
          60000,
          148261,
          120000,
          412000,
          45618,
          190200,
          91237,
          53192,
          79197,
          170000,
          80000,
          88654,
          276000,
          150000,
          115000,
          150000,
          94564,
          113476,
          103160,
          200000,
          120000,
          40570,
          24000,
          220000,
          240000,
          150000,
          82744,
          153000,
          160000,
          168000,
          144000,
          127221,
          120000,
          165000,
          235000,
          60757,
          174000,
          61896,
          50000,
          76833,
          152000,
          174000,
          96113,
          24342,
          54094,
          195000,
          50000,
          200000,
          165000,
          120000,
          185000,
          140000,
          225000,
          87738,
          135000,
          71786,
          256000,
          200000,
          200000,
          103691,
          165000,
          96282,
          170000,
          99703,
          173762,
          185000,
          63831,
          66265,
          160000,
          18907,
          77684,
          55000,
          20171,
          105000,
          94665,
          102839,
          135000,
          155000,
          120600,
          102100,
          84900,
          136620,
          99360,
          117789,
          104702,
          146000,
          123000,
          99000,
          116000,
          165220,
          120160,
          90320,
          181940,
          132320,
          220110,
          160080,
          180000,
          120000,
          124190,
          170000,
          112900,
          90320,
          112900,
          90320,
          165400,
          132320,
          243900,
          136600,
          109280,
          128875,
          93700,
          156600,
          108800,
          95550,
          113000,
          135000,
          161342,
          137141,
          167000,
          123000,
          78526,
          65438,
          150000,
          211500,
          192400,
          90700,
          130000,
          61300,
          130000,
          61300,
          160000,
          138600,
          136000,
          170000,
          123000,
          189650,
          164996,
          132000,
          165400,
          208775,
          147800,
          136994,
          101570,
          128875,
          93700,
          132320,
          164000,
          155000,
          112900,
          90320,
          145000,
          105400,
          215300,
          158200,
          209100,
          154600,
          115934,
          81666,
          175000,
          183600,
          180000,
          260000,
          60000,
          180000,
          80000,
          100800,
          140400,
          189650,
          164996,
          215300,
          209100,
          154600,
          180000,
          80000,
          105000,
          87932,
          162674,
          144000,
          104890,
          100000,
          140000,
          220000,
          140000,
          185100,
          220000,
          120000,
          65000,
          210000,
          120000,
          230000,
          200000,
          78791,
          100000,
          165000,
          93427,
          62651,
          115000,
          71444,
          152500,
          380000,
          405000,
          177000,
          135000,
          100000,
          90320,
          214000,
          192600,
          266400,
          213120,
          112900,
          155000,
          115934,
          81666,
          130000,
          115000,
          110500,
          130000,
          99050,
          160000,
          205300,
          140400,
          176000,
          144000,
          200100,
          160000,
          145000,
          70500,
          205300,
          140400,
          205300,
          184700,
          175100,
          140250,
          116150,
          54000,
          170000,
          80000,
          140000,
          210000,
          140000,
          100000,
          69000,
          210000,
          140000,
          210000,
          150075,
          100000,
          25000,
          126500,
          106260,
          220110,
          160080,
          105000,
          110925,
          140000,
          99000,
          60000,
          192564,
          144854,
          230000,
          150000,
          150260,
          109280,
          210000,
          170000,
          154000,
          126000,
          129000,
          150000
         ],
         "y0": " ",
         "yaxis": "y"
        },
        {
         "alignmentgroup": "True",
         "hovertemplate": "experience_level=%{x}<br>salary_in_usd=%{y}<extra></extra>",
         "legendgroup": "EN",
         "marker": {
          "color": "rgb(82, 188, 163)"
         },
         "name": "EN",
         "notched": false,
         "offsetgroup": "EN",
         "orientation": "v",
         "showlegend": true,
         "type": "box",
         "x": [
          "EN",
          "EN",
          "EN",
          "EN",
          "EN",
          "EN",
          "EN",
          "EN",
          "EN",
          "EN",
          "EN",
          "EN",
          "EN",
          "EN",
          "EN",
          "EN",
          "EN",
          "EN",
          "EN",
          "EN",
          "EN",
          "EN",
          "EN",
          "EN",
          "EN",
          "EN",
          "EN",
          "EN",
          "EN",
          "EN",
          "EN",
          "EN",
          "EN",
          "EN",
          "EN",
          "EN",
          "EN",
          "EN",
          "EN",
          "EN",
          "EN",
          "EN",
          "EN",
          "EN",
          "EN",
          "EN",
          "EN",
          "EN",
          "EN",
          "EN",
          "EN",
          "EN",
          "EN",
          "EN",
          "EN",
          "EN",
          "EN",
          "EN",
          "EN",
          "EN",
          "EN",
          "EN",
          "EN",
          "EN",
          "EN",
          "EN",
          "EN",
          "EN",
          "EN",
          "EN",
          "EN",
          "EN",
          "EN",
          "EN",
          "EN",
          "EN",
          "EN",
          "EN",
          "EN",
          "EN",
          "EN",
          "EN",
          "EN",
          "EN",
          "EN",
          "EN",
          "EN",
          "EN"
         ],
         "x0": " ",
         "xaxis": "x",
         "y": [
          72000,
          51321,
          39916,
          41689,
          5707,
          42000,
          100000,
          70000,
          250000,
          10000,
          138000,
          15966,
          6072,
          91000,
          45896,
          54742,
          21669,
          62726,
          49268,
          105000,
          82528,
          80000,
          59102,
          76833,
          29751,
          12000,
          70000,
          30428,
          12000,
          225000,
          90000,
          50000,
          110037,
          10354,
          20000,
          100000,
          49646,
          100000,
          80000,
          13400,
          125000,
          63831,
          80000,
          55000,
          60000,
          81000,
          21844,
          9272,
          90000,
          5882,
          24823,
          28609,
          16228,
          4000,
          21637,
          18053,
          36643,
          90000,
          28399,
          65013,
          72500,
          76833,
          85000,
          100000,
          58000,
          59102,
          100000,
          52351,
          45807,
          37300,
          21983,
          125000,
          100000,
          18442,
          120000,
          100000,
          31875,
          58035,
          52396,
          40000,
          86703,
          120000,
          150000,
          65000,
          20000,
          10000,
          67000,
          52000
         ],
         "y0": " ",
         "yaxis": "y"
        },
        {
         "alignmentgroup": "True",
         "hovertemplate": "experience_level=%{x}<br>salary_in_usd=%{y}<extra></extra>",
         "legendgroup": "EX",
         "marker": {
          "color": "rgb(153, 201, 69)"
         },
         "name": "EX",
         "notched": false,
         "offsetgroup": "EX",
         "orientation": "v",
         "showlegend": true,
         "type": "box",
         "x": [
          "EX",
          "EX",
          "EX",
          "EX",
          "EX",
          "EX",
          "EX",
          "EX",
          "EX",
          "EX",
          "EX",
          "EX",
          "EX",
          "EX",
          "EX",
          "EX",
          "EX",
          "EX",
          "EX",
          "EX",
          "EX",
          "EX",
          "EX",
          "EX",
          "EX",
          "EX"
         ],
         "x0": " ",
         "xaxis": "x",
         "y": [
          325000,
          79833,
          150000,
          235000,
          153667,
          230000,
          85000,
          130026,
          250000,
          69741,
          416000,
          600000,
          141846,
          242000,
          200000,
          130000,
          110000,
          224000,
          167875,
          175000,
          135000,
          118187,
          79039,
          196979,
          324000,
          216000
         ],
         "y0": " ",
         "yaxis": "y"
        }
       ],
       "layout": {
        "boxmode": "overlay",
        "legend": {
         "title": {
          "text": "experience_level"
         },
         "tracegroupgap": 0
        },
        "template": {
         "data": {
          "bar": [
           {
            "error_x": {
             "color": "#2a3f5f"
            },
            "error_y": {
             "color": "#2a3f5f"
            },
            "marker": {
             "line": {
              "color": "#E5ECF6",
              "width": 0.5
             },
             "pattern": {
              "fillmode": "overlay",
              "size": 10,
              "solidity": 0.2
             }
            },
            "type": "bar"
           }
          ],
          "barpolar": [
           {
            "marker": {
             "line": {
              "color": "#E5ECF6",
              "width": 0.5
             },
             "pattern": {
              "fillmode": "overlay",
              "size": 10,
              "solidity": 0.2
             }
            },
            "type": "barpolar"
           }
          ],
          "carpet": [
           {
            "aaxis": {
             "endlinecolor": "#2a3f5f",
             "gridcolor": "white",
             "linecolor": "white",
             "minorgridcolor": "white",
             "startlinecolor": "#2a3f5f"
            },
            "baxis": {
             "endlinecolor": "#2a3f5f",
             "gridcolor": "white",
             "linecolor": "white",
             "minorgridcolor": "white",
             "startlinecolor": "#2a3f5f"
            },
            "type": "carpet"
           }
          ],
          "choropleth": [
           {
            "colorbar": {
             "outlinewidth": 0,
             "ticks": ""
            },
            "type": "choropleth"
           }
          ],
          "contour": [
           {
            "colorbar": {
             "outlinewidth": 0,
             "ticks": ""
            },
            "colorscale": [
             [
              0,
              "#0d0887"
             ],
             [
              0.1111111111111111,
              "#46039f"
             ],
             [
              0.2222222222222222,
              "#7201a8"
             ],
             [
              0.3333333333333333,
              "#9c179e"
             ],
             [
              0.4444444444444444,
              "#bd3786"
             ],
             [
              0.5555555555555556,
              "#d8576b"
             ],
             [
              0.6666666666666666,
              "#ed7953"
             ],
             [
              0.7777777777777778,
              "#fb9f3a"
             ],
             [
              0.8888888888888888,
              "#fdca26"
             ],
             [
              1,
              "#f0f921"
             ]
            ],
            "type": "contour"
           }
          ],
          "contourcarpet": [
           {
            "colorbar": {
             "outlinewidth": 0,
             "ticks": ""
            },
            "type": "contourcarpet"
           }
          ],
          "heatmap": [
           {
            "colorbar": {
             "outlinewidth": 0,
             "ticks": ""
            },
            "colorscale": [
             [
              0,
              "#0d0887"
             ],
             [
              0.1111111111111111,
              "#46039f"
             ],
             [
              0.2222222222222222,
              "#7201a8"
             ],
             [
              0.3333333333333333,
              "#9c179e"
             ],
             [
              0.4444444444444444,
              "#bd3786"
             ],
             [
              0.5555555555555556,
              "#d8576b"
             ],
             [
              0.6666666666666666,
              "#ed7953"
             ],
             [
              0.7777777777777778,
              "#fb9f3a"
             ],
             [
              0.8888888888888888,
              "#fdca26"
             ],
             [
              1,
              "#f0f921"
             ]
            ],
            "type": "heatmap"
           }
          ],
          "heatmapgl": [
           {
            "colorbar": {
             "outlinewidth": 0,
             "ticks": ""
            },
            "colorscale": [
             [
              0,
              "#0d0887"
             ],
             [
              0.1111111111111111,
              "#46039f"
             ],
             [
              0.2222222222222222,
              "#7201a8"
             ],
             [
              0.3333333333333333,
              "#9c179e"
             ],
             [
              0.4444444444444444,
              "#bd3786"
             ],
             [
              0.5555555555555556,
              "#d8576b"
             ],
             [
              0.6666666666666666,
              "#ed7953"
             ],
             [
              0.7777777777777778,
              "#fb9f3a"
             ],
             [
              0.8888888888888888,
              "#fdca26"
             ],
             [
              1,
              "#f0f921"
             ]
            ],
            "type": "heatmapgl"
           }
          ],
          "histogram": [
           {
            "marker": {
             "pattern": {
              "fillmode": "overlay",
              "size": 10,
              "solidity": 0.2
             }
            },
            "type": "histogram"
           }
          ],
          "histogram2d": [
           {
            "colorbar": {
             "outlinewidth": 0,
             "ticks": ""
            },
            "colorscale": [
             [
              0,
              "#0d0887"
             ],
             [
              0.1111111111111111,
              "#46039f"
             ],
             [
              0.2222222222222222,
              "#7201a8"
             ],
             [
              0.3333333333333333,
              "#9c179e"
             ],
             [
              0.4444444444444444,
              "#bd3786"
             ],
             [
              0.5555555555555556,
              "#d8576b"
             ],
             [
              0.6666666666666666,
              "#ed7953"
             ],
             [
              0.7777777777777778,
              "#fb9f3a"
             ],
             [
              0.8888888888888888,
              "#fdca26"
             ],
             [
              1,
              "#f0f921"
             ]
            ],
            "type": "histogram2d"
           }
          ],
          "histogram2dcontour": [
           {
            "colorbar": {
             "outlinewidth": 0,
             "ticks": ""
            },
            "colorscale": [
             [
              0,
              "#0d0887"
             ],
             [
              0.1111111111111111,
              "#46039f"
             ],
             [
              0.2222222222222222,
              "#7201a8"
             ],
             [
              0.3333333333333333,
              "#9c179e"
             ],
             [
              0.4444444444444444,
              "#bd3786"
             ],
             [
              0.5555555555555556,
              "#d8576b"
             ],
             [
              0.6666666666666666,
              "#ed7953"
             ],
             [
              0.7777777777777778,
              "#fb9f3a"
             ],
             [
              0.8888888888888888,
              "#fdca26"
             ],
             [
              1,
              "#f0f921"
             ]
            ],
            "type": "histogram2dcontour"
           }
          ],
          "mesh3d": [
           {
            "colorbar": {
             "outlinewidth": 0,
             "ticks": ""
            },
            "type": "mesh3d"
           }
          ],
          "parcoords": [
           {
            "line": {
             "colorbar": {
              "outlinewidth": 0,
              "ticks": ""
             }
            },
            "type": "parcoords"
           }
          ],
          "pie": [
           {
            "automargin": true,
            "type": "pie"
           }
          ],
          "scatter": [
           {
            "marker": {
             "colorbar": {
              "outlinewidth": 0,
              "ticks": ""
             }
            },
            "type": "scatter"
           }
          ],
          "scatter3d": [
           {
            "line": {
             "colorbar": {
              "outlinewidth": 0,
              "ticks": ""
             }
            },
            "marker": {
             "colorbar": {
              "outlinewidth": 0,
              "ticks": ""
             }
            },
            "type": "scatter3d"
           }
          ],
          "scattercarpet": [
           {
            "marker": {
             "colorbar": {
              "outlinewidth": 0,
              "ticks": ""
             }
            },
            "type": "scattercarpet"
           }
          ],
          "scattergeo": [
           {
            "marker": {
             "colorbar": {
              "outlinewidth": 0,
              "ticks": ""
             }
            },
            "type": "scattergeo"
           }
          ],
          "scattergl": [
           {
            "marker": {
             "colorbar": {
              "outlinewidth": 0,
              "ticks": ""
             }
            },
            "type": "scattergl"
           }
          ],
          "scattermapbox": [
           {
            "marker": {
             "colorbar": {
              "outlinewidth": 0,
              "ticks": ""
             }
            },
            "type": "scattermapbox"
           }
          ],
          "scatterpolar": [
           {
            "marker": {
             "colorbar": {
              "outlinewidth": 0,
              "ticks": ""
             }
            },
            "type": "scatterpolar"
           }
          ],
          "scatterpolargl": [
           {
            "marker": {
             "colorbar": {
              "outlinewidth": 0,
              "ticks": ""
             }
            },
            "type": "scatterpolargl"
           }
          ],
          "scatterternary": [
           {
            "marker": {
             "colorbar": {
              "outlinewidth": 0,
              "ticks": ""
             }
            },
            "type": "scatterternary"
           }
          ],
          "surface": [
           {
            "colorbar": {
             "outlinewidth": 0,
             "ticks": ""
            },
            "colorscale": [
             [
              0,
              "#0d0887"
             ],
             [
              0.1111111111111111,
              "#46039f"
             ],
             [
              0.2222222222222222,
              "#7201a8"
             ],
             [
              0.3333333333333333,
              "#9c179e"
             ],
             [
              0.4444444444444444,
              "#bd3786"
             ],
             [
              0.5555555555555556,
              "#d8576b"
             ],
             [
              0.6666666666666666,
              "#ed7953"
             ],
             [
              0.7777777777777778,
              "#fb9f3a"
             ],
             [
              0.8888888888888888,
              "#fdca26"
             ],
             [
              1,
              "#f0f921"
             ]
            ],
            "type": "surface"
           }
          ],
          "table": [
           {
            "cells": {
             "fill": {
              "color": "#EBF0F8"
             },
             "line": {
              "color": "white"
             }
            },
            "header": {
             "fill": {
              "color": "#C8D4E3"
             },
             "line": {
              "color": "white"
             }
            },
            "type": "table"
           }
          ]
         },
         "layout": {
          "annotationdefaults": {
           "arrowcolor": "#2a3f5f",
           "arrowhead": 0,
           "arrowwidth": 1
          },
          "autotypenumbers": "strict",
          "coloraxis": {
           "colorbar": {
            "outlinewidth": 0,
            "ticks": ""
           }
          },
          "colorscale": {
           "diverging": [
            [
             0,
             "#8e0152"
            ],
            [
             0.1,
             "#c51b7d"
            ],
            [
             0.2,
             "#de77ae"
            ],
            [
             0.3,
             "#f1b6da"
            ],
            [
             0.4,
             "#fde0ef"
            ],
            [
             0.5,
             "#f7f7f7"
            ],
            [
             0.6,
             "#e6f5d0"
            ],
            [
             0.7,
             "#b8e186"
            ],
            [
             0.8,
             "#7fbc41"
            ],
            [
             0.9,
             "#4d9221"
            ],
            [
             1,
             "#276419"
            ]
           ],
           "sequential": [
            [
             0,
             "#0d0887"
            ],
            [
             0.1111111111111111,
             "#46039f"
            ],
            [
             0.2222222222222222,
             "#7201a8"
            ],
            [
             0.3333333333333333,
             "#9c179e"
            ],
            [
             0.4444444444444444,
             "#bd3786"
            ],
            [
             0.5555555555555556,
             "#d8576b"
            ],
            [
             0.6666666666666666,
             "#ed7953"
            ],
            [
             0.7777777777777778,
             "#fb9f3a"
            ],
            [
             0.8888888888888888,
             "#fdca26"
            ],
            [
             1,
             "#f0f921"
            ]
           ],
           "sequentialminus": [
            [
             0,
             "#0d0887"
            ],
            [
             0.1111111111111111,
             "#46039f"
            ],
            [
             0.2222222222222222,
             "#7201a8"
            ],
            [
             0.3333333333333333,
             "#9c179e"
            ],
            [
             0.4444444444444444,
             "#bd3786"
            ],
            [
             0.5555555555555556,
             "#d8576b"
            ],
            [
             0.6666666666666666,
             "#ed7953"
            ],
            [
             0.7777777777777778,
             "#fb9f3a"
            ],
            [
             0.8888888888888888,
             "#fdca26"
            ],
            [
             1,
             "#f0f921"
            ]
           ]
          },
          "colorway": [
           "#636efa",
           "#EF553B",
           "#00cc96",
           "#ab63fa",
           "#FFA15A",
           "#19d3f3",
           "#FF6692",
           "#B6E880",
           "#FF97FF",
           "#FECB52"
          ],
          "font": {
           "color": "#2a3f5f"
          },
          "geo": {
           "bgcolor": "white",
           "lakecolor": "white",
           "landcolor": "#E5ECF6",
           "showlakes": true,
           "showland": true,
           "subunitcolor": "white"
          },
          "hoverlabel": {
           "align": "left"
          },
          "hovermode": "closest",
          "mapbox": {
           "style": "light"
          },
          "paper_bgcolor": "white",
          "plot_bgcolor": "#E5ECF6",
          "polar": {
           "angularaxis": {
            "gridcolor": "white",
            "linecolor": "white",
            "ticks": ""
           },
           "bgcolor": "#E5ECF6",
           "radialaxis": {
            "gridcolor": "white",
            "linecolor": "white",
            "ticks": ""
           }
          },
          "scene": {
           "xaxis": {
            "backgroundcolor": "#E5ECF6",
            "gridcolor": "white",
            "gridwidth": 2,
            "linecolor": "white",
            "showbackground": true,
            "ticks": "",
            "zerolinecolor": "white"
           },
           "yaxis": {
            "backgroundcolor": "#E5ECF6",
            "gridcolor": "white",
            "gridwidth": 2,
            "linecolor": "white",
            "showbackground": true,
            "ticks": "",
            "zerolinecolor": "white"
           },
           "zaxis": {
            "backgroundcolor": "#E5ECF6",
            "gridcolor": "white",
            "gridwidth": 2,
            "linecolor": "white",
            "showbackground": true,
            "ticks": "",
            "zerolinecolor": "white"
           }
          },
          "shapedefaults": {
           "line": {
            "color": "#2a3f5f"
           }
          },
          "ternary": {
           "aaxis": {
            "gridcolor": "white",
            "linecolor": "white",
            "ticks": ""
           },
           "baxis": {
            "gridcolor": "white",
            "linecolor": "white",
            "ticks": ""
           },
           "bgcolor": "#E5ECF6",
           "caxis": {
            "gridcolor": "white",
            "linecolor": "white",
            "ticks": ""
           }
          },
          "title": {
           "x": 0.05
          },
          "xaxis": {
           "automargin": true,
           "gridcolor": "white",
           "linecolor": "white",
           "ticks": "",
           "title": {
            "standoff": 15
           },
           "zerolinecolor": "white",
           "zerolinewidth": 2
          },
          "yaxis": {
           "automargin": true,
           "gridcolor": "white",
           "linecolor": "white",
           "ticks": "",
           "title": {
            "standoff": 15
           },
           "zerolinecolor": "white",
           "zerolinewidth": 2
          }
         }
        },
        "title": {
         "text": "Salary vs Experience level"
        },
        "xaxis": {
         "anchor": "y",
         "categoryarray": [
          "MI",
          "SE",
          "EN",
          "EX"
         ],
         "categoryorder": "array",
         "domain": [
          0,
          1
         ],
         "title": {
          "text": "Experience Level"
         }
        },
        "yaxis": {
         "anchor": "x",
         "domain": [
          0,
          1
         ],
         "title": {
          "text": "Salary in USD"
         }
        }
       }
      },
      "text/html": [
       "<div>                            <div id=\"c91a8b05-6a51-4c88-9ea8-600845a01468\" class=\"plotly-graph-div\" style=\"height:525px; width:100%;\"></div>            <script type=\"text/javascript\">                require([\"plotly\"], function(Plotly) {                    window.PLOTLYENV=window.PLOTLYENV || {};                                    if (document.getElementById(\"c91a8b05-6a51-4c88-9ea8-600845a01468\")) {                    Plotly.newPlot(                        \"c91a8b05-6a51-4c88-9ea8-600845a01468\",                        [{\"alignmentgroup\":\"True\",\"hovertemplate\":\"experience_level=%{x}<br>salary_in_usd=%{y}<extra></extra>\",\"legendgroup\":\"MI\",\"marker\":{\"color\":\"rgb(229, 134, 6)\"},\"name\":\"MI\",\"notched\":false,\"offsetgroup\":\"MI\",\"orientation\":\"v\",\"showlegend\":true,\"x\":[\"MI\",\"MI\",\"MI\",\"MI\",\"MI\",\"MI\",\"MI\",\"MI\",\"MI\",\"MI\",\"MI\",\"MI\",\"MI\",\"MI\",\"MI\",\"MI\",\"MI\",\"MI\",\"MI\",\"MI\",\"MI\",\"MI\",\"MI\",\"MI\",\"MI\",\"MI\",\"MI\",\"MI\",\"MI\",\"MI\",\"MI\",\"MI\",\"MI\",\"MI\",\"MI\",\"MI\",\"MI\",\"MI\",\"MI\",\"MI\",\"MI\",\"MI\",\"MI\",\"MI\",\"MI\",\"MI\",\"MI\",\"MI\",\"MI\",\"MI\",\"MI\",\"MI\",\"MI\",\"MI\",\"MI\",\"MI\",\"MI\",\"MI\",\"MI\",\"MI\",\"MI\",\"MI\",\"MI\",\"MI\",\"MI\",\"MI\",\"MI\",\"MI\",\"MI\",\"MI\",\"MI\",\"MI\",\"MI\",\"MI\",\"MI\",\"MI\",\"MI\",\"MI\",\"MI\",\"MI\",\"MI\",\"MI\",\"MI\",\"MI\",\"MI\",\"MI\",\"MI\",\"MI\",\"MI\",\"MI\",\"MI\",\"MI\",\"MI\",\"MI\",\"MI\",\"MI\",\"MI\",\"MI\",\"MI\",\"MI\",\"MI\",\"MI\",\"MI\",\"MI\",\"MI\",\"MI\",\"MI\",\"MI\",\"MI\",\"MI\",\"MI\",\"MI\",\"MI\",\"MI\",\"MI\",\"MI\",\"MI\",\"MI\",\"MI\",\"MI\",\"MI\",\"MI\",\"MI\",\"MI\",\"MI\",\"MI\",\"MI\",\"MI\",\"MI\",\"MI\",\"MI\",\"MI\",\"MI\",\"MI\",\"MI\",\"MI\",\"MI\",\"MI\",\"MI\",\"MI\",\"MI\",\"MI\",\"MI\",\"MI\",\"MI\",\"MI\",\"MI\",\"MI\",\"MI\",\"MI\",\"MI\",\"MI\",\"MI\",\"MI\",\"MI\",\"MI\",\"MI\",\"MI\",\"MI\",\"MI\",\"MI\",\"MI\",\"MI\",\"MI\",\"MI\",\"MI\",\"MI\",\"MI\",\"MI\",\"MI\",\"MI\",\"MI\",\"MI\",\"MI\",\"MI\",\"MI\",\"MI\",\"MI\",\"MI\",\"MI\",\"MI\",\"MI\",\"MI\",\"MI\",\"MI\",\"MI\",\"MI\",\"MI\",\"MI\",\"MI\",\"MI\",\"MI\",\"MI\",\"MI\",\"MI\",\"MI\",\"MI\",\"MI\",\"MI\",\"MI\",\"MI\",\"MI\",\"MI\",\"MI\",\"MI\",\"MI\",\"MI\",\"MI\",\"MI\",\"MI\",\"MI\",\"MI\",\"MI\"],\"x0\":\" \",\"xaxis\":\"x\",\"y\":[79833,20000,35735,135000,40481,87000,85000,8000,56000,43331,6072,98000,115000,59303,450000,46759,74130,103000,45760,50180,106000,112872,76958,105000,70139,38776,118000,138350,110000,130800,62726,42197,100000,5409,270000,140000,54238,47282,28476,110000,19609,89294,450000,95746,75000,36259,62000,73000,51519,187442,45391,50000,40189,200000,60000,151000,9466,38400,90000,63711,77364,135000,82500,100000,62649,90000,150000,75774,119059,423000,28369,150000,170000,82528,2859,40038,5679,22611,90734,26005,12000,4000,74000,18000,147000,61467,37825,160000,12901,20000,24823,56738,66022,90734,88654,46597,116914,33808,56256,88654,180000,110000,63810,46809,80000,110000,72212,12103,115000,93000,200000,130000,16904,25532,93150,111775,28016,112000,69741,69999,109000,51064,130000,90000,170000,150000,106260,126500,65438,39263,78526,52351,115500,167000,58000,54957,54957,124333,98158,120000,87932,117789,98158,58000,52351,71982,45807,65949,49461,78526,58894,63900,160000,112300,241000,159000,82900,49461,39263,43966,32974,87932,76940,104702,91614,65949,87932,43966,32974,98158,78526,76940,78791,120000,37236,18442,31615,58255,54957,135000,50000,183228,91614,200000,120000,100000,75000,35590,153000,32974,87425,75000,64849,157000,70912,48000,68147,122346,69336,20000,135000,78000,85000,75000,141300,102100,206699,99100,65438,45807,160000,130000,200000],\"y0\":\" \",\"yaxis\":\"y\",\"type\":\"box\"},{\"alignmentgroup\":\"True\",\"hovertemplate\":\"experience_level=%{x}<br>salary_in_usd=%{y}<extra></extra>\",\"legendgroup\":\"SE\",\"marker\":{\"color\":\"rgb(93, 105, 177)\"},\"name\":\"SE\",\"notched\":false,\"offsetgroup\":\"SE\",\"orientation\":\"v\",\"showlegend\":true,\"x\":[\"SE\",\"SE\",\"SE\",\"SE\",\"SE\",\"SE\",\"SE\",\"SE\",\"SE\",\"SE\",\"SE\",\"SE\",\"SE\",\"SE\",\"SE\",\"SE\",\"SE\",\"SE\",\"SE\",\"SE\",\"SE\",\"SE\",\"SE\",\"SE\",\"SE\",\"SE\",\"SE\",\"SE\",\"SE\",\"SE\",\"SE\",\"SE\",\"SE\",\"SE\",\"SE\",\"SE\",\"SE\",\"SE\",\"SE\",\"SE\",\"SE\",\"SE\",\"SE\",\"SE\",\"SE\",\"SE\",\"SE\",\"SE\",\"SE\",\"SE\",\"SE\",\"SE\",\"SE\",\"SE\",\"SE\",\"SE\",\"SE\",\"SE\",\"SE\",\"SE\",\"SE\",\"SE\",\"SE\",\"SE\",\"SE\",\"SE\",\"SE\",\"SE\",\"SE\",\"SE\",\"SE\",\"SE\",\"SE\",\"SE\",\"SE\",\"SE\",\"SE\",\"SE\",\"SE\",\"SE\",\"SE\",\"SE\",\"SE\",\"SE\",\"SE\",\"SE\",\"SE\",\"SE\",\"SE\",\"SE\",\"SE\",\"SE\",\"SE\",\"SE\",\"SE\",\"SE\",\"SE\",\"SE\",\"SE\",\"SE\",\"SE\",\"SE\",\"SE\",\"SE\",\"SE\",\"SE\",\"SE\",\"SE\",\"SE\",\"SE\",\"SE\",\"SE\",\"SE\",\"SE\",\"SE\",\"SE\",\"SE\",\"SE\",\"SE\",\"SE\",\"SE\",\"SE\",\"SE\",\"SE\",\"SE\",\"SE\",\"SE\",\"SE\",\"SE\",\"SE\",\"SE\",\"SE\",\"SE\",\"SE\",\"SE\",\"SE\",\"SE\",\"SE\",\"SE\",\"SE\",\"SE\",\"SE\",\"SE\",\"SE\",\"SE\",\"SE\",\"SE\",\"SE\",\"SE\",\"SE\",\"SE\",\"SE\",\"SE\",\"SE\",\"SE\",\"SE\",\"SE\",\"SE\",\"SE\",\"SE\",\"SE\",\"SE\",\"SE\",\"SE\",\"SE\",\"SE\",\"SE\",\"SE\",\"SE\",\"SE\",\"SE\",\"SE\",\"SE\",\"SE\",\"SE\",\"SE\",\"SE\",\"SE\",\"SE\",\"SE\",\"SE\",\"SE\",\"SE\",\"SE\",\"SE\",\"SE\",\"SE\",\"SE\",\"SE\",\"SE\",\"SE\",\"SE\",\"SE\",\"SE\",\"SE\",\"SE\",\"SE\",\"SE\",\"SE\",\"SE\",\"SE\",\"SE\",\"SE\",\"SE\",\"SE\",\"SE\",\"SE\",\"SE\",\"SE\",\"SE\",\"SE\",\"SE\",\"SE\",\"SE\",\"SE\",\"SE\",\"SE\",\"SE\",\"SE\",\"SE\",\"SE\",\"SE\",\"SE\",\"SE\",\"SE\",\"SE\",\"SE\",\"SE\",\"SE\",\"SE\",\"SE\",\"SE\",\"SE\",\"SE\",\"SE\",\"SE\",\"SE\",\"SE\",\"SE\",\"SE\",\"SE\",\"SE\",\"SE\",\"SE\",\"SE\",\"SE\",\"SE\",\"SE\",\"SE\",\"SE\",\"SE\",\"SE\",\"SE\",\"SE\",\"SE\",\"SE\",\"SE\",\"SE\",\"SE\",\"SE\",\"SE\",\"SE\",\"SE\",\"SE\",\"SE\",\"SE\",\"SE\",\"SE\",\"SE\",\"SE\",\"SE\",\"SE\",\"SE\",\"SE\",\"SE\",\"SE\",\"SE\",\"SE\",\"SE\",\"SE\"],\"x0\":\" \",\"xaxis\":\"x\",\"y\":[260000,109024,150000,190000,125000,114047,47899,33511,117104,68428,188000,60000,148261,120000,412000,45618,190200,91237,53192,79197,170000,80000,88654,276000,150000,115000,150000,94564,113476,103160,200000,120000,40570,24000,220000,240000,150000,82744,153000,160000,168000,144000,127221,120000,165000,235000,60757,174000,61896,50000,76833,152000,174000,96113,24342,54094,195000,50000,200000,165000,120000,185000,140000,225000,87738,135000,71786,256000,200000,200000,103691,165000,96282,170000,99703,173762,185000,63831,66265,160000,18907,77684,55000,20171,105000,94665,102839,135000,155000,120600,102100,84900,136620,99360,117789,104702,146000,123000,99000,116000,165220,120160,90320,181940,132320,220110,160080,180000,120000,124190,170000,112900,90320,112900,90320,165400,132320,243900,136600,109280,128875,93700,156600,108800,95550,113000,135000,161342,137141,167000,123000,78526,65438,150000,211500,192400,90700,130000,61300,130000,61300,160000,138600,136000,170000,123000,189650,164996,132000,165400,208775,147800,136994,101570,128875,93700,132320,164000,155000,112900,90320,145000,105400,215300,158200,209100,154600,115934,81666,175000,183600,180000,260000,60000,180000,80000,100800,140400,189650,164996,215300,209100,154600,180000,80000,105000,87932,162674,144000,104890,100000,140000,220000,140000,185100,220000,120000,65000,210000,120000,230000,200000,78791,100000,165000,93427,62651,115000,71444,152500,380000,405000,177000,135000,100000,90320,214000,192600,266400,213120,112900,155000,115934,81666,130000,115000,110500,130000,99050,160000,205300,140400,176000,144000,200100,160000,145000,70500,205300,140400,205300,184700,175100,140250,116150,54000,170000,80000,140000,210000,140000,100000,69000,210000,140000,210000,150075,100000,25000,126500,106260,220110,160080,105000,110925,140000,99000,60000,192564,144854,230000,150000,150260,109280,210000,170000,154000,126000,129000,150000],\"y0\":\" \",\"yaxis\":\"y\",\"type\":\"box\"},{\"alignmentgroup\":\"True\",\"hovertemplate\":\"experience_level=%{x}<br>salary_in_usd=%{y}<extra></extra>\",\"legendgroup\":\"EN\",\"marker\":{\"color\":\"rgb(82, 188, 163)\"},\"name\":\"EN\",\"notched\":false,\"offsetgroup\":\"EN\",\"orientation\":\"v\",\"showlegend\":true,\"x\":[\"EN\",\"EN\",\"EN\",\"EN\",\"EN\",\"EN\",\"EN\",\"EN\",\"EN\",\"EN\",\"EN\",\"EN\",\"EN\",\"EN\",\"EN\",\"EN\",\"EN\",\"EN\",\"EN\",\"EN\",\"EN\",\"EN\",\"EN\",\"EN\",\"EN\",\"EN\",\"EN\",\"EN\",\"EN\",\"EN\",\"EN\",\"EN\",\"EN\",\"EN\",\"EN\",\"EN\",\"EN\",\"EN\",\"EN\",\"EN\",\"EN\",\"EN\",\"EN\",\"EN\",\"EN\",\"EN\",\"EN\",\"EN\",\"EN\",\"EN\",\"EN\",\"EN\",\"EN\",\"EN\",\"EN\",\"EN\",\"EN\",\"EN\",\"EN\",\"EN\",\"EN\",\"EN\",\"EN\",\"EN\",\"EN\",\"EN\",\"EN\",\"EN\",\"EN\",\"EN\",\"EN\",\"EN\",\"EN\",\"EN\",\"EN\",\"EN\",\"EN\",\"EN\",\"EN\",\"EN\",\"EN\",\"EN\",\"EN\",\"EN\",\"EN\",\"EN\",\"EN\",\"EN\"],\"x0\":\" \",\"xaxis\":\"x\",\"y\":[72000,51321,39916,41689,5707,42000,100000,70000,250000,10000,138000,15966,6072,91000,45896,54742,21669,62726,49268,105000,82528,80000,59102,76833,29751,12000,70000,30428,12000,225000,90000,50000,110037,10354,20000,100000,49646,100000,80000,13400,125000,63831,80000,55000,60000,81000,21844,9272,90000,5882,24823,28609,16228,4000,21637,18053,36643,90000,28399,65013,72500,76833,85000,100000,58000,59102,100000,52351,45807,37300,21983,125000,100000,18442,120000,100000,31875,58035,52396,40000,86703,120000,150000,65000,20000,10000,67000,52000],\"y0\":\" \",\"yaxis\":\"y\",\"type\":\"box\"},{\"alignmentgroup\":\"True\",\"hovertemplate\":\"experience_level=%{x}<br>salary_in_usd=%{y}<extra></extra>\",\"legendgroup\":\"EX\",\"marker\":{\"color\":\"rgb(153, 201, 69)\"},\"name\":\"EX\",\"notched\":false,\"offsetgroup\":\"EX\",\"orientation\":\"v\",\"showlegend\":true,\"x\":[\"EX\",\"EX\",\"EX\",\"EX\",\"EX\",\"EX\",\"EX\",\"EX\",\"EX\",\"EX\",\"EX\",\"EX\",\"EX\",\"EX\",\"EX\",\"EX\",\"EX\",\"EX\",\"EX\",\"EX\",\"EX\",\"EX\",\"EX\",\"EX\",\"EX\",\"EX\"],\"x0\":\" \",\"xaxis\":\"x\",\"y\":[325000,79833,150000,235000,153667,230000,85000,130026,250000,69741,416000,600000,141846,242000,200000,130000,110000,224000,167875,175000,135000,118187,79039,196979,324000,216000],\"y0\":\" \",\"yaxis\":\"y\",\"type\":\"box\"}],                        {\"template\":{\"data\":{\"bar\":[{\"error_x\":{\"color\":\"#2a3f5f\"},\"error_y\":{\"color\":\"#2a3f5f\"},\"marker\":{\"line\":{\"color\":\"#E5ECF6\",\"width\":0.5},\"pattern\":{\"fillmode\":\"overlay\",\"size\":10,\"solidity\":0.2}},\"type\":\"bar\"}],\"barpolar\":[{\"marker\":{\"line\":{\"color\":\"#E5ECF6\",\"width\":0.5},\"pattern\":{\"fillmode\":\"overlay\",\"size\":10,\"solidity\":0.2}},\"type\":\"barpolar\"}],\"carpet\":[{\"aaxis\":{\"endlinecolor\":\"#2a3f5f\",\"gridcolor\":\"white\",\"linecolor\":\"white\",\"minorgridcolor\":\"white\",\"startlinecolor\":\"#2a3f5f\"},\"baxis\":{\"endlinecolor\":\"#2a3f5f\",\"gridcolor\":\"white\",\"linecolor\":\"white\",\"minorgridcolor\":\"white\",\"startlinecolor\":\"#2a3f5f\"},\"type\":\"carpet\"}],\"choropleth\":[{\"colorbar\":{\"outlinewidth\":0,\"ticks\":\"\"},\"type\":\"choropleth\"}],\"contour\":[{\"colorbar\":{\"outlinewidth\":0,\"ticks\":\"\"},\"colorscale\":[[0.0,\"#0d0887\"],[0.1111111111111111,\"#46039f\"],[0.2222222222222222,\"#7201a8\"],[0.3333333333333333,\"#9c179e\"],[0.4444444444444444,\"#bd3786\"],[0.5555555555555556,\"#d8576b\"],[0.6666666666666666,\"#ed7953\"],[0.7777777777777778,\"#fb9f3a\"],[0.8888888888888888,\"#fdca26\"],[1.0,\"#f0f921\"]],\"type\":\"contour\"}],\"contourcarpet\":[{\"colorbar\":{\"outlinewidth\":0,\"ticks\":\"\"},\"type\":\"contourcarpet\"}],\"heatmap\":[{\"colorbar\":{\"outlinewidth\":0,\"ticks\":\"\"},\"colorscale\":[[0.0,\"#0d0887\"],[0.1111111111111111,\"#46039f\"],[0.2222222222222222,\"#7201a8\"],[0.3333333333333333,\"#9c179e\"],[0.4444444444444444,\"#bd3786\"],[0.5555555555555556,\"#d8576b\"],[0.6666666666666666,\"#ed7953\"],[0.7777777777777778,\"#fb9f3a\"],[0.8888888888888888,\"#fdca26\"],[1.0,\"#f0f921\"]],\"type\":\"heatmap\"}],\"heatmapgl\":[{\"colorbar\":{\"outlinewidth\":0,\"ticks\":\"\"},\"colorscale\":[[0.0,\"#0d0887\"],[0.1111111111111111,\"#46039f\"],[0.2222222222222222,\"#7201a8\"],[0.3333333333333333,\"#9c179e\"],[0.4444444444444444,\"#bd3786\"],[0.5555555555555556,\"#d8576b\"],[0.6666666666666666,\"#ed7953\"],[0.7777777777777778,\"#fb9f3a\"],[0.8888888888888888,\"#fdca26\"],[1.0,\"#f0f921\"]],\"type\":\"heatmapgl\"}],\"histogram\":[{\"marker\":{\"pattern\":{\"fillmode\":\"overlay\",\"size\":10,\"solidity\":0.2}},\"type\":\"histogram\"}],\"histogram2d\":[{\"colorbar\":{\"outlinewidth\":0,\"ticks\":\"\"},\"colorscale\":[[0.0,\"#0d0887\"],[0.1111111111111111,\"#46039f\"],[0.2222222222222222,\"#7201a8\"],[0.3333333333333333,\"#9c179e\"],[0.4444444444444444,\"#bd3786\"],[0.5555555555555556,\"#d8576b\"],[0.6666666666666666,\"#ed7953\"],[0.7777777777777778,\"#fb9f3a\"],[0.8888888888888888,\"#fdca26\"],[1.0,\"#f0f921\"]],\"type\":\"histogram2d\"}],\"histogram2dcontour\":[{\"colorbar\":{\"outlinewidth\":0,\"ticks\":\"\"},\"colorscale\":[[0.0,\"#0d0887\"],[0.1111111111111111,\"#46039f\"],[0.2222222222222222,\"#7201a8\"],[0.3333333333333333,\"#9c179e\"],[0.4444444444444444,\"#bd3786\"],[0.5555555555555556,\"#d8576b\"],[0.6666666666666666,\"#ed7953\"],[0.7777777777777778,\"#fb9f3a\"],[0.8888888888888888,\"#fdca26\"],[1.0,\"#f0f921\"]],\"type\":\"histogram2dcontour\"}],\"mesh3d\":[{\"colorbar\":{\"outlinewidth\":0,\"ticks\":\"\"},\"type\":\"mesh3d\"}],\"parcoords\":[{\"line\":{\"colorbar\":{\"outlinewidth\":0,\"ticks\":\"\"}},\"type\":\"parcoords\"}],\"pie\":[{\"automargin\":true,\"type\":\"pie\"}],\"scatter\":[{\"marker\":{\"colorbar\":{\"outlinewidth\":0,\"ticks\":\"\"}},\"type\":\"scatter\"}],\"scatter3d\":[{\"line\":{\"colorbar\":{\"outlinewidth\":0,\"ticks\":\"\"}},\"marker\":{\"colorbar\":{\"outlinewidth\":0,\"ticks\":\"\"}},\"type\":\"scatter3d\"}],\"scattercarpet\":[{\"marker\":{\"colorbar\":{\"outlinewidth\":0,\"ticks\":\"\"}},\"type\":\"scattercarpet\"}],\"scattergeo\":[{\"marker\":{\"colorbar\":{\"outlinewidth\":0,\"ticks\":\"\"}},\"type\":\"scattergeo\"}],\"scattergl\":[{\"marker\":{\"colorbar\":{\"outlinewidth\":0,\"ticks\":\"\"}},\"type\":\"scattergl\"}],\"scattermapbox\":[{\"marker\":{\"colorbar\":{\"outlinewidth\":0,\"ticks\":\"\"}},\"type\":\"scattermapbox\"}],\"scatterpolar\":[{\"marker\":{\"colorbar\":{\"outlinewidth\":0,\"ticks\":\"\"}},\"type\":\"scatterpolar\"}],\"scatterpolargl\":[{\"marker\":{\"colorbar\":{\"outlinewidth\":0,\"ticks\":\"\"}},\"type\":\"scatterpolargl\"}],\"scatterternary\":[{\"marker\":{\"colorbar\":{\"outlinewidth\":0,\"ticks\":\"\"}},\"type\":\"scatterternary\"}],\"surface\":[{\"colorbar\":{\"outlinewidth\":0,\"ticks\":\"\"},\"colorscale\":[[0.0,\"#0d0887\"],[0.1111111111111111,\"#46039f\"],[0.2222222222222222,\"#7201a8\"],[0.3333333333333333,\"#9c179e\"],[0.4444444444444444,\"#bd3786\"],[0.5555555555555556,\"#d8576b\"],[0.6666666666666666,\"#ed7953\"],[0.7777777777777778,\"#fb9f3a\"],[0.8888888888888888,\"#fdca26\"],[1.0,\"#f0f921\"]],\"type\":\"surface\"}],\"table\":[{\"cells\":{\"fill\":{\"color\":\"#EBF0F8\"},\"line\":{\"color\":\"white\"}},\"header\":{\"fill\":{\"color\":\"#C8D4E3\"},\"line\":{\"color\":\"white\"}},\"type\":\"table\"}]},\"layout\":{\"annotationdefaults\":{\"arrowcolor\":\"#2a3f5f\",\"arrowhead\":0,\"arrowwidth\":1},\"autotypenumbers\":\"strict\",\"coloraxis\":{\"colorbar\":{\"outlinewidth\":0,\"ticks\":\"\"}},\"colorscale\":{\"diverging\":[[0,\"#8e0152\"],[0.1,\"#c51b7d\"],[0.2,\"#de77ae\"],[0.3,\"#f1b6da\"],[0.4,\"#fde0ef\"],[0.5,\"#f7f7f7\"],[0.6,\"#e6f5d0\"],[0.7,\"#b8e186\"],[0.8,\"#7fbc41\"],[0.9,\"#4d9221\"],[1,\"#276419\"]],\"sequential\":[[0.0,\"#0d0887\"],[0.1111111111111111,\"#46039f\"],[0.2222222222222222,\"#7201a8\"],[0.3333333333333333,\"#9c179e\"],[0.4444444444444444,\"#bd3786\"],[0.5555555555555556,\"#d8576b\"],[0.6666666666666666,\"#ed7953\"],[0.7777777777777778,\"#fb9f3a\"],[0.8888888888888888,\"#fdca26\"],[1.0,\"#f0f921\"]],\"sequentialminus\":[[0.0,\"#0d0887\"],[0.1111111111111111,\"#46039f\"],[0.2222222222222222,\"#7201a8\"],[0.3333333333333333,\"#9c179e\"],[0.4444444444444444,\"#bd3786\"],[0.5555555555555556,\"#d8576b\"],[0.6666666666666666,\"#ed7953\"],[0.7777777777777778,\"#fb9f3a\"],[0.8888888888888888,\"#fdca26\"],[1.0,\"#f0f921\"]]},\"colorway\":[\"#636efa\",\"#EF553B\",\"#00cc96\",\"#ab63fa\",\"#FFA15A\",\"#19d3f3\",\"#FF6692\",\"#B6E880\",\"#FF97FF\",\"#FECB52\"],\"font\":{\"color\":\"#2a3f5f\"},\"geo\":{\"bgcolor\":\"white\",\"lakecolor\":\"white\",\"landcolor\":\"#E5ECF6\",\"showlakes\":true,\"showland\":true,\"subunitcolor\":\"white\"},\"hoverlabel\":{\"align\":\"left\"},\"hovermode\":\"closest\",\"mapbox\":{\"style\":\"light\"},\"paper_bgcolor\":\"white\",\"plot_bgcolor\":\"#E5ECF6\",\"polar\":{\"angularaxis\":{\"gridcolor\":\"white\",\"linecolor\":\"white\",\"ticks\":\"\"},\"bgcolor\":\"#E5ECF6\",\"radialaxis\":{\"gridcolor\":\"white\",\"linecolor\":\"white\",\"ticks\":\"\"}},\"scene\":{\"xaxis\":{\"backgroundcolor\":\"#E5ECF6\",\"gridcolor\":\"white\",\"gridwidth\":2,\"linecolor\":\"white\",\"showbackground\":true,\"ticks\":\"\",\"zerolinecolor\":\"white\"},\"yaxis\":{\"backgroundcolor\":\"#E5ECF6\",\"gridcolor\":\"white\",\"gridwidth\":2,\"linecolor\":\"white\",\"showbackground\":true,\"ticks\":\"\",\"zerolinecolor\":\"white\"},\"zaxis\":{\"backgroundcolor\":\"#E5ECF6\",\"gridcolor\":\"white\",\"gridwidth\":2,\"linecolor\":\"white\",\"showbackground\":true,\"ticks\":\"\",\"zerolinecolor\":\"white\"}},\"shapedefaults\":{\"line\":{\"color\":\"#2a3f5f\"}},\"ternary\":{\"aaxis\":{\"gridcolor\":\"white\",\"linecolor\":\"white\",\"ticks\":\"\"},\"baxis\":{\"gridcolor\":\"white\",\"linecolor\":\"white\",\"ticks\":\"\"},\"bgcolor\":\"#E5ECF6\",\"caxis\":{\"gridcolor\":\"white\",\"linecolor\":\"white\",\"ticks\":\"\"}},\"title\":{\"x\":0.05},\"xaxis\":{\"automargin\":true,\"gridcolor\":\"white\",\"linecolor\":\"white\",\"ticks\":\"\",\"title\":{\"standoff\":15},\"zerolinecolor\":\"white\",\"zerolinewidth\":2},\"yaxis\":{\"automargin\":true,\"gridcolor\":\"white\",\"linecolor\":\"white\",\"ticks\":\"\",\"title\":{\"standoff\":15},\"zerolinecolor\":\"white\",\"zerolinewidth\":2}}},\"xaxis\":{\"anchor\":\"y\",\"domain\":[0.0,1.0],\"title\":{\"text\":\"Experience Level\"},\"categoryorder\":\"array\",\"categoryarray\":[\"MI\",\"SE\",\"EN\",\"EX\"]},\"yaxis\":{\"anchor\":\"x\",\"domain\":[0.0,1.0],\"title\":{\"text\":\"Salary in USD\"}},\"legend\":{\"title\":{\"text\":\"experience_level\"},\"tracegroupgap\":0},\"title\":{\"text\":\"Salary vs Experience level\"},\"boxmode\":\"overlay\"},                        {\"responsive\": true}                    ).then(function(){\n",
       "                            \n",
       "var gd = document.getElementById('c91a8b05-6a51-4c88-9ea8-600845a01468');\n",
       "var x = new MutationObserver(function (mutations, observer) {{\n",
       "        var display = window.getComputedStyle(gd).display;\n",
       "        if (!display || display === 'none') {{\n",
       "            console.log([gd, 'removed!']);\n",
       "            Plotly.purge(gd);\n",
       "            observer.disconnect();\n",
       "        }}\n",
       "}});\n",
       "\n",
       "// Listen for the removal of the full notebook cells\n",
       "var notebookContainer = gd.closest('#notebook-container');\n",
       "if (notebookContainer) {{\n",
       "    x.observe(notebookContainer, {childList: true});\n",
       "}}\n",
       "\n",
       "// Listen for the clearing of the current output cell\n",
       "var outputEl = gd.closest('.output');\n",
       "if (outputEl) {{\n",
       "    x.observe(outputEl, {childList: true});\n",
       "}}\n",
       "\n",
       "                        })                };                });            </script>        </div>"
      ]
     },
     "metadata": {},
     "output_type": "display_data"
    }
   ],
   "source": [
    "fig = px.box(dsjobs, x=\"experience_level\", y=\"salary_in_usd\",\n",
    "            title = 'Salary vs Experience level', color = 'experience_level',\n",
    "            color_discrete_sequence=px.colors.qualitative.Vivid)\n",
    "fig.update_layout(xaxis_title=\"Experience Level\", yaxis_title=\"Salary in USD\")\n",
    "fig.show()"
   ]
  },
  {
   "cell_type": "markdown",
   "metadata": {},
   "source": [
    "#### Naturally, it can be seen that more the experience, better you get paid for it. However, at highest executive level, the salaries various much more as compared to other levels."
   ]
  },
  {
   "cell_type": "markdown",
   "metadata": {},
   "source": [
    "### Comparing salaries of Data scientist jobs based on Employment type."
   ]
  },
  {
   "cell_type": "code",
   "execution_count": 61,
   "metadata": {},
   "outputs": [
    {
     "data": {
      "application/vnd.plotly.v1+json": {
       "config": {
        "plotlyServerURL": "https://plot.ly"
       },
       "data": [
        {
         "alignmentgroup": "True",
         "hovertemplate": "employment_type=%{x}<br>salary_in_usd=%{y}<extra></extra>",
         "legendgroup": "FT",
         "marker": {
          "color": "#0d0887"
         },
         "name": "FT",
         "notched": false,
         "offsetgroup": "FT",
         "orientation": "v",
         "showlegend": true,
         "type": "box",
         "x": [
          "FT",
          "FT",
          "FT",
          "FT",
          "FT",
          "FT",
          "FT",
          "FT",
          "FT",
          "FT",
          "FT",
          "FT",
          "FT",
          "FT",
          "FT",
          "FT",
          "FT",
          "FT",
          "FT",
          "FT",
          "FT",
          "FT",
          "FT",
          "FT",
          "FT",
          "FT",
          "FT",
          "FT",
          "FT",
          "FT",
          "FT",
          "FT",
          "FT",
          "FT",
          "FT",
          "FT",
          "FT",
          "FT",
          "FT",
          "FT",
          "FT",
          "FT",
          "FT",
          "FT",
          "FT",
          "FT",
          "FT",
          "FT",
          "FT",
          "FT",
          "FT",
          "FT",
          "FT",
          "FT",
          "FT",
          "FT",
          "FT",
          "FT",
          "FT",
          "FT",
          "FT",
          "FT",
          "FT",
          "FT",
          "FT",
          "FT",
          "FT",
          "FT",
          "FT",
          "FT",
          "FT",
          "FT",
          "FT",
          "FT",
          "FT",
          "FT",
          "FT",
          "FT",
          "FT",
          "FT",
          "FT",
          "FT",
          "FT",
          "FT",
          "FT",
          "FT",
          "FT",
          "FT",
          "FT",
          "FT",
          "FT",
          "FT",
          "FT",
          "FT",
          "FT",
          "FT",
          "FT",
          "FT",
          "FT",
          "FT",
          "FT",
          "FT",
          "FT",
          "FT",
          "FT",
          "FT",
          "FT",
          "FT",
          "FT",
          "FT",
          "FT",
          "FT",
          "FT",
          "FT",
          "FT",
          "FT",
          "FT",
          "FT",
          "FT",
          "FT",
          "FT",
          "FT",
          "FT",
          "FT",
          "FT",
          "FT",
          "FT",
          "FT",
          "FT",
          "FT",
          "FT",
          "FT",
          "FT",
          "FT",
          "FT",
          "FT",
          "FT",
          "FT",
          "FT",
          "FT",
          "FT",
          "FT",
          "FT",
          "FT",
          "FT",
          "FT",
          "FT",
          "FT",
          "FT",
          "FT",
          "FT",
          "FT",
          "FT",
          "FT",
          "FT",
          "FT",
          "FT",
          "FT",
          "FT",
          "FT",
          "FT",
          "FT",
          "FT",
          "FT",
          "FT",
          "FT",
          "FT",
          "FT",
          "FT",
          "FT",
          "FT",
          "FT",
          "FT",
          "FT",
          "FT",
          "FT",
          "FT",
          "FT",
          "FT",
          "FT",
          "FT",
          "FT",
          "FT",
          "FT",
          "FT",
          "FT",
          "FT",
          "FT",
          "FT",
          "FT",
          "FT",
          "FT",
          "FT",
          "FT",
          "FT",
          "FT",
          "FT",
          "FT",
          "FT",
          "FT",
          "FT",
          "FT",
          "FT",
          "FT",
          "FT",
          "FT",
          "FT",
          "FT",
          "FT",
          "FT",
          "FT",
          "FT",
          "FT",
          "FT",
          "FT",
          "FT",
          "FT",
          "FT",
          "FT",
          "FT",
          "FT",
          "FT",
          "FT",
          "FT",
          "FT",
          "FT",
          "FT",
          "FT",
          "FT",
          "FT",
          "FT",
          "FT",
          "FT",
          "FT",
          "FT",
          "FT",
          "FT",
          "FT",
          "FT",
          "FT",
          "FT",
          "FT",
          "FT",
          "FT",
          "FT",
          "FT",
          "FT",
          "FT",
          "FT",
          "FT",
          "FT",
          "FT",
          "FT",
          "FT",
          "FT",
          "FT",
          "FT",
          "FT",
          "FT",
          "FT",
          "FT",
          "FT",
          "FT",
          "FT",
          "FT",
          "FT",
          "FT",
          "FT",
          "FT",
          "FT",
          "FT",
          "FT",
          "FT",
          "FT",
          "FT",
          "FT",
          "FT",
          "FT",
          "FT",
          "FT",
          "FT",
          "FT",
          "FT",
          "FT",
          "FT",
          "FT",
          "FT",
          "FT",
          "FT",
          "FT",
          "FT",
          "FT",
          "FT",
          "FT",
          "FT",
          "FT",
          "FT",
          "FT",
          "FT",
          "FT",
          "FT",
          "FT",
          "FT",
          "FT",
          "FT",
          "FT",
          "FT",
          "FT",
          "FT",
          "FT",
          "FT",
          "FT",
          "FT",
          "FT",
          "FT",
          "FT",
          "FT",
          "FT",
          "FT",
          "FT",
          "FT",
          "FT",
          "FT",
          "FT",
          "FT",
          "FT",
          "FT",
          "FT",
          "FT",
          "FT",
          "FT",
          "FT",
          "FT",
          "FT",
          "FT",
          "FT",
          "FT",
          "FT",
          "FT",
          "FT",
          "FT",
          "FT",
          "FT",
          "FT",
          "FT",
          "FT",
          "FT",
          "FT",
          "FT",
          "FT",
          "FT",
          "FT",
          "FT",
          "FT",
          "FT",
          "FT",
          "FT",
          "FT",
          "FT",
          "FT",
          "FT",
          "FT",
          "FT",
          "FT",
          "FT",
          "FT",
          "FT",
          "FT",
          "FT",
          "FT",
          "FT",
          "FT",
          "FT",
          "FT",
          "FT",
          "FT",
          "FT",
          "FT",
          "FT",
          "FT",
          "FT",
          "FT",
          "FT",
          "FT",
          "FT",
          "FT",
          "FT",
          "FT",
          "FT",
          "FT",
          "FT",
          "FT",
          "FT",
          "FT",
          "FT",
          "FT",
          "FT",
          "FT",
          "FT",
          "FT",
          "FT",
          "FT",
          "FT",
          "FT",
          "FT",
          "FT",
          "FT",
          "FT",
          "FT",
          "FT",
          "FT",
          "FT",
          "FT",
          "FT",
          "FT",
          "FT",
          "FT",
          "FT",
          "FT",
          "FT",
          "FT",
          "FT",
          "FT",
          "FT",
          "FT",
          "FT",
          "FT",
          "FT",
          "FT",
          "FT",
          "FT",
          "FT",
          "FT",
          "FT",
          "FT",
          "FT",
          "FT",
          "FT",
          "FT",
          "FT",
          "FT",
          "FT",
          "FT",
          "FT",
          "FT",
          "FT",
          "FT",
          "FT",
          "FT",
          "FT",
          "FT",
          "FT",
          "FT",
          "FT",
          "FT",
          "FT",
          "FT",
          "FT",
          "FT",
          "FT",
          "FT",
          "FT",
          "FT",
          "FT",
          "FT",
          "FT",
          "FT",
          "FT",
          "FT",
          "FT",
          "FT",
          "FT",
          "FT",
          "FT",
          "FT",
          "FT",
          "FT",
          "FT",
          "FT",
          "FT",
          "FT",
          "FT",
          "FT",
          "FT",
          "FT",
          "FT",
          "FT",
          "FT",
          "FT",
          "FT",
          "FT",
          "FT",
          "FT",
          "FT",
          "FT",
          "FT",
          "FT",
          "FT",
          "FT",
          "FT",
          "FT",
          "FT",
          "FT",
          "FT",
          "FT",
          "FT",
          "FT",
          "FT",
          "FT",
          "FT",
          "FT",
          "FT",
          "FT",
          "FT",
          "FT",
          "FT",
          "FT",
          "FT",
          "FT",
          "FT",
          "FT",
          "FT",
          "FT",
          "FT",
          "FT",
          "FT",
          "FT",
          "FT",
          "FT",
          "FT",
          "FT",
          "FT",
          "FT",
          "FT",
          "FT",
          "FT",
          "FT",
          "FT",
          "FT",
          "FT",
          "FT",
          "FT",
          "FT",
          "FT",
          "FT",
          "FT",
          "FT",
          "FT",
          "FT",
          "FT",
          "FT",
          "FT",
          "FT",
          "FT",
          "FT",
          "FT",
          "FT",
          "FT",
          "FT",
          "FT",
          "FT",
          "FT",
          "FT",
          "FT",
          "FT",
          "FT",
          "FT",
          "FT",
          "FT",
          "FT",
          "FT",
          "FT",
          "FT",
          "FT",
          "FT",
          "FT",
          "FT",
          "FT",
          "FT",
          "FT",
          "FT",
          "FT",
          "FT",
          "FT",
          "FT",
          "FT",
          "FT",
          "FT"
         ],
         "x0": " ",
         "xaxis": "x",
         "y": [
          79833,
          260000,
          109024,
          20000,
          150000,
          72000,
          190000,
          35735,
          135000,
          125000,
          51321,
          40481,
          39916,
          87000,
          85000,
          8000,
          41689,
          114047,
          5707,
          56000,
          43331,
          6072,
          47899,
          98000,
          115000,
          325000,
          42000,
          33511,
          117104,
          59303,
          70000,
          68428,
          450000,
          46759,
          74130,
          103000,
          250000,
          10000,
          138000,
          45760,
          79833,
          50180,
          106000,
          112872,
          76958,
          188000,
          105000,
          70139,
          6072,
          91000,
          45896,
          54742,
          148261,
          38776,
          118000,
          120000,
          138350,
          110000,
          130800,
          412000,
          45618,
          62726,
          49268,
          190200,
          105000,
          91237,
          62726,
          42197,
          82528,
          150000,
          235000,
          53192,
          100000,
          80000,
          79197,
          140000,
          54238,
          47282,
          153667,
          28476,
          59102,
          110000,
          170000,
          80000,
          88654,
          76833,
          19609,
          276000,
          29751,
          89294,
          450000,
          70000,
          95746,
          75000,
          150000,
          36259,
          62000,
          73000,
          51519,
          187442,
          115000,
          150000,
          30428,
          94564,
          113476,
          103160,
          45391,
          225000,
          50000,
          40189,
          90000,
          200000,
          60000,
          200000,
          50000,
          110037,
          151000,
          120000,
          9466,
          20000,
          40570,
          100000,
          49646,
          38400,
          24000,
          100000,
          90000,
          63711,
          77364,
          220000,
          80000,
          135000,
          240000,
          150000,
          82500,
          100000,
          82744,
          62649,
          90000,
          153000,
          160000,
          168000,
          150000,
          75774,
          13400,
          144000,
          127221,
          119059,
          423000,
          120000,
          125000,
          230000,
          85000,
          28369,
          63831,
          130026,
          165000,
          80000,
          250000,
          55000,
          150000,
          170000,
          82528,
          60000,
          235000,
          60757,
          174000,
          2859,
          40038,
          81000,
          5679,
          22611,
          90734,
          26005,
          61896,
          4000,
          50000,
          69741,
          76833,
          74000,
          152000,
          21844,
          18000,
          174000,
          96113,
          147000,
          9272,
          24342,
          54094,
          90000,
          61467,
          195000,
          37825,
          50000,
          160000,
          12901,
          200000,
          165000,
          120000,
          24823,
          56738,
          66022,
          5882,
          24823,
          185000,
          90734,
          88654,
          140000,
          46597,
          116914,
          33808,
          56256,
          225000,
          87738,
          88654,
          135000,
          71786,
          16228,
          256000,
          200000,
          200000,
          180000,
          110000,
          63810,
          46809,
          4000,
          21637,
          103691,
          80000,
          110000,
          165000,
          18053,
          72212,
          36643,
          12103,
          96282,
          170000,
          115000,
          90000,
          600000,
          28399,
          93000,
          99703,
          200000,
          173762,
          185000,
          141846,
          130000,
          63831,
          16904,
          66265,
          25532,
          160000,
          93150,
          111775,
          28016,
          65013,
          72500,
          18907,
          76833,
          85000,
          77684,
          100000,
          58000,
          55000,
          20171,
          59102,
          112000,
          100000,
          69999,
          94665,
          102839,
          109000,
          51064,
          135000,
          155000,
          120600,
          130000,
          90000,
          170000,
          150000,
          102100,
          84900,
          136620,
          99360,
          117789,
          104702,
          146000,
          123000,
          52351,
          99000,
          116000,
          106260,
          126500,
          242000,
          200000,
          65438,
          39263,
          78526,
          52351,
          165220,
          45807,
          120160,
          90320,
          181940,
          132320,
          220110,
          160080,
          180000,
          120000,
          124190,
          130000,
          110000,
          170000,
          115500,
          112900,
          90320,
          112900,
          90320,
          165400,
          132320,
          167000,
          243900,
          136600,
          109280,
          128875,
          93700,
          224000,
          167875,
          175000,
          156600,
          108800,
          95550,
          113000,
          135000,
          161342,
          137141,
          167000,
          123000,
          78526,
          65438,
          150000,
          211500,
          192400,
          90700,
          130000,
          61300,
          130000,
          61300,
          160000,
          138600,
          136000,
          58000,
          135000,
          170000,
          123000,
          189650,
          164996,
          54957,
          54957,
          118187,
          132000,
          165400,
          208775,
          147800,
          136994,
          101570,
          128875,
          93700,
          79039,
          132320,
          37300,
          164000,
          155000,
          124333,
          98158,
          120000,
          112900,
          90320,
          145000,
          105400,
          87932,
          117789,
          215300,
          158200,
          209100,
          154600,
          115934,
          81666,
          175000,
          98158,
          58000,
          183600,
          52351,
          180000,
          71982,
          45807,
          65949,
          49461,
          78526,
          58894,
          260000,
          60000,
          63900,
          160000,
          112300,
          241000,
          159000,
          180000,
          80000,
          82900,
          100800,
          49461,
          140400,
          39263,
          43966,
          32974,
          87932,
          76940,
          104702,
          91614,
          65949,
          87932,
          189650,
          164996,
          43966,
          32974,
          98158,
          78526,
          215300,
          76940,
          209100,
          154600,
          180000,
          21983,
          80000,
          78791,
          196979,
          120000,
          125000,
          37236,
          105000,
          87932,
          18442,
          31615,
          58255,
          100000,
          18442,
          162674,
          120000,
          144000,
          104890,
          100000,
          140000,
          135000,
          50000,
          220000,
          140000,
          183228,
          91614,
          185100,
          220000,
          200000,
          120000,
          120000,
          65000,
          324000,
          216000,
          210000,
          120000,
          230000,
          200000,
          75000,
          35590,
          78791,
          100000,
          153000,
          58035,
          165000,
          93427,
          52396,
          62651,
          32974,
          40000,
          87425,
          115000,
          86703,
          75000,
          64849,
          120000,
          157000,
          150000,
          70912,
          65000,
          71444,
          20000,
          48000,
          152500,
          68147,
          122346,
          380000,
          69336,
          10000,
          20000,
          405000,
          135000,
          177000,
          78000,
          135000,
          100000,
          90320,
          85000,
          75000,
          214000,
          192600,
          266400,
          213120,
          112900,
          155000,
          141300,
          102100,
          115934,
          81666,
          206699,
          99100,
          130000,
          115000,
          110500,
          130000,
          99050,
          160000,
          205300,
          140400,
          176000,
          144000,
          200100,
          160000,
          145000,
          70500,
          205300,
          140400,
          205300,
          184700,
          175100,
          140250,
          116150,
          54000,
          170000,
          65438,
          80000,
          140000,
          210000,
          140000,
          100000,
          69000,
          210000,
          140000,
          210000,
          150075,
          100000,
          25000,
          126500,
          106260,
          220110,
          160080,
          105000,
          110925,
          45807,
          140000,
          99000,
          60000,
          192564,
          144854,
          230000,
          150000,
          150260,
          109280,
          210000,
          170000,
          160000,
          130000,
          67000,
          52000,
          154000,
          126000,
          129000,
          150000,
          200000
         ],
         "y0": " ",
         "yaxis": "y"
        },
        {
         "alignmentgroup": "True",
         "hovertemplate": "employment_type=%{x}<br>salary_in_usd=%{y}<extra></extra>",
         "legendgroup": "CT",
         "marker": {
          "color": "#46039f"
         },
         "name": "CT",
         "notched": false,
         "offsetgroup": "CT",
         "orientation": "v",
         "showlegend": true,
         "type": "box",
         "x": [
          "CT",
          "CT",
          "CT",
          "CT",
          "CT"
         ],
         "x0": " ",
         "xaxis": "x",
         "y": [
          100000,
          270000,
          416000,
          105000,
          31875
         ],
         "y0": " ",
         "yaxis": "y"
        },
        {
         "alignmentgroup": "True",
         "hovertemplate": "employment_type=%{x}<br>salary_in_usd=%{y}<extra></extra>",
         "legendgroup": "PT",
         "marker": {
          "color": "#7201a8"
         },
         "name": "PT",
         "notched": false,
         "offsetgroup": "PT",
         "orientation": "v",
         "showlegend": true,
         "type": "box",
         "x": [
          "PT",
          "PT",
          "PT",
          "PT",
          "PT",
          "PT",
          "PT",
          "PT",
          "PT",
          "PT"
         ],
         "x0": " ",
         "xaxis": "x",
         "y": [
          15966,
          21669,
          5409,
          12000,
          12000,
          10354,
          28609,
          69741,
          54957,
          100000
         ],
         "y0": " ",
         "yaxis": "y"
        },
        {
         "alignmentgroup": "True",
         "hovertemplate": "employment_type=%{x}<br>salary_in_usd=%{y}<extra></extra>",
         "legendgroup": "FL",
         "marker": {
          "color": "#9c179e"
         },
         "name": "FL",
         "notched": false,
         "offsetgroup": "FL",
         "orientation": "v",
         "showlegend": true,
         "type": "box",
         "x": [
          "FL",
          "FL",
          "FL",
          "FL"
         ],
         "x0": " ",
         "xaxis": "x",
         "y": [
          60000,
          12000,
          20000,
          100000
         ],
         "y0": " ",
         "yaxis": "y"
        }
       ],
       "layout": {
        "boxmode": "overlay",
        "legend": {
         "title": {
          "text": "employment_type"
         },
         "tracegroupgap": 0
        },
        "template": {
         "data": {
          "bar": [
           {
            "error_x": {
             "color": "#2a3f5f"
            },
            "error_y": {
             "color": "#2a3f5f"
            },
            "marker": {
             "line": {
              "color": "#E5ECF6",
              "width": 0.5
             },
             "pattern": {
              "fillmode": "overlay",
              "size": 10,
              "solidity": 0.2
             }
            },
            "type": "bar"
           }
          ],
          "barpolar": [
           {
            "marker": {
             "line": {
              "color": "#E5ECF6",
              "width": 0.5
             },
             "pattern": {
              "fillmode": "overlay",
              "size": 10,
              "solidity": 0.2
             }
            },
            "type": "barpolar"
           }
          ],
          "carpet": [
           {
            "aaxis": {
             "endlinecolor": "#2a3f5f",
             "gridcolor": "white",
             "linecolor": "white",
             "minorgridcolor": "white",
             "startlinecolor": "#2a3f5f"
            },
            "baxis": {
             "endlinecolor": "#2a3f5f",
             "gridcolor": "white",
             "linecolor": "white",
             "minorgridcolor": "white",
             "startlinecolor": "#2a3f5f"
            },
            "type": "carpet"
           }
          ],
          "choropleth": [
           {
            "colorbar": {
             "outlinewidth": 0,
             "ticks": ""
            },
            "type": "choropleth"
           }
          ],
          "contour": [
           {
            "colorbar": {
             "outlinewidth": 0,
             "ticks": ""
            },
            "colorscale": [
             [
              0,
              "#0d0887"
             ],
             [
              0.1111111111111111,
              "#46039f"
             ],
             [
              0.2222222222222222,
              "#7201a8"
             ],
             [
              0.3333333333333333,
              "#9c179e"
             ],
             [
              0.4444444444444444,
              "#bd3786"
             ],
             [
              0.5555555555555556,
              "#d8576b"
             ],
             [
              0.6666666666666666,
              "#ed7953"
             ],
             [
              0.7777777777777778,
              "#fb9f3a"
             ],
             [
              0.8888888888888888,
              "#fdca26"
             ],
             [
              1,
              "#f0f921"
             ]
            ],
            "type": "contour"
           }
          ],
          "contourcarpet": [
           {
            "colorbar": {
             "outlinewidth": 0,
             "ticks": ""
            },
            "type": "contourcarpet"
           }
          ],
          "heatmap": [
           {
            "colorbar": {
             "outlinewidth": 0,
             "ticks": ""
            },
            "colorscale": [
             [
              0,
              "#0d0887"
             ],
             [
              0.1111111111111111,
              "#46039f"
             ],
             [
              0.2222222222222222,
              "#7201a8"
             ],
             [
              0.3333333333333333,
              "#9c179e"
             ],
             [
              0.4444444444444444,
              "#bd3786"
             ],
             [
              0.5555555555555556,
              "#d8576b"
             ],
             [
              0.6666666666666666,
              "#ed7953"
             ],
             [
              0.7777777777777778,
              "#fb9f3a"
             ],
             [
              0.8888888888888888,
              "#fdca26"
             ],
             [
              1,
              "#f0f921"
             ]
            ],
            "type": "heatmap"
           }
          ],
          "heatmapgl": [
           {
            "colorbar": {
             "outlinewidth": 0,
             "ticks": ""
            },
            "colorscale": [
             [
              0,
              "#0d0887"
             ],
             [
              0.1111111111111111,
              "#46039f"
             ],
             [
              0.2222222222222222,
              "#7201a8"
             ],
             [
              0.3333333333333333,
              "#9c179e"
             ],
             [
              0.4444444444444444,
              "#bd3786"
             ],
             [
              0.5555555555555556,
              "#d8576b"
             ],
             [
              0.6666666666666666,
              "#ed7953"
             ],
             [
              0.7777777777777778,
              "#fb9f3a"
             ],
             [
              0.8888888888888888,
              "#fdca26"
             ],
             [
              1,
              "#f0f921"
             ]
            ],
            "type": "heatmapgl"
           }
          ],
          "histogram": [
           {
            "marker": {
             "pattern": {
              "fillmode": "overlay",
              "size": 10,
              "solidity": 0.2
             }
            },
            "type": "histogram"
           }
          ],
          "histogram2d": [
           {
            "colorbar": {
             "outlinewidth": 0,
             "ticks": ""
            },
            "colorscale": [
             [
              0,
              "#0d0887"
             ],
             [
              0.1111111111111111,
              "#46039f"
             ],
             [
              0.2222222222222222,
              "#7201a8"
             ],
             [
              0.3333333333333333,
              "#9c179e"
             ],
             [
              0.4444444444444444,
              "#bd3786"
             ],
             [
              0.5555555555555556,
              "#d8576b"
             ],
             [
              0.6666666666666666,
              "#ed7953"
             ],
             [
              0.7777777777777778,
              "#fb9f3a"
             ],
             [
              0.8888888888888888,
              "#fdca26"
             ],
             [
              1,
              "#f0f921"
             ]
            ],
            "type": "histogram2d"
           }
          ],
          "histogram2dcontour": [
           {
            "colorbar": {
             "outlinewidth": 0,
             "ticks": ""
            },
            "colorscale": [
             [
              0,
              "#0d0887"
             ],
             [
              0.1111111111111111,
              "#46039f"
             ],
             [
              0.2222222222222222,
              "#7201a8"
             ],
             [
              0.3333333333333333,
              "#9c179e"
             ],
             [
              0.4444444444444444,
              "#bd3786"
             ],
             [
              0.5555555555555556,
              "#d8576b"
             ],
             [
              0.6666666666666666,
              "#ed7953"
             ],
             [
              0.7777777777777778,
              "#fb9f3a"
             ],
             [
              0.8888888888888888,
              "#fdca26"
             ],
             [
              1,
              "#f0f921"
             ]
            ],
            "type": "histogram2dcontour"
           }
          ],
          "mesh3d": [
           {
            "colorbar": {
             "outlinewidth": 0,
             "ticks": ""
            },
            "type": "mesh3d"
           }
          ],
          "parcoords": [
           {
            "line": {
             "colorbar": {
              "outlinewidth": 0,
              "ticks": ""
             }
            },
            "type": "parcoords"
           }
          ],
          "pie": [
           {
            "automargin": true,
            "type": "pie"
           }
          ],
          "scatter": [
           {
            "marker": {
             "colorbar": {
              "outlinewidth": 0,
              "ticks": ""
             }
            },
            "type": "scatter"
           }
          ],
          "scatter3d": [
           {
            "line": {
             "colorbar": {
              "outlinewidth": 0,
              "ticks": ""
             }
            },
            "marker": {
             "colorbar": {
              "outlinewidth": 0,
              "ticks": ""
             }
            },
            "type": "scatter3d"
           }
          ],
          "scattercarpet": [
           {
            "marker": {
             "colorbar": {
              "outlinewidth": 0,
              "ticks": ""
             }
            },
            "type": "scattercarpet"
           }
          ],
          "scattergeo": [
           {
            "marker": {
             "colorbar": {
              "outlinewidth": 0,
              "ticks": ""
             }
            },
            "type": "scattergeo"
           }
          ],
          "scattergl": [
           {
            "marker": {
             "colorbar": {
              "outlinewidth": 0,
              "ticks": ""
             }
            },
            "type": "scattergl"
           }
          ],
          "scattermapbox": [
           {
            "marker": {
             "colorbar": {
              "outlinewidth": 0,
              "ticks": ""
             }
            },
            "type": "scattermapbox"
           }
          ],
          "scatterpolar": [
           {
            "marker": {
             "colorbar": {
              "outlinewidth": 0,
              "ticks": ""
             }
            },
            "type": "scatterpolar"
           }
          ],
          "scatterpolargl": [
           {
            "marker": {
             "colorbar": {
              "outlinewidth": 0,
              "ticks": ""
             }
            },
            "type": "scatterpolargl"
           }
          ],
          "scatterternary": [
           {
            "marker": {
             "colorbar": {
              "outlinewidth": 0,
              "ticks": ""
             }
            },
            "type": "scatterternary"
           }
          ],
          "surface": [
           {
            "colorbar": {
             "outlinewidth": 0,
             "ticks": ""
            },
            "colorscale": [
             [
              0,
              "#0d0887"
             ],
             [
              0.1111111111111111,
              "#46039f"
             ],
             [
              0.2222222222222222,
              "#7201a8"
             ],
             [
              0.3333333333333333,
              "#9c179e"
             ],
             [
              0.4444444444444444,
              "#bd3786"
             ],
             [
              0.5555555555555556,
              "#d8576b"
             ],
             [
              0.6666666666666666,
              "#ed7953"
             ],
             [
              0.7777777777777778,
              "#fb9f3a"
             ],
             [
              0.8888888888888888,
              "#fdca26"
             ],
             [
              1,
              "#f0f921"
             ]
            ],
            "type": "surface"
           }
          ],
          "table": [
           {
            "cells": {
             "fill": {
              "color": "#EBF0F8"
             },
             "line": {
              "color": "white"
             }
            },
            "header": {
             "fill": {
              "color": "#C8D4E3"
             },
             "line": {
              "color": "white"
             }
            },
            "type": "table"
           }
          ]
         },
         "layout": {
          "annotationdefaults": {
           "arrowcolor": "#2a3f5f",
           "arrowhead": 0,
           "arrowwidth": 1
          },
          "autotypenumbers": "strict",
          "coloraxis": {
           "colorbar": {
            "outlinewidth": 0,
            "ticks": ""
           }
          },
          "colorscale": {
           "diverging": [
            [
             0,
             "#8e0152"
            ],
            [
             0.1,
             "#c51b7d"
            ],
            [
             0.2,
             "#de77ae"
            ],
            [
             0.3,
             "#f1b6da"
            ],
            [
             0.4,
             "#fde0ef"
            ],
            [
             0.5,
             "#f7f7f7"
            ],
            [
             0.6,
             "#e6f5d0"
            ],
            [
             0.7,
             "#b8e186"
            ],
            [
             0.8,
             "#7fbc41"
            ],
            [
             0.9,
             "#4d9221"
            ],
            [
             1,
             "#276419"
            ]
           ],
           "sequential": [
            [
             0,
             "#0d0887"
            ],
            [
             0.1111111111111111,
             "#46039f"
            ],
            [
             0.2222222222222222,
             "#7201a8"
            ],
            [
             0.3333333333333333,
             "#9c179e"
            ],
            [
             0.4444444444444444,
             "#bd3786"
            ],
            [
             0.5555555555555556,
             "#d8576b"
            ],
            [
             0.6666666666666666,
             "#ed7953"
            ],
            [
             0.7777777777777778,
             "#fb9f3a"
            ],
            [
             0.8888888888888888,
             "#fdca26"
            ],
            [
             1,
             "#f0f921"
            ]
           ],
           "sequentialminus": [
            [
             0,
             "#0d0887"
            ],
            [
             0.1111111111111111,
             "#46039f"
            ],
            [
             0.2222222222222222,
             "#7201a8"
            ],
            [
             0.3333333333333333,
             "#9c179e"
            ],
            [
             0.4444444444444444,
             "#bd3786"
            ],
            [
             0.5555555555555556,
             "#d8576b"
            ],
            [
             0.6666666666666666,
             "#ed7953"
            ],
            [
             0.7777777777777778,
             "#fb9f3a"
            ],
            [
             0.8888888888888888,
             "#fdca26"
            ],
            [
             1,
             "#f0f921"
            ]
           ]
          },
          "colorway": [
           "#636efa",
           "#EF553B",
           "#00cc96",
           "#ab63fa",
           "#FFA15A",
           "#19d3f3",
           "#FF6692",
           "#B6E880",
           "#FF97FF",
           "#FECB52"
          ],
          "font": {
           "color": "#2a3f5f"
          },
          "geo": {
           "bgcolor": "white",
           "lakecolor": "white",
           "landcolor": "#E5ECF6",
           "showlakes": true,
           "showland": true,
           "subunitcolor": "white"
          },
          "hoverlabel": {
           "align": "left"
          },
          "hovermode": "closest",
          "mapbox": {
           "style": "light"
          },
          "paper_bgcolor": "white",
          "plot_bgcolor": "#E5ECF6",
          "polar": {
           "angularaxis": {
            "gridcolor": "white",
            "linecolor": "white",
            "ticks": ""
           },
           "bgcolor": "#E5ECF6",
           "radialaxis": {
            "gridcolor": "white",
            "linecolor": "white",
            "ticks": ""
           }
          },
          "scene": {
           "xaxis": {
            "backgroundcolor": "#E5ECF6",
            "gridcolor": "white",
            "gridwidth": 2,
            "linecolor": "white",
            "showbackground": true,
            "ticks": "",
            "zerolinecolor": "white"
           },
           "yaxis": {
            "backgroundcolor": "#E5ECF6",
            "gridcolor": "white",
            "gridwidth": 2,
            "linecolor": "white",
            "showbackground": true,
            "ticks": "",
            "zerolinecolor": "white"
           },
           "zaxis": {
            "backgroundcolor": "#E5ECF6",
            "gridcolor": "white",
            "gridwidth": 2,
            "linecolor": "white",
            "showbackground": true,
            "ticks": "",
            "zerolinecolor": "white"
           }
          },
          "shapedefaults": {
           "line": {
            "color": "#2a3f5f"
           }
          },
          "ternary": {
           "aaxis": {
            "gridcolor": "white",
            "linecolor": "white",
            "ticks": ""
           },
           "baxis": {
            "gridcolor": "white",
            "linecolor": "white",
            "ticks": ""
           },
           "bgcolor": "#E5ECF6",
           "caxis": {
            "gridcolor": "white",
            "linecolor": "white",
            "ticks": ""
           }
          },
          "title": {
           "x": 0.05
          },
          "xaxis": {
           "automargin": true,
           "gridcolor": "white",
           "linecolor": "white",
           "ticks": "",
           "title": {
            "standoff": 15
           },
           "zerolinecolor": "white",
           "zerolinewidth": 2
          },
          "yaxis": {
           "automargin": true,
           "gridcolor": "white",
           "linecolor": "white",
           "ticks": "",
           "title": {
            "standoff": 15
           },
           "zerolinecolor": "white",
           "zerolinewidth": 2
          }
         }
        },
        "title": {
         "text": "Salary vs Employment type"
        },
        "xaxis": {
         "anchor": "y",
         "categoryarray": [
          "FT",
          "CT",
          "PT",
          "FL"
         ],
         "categoryorder": "array",
         "domain": [
          0,
          1
         ],
         "title": {
          "text": "Type of Employment"
         }
        },
        "yaxis": {
         "anchor": "x",
         "domain": [
          0,
          1
         ],
         "title": {
          "text": "Salary in USD"
         }
        }
       }
      },
      "text/html": [
       "<div>                            <div id=\"4fc7e8c1-cd20-401f-9f46-06fea60c5719\" class=\"plotly-graph-div\" style=\"height:525px; width:100%;\"></div>            <script type=\"text/javascript\">                require([\"plotly\"], function(Plotly) {                    window.PLOTLYENV=window.PLOTLYENV || {};                                    if (document.getElementById(\"4fc7e8c1-cd20-401f-9f46-06fea60c5719\")) {                    Plotly.newPlot(                        \"4fc7e8c1-cd20-401f-9f46-06fea60c5719\",                        [{\"alignmentgroup\":\"True\",\"hovertemplate\":\"employment_type=%{x}<br>salary_in_usd=%{y}<extra></extra>\",\"legendgroup\":\"FT\",\"marker\":{\"color\":\"#0d0887\"},\"name\":\"FT\",\"notched\":false,\"offsetgroup\":\"FT\",\"orientation\":\"v\",\"showlegend\":true,\"x\":[\"FT\",\"FT\",\"FT\",\"FT\",\"FT\",\"FT\",\"FT\",\"FT\",\"FT\",\"FT\",\"FT\",\"FT\",\"FT\",\"FT\",\"FT\",\"FT\",\"FT\",\"FT\",\"FT\",\"FT\",\"FT\",\"FT\",\"FT\",\"FT\",\"FT\",\"FT\",\"FT\",\"FT\",\"FT\",\"FT\",\"FT\",\"FT\",\"FT\",\"FT\",\"FT\",\"FT\",\"FT\",\"FT\",\"FT\",\"FT\",\"FT\",\"FT\",\"FT\",\"FT\",\"FT\",\"FT\",\"FT\",\"FT\",\"FT\",\"FT\",\"FT\",\"FT\",\"FT\",\"FT\",\"FT\",\"FT\",\"FT\",\"FT\",\"FT\",\"FT\",\"FT\",\"FT\",\"FT\",\"FT\",\"FT\",\"FT\",\"FT\",\"FT\",\"FT\",\"FT\",\"FT\",\"FT\",\"FT\",\"FT\",\"FT\",\"FT\",\"FT\",\"FT\",\"FT\",\"FT\",\"FT\",\"FT\",\"FT\",\"FT\",\"FT\",\"FT\",\"FT\",\"FT\",\"FT\",\"FT\",\"FT\",\"FT\",\"FT\",\"FT\",\"FT\",\"FT\",\"FT\",\"FT\",\"FT\",\"FT\",\"FT\",\"FT\",\"FT\",\"FT\",\"FT\",\"FT\",\"FT\",\"FT\",\"FT\",\"FT\",\"FT\",\"FT\",\"FT\",\"FT\",\"FT\",\"FT\",\"FT\",\"FT\",\"FT\",\"FT\",\"FT\",\"FT\",\"FT\",\"FT\",\"FT\",\"FT\",\"FT\",\"FT\",\"FT\",\"FT\",\"FT\",\"FT\",\"FT\",\"FT\",\"FT\",\"FT\",\"FT\",\"FT\",\"FT\",\"FT\",\"FT\",\"FT\",\"FT\",\"FT\",\"FT\",\"FT\",\"FT\",\"FT\",\"FT\",\"FT\",\"FT\",\"FT\",\"FT\",\"FT\",\"FT\",\"FT\",\"FT\",\"FT\",\"FT\",\"FT\",\"FT\",\"FT\",\"FT\",\"FT\",\"FT\",\"FT\",\"FT\",\"FT\",\"FT\",\"FT\",\"FT\",\"FT\",\"FT\",\"FT\",\"FT\",\"FT\",\"FT\",\"FT\",\"FT\",\"FT\",\"FT\",\"FT\",\"FT\",\"FT\",\"FT\",\"FT\",\"FT\",\"FT\",\"FT\",\"FT\",\"FT\",\"FT\",\"FT\",\"FT\",\"FT\",\"FT\",\"FT\",\"FT\",\"FT\",\"FT\",\"FT\",\"FT\",\"FT\",\"FT\",\"FT\",\"FT\",\"FT\",\"FT\",\"FT\",\"FT\",\"FT\",\"FT\",\"FT\",\"FT\",\"FT\",\"FT\",\"FT\",\"FT\",\"FT\",\"FT\",\"FT\",\"FT\",\"FT\",\"FT\",\"FT\",\"FT\",\"FT\",\"FT\",\"FT\",\"FT\",\"FT\",\"FT\",\"FT\",\"FT\",\"FT\",\"FT\",\"FT\",\"FT\",\"FT\",\"FT\",\"FT\",\"FT\",\"FT\",\"FT\",\"FT\",\"FT\",\"FT\",\"FT\",\"FT\",\"FT\",\"FT\",\"FT\",\"FT\",\"FT\",\"FT\",\"FT\",\"FT\",\"FT\",\"FT\",\"FT\",\"FT\",\"FT\",\"FT\",\"FT\",\"FT\",\"FT\",\"FT\",\"FT\",\"FT\",\"FT\",\"FT\",\"FT\",\"FT\",\"FT\",\"FT\",\"FT\",\"FT\",\"FT\",\"FT\",\"FT\",\"FT\",\"FT\",\"FT\",\"FT\",\"FT\",\"FT\",\"FT\",\"FT\",\"FT\",\"FT\",\"FT\",\"FT\",\"FT\",\"FT\",\"FT\",\"FT\",\"FT\",\"FT\",\"FT\",\"FT\",\"FT\",\"FT\",\"FT\",\"FT\",\"FT\",\"FT\",\"FT\",\"FT\",\"FT\",\"FT\",\"FT\",\"FT\",\"FT\",\"FT\",\"FT\",\"FT\",\"FT\",\"FT\",\"FT\",\"FT\",\"FT\",\"FT\",\"FT\",\"FT\",\"FT\",\"FT\",\"FT\",\"FT\",\"FT\",\"FT\",\"FT\",\"FT\",\"FT\",\"FT\",\"FT\",\"FT\",\"FT\",\"FT\",\"FT\",\"FT\",\"FT\",\"FT\",\"FT\",\"FT\",\"FT\",\"FT\",\"FT\",\"FT\",\"FT\",\"FT\",\"FT\",\"FT\",\"FT\",\"FT\",\"FT\",\"FT\",\"FT\",\"FT\",\"FT\",\"FT\",\"FT\",\"FT\",\"FT\",\"FT\",\"FT\",\"FT\",\"FT\",\"FT\",\"FT\",\"FT\",\"FT\",\"FT\",\"FT\",\"FT\",\"FT\",\"FT\",\"FT\",\"FT\",\"FT\",\"FT\",\"FT\",\"FT\",\"FT\",\"FT\",\"FT\",\"FT\",\"FT\",\"FT\",\"FT\",\"FT\",\"FT\",\"FT\",\"FT\",\"FT\",\"FT\",\"FT\",\"FT\",\"FT\",\"FT\",\"FT\",\"FT\",\"FT\",\"FT\",\"FT\",\"FT\",\"FT\",\"FT\",\"FT\",\"FT\",\"FT\",\"FT\",\"FT\",\"FT\",\"FT\",\"FT\",\"FT\",\"FT\",\"FT\",\"FT\",\"FT\",\"FT\",\"FT\",\"FT\",\"FT\",\"FT\",\"FT\",\"FT\",\"FT\",\"FT\",\"FT\",\"FT\",\"FT\",\"FT\",\"FT\",\"FT\",\"FT\",\"FT\",\"FT\",\"FT\",\"FT\",\"FT\",\"FT\",\"FT\",\"FT\",\"FT\",\"FT\",\"FT\",\"FT\",\"FT\",\"FT\",\"FT\",\"FT\",\"FT\",\"FT\",\"FT\",\"FT\",\"FT\",\"FT\",\"FT\",\"FT\",\"FT\",\"FT\",\"FT\",\"FT\",\"FT\",\"FT\",\"FT\",\"FT\",\"FT\",\"FT\",\"FT\",\"FT\",\"FT\",\"FT\",\"FT\",\"FT\",\"FT\",\"FT\",\"FT\",\"FT\",\"FT\",\"FT\",\"FT\",\"FT\",\"FT\",\"FT\",\"FT\",\"FT\",\"FT\",\"FT\",\"FT\",\"FT\",\"FT\",\"FT\",\"FT\",\"FT\",\"FT\",\"FT\",\"FT\",\"FT\",\"FT\",\"FT\",\"FT\",\"FT\",\"FT\",\"FT\",\"FT\",\"FT\",\"FT\",\"FT\",\"FT\",\"FT\",\"FT\",\"FT\",\"FT\",\"FT\",\"FT\",\"FT\",\"FT\",\"FT\",\"FT\",\"FT\",\"FT\",\"FT\",\"FT\",\"FT\",\"FT\",\"FT\",\"FT\",\"FT\",\"FT\",\"FT\",\"FT\",\"FT\",\"FT\",\"FT\",\"FT\",\"FT\",\"FT\",\"FT\",\"FT\",\"FT\",\"FT\",\"FT\",\"FT\",\"FT\",\"FT\",\"FT\",\"FT\",\"FT\",\"FT\",\"FT\",\"FT\",\"FT\",\"FT\",\"FT\",\"FT\",\"FT\",\"FT\",\"FT\",\"FT\",\"FT\",\"FT\",\"FT\",\"FT\",\"FT\",\"FT\",\"FT\",\"FT\",\"FT\",\"FT\",\"FT\",\"FT\",\"FT\",\"FT\",\"FT\",\"FT\",\"FT\",\"FT\",\"FT\",\"FT\",\"FT\",\"FT\",\"FT\",\"FT\",\"FT\",\"FT\",\"FT\"],\"x0\":\" \",\"xaxis\":\"x\",\"y\":[79833,260000,109024,20000,150000,72000,190000,35735,135000,125000,51321,40481,39916,87000,85000,8000,41689,114047,5707,56000,43331,6072,47899,98000,115000,325000,42000,33511,117104,59303,70000,68428,450000,46759,74130,103000,250000,10000,138000,45760,79833,50180,106000,112872,76958,188000,105000,70139,6072,91000,45896,54742,148261,38776,118000,120000,138350,110000,130800,412000,45618,62726,49268,190200,105000,91237,62726,42197,82528,150000,235000,53192,100000,80000,79197,140000,54238,47282,153667,28476,59102,110000,170000,80000,88654,76833,19609,276000,29751,89294,450000,70000,95746,75000,150000,36259,62000,73000,51519,187442,115000,150000,30428,94564,113476,103160,45391,225000,50000,40189,90000,200000,60000,200000,50000,110037,151000,120000,9466,20000,40570,100000,49646,38400,24000,100000,90000,63711,77364,220000,80000,135000,240000,150000,82500,100000,82744,62649,90000,153000,160000,168000,150000,75774,13400,144000,127221,119059,423000,120000,125000,230000,85000,28369,63831,130026,165000,80000,250000,55000,150000,170000,82528,60000,235000,60757,174000,2859,40038,81000,5679,22611,90734,26005,61896,4000,50000,69741,76833,74000,152000,21844,18000,174000,96113,147000,9272,24342,54094,90000,61467,195000,37825,50000,160000,12901,200000,165000,120000,24823,56738,66022,5882,24823,185000,90734,88654,140000,46597,116914,33808,56256,225000,87738,88654,135000,71786,16228,256000,200000,200000,180000,110000,63810,46809,4000,21637,103691,80000,110000,165000,18053,72212,36643,12103,96282,170000,115000,90000,600000,28399,93000,99703,200000,173762,185000,141846,130000,63831,16904,66265,25532,160000,93150,111775,28016,65013,72500,18907,76833,85000,77684,100000,58000,55000,20171,59102,112000,100000,69999,94665,102839,109000,51064,135000,155000,120600,130000,90000,170000,150000,102100,84900,136620,99360,117789,104702,146000,123000,52351,99000,116000,106260,126500,242000,200000,65438,39263,78526,52351,165220,45807,120160,90320,181940,132320,220110,160080,180000,120000,124190,130000,110000,170000,115500,112900,90320,112900,90320,165400,132320,167000,243900,136600,109280,128875,93700,224000,167875,175000,156600,108800,95550,113000,135000,161342,137141,167000,123000,78526,65438,150000,211500,192400,90700,130000,61300,130000,61300,160000,138600,136000,58000,135000,170000,123000,189650,164996,54957,54957,118187,132000,165400,208775,147800,136994,101570,128875,93700,79039,132320,37300,164000,155000,124333,98158,120000,112900,90320,145000,105400,87932,117789,215300,158200,209100,154600,115934,81666,175000,98158,58000,183600,52351,180000,71982,45807,65949,49461,78526,58894,260000,60000,63900,160000,112300,241000,159000,180000,80000,82900,100800,49461,140400,39263,43966,32974,87932,76940,104702,91614,65949,87932,189650,164996,43966,32974,98158,78526,215300,76940,209100,154600,180000,21983,80000,78791,196979,120000,125000,37236,105000,87932,18442,31615,58255,100000,18442,162674,120000,144000,104890,100000,140000,135000,50000,220000,140000,183228,91614,185100,220000,200000,120000,120000,65000,324000,216000,210000,120000,230000,200000,75000,35590,78791,100000,153000,58035,165000,93427,52396,62651,32974,40000,87425,115000,86703,75000,64849,120000,157000,150000,70912,65000,71444,20000,48000,152500,68147,122346,380000,69336,10000,20000,405000,135000,177000,78000,135000,100000,90320,85000,75000,214000,192600,266400,213120,112900,155000,141300,102100,115934,81666,206699,99100,130000,115000,110500,130000,99050,160000,205300,140400,176000,144000,200100,160000,145000,70500,205300,140400,205300,184700,175100,140250,116150,54000,170000,65438,80000,140000,210000,140000,100000,69000,210000,140000,210000,150075,100000,25000,126500,106260,220110,160080,105000,110925,45807,140000,99000,60000,192564,144854,230000,150000,150260,109280,210000,170000,160000,130000,67000,52000,154000,126000,129000,150000,200000],\"y0\":\" \",\"yaxis\":\"y\",\"type\":\"box\"},{\"alignmentgroup\":\"True\",\"hovertemplate\":\"employment_type=%{x}<br>salary_in_usd=%{y}<extra></extra>\",\"legendgroup\":\"CT\",\"marker\":{\"color\":\"#46039f\"},\"name\":\"CT\",\"notched\":false,\"offsetgroup\":\"CT\",\"orientation\":\"v\",\"showlegend\":true,\"x\":[\"CT\",\"CT\",\"CT\",\"CT\",\"CT\"],\"x0\":\" \",\"xaxis\":\"x\",\"y\":[100000,270000,416000,105000,31875],\"y0\":\" \",\"yaxis\":\"y\",\"type\":\"box\"},{\"alignmentgroup\":\"True\",\"hovertemplate\":\"employment_type=%{x}<br>salary_in_usd=%{y}<extra></extra>\",\"legendgroup\":\"PT\",\"marker\":{\"color\":\"#7201a8\"},\"name\":\"PT\",\"notched\":false,\"offsetgroup\":\"PT\",\"orientation\":\"v\",\"showlegend\":true,\"x\":[\"PT\",\"PT\",\"PT\",\"PT\",\"PT\",\"PT\",\"PT\",\"PT\",\"PT\",\"PT\"],\"x0\":\" \",\"xaxis\":\"x\",\"y\":[15966,21669,5409,12000,12000,10354,28609,69741,54957,100000],\"y0\":\" \",\"yaxis\":\"y\",\"type\":\"box\"},{\"alignmentgroup\":\"True\",\"hovertemplate\":\"employment_type=%{x}<br>salary_in_usd=%{y}<extra></extra>\",\"legendgroup\":\"FL\",\"marker\":{\"color\":\"#9c179e\"},\"name\":\"FL\",\"notched\":false,\"offsetgroup\":\"FL\",\"orientation\":\"v\",\"showlegend\":true,\"x\":[\"FL\",\"FL\",\"FL\",\"FL\"],\"x0\":\" \",\"xaxis\":\"x\",\"y\":[60000,12000,20000,100000],\"y0\":\" \",\"yaxis\":\"y\",\"type\":\"box\"}],                        {\"template\":{\"data\":{\"bar\":[{\"error_x\":{\"color\":\"#2a3f5f\"},\"error_y\":{\"color\":\"#2a3f5f\"},\"marker\":{\"line\":{\"color\":\"#E5ECF6\",\"width\":0.5},\"pattern\":{\"fillmode\":\"overlay\",\"size\":10,\"solidity\":0.2}},\"type\":\"bar\"}],\"barpolar\":[{\"marker\":{\"line\":{\"color\":\"#E5ECF6\",\"width\":0.5},\"pattern\":{\"fillmode\":\"overlay\",\"size\":10,\"solidity\":0.2}},\"type\":\"barpolar\"}],\"carpet\":[{\"aaxis\":{\"endlinecolor\":\"#2a3f5f\",\"gridcolor\":\"white\",\"linecolor\":\"white\",\"minorgridcolor\":\"white\",\"startlinecolor\":\"#2a3f5f\"},\"baxis\":{\"endlinecolor\":\"#2a3f5f\",\"gridcolor\":\"white\",\"linecolor\":\"white\",\"minorgridcolor\":\"white\",\"startlinecolor\":\"#2a3f5f\"},\"type\":\"carpet\"}],\"choropleth\":[{\"colorbar\":{\"outlinewidth\":0,\"ticks\":\"\"},\"type\":\"choropleth\"}],\"contour\":[{\"colorbar\":{\"outlinewidth\":0,\"ticks\":\"\"},\"colorscale\":[[0.0,\"#0d0887\"],[0.1111111111111111,\"#46039f\"],[0.2222222222222222,\"#7201a8\"],[0.3333333333333333,\"#9c179e\"],[0.4444444444444444,\"#bd3786\"],[0.5555555555555556,\"#d8576b\"],[0.6666666666666666,\"#ed7953\"],[0.7777777777777778,\"#fb9f3a\"],[0.8888888888888888,\"#fdca26\"],[1.0,\"#f0f921\"]],\"type\":\"contour\"}],\"contourcarpet\":[{\"colorbar\":{\"outlinewidth\":0,\"ticks\":\"\"},\"type\":\"contourcarpet\"}],\"heatmap\":[{\"colorbar\":{\"outlinewidth\":0,\"ticks\":\"\"},\"colorscale\":[[0.0,\"#0d0887\"],[0.1111111111111111,\"#46039f\"],[0.2222222222222222,\"#7201a8\"],[0.3333333333333333,\"#9c179e\"],[0.4444444444444444,\"#bd3786\"],[0.5555555555555556,\"#d8576b\"],[0.6666666666666666,\"#ed7953\"],[0.7777777777777778,\"#fb9f3a\"],[0.8888888888888888,\"#fdca26\"],[1.0,\"#f0f921\"]],\"type\":\"heatmap\"}],\"heatmapgl\":[{\"colorbar\":{\"outlinewidth\":0,\"ticks\":\"\"},\"colorscale\":[[0.0,\"#0d0887\"],[0.1111111111111111,\"#46039f\"],[0.2222222222222222,\"#7201a8\"],[0.3333333333333333,\"#9c179e\"],[0.4444444444444444,\"#bd3786\"],[0.5555555555555556,\"#d8576b\"],[0.6666666666666666,\"#ed7953\"],[0.7777777777777778,\"#fb9f3a\"],[0.8888888888888888,\"#fdca26\"],[1.0,\"#f0f921\"]],\"type\":\"heatmapgl\"}],\"histogram\":[{\"marker\":{\"pattern\":{\"fillmode\":\"overlay\",\"size\":10,\"solidity\":0.2}},\"type\":\"histogram\"}],\"histogram2d\":[{\"colorbar\":{\"outlinewidth\":0,\"ticks\":\"\"},\"colorscale\":[[0.0,\"#0d0887\"],[0.1111111111111111,\"#46039f\"],[0.2222222222222222,\"#7201a8\"],[0.3333333333333333,\"#9c179e\"],[0.4444444444444444,\"#bd3786\"],[0.5555555555555556,\"#d8576b\"],[0.6666666666666666,\"#ed7953\"],[0.7777777777777778,\"#fb9f3a\"],[0.8888888888888888,\"#fdca26\"],[1.0,\"#f0f921\"]],\"type\":\"histogram2d\"}],\"histogram2dcontour\":[{\"colorbar\":{\"outlinewidth\":0,\"ticks\":\"\"},\"colorscale\":[[0.0,\"#0d0887\"],[0.1111111111111111,\"#46039f\"],[0.2222222222222222,\"#7201a8\"],[0.3333333333333333,\"#9c179e\"],[0.4444444444444444,\"#bd3786\"],[0.5555555555555556,\"#d8576b\"],[0.6666666666666666,\"#ed7953\"],[0.7777777777777778,\"#fb9f3a\"],[0.8888888888888888,\"#fdca26\"],[1.0,\"#f0f921\"]],\"type\":\"histogram2dcontour\"}],\"mesh3d\":[{\"colorbar\":{\"outlinewidth\":0,\"ticks\":\"\"},\"type\":\"mesh3d\"}],\"parcoords\":[{\"line\":{\"colorbar\":{\"outlinewidth\":0,\"ticks\":\"\"}},\"type\":\"parcoords\"}],\"pie\":[{\"automargin\":true,\"type\":\"pie\"}],\"scatter\":[{\"marker\":{\"colorbar\":{\"outlinewidth\":0,\"ticks\":\"\"}},\"type\":\"scatter\"}],\"scatter3d\":[{\"line\":{\"colorbar\":{\"outlinewidth\":0,\"ticks\":\"\"}},\"marker\":{\"colorbar\":{\"outlinewidth\":0,\"ticks\":\"\"}},\"type\":\"scatter3d\"}],\"scattercarpet\":[{\"marker\":{\"colorbar\":{\"outlinewidth\":0,\"ticks\":\"\"}},\"type\":\"scattercarpet\"}],\"scattergeo\":[{\"marker\":{\"colorbar\":{\"outlinewidth\":0,\"ticks\":\"\"}},\"type\":\"scattergeo\"}],\"scattergl\":[{\"marker\":{\"colorbar\":{\"outlinewidth\":0,\"ticks\":\"\"}},\"type\":\"scattergl\"}],\"scattermapbox\":[{\"marker\":{\"colorbar\":{\"outlinewidth\":0,\"ticks\":\"\"}},\"type\":\"scattermapbox\"}],\"scatterpolar\":[{\"marker\":{\"colorbar\":{\"outlinewidth\":0,\"ticks\":\"\"}},\"type\":\"scatterpolar\"}],\"scatterpolargl\":[{\"marker\":{\"colorbar\":{\"outlinewidth\":0,\"ticks\":\"\"}},\"type\":\"scatterpolargl\"}],\"scatterternary\":[{\"marker\":{\"colorbar\":{\"outlinewidth\":0,\"ticks\":\"\"}},\"type\":\"scatterternary\"}],\"surface\":[{\"colorbar\":{\"outlinewidth\":0,\"ticks\":\"\"},\"colorscale\":[[0.0,\"#0d0887\"],[0.1111111111111111,\"#46039f\"],[0.2222222222222222,\"#7201a8\"],[0.3333333333333333,\"#9c179e\"],[0.4444444444444444,\"#bd3786\"],[0.5555555555555556,\"#d8576b\"],[0.6666666666666666,\"#ed7953\"],[0.7777777777777778,\"#fb9f3a\"],[0.8888888888888888,\"#fdca26\"],[1.0,\"#f0f921\"]],\"type\":\"surface\"}],\"table\":[{\"cells\":{\"fill\":{\"color\":\"#EBF0F8\"},\"line\":{\"color\":\"white\"}},\"header\":{\"fill\":{\"color\":\"#C8D4E3\"},\"line\":{\"color\":\"white\"}},\"type\":\"table\"}]},\"layout\":{\"annotationdefaults\":{\"arrowcolor\":\"#2a3f5f\",\"arrowhead\":0,\"arrowwidth\":1},\"autotypenumbers\":\"strict\",\"coloraxis\":{\"colorbar\":{\"outlinewidth\":0,\"ticks\":\"\"}},\"colorscale\":{\"diverging\":[[0,\"#8e0152\"],[0.1,\"#c51b7d\"],[0.2,\"#de77ae\"],[0.3,\"#f1b6da\"],[0.4,\"#fde0ef\"],[0.5,\"#f7f7f7\"],[0.6,\"#e6f5d0\"],[0.7,\"#b8e186\"],[0.8,\"#7fbc41\"],[0.9,\"#4d9221\"],[1,\"#276419\"]],\"sequential\":[[0.0,\"#0d0887\"],[0.1111111111111111,\"#46039f\"],[0.2222222222222222,\"#7201a8\"],[0.3333333333333333,\"#9c179e\"],[0.4444444444444444,\"#bd3786\"],[0.5555555555555556,\"#d8576b\"],[0.6666666666666666,\"#ed7953\"],[0.7777777777777778,\"#fb9f3a\"],[0.8888888888888888,\"#fdca26\"],[1.0,\"#f0f921\"]],\"sequentialminus\":[[0.0,\"#0d0887\"],[0.1111111111111111,\"#46039f\"],[0.2222222222222222,\"#7201a8\"],[0.3333333333333333,\"#9c179e\"],[0.4444444444444444,\"#bd3786\"],[0.5555555555555556,\"#d8576b\"],[0.6666666666666666,\"#ed7953\"],[0.7777777777777778,\"#fb9f3a\"],[0.8888888888888888,\"#fdca26\"],[1.0,\"#f0f921\"]]},\"colorway\":[\"#636efa\",\"#EF553B\",\"#00cc96\",\"#ab63fa\",\"#FFA15A\",\"#19d3f3\",\"#FF6692\",\"#B6E880\",\"#FF97FF\",\"#FECB52\"],\"font\":{\"color\":\"#2a3f5f\"},\"geo\":{\"bgcolor\":\"white\",\"lakecolor\":\"white\",\"landcolor\":\"#E5ECF6\",\"showlakes\":true,\"showland\":true,\"subunitcolor\":\"white\"},\"hoverlabel\":{\"align\":\"left\"},\"hovermode\":\"closest\",\"mapbox\":{\"style\":\"light\"},\"paper_bgcolor\":\"white\",\"plot_bgcolor\":\"#E5ECF6\",\"polar\":{\"angularaxis\":{\"gridcolor\":\"white\",\"linecolor\":\"white\",\"ticks\":\"\"},\"bgcolor\":\"#E5ECF6\",\"radialaxis\":{\"gridcolor\":\"white\",\"linecolor\":\"white\",\"ticks\":\"\"}},\"scene\":{\"xaxis\":{\"backgroundcolor\":\"#E5ECF6\",\"gridcolor\":\"white\",\"gridwidth\":2,\"linecolor\":\"white\",\"showbackground\":true,\"ticks\":\"\",\"zerolinecolor\":\"white\"},\"yaxis\":{\"backgroundcolor\":\"#E5ECF6\",\"gridcolor\":\"white\",\"gridwidth\":2,\"linecolor\":\"white\",\"showbackground\":true,\"ticks\":\"\",\"zerolinecolor\":\"white\"},\"zaxis\":{\"backgroundcolor\":\"#E5ECF6\",\"gridcolor\":\"white\",\"gridwidth\":2,\"linecolor\":\"white\",\"showbackground\":true,\"ticks\":\"\",\"zerolinecolor\":\"white\"}},\"shapedefaults\":{\"line\":{\"color\":\"#2a3f5f\"}},\"ternary\":{\"aaxis\":{\"gridcolor\":\"white\",\"linecolor\":\"white\",\"ticks\":\"\"},\"baxis\":{\"gridcolor\":\"white\",\"linecolor\":\"white\",\"ticks\":\"\"},\"bgcolor\":\"#E5ECF6\",\"caxis\":{\"gridcolor\":\"white\",\"linecolor\":\"white\",\"ticks\":\"\"}},\"title\":{\"x\":0.05},\"xaxis\":{\"automargin\":true,\"gridcolor\":\"white\",\"linecolor\":\"white\",\"ticks\":\"\",\"title\":{\"standoff\":15},\"zerolinecolor\":\"white\",\"zerolinewidth\":2},\"yaxis\":{\"automargin\":true,\"gridcolor\":\"white\",\"linecolor\":\"white\",\"ticks\":\"\",\"title\":{\"standoff\":15},\"zerolinecolor\":\"white\",\"zerolinewidth\":2}}},\"xaxis\":{\"anchor\":\"y\",\"domain\":[0.0,1.0],\"title\":{\"text\":\"Type of Employment\"},\"categoryorder\":\"array\",\"categoryarray\":[\"FT\",\"CT\",\"PT\",\"FL\"]},\"yaxis\":{\"anchor\":\"x\",\"domain\":[0.0,1.0],\"title\":{\"text\":\"Salary in USD\"}},\"legend\":{\"title\":{\"text\":\"employment_type\"},\"tracegroupgap\":0},\"title\":{\"text\":\"Salary vs Employment type\"},\"boxmode\":\"overlay\"},                        {\"responsive\": true}                    ).then(function(){\n",
       "                            \n",
       "var gd = document.getElementById('4fc7e8c1-cd20-401f-9f46-06fea60c5719');\n",
       "var x = new MutationObserver(function (mutations, observer) {{\n",
       "        var display = window.getComputedStyle(gd).display;\n",
       "        if (!display || display === 'none') {{\n",
       "            console.log([gd, 'removed!']);\n",
       "            Plotly.purge(gd);\n",
       "            observer.disconnect();\n",
       "        }}\n",
       "}});\n",
       "\n",
       "// Listen for the removal of the full notebook cells\n",
       "var notebookContainer = gd.closest('#notebook-container');\n",
       "if (notebookContainer) {{\n",
       "    x.observe(notebookContainer, {childList: true});\n",
       "}}\n",
       "\n",
       "// Listen for the clearing of the current output cell\n",
       "var outputEl = gd.closest('.output');\n",
       "if (outputEl) {{\n",
       "    x.observe(outputEl, {childList: true});\n",
       "}}\n",
       "\n",
       "                        })                };                });            </script>        </div>"
      ]
     },
     "metadata": {},
     "output_type": "display_data"
    }
   ],
   "source": [
    "fig = px.box(dsjobs, x=\"employment_type\", y=\"salary_in_usd\",\n",
    "            title = 'Salary vs Employment type', color = 'employment_type',\n",
    "            color_discrete_sequence=px.colors.sequential.Plasma)\n",
    "fig.update_layout(xaxis_title=\"Type of Employment\", yaxis_title=\"Salary in USD\")\n",
    "fig.show()"
   ]
  },
  {
   "cell_type": "markdown",
   "metadata": {},
   "source": [
    "#### It seems contract based jobs earn the most out of all the type. Although the variation in their payscale is also too high. An interesting observation is that freelancers earn more than part timers but variation in their payscales almost looks proportional."
   ]
  },
  {
   "cell_type": "markdown",
   "metadata": {},
   "source": [
    "### Comparing salaries based on experience level and Size of company"
   ]
  },
  {
   "cell_type": "code",
   "execution_count": 62,
   "metadata": {},
   "outputs": [
    {
     "data": {
      "application/vnd.plotly.v1+json": {
       "config": {
        "plotlyServerURL": "https://plot.ly"
       },
       "data": [
        {
         "alignmentgroup": "True",
         "hovertemplate": "company_size=L<br>experience_level=%{x}<br>salary_in_usd=%{y}<extra></extra>",
         "legendgroup": "L",
         "marker": {
          "color": "rgb(133, 92, 117)"
         },
         "name": "L",
         "notched": false,
         "offsetgroup": "L",
         "orientation": "v",
         "showlegend": true,
         "type": "box",
         "x": [
          "MI",
          "SE",
          "EN",
          "MI",
          "MI",
          "MI",
          "MI",
          "MI",
          "MI",
          "MI",
          "SE",
          "MI",
          "EX",
          "EN",
          "EN",
          "SE",
          "EN",
          "SE",
          "MI",
          "MI",
          "MI",
          "EN",
          "EX",
          "MI",
          "MI",
          "SE",
          "MI",
          "MI",
          "EN",
          "EN",
          "SE",
          "MI",
          "SE",
          "EN",
          "EX",
          "EX",
          "SE",
          "MI",
          "SE",
          "MI",
          "MI",
          "EX",
          "MI",
          "MI",
          "SE",
          "SE",
          "MI",
          "SE",
          "EN",
          "MI",
          "MI",
          "MI",
          "SE",
          "MI",
          "MI",
          "MI",
          "MI",
          "MI",
          "EN",
          "SE",
          "MI",
          "EN",
          "MI",
          "MI",
          "EN",
          "MI",
          "SE",
          "SE",
          "MI",
          "SE",
          "SE",
          "MI",
          "MI",
          "SE",
          "MI",
          "EN",
          "SE",
          "SE",
          "MI",
          "EX",
          "MI",
          "EN",
          "SE",
          "EN",
          "EX",
          "MI",
          "MI",
          "MI",
          "SE",
          "SE",
          "SE",
          "MI",
          "MI",
          "MI",
          "MI",
          "SE",
          "SE",
          "SE",
          "SE",
          "MI",
          "SE",
          "SE",
          "MI",
          "MI",
          "SE",
          "MI",
          "SE",
          "MI",
          "EN",
          "SE",
          "MI",
          "SE",
          "MI",
          "MI",
          "MI",
          "SE",
          "MI",
          "SE",
          "EN",
          "SE",
          "SE",
          "MI",
          "SE",
          "MI",
          "MI",
          "SE",
          "MI",
          "EN",
          "SE",
          "MI",
          "EX",
          "MI",
          "MI",
          "SE",
          "EX",
          "MI",
          "SE",
          "SE",
          "EN",
          "EN",
          "EN",
          "SE",
          "SE",
          "EN",
          "MI",
          "EN",
          "MI",
          "MI",
          "SE",
          "SE",
          "MI",
          "MI",
          "SE",
          "SE",
          "SE",
          "SE",
          "EX",
          "EN",
          "SE",
          "SE",
          "SE",
          "SE",
          "SE",
          "SE",
          "MI",
          "MI",
          "SE",
          "SE",
          "SE",
          "SE",
          "SE",
          "EN",
          "EX",
          "MI",
          "MI",
          "MI",
          "EN",
          "MI",
          "SE",
          "MI",
          "SE",
          "EN",
          "SE",
          "EN",
          "MI",
          "MI",
          "MI",
          "EN",
          "MI",
          "MI",
          "MI",
          "SE",
          "SE",
          "MI",
          "SE",
          "SE",
          "SE",
          "MI"
         ],
         "x0": " ",
         "xaxis": "x",
         "y": [
          79833,
          150000,
          72000,
          35735,
          135000,
          40481,
          87000,
          85000,
          8000,
          6072,
          47899,
          115000,
          325000,
          42000,
          100000,
          117104,
          70000,
          68428,
          46759,
          74130,
          103000,
          250000,
          79833,
          106000,
          112872,
          188000,
          105000,
          70139,
          91000,
          54742,
          120000,
          110000,
          412000,
          82528,
          150000,
          235000,
          53192,
          270000,
          79197,
          140000,
          54238,
          153667,
          28476,
          110000,
          170000,
          88654,
          19609,
          276000,
          29751,
          89294,
          450000,
          75000,
          150000,
          36259,
          62000,
          73000,
          51519,
          187442,
          30428,
          94564,
          45391,
          225000,
          50000,
          200000,
          110037,
          151000,
          40570,
          220000,
          135000,
          240000,
          150000,
          100000,
          90000,
          153000,
          75774,
          13400,
          144000,
          127221,
          423000,
          230000,
          28369,
          63831,
          165000,
          80000,
          250000,
          150000,
          170000,
          82528,
          235000,
          60757,
          174000,
          40038,
          22611,
          90734,
          26005,
          61896,
          152000,
          174000,
          96113,
          147000,
          24342,
          54094,
          37825,
          160000,
          200000,
          20000,
          120000,
          24823,
          5882,
          185000,
          90734,
          140000,
          46597,
          116914,
          56256,
          225000,
          88654,
          135000,
          16228,
          200000,
          200000,
          180000,
          103691,
          80000,
          110000,
          165000,
          72212,
          36643,
          96282,
          115000,
          600000,
          93000,
          200000,
          185000,
          141846,
          130000,
          63831,
          66265,
          72500,
          76833,
          58000,
          55000,
          20171,
          59102,
          112000,
          100000,
          69741,
          69999,
          94665,
          102839,
          109000,
          51064,
          180000,
          120000,
          113000,
          160000,
          79039,
          37300,
          215300,
          158200,
          209100,
          154600,
          183600,
          60000,
          160000,
          112300,
          100800,
          140400,
          215300,
          209100,
          154600,
          21983,
          196979,
          37236,
          31615,
          58255,
          100000,
          54957,
          144000,
          35590,
          93427,
          52396,
          62651,
          40000,
          87425,
          75000,
          64849,
          120000,
          157000,
          70912,
          122346,
          380000,
          405000,
          135000,
          177000,
          205300,
          140400,
          200000
         ],
         "y0": " ",
         "yaxis": "y"
        },
        {
         "alignmentgroup": "True",
         "hovertemplate": "company_size=S<br>experience_level=%{x}<br>salary_in_usd=%{y}<extra></extra>",
         "legendgroup": "S",
         "marker": {
          "color": "rgb(217, 175, 107)"
         },
         "name": "S",
         "notched": false,
         "offsetgroup": "S",
         "orientation": "v",
         "showlegend": true,
         "type": "box",
         "x": [
          "SE",
          "MI",
          "SE",
          "SE",
          "EN",
          "EN",
          "SE",
          "SE",
          "MI",
          "EN",
          "EN",
          "MI",
          "EN",
          "MI",
          "EN",
          "EN",
          "SE",
          "EN",
          "SE",
          "EN",
          "EN",
          "EN",
          "SE",
          "MI",
          "MI",
          "MI",
          "SE",
          "EN",
          "EN",
          "MI",
          "SE",
          "SE",
          "EN",
          "SE",
          "MI",
          "EN",
          "EN",
          "EN",
          "MI",
          "MI",
          "MI",
          "SE",
          "SE",
          "EN",
          "EN",
          "EN",
          "MI",
          "EN",
          "MI",
          "EX",
          "SE",
          "MI",
          "MI",
          "EN",
          "EN",
          "SE",
          "MI",
          "MI",
          "MI",
          "EN",
          "EX",
          "SE",
          "SE",
          "MI",
          "EN",
          "EN",
          "MI",
          "MI",
          "SE",
          "EN",
          "MI",
          "EX",
          "MI",
          "MI",
          "SE",
          "SE",
          "MI",
          "MI",
          "EN",
          "EN",
          "SE",
          "MI",
          "MI"
         ],
         "x0": " ",
         "xaxis": "x",
         "y": [
          260000,
          20000,
          190000,
          125000,
          51321,
          41689,
          114047,
          33511,
          59303,
          10000,
          138000,
          45760,
          15966,
          76958,
          6072,
          45896,
          60000,
          21669,
          45618,
          62726,
          49268,
          105000,
          91237,
          62726,
          42197,
          47282,
          80000,
          76833,
          12000,
          95746,
          115000,
          103160,
          90000,
          120000,
          9466,
          20000,
          100000,
          100000,
          63711,
          77364,
          82500,
          160000,
          168000,
          125000,
          55000,
          60000,
          2859,
          81000,
          5679,
          69741,
          76833,
          74000,
          18000,
          9272,
          90000,
          50000,
          12901,
          56738,
          66022,
          28609,
          416000,
          87738,
          256000,
          110000,
          18053,
          90000,
          16904,
          25532,
          160000,
          85000,
          58000,
          118187,
          58000,
          120000,
          120000,
          65000,
          75000,
          32974,
          150000,
          65000,
          71444,
          48000,
          20000
         ],
         "y0": " ",
         "yaxis": "y"
        },
        {
         "alignmentgroup": "True",
         "hovertemplate": "company_size=M<br>experience_level=%{x}<br>salary_in_usd=%{y}<extra></extra>",
         "legendgroup": "M",
         "marker": {
          "color": "rgb(175, 100, 88)"
         },
         "name": "M",
         "notched": false,
         "offsetgroup": "M",
         "orientation": "v",
         "showlegend": true,
         "type": "box",
         "x": [
          "SE",
          "EN",
          "EN",
          "MI",
          "MI",
          "MI",
          "MI",
          "MI",
          "SE",
          "MI",
          "MI",
          "MI",
          "MI",
          "SE",
          "MI",
          "MI",
          "EN",
          "EN",
          "EN",
          "SE",
          "SE",
          "EN",
          "MI",
          "MI",
          "SE",
          "EN",
          "EN",
          "EN",
          "MI",
          "SE",
          "MI",
          "EN",
          "SE",
          "MI",
          "MI",
          "MI",
          "SE",
          "EX",
          "EX",
          "MI",
          "MI",
          "SE",
          "EN",
          "MI",
          "SE",
          "SE",
          "EN",
          "MI",
          "MI",
          "SE",
          "MI",
          "MI",
          "EN",
          "EN",
          "MI",
          "SE",
          "EN",
          "SE",
          "SE",
          "MI",
          "MI",
          "MI",
          "EN",
          "SE",
          "SE",
          "EN",
          "SE",
          "SE",
          "SE",
          "SE",
          "MI",
          "MI",
          "MI",
          "MI",
          "SE",
          "SE",
          "SE",
          "SE",
          "SE",
          "SE",
          "SE",
          "SE",
          "EN",
          "SE",
          "SE",
          "MI",
          "MI",
          "EX",
          "EX",
          "MI",
          "MI",
          "MI",
          "MI",
          "SE",
          "EN",
          "SE",
          "SE",
          "SE",
          "SE",
          "SE",
          "SE",
          "SE",
          "EX",
          "EX",
          "SE",
          "MI",
          "SE",
          "SE",
          "SE",
          "SE",
          "SE",
          "SE",
          "MI",
          "SE",
          "SE",
          "SE",
          "SE",
          "SE",
          "EX",
          "EX",
          "EX",
          "SE",
          "SE",
          "SE",
          "SE",
          "SE",
          "SE",
          "SE",
          "SE",
          "SE",
          "SE",
          "SE",
          "SE",
          "SE",
          "SE",
          "SE",
          "SE",
          "SE",
          "SE",
          "SE",
          "SE",
          "EX",
          "SE",
          "SE",
          "SE",
          "SE",
          "MI",
          "MI",
          "SE",
          "SE",
          "SE",
          "SE",
          "SE",
          "SE",
          "SE",
          "SE",
          "SE",
          "SE",
          "SE",
          "MI",
          "MI",
          "MI",
          "SE",
          "SE",
          "SE",
          "SE",
          "MI",
          "MI",
          "SE",
          "SE",
          "SE",
          "MI",
          "MI",
          "SE",
          "MI",
          "MI",
          "MI",
          "MI",
          "MI",
          "MI",
          "SE",
          "MI",
          "MI",
          "MI",
          "SE",
          "SE",
          "MI",
          "MI",
          "MI",
          "MI",
          "MI",
          "MI",
          "MI",
          "MI",
          "MI",
          "MI",
          "MI",
          "SE",
          "SE",
          "MI",
          "MI",
          "MI",
          "MI",
          "MI",
          "SE",
          "SE",
          "MI",
          "EN",
          "SE",
          "SE",
          "MI",
          "EN",
          "SE",
          "EN",
          "SE",
          "SE",
          "SE",
          "MI",
          "MI",
          "SE",
          "SE",
          "MI",
          "MI",
          "SE",
          "SE",
          "MI",
          "MI",
          "EX",
          "EX",
          "SE",
          "SE",
          "SE",
          "EN",
          "MI",
          "EN",
          "SE",
          "SE",
          "SE",
          "MI",
          "EN",
          "SE",
          "SE",
          "EN",
          "EN",
          "SE",
          "MI",
          "MI",
          "EN",
          "MI",
          "SE",
          "SE",
          "SE",
          "MI",
          "MI",
          "SE",
          "SE",
          "SE",
          "SE",
          "SE",
          "SE",
          "MI",
          "MI",
          "SE",
          "SE",
          "MI",
          "MI",
          "SE",
          "SE",
          "SE",
          "SE",
          "SE",
          "SE",
          "SE",
          "SE",
          "SE",
          "SE",
          "SE",
          "SE",
          "SE",
          "SE",
          "SE",
          "SE",
          "SE",
          "SE",
          "SE",
          "SE",
          "SE",
          "MI",
          "SE",
          "SE",
          "SE",
          "SE",
          "SE",
          "SE",
          "SE",
          "SE",
          "SE",
          "SE",
          "SE",
          "SE",
          "SE",
          "SE",
          "SE",
          "SE",
          "SE",
          "SE",
          "MI",
          "SE",
          "SE",
          "SE",
          "SE",
          "SE",
          "SE",
          "SE",
          "SE",
          "SE",
          "SE",
          "SE",
          "MI",
          "MI",
          "EN",
          "EN",
          "SE",
          "SE",
          "SE",
          "SE"
         ],
         "x0": " ",
         "xaxis": "x",
         "y": [
          109024,
          39916,
          5707,
          56000,
          43331,
          98000,
          450000,
          50180,
          148261,
          38776,
          118000,
          138350,
          130800,
          190200,
          100000,
          5409,
          80000,
          59102,
          70000,
          150000,
          113476,
          12000,
          40189,
          60000,
          200000,
          50000,
          10354,
          49646,
          38400,
          24000,
          90000,
          80000,
          82744,
          62649,
          150000,
          119059,
          120000,
          85000,
          130026,
          12000,
          4000,
          50000,
          21844,
          61467,
          195000,
          165000,
          24823,
          88654,
          33808,
          71786,
          63810,
          46809,
          4000,
          21637,
          12103,
          170000,
          28399,
          99703,
          173762,
          93150,
          111775,
          28016,
          65013,
          18907,
          77684,
          100000,
          105000,
          135000,
          155000,
          120600,
          130000,
          90000,
          170000,
          150000,
          102100,
          84900,
          136620,
          99360,
          117789,
          104702,
          146000,
          123000,
          52351,
          99000,
          116000,
          106260,
          126500,
          242000,
          200000,
          65438,
          39263,
          78526,
          52351,
          165220,
          45807,
          120160,
          90320,
          181940,
          132320,
          220110,
          160080,
          124190,
          130000,
          110000,
          170000,
          115500,
          112900,
          90320,
          112900,
          90320,
          165400,
          132320,
          167000,
          243900,
          136600,
          109280,
          128875,
          93700,
          224000,
          167875,
          175000,
          156600,
          108800,
          95550,
          135000,
          161342,
          137141,
          167000,
          123000,
          78526,
          65438,
          150000,
          211500,
          192400,
          90700,
          130000,
          61300,
          130000,
          61300,
          138600,
          136000,
          135000,
          170000,
          123000,
          189650,
          164996,
          54957,
          54957,
          132000,
          165400,
          208775,
          147800,
          136994,
          101570,
          128875,
          93700,
          132320,
          164000,
          155000,
          124333,
          98158,
          120000,
          112900,
          90320,
          145000,
          105400,
          87932,
          117789,
          115934,
          81666,
          175000,
          98158,
          52351,
          180000,
          71982,
          45807,
          65949,
          49461,
          78526,
          58894,
          260000,
          63900,
          241000,
          159000,
          180000,
          80000,
          82900,
          49461,
          39263,
          43966,
          32974,
          87932,
          76940,
          104702,
          91614,
          65949,
          87932,
          189650,
          164996,
          43966,
          32974,
          98158,
          78526,
          76940,
          180000,
          80000,
          78791,
          125000,
          105000,
          87932,
          18442,
          18442,
          162674,
          120000,
          104890,
          100000,
          140000,
          135000,
          50000,
          220000,
          140000,
          183228,
          91614,
          185100,
          220000,
          200000,
          120000,
          324000,
          216000,
          210000,
          120000,
          230000,
          100000,
          100000,
          31875,
          200000,
          78791,
          100000,
          153000,
          58035,
          165000,
          115000,
          86703,
          20000,
          152500,
          68147,
          69336,
          10000,
          78000,
          135000,
          100000,
          90320,
          85000,
          75000,
          214000,
          192600,
          266400,
          213120,
          112900,
          155000,
          141300,
          102100,
          115934,
          81666,
          206699,
          99100,
          130000,
          115000,
          110500,
          130000,
          99050,
          160000,
          176000,
          144000,
          200100,
          160000,
          145000,
          70500,
          205300,
          140400,
          205300,
          184700,
          175100,
          140250,
          116150,
          54000,
          170000,
          65438,
          80000,
          140000,
          210000,
          140000,
          100000,
          69000,
          210000,
          140000,
          210000,
          150075,
          100000,
          25000,
          126500,
          106260,
          220110,
          160080,
          105000,
          110925,
          45807,
          140000,
          99000,
          60000,
          192564,
          144854,
          230000,
          150000,
          150260,
          109280,
          210000,
          170000,
          160000,
          130000,
          67000,
          52000,
          154000,
          126000,
          129000,
          150000
         ],
         "y0": " ",
         "yaxis": "y"
        }
       ],
       "layout": {
        "boxmode": "group",
        "legend": {
         "title": {
          "text": "company_size"
         },
         "tracegroupgap": 0
        },
        "template": {
         "data": {
          "bar": [
           {
            "error_x": {
             "color": "#2a3f5f"
            },
            "error_y": {
             "color": "#2a3f5f"
            },
            "marker": {
             "line": {
              "color": "#E5ECF6",
              "width": 0.5
             },
             "pattern": {
              "fillmode": "overlay",
              "size": 10,
              "solidity": 0.2
             }
            },
            "type": "bar"
           }
          ],
          "barpolar": [
           {
            "marker": {
             "line": {
              "color": "#E5ECF6",
              "width": 0.5
             },
             "pattern": {
              "fillmode": "overlay",
              "size": 10,
              "solidity": 0.2
             }
            },
            "type": "barpolar"
           }
          ],
          "carpet": [
           {
            "aaxis": {
             "endlinecolor": "#2a3f5f",
             "gridcolor": "white",
             "linecolor": "white",
             "minorgridcolor": "white",
             "startlinecolor": "#2a3f5f"
            },
            "baxis": {
             "endlinecolor": "#2a3f5f",
             "gridcolor": "white",
             "linecolor": "white",
             "minorgridcolor": "white",
             "startlinecolor": "#2a3f5f"
            },
            "type": "carpet"
           }
          ],
          "choropleth": [
           {
            "colorbar": {
             "outlinewidth": 0,
             "ticks": ""
            },
            "type": "choropleth"
           }
          ],
          "contour": [
           {
            "colorbar": {
             "outlinewidth": 0,
             "ticks": ""
            },
            "colorscale": [
             [
              0,
              "#0d0887"
             ],
             [
              0.1111111111111111,
              "#46039f"
             ],
             [
              0.2222222222222222,
              "#7201a8"
             ],
             [
              0.3333333333333333,
              "#9c179e"
             ],
             [
              0.4444444444444444,
              "#bd3786"
             ],
             [
              0.5555555555555556,
              "#d8576b"
             ],
             [
              0.6666666666666666,
              "#ed7953"
             ],
             [
              0.7777777777777778,
              "#fb9f3a"
             ],
             [
              0.8888888888888888,
              "#fdca26"
             ],
             [
              1,
              "#f0f921"
             ]
            ],
            "type": "contour"
           }
          ],
          "contourcarpet": [
           {
            "colorbar": {
             "outlinewidth": 0,
             "ticks": ""
            },
            "type": "contourcarpet"
           }
          ],
          "heatmap": [
           {
            "colorbar": {
             "outlinewidth": 0,
             "ticks": ""
            },
            "colorscale": [
             [
              0,
              "#0d0887"
             ],
             [
              0.1111111111111111,
              "#46039f"
             ],
             [
              0.2222222222222222,
              "#7201a8"
             ],
             [
              0.3333333333333333,
              "#9c179e"
             ],
             [
              0.4444444444444444,
              "#bd3786"
             ],
             [
              0.5555555555555556,
              "#d8576b"
             ],
             [
              0.6666666666666666,
              "#ed7953"
             ],
             [
              0.7777777777777778,
              "#fb9f3a"
             ],
             [
              0.8888888888888888,
              "#fdca26"
             ],
             [
              1,
              "#f0f921"
             ]
            ],
            "type": "heatmap"
           }
          ],
          "heatmapgl": [
           {
            "colorbar": {
             "outlinewidth": 0,
             "ticks": ""
            },
            "colorscale": [
             [
              0,
              "#0d0887"
             ],
             [
              0.1111111111111111,
              "#46039f"
             ],
             [
              0.2222222222222222,
              "#7201a8"
             ],
             [
              0.3333333333333333,
              "#9c179e"
             ],
             [
              0.4444444444444444,
              "#bd3786"
             ],
             [
              0.5555555555555556,
              "#d8576b"
             ],
             [
              0.6666666666666666,
              "#ed7953"
             ],
             [
              0.7777777777777778,
              "#fb9f3a"
             ],
             [
              0.8888888888888888,
              "#fdca26"
             ],
             [
              1,
              "#f0f921"
             ]
            ],
            "type": "heatmapgl"
           }
          ],
          "histogram": [
           {
            "marker": {
             "pattern": {
              "fillmode": "overlay",
              "size": 10,
              "solidity": 0.2
             }
            },
            "type": "histogram"
           }
          ],
          "histogram2d": [
           {
            "colorbar": {
             "outlinewidth": 0,
             "ticks": ""
            },
            "colorscale": [
             [
              0,
              "#0d0887"
             ],
             [
              0.1111111111111111,
              "#46039f"
             ],
             [
              0.2222222222222222,
              "#7201a8"
             ],
             [
              0.3333333333333333,
              "#9c179e"
             ],
             [
              0.4444444444444444,
              "#bd3786"
             ],
             [
              0.5555555555555556,
              "#d8576b"
             ],
             [
              0.6666666666666666,
              "#ed7953"
             ],
             [
              0.7777777777777778,
              "#fb9f3a"
             ],
             [
              0.8888888888888888,
              "#fdca26"
             ],
             [
              1,
              "#f0f921"
             ]
            ],
            "type": "histogram2d"
           }
          ],
          "histogram2dcontour": [
           {
            "colorbar": {
             "outlinewidth": 0,
             "ticks": ""
            },
            "colorscale": [
             [
              0,
              "#0d0887"
             ],
             [
              0.1111111111111111,
              "#46039f"
             ],
             [
              0.2222222222222222,
              "#7201a8"
             ],
             [
              0.3333333333333333,
              "#9c179e"
             ],
             [
              0.4444444444444444,
              "#bd3786"
             ],
             [
              0.5555555555555556,
              "#d8576b"
             ],
             [
              0.6666666666666666,
              "#ed7953"
             ],
             [
              0.7777777777777778,
              "#fb9f3a"
             ],
             [
              0.8888888888888888,
              "#fdca26"
             ],
             [
              1,
              "#f0f921"
             ]
            ],
            "type": "histogram2dcontour"
           }
          ],
          "mesh3d": [
           {
            "colorbar": {
             "outlinewidth": 0,
             "ticks": ""
            },
            "type": "mesh3d"
           }
          ],
          "parcoords": [
           {
            "line": {
             "colorbar": {
              "outlinewidth": 0,
              "ticks": ""
             }
            },
            "type": "parcoords"
           }
          ],
          "pie": [
           {
            "automargin": true,
            "type": "pie"
           }
          ],
          "scatter": [
           {
            "marker": {
             "colorbar": {
              "outlinewidth": 0,
              "ticks": ""
             }
            },
            "type": "scatter"
           }
          ],
          "scatter3d": [
           {
            "line": {
             "colorbar": {
              "outlinewidth": 0,
              "ticks": ""
             }
            },
            "marker": {
             "colorbar": {
              "outlinewidth": 0,
              "ticks": ""
             }
            },
            "type": "scatter3d"
           }
          ],
          "scattercarpet": [
           {
            "marker": {
             "colorbar": {
              "outlinewidth": 0,
              "ticks": ""
             }
            },
            "type": "scattercarpet"
           }
          ],
          "scattergeo": [
           {
            "marker": {
             "colorbar": {
              "outlinewidth": 0,
              "ticks": ""
             }
            },
            "type": "scattergeo"
           }
          ],
          "scattergl": [
           {
            "marker": {
             "colorbar": {
              "outlinewidth": 0,
              "ticks": ""
             }
            },
            "type": "scattergl"
           }
          ],
          "scattermapbox": [
           {
            "marker": {
             "colorbar": {
              "outlinewidth": 0,
              "ticks": ""
             }
            },
            "type": "scattermapbox"
           }
          ],
          "scatterpolar": [
           {
            "marker": {
             "colorbar": {
              "outlinewidth": 0,
              "ticks": ""
             }
            },
            "type": "scatterpolar"
           }
          ],
          "scatterpolargl": [
           {
            "marker": {
             "colorbar": {
              "outlinewidth": 0,
              "ticks": ""
             }
            },
            "type": "scatterpolargl"
           }
          ],
          "scatterternary": [
           {
            "marker": {
             "colorbar": {
              "outlinewidth": 0,
              "ticks": ""
             }
            },
            "type": "scatterternary"
           }
          ],
          "surface": [
           {
            "colorbar": {
             "outlinewidth": 0,
             "ticks": ""
            },
            "colorscale": [
             [
              0,
              "#0d0887"
             ],
             [
              0.1111111111111111,
              "#46039f"
             ],
             [
              0.2222222222222222,
              "#7201a8"
             ],
             [
              0.3333333333333333,
              "#9c179e"
             ],
             [
              0.4444444444444444,
              "#bd3786"
             ],
             [
              0.5555555555555556,
              "#d8576b"
             ],
             [
              0.6666666666666666,
              "#ed7953"
             ],
             [
              0.7777777777777778,
              "#fb9f3a"
             ],
             [
              0.8888888888888888,
              "#fdca26"
             ],
             [
              1,
              "#f0f921"
             ]
            ],
            "type": "surface"
           }
          ],
          "table": [
           {
            "cells": {
             "fill": {
              "color": "#EBF0F8"
             },
             "line": {
              "color": "white"
             }
            },
            "header": {
             "fill": {
              "color": "#C8D4E3"
             },
             "line": {
              "color": "white"
             }
            },
            "type": "table"
           }
          ]
         },
         "layout": {
          "annotationdefaults": {
           "arrowcolor": "#2a3f5f",
           "arrowhead": 0,
           "arrowwidth": 1
          },
          "autotypenumbers": "strict",
          "coloraxis": {
           "colorbar": {
            "outlinewidth": 0,
            "ticks": ""
           }
          },
          "colorscale": {
           "diverging": [
            [
             0,
             "#8e0152"
            ],
            [
             0.1,
             "#c51b7d"
            ],
            [
             0.2,
             "#de77ae"
            ],
            [
             0.3,
             "#f1b6da"
            ],
            [
             0.4,
             "#fde0ef"
            ],
            [
             0.5,
             "#f7f7f7"
            ],
            [
             0.6,
             "#e6f5d0"
            ],
            [
             0.7,
             "#b8e186"
            ],
            [
             0.8,
             "#7fbc41"
            ],
            [
             0.9,
             "#4d9221"
            ],
            [
             1,
             "#276419"
            ]
           ],
           "sequential": [
            [
             0,
             "#0d0887"
            ],
            [
             0.1111111111111111,
             "#46039f"
            ],
            [
             0.2222222222222222,
             "#7201a8"
            ],
            [
             0.3333333333333333,
             "#9c179e"
            ],
            [
             0.4444444444444444,
             "#bd3786"
            ],
            [
             0.5555555555555556,
             "#d8576b"
            ],
            [
             0.6666666666666666,
             "#ed7953"
            ],
            [
             0.7777777777777778,
             "#fb9f3a"
            ],
            [
             0.8888888888888888,
             "#fdca26"
            ],
            [
             1,
             "#f0f921"
            ]
           ],
           "sequentialminus": [
            [
             0,
             "#0d0887"
            ],
            [
             0.1111111111111111,
             "#46039f"
            ],
            [
             0.2222222222222222,
             "#7201a8"
            ],
            [
             0.3333333333333333,
             "#9c179e"
            ],
            [
             0.4444444444444444,
             "#bd3786"
            ],
            [
             0.5555555555555556,
             "#d8576b"
            ],
            [
             0.6666666666666666,
             "#ed7953"
            ],
            [
             0.7777777777777778,
             "#fb9f3a"
            ],
            [
             0.8888888888888888,
             "#fdca26"
            ],
            [
             1,
             "#f0f921"
            ]
           ]
          },
          "colorway": [
           "#636efa",
           "#EF553B",
           "#00cc96",
           "#ab63fa",
           "#FFA15A",
           "#19d3f3",
           "#FF6692",
           "#B6E880",
           "#FF97FF",
           "#FECB52"
          ],
          "font": {
           "color": "#2a3f5f"
          },
          "geo": {
           "bgcolor": "white",
           "lakecolor": "white",
           "landcolor": "#E5ECF6",
           "showlakes": true,
           "showland": true,
           "subunitcolor": "white"
          },
          "hoverlabel": {
           "align": "left"
          },
          "hovermode": "closest",
          "mapbox": {
           "style": "light"
          },
          "paper_bgcolor": "white",
          "plot_bgcolor": "#E5ECF6",
          "polar": {
           "angularaxis": {
            "gridcolor": "white",
            "linecolor": "white",
            "ticks": ""
           },
           "bgcolor": "#E5ECF6",
           "radialaxis": {
            "gridcolor": "white",
            "linecolor": "white",
            "ticks": ""
           }
          },
          "scene": {
           "xaxis": {
            "backgroundcolor": "#E5ECF6",
            "gridcolor": "white",
            "gridwidth": 2,
            "linecolor": "white",
            "showbackground": true,
            "ticks": "",
            "zerolinecolor": "white"
           },
           "yaxis": {
            "backgroundcolor": "#E5ECF6",
            "gridcolor": "white",
            "gridwidth": 2,
            "linecolor": "white",
            "showbackground": true,
            "ticks": "",
            "zerolinecolor": "white"
           },
           "zaxis": {
            "backgroundcolor": "#E5ECF6",
            "gridcolor": "white",
            "gridwidth": 2,
            "linecolor": "white",
            "showbackground": true,
            "ticks": "",
            "zerolinecolor": "white"
           }
          },
          "shapedefaults": {
           "line": {
            "color": "#2a3f5f"
           }
          },
          "ternary": {
           "aaxis": {
            "gridcolor": "white",
            "linecolor": "white",
            "ticks": ""
           },
           "baxis": {
            "gridcolor": "white",
            "linecolor": "white",
            "ticks": ""
           },
           "bgcolor": "#E5ECF6",
           "caxis": {
            "gridcolor": "white",
            "linecolor": "white",
            "ticks": ""
           }
          },
          "title": {
           "x": 0.05
          },
          "xaxis": {
           "automargin": true,
           "gridcolor": "white",
           "linecolor": "white",
           "ticks": "",
           "title": {
            "standoff": 15
           },
           "zerolinecolor": "white",
           "zerolinewidth": 2
          },
          "yaxis": {
           "automargin": true,
           "gridcolor": "white",
           "linecolor": "white",
           "ticks": "",
           "title": {
            "standoff": 15
           },
           "zerolinecolor": "white",
           "zerolinewidth": 2
          }
         }
        },
        "title": {
         "text": "Salary vs Experience level based on Company Size"
        },
        "xaxis": {
         "anchor": "y",
         "domain": [
          0,
          1
         ],
         "title": {
          "text": "Experience Level"
         }
        },
        "yaxis": {
         "anchor": "x",
         "domain": [
          0,
          1
         ],
         "title": {
          "text": "Salary in USD"
         }
        }
       }
      },
      "text/html": [
       "<div>                            <div id=\"9871310a-c2f8-44b6-8b96-a36bb4ee5729\" class=\"plotly-graph-div\" style=\"height:525px; width:100%;\"></div>            <script type=\"text/javascript\">                require([\"plotly\"], function(Plotly) {                    window.PLOTLYENV=window.PLOTLYENV || {};                                    if (document.getElementById(\"9871310a-c2f8-44b6-8b96-a36bb4ee5729\")) {                    Plotly.newPlot(                        \"9871310a-c2f8-44b6-8b96-a36bb4ee5729\",                        [{\"alignmentgroup\":\"True\",\"hovertemplate\":\"company_size=L<br>experience_level=%{x}<br>salary_in_usd=%{y}<extra></extra>\",\"legendgroup\":\"L\",\"marker\":{\"color\":\"rgb(133, 92, 117)\"},\"name\":\"L\",\"notched\":false,\"offsetgroup\":\"L\",\"orientation\":\"v\",\"showlegend\":true,\"x\":[\"MI\",\"SE\",\"EN\",\"MI\",\"MI\",\"MI\",\"MI\",\"MI\",\"MI\",\"MI\",\"SE\",\"MI\",\"EX\",\"EN\",\"EN\",\"SE\",\"EN\",\"SE\",\"MI\",\"MI\",\"MI\",\"EN\",\"EX\",\"MI\",\"MI\",\"SE\",\"MI\",\"MI\",\"EN\",\"EN\",\"SE\",\"MI\",\"SE\",\"EN\",\"EX\",\"EX\",\"SE\",\"MI\",\"SE\",\"MI\",\"MI\",\"EX\",\"MI\",\"MI\",\"SE\",\"SE\",\"MI\",\"SE\",\"EN\",\"MI\",\"MI\",\"MI\",\"SE\",\"MI\",\"MI\",\"MI\",\"MI\",\"MI\",\"EN\",\"SE\",\"MI\",\"EN\",\"MI\",\"MI\",\"EN\",\"MI\",\"SE\",\"SE\",\"MI\",\"SE\",\"SE\",\"MI\",\"MI\",\"SE\",\"MI\",\"EN\",\"SE\",\"SE\",\"MI\",\"EX\",\"MI\",\"EN\",\"SE\",\"EN\",\"EX\",\"MI\",\"MI\",\"MI\",\"SE\",\"SE\",\"SE\",\"MI\",\"MI\",\"MI\",\"MI\",\"SE\",\"SE\",\"SE\",\"SE\",\"MI\",\"SE\",\"SE\",\"MI\",\"MI\",\"SE\",\"MI\",\"SE\",\"MI\",\"EN\",\"SE\",\"MI\",\"SE\",\"MI\",\"MI\",\"MI\",\"SE\",\"MI\",\"SE\",\"EN\",\"SE\",\"SE\",\"MI\",\"SE\",\"MI\",\"MI\",\"SE\",\"MI\",\"EN\",\"SE\",\"MI\",\"EX\",\"MI\",\"MI\",\"SE\",\"EX\",\"MI\",\"SE\",\"SE\",\"EN\",\"EN\",\"EN\",\"SE\",\"SE\",\"EN\",\"MI\",\"EN\",\"MI\",\"MI\",\"SE\",\"SE\",\"MI\",\"MI\",\"SE\",\"SE\",\"SE\",\"SE\",\"EX\",\"EN\",\"SE\",\"SE\",\"SE\",\"SE\",\"SE\",\"SE\",\"MI\",\"MI\",\"SE\",\"SE\",\"SE\",\"SE\",\"SE\",\"EN\",\"EX\",\"MI\",\"MI\",\"MI\",\"EN\",\"MI\",\"SE\",\"MI\",\"SE\",\"EN\",\"SE\",\"EN\",\"MI\",\"MI\",\"MI\",\"EN\",\"MI\",\"MI\",\"MI\",\"SE\",\"SE\",\"MI\",\"SE\",\"SE\",\"SE\",\"MI\"],\"x0\":\" \",\"xaxis\":\"x\",\"y\":[79833,150000,72000,35735,135000,40481,87000,85000,8000,6072,47899,115000,325000,42000,100000,117104,70000,68428,46759,74130,103000,250000,79833,106000,112872,188000,105000,70139,91000,54742,120000,110000,412000,82528,150000,235000,53192,270000,79197,140000,54238,153667,28476,110000,170000,88654,19609,276000,29751,89294,450000,75000,150000,36259,62000,73000,51519,187442,30428,94564,45391,225000,50000,200000,110037,151000,40570,220000,135000,240000,150000,100000,90000,153000,75774,13400,144000,127221,423000,230000,28369,63831,165000,80000,250000,150000,170000,82528,235000,60757,174000,40038,22611,90734,26005,61896,152000,174000,96113,147000,24342,54094,37825,160000,200000,20000,120000,24823,5882,185000,90734,140000,46597,116914,56256,225000,88654,135000,16228,200000,200000,180000,103691,80000,110000,165000,72212,36643,96282,115000,600000,93000,200000,185000,141846,130000,63831,66265,72500,76833,58000,55000,20171,59102,112000,100000,69741,69999,94665,102839,109000,51064,180000,120000,113000,160000,79039,37300,215300,158200,209100,154600,183600,60000,160000,112300,100800,140400,215300,209100,154600,21983,196979,37236,31615,58255,100000,54957,144000,35590,93427,52396,62651,40000,87425,75000,64849,120000,157000,70912,122346,380000,405000,135000,177000,205300,140400,200000],\"y0\":\" \",\"yaxis\":\"y\",\"type\":\"box\"},{\"alignmentgroup\":\"True\",\"hovertemplate\":\"company_size=S<br>experience_level=%{x}<br>salary_in_usd=%{y}<extra></extra>\",\"legendgroup\":\"S\",\"marker\":{\"color\":\"rgb(217, 175, 107)\"},\"name\":\"S\",\"notched\":false,\"offsetgroup\":\"S\",\"orientation\":\"v\",\"showlegend\":true,\"x\":[\"SE\",\"MI\",\"SE\",\"SE\",\"EN\",\"EN\",\"SE\",\"SE\",\"MI\",\"EN\",\"EN\",\"MI\",\"EN\",\"MI\",\"EN\",\"EN\",\"SE\",\"EN\",\"SE\",\"EN\",\"EN\",\"EN\",\"SE\",\"MI\",\"MI\",\"MI\",\"SE\",\"EN\",\"EN\",\"MI\",\"SE\",\"SE\",\"EN\",\"SE\",\"MI\",\"EN\",\"EN\",\"EN\",\"MI\",\"MI\",\"MI\",\"SE\",\"SE\",\"EN\",\"EN\",\"EN\",\"MI\",\"EN\",\"MI\",\"EX\",\"SE\",\"MI\",\"MI\",\"EN\",\"EN\",\"SE\",\"MI\",\"MI\",\"MI\",\"EN\",\"EX\",\"SE\",\"SE\",\"MI\",\"EN\",\"EN\",\"MI\",\"MI\",\"SE\",\"EN\",\"MI\",\"EX\",\"MI\",\"MI\",\"SE\",\"SE\",\"MI\",\"MI\",\"EN\",\"EN\",\"SE\",\"MI\",\"MI\"],\"x0\":\" \",\"xaxis\":\"x\",\"y\":[260000,20000,190000,125000,51321,41689,114047,33511,59303,10000,138000,45760,15966,76958,6072,45896,60000,21669,45618,62726,49268,105000,91237,62726,42197,47282,80000,76833,12000,95746,115000,103160,90000,120000,9466,20000,100000,100000,63711,77364,82500,160000,168000,125000,55000,60000,2859,81000,5679,69741,76833,74000,18000,9272,90000,50000,12901,56738,66022,28609,416000,87738,256000,110000,18053,90000,16904,25532,160000,85000,58000,118187,58000,120000,120000,65000,75000,32974,150000,65000,71444,48000,20000],\"y0\":\" \",\"yaxis\":\"y\",\"type\":\"box\"},{\"alignmentgroup\":\"True\",\"hovertemplate\":\"company_size=M<br>experience_level=%{x}<br>salary_in_usd=%{y}<extra></extra>\",\"legendgroup\":\"M\",\"marker\":{\"color\":\"rgb(175, 100, 88)\"},\"name\":\"M\",\"notched\":false,\"offsetgroup\":\"M\",\"orientation\":\"v\",\"showlegend\":true,\"x\":[\"SE\",\"EN\",\"EN\",\"MI\",\"MI\",\"MI\",\"MI\",\"MI\",\"SE\",\"MI\",\"MI\",\"MI\",\"MI\",\"SE\",\"MI\",\"MI\",\"EN\",\"EN\",\"EN\",\"SE\",\"SE\",\"EN\",\"MI\",\"MI\",\"SE\",\"EN\",\"EN\",\"EN\",\"MI\",\"SE\",\"MI\",\"EN\",\"SE\",\"MI\",\"MI\",\"MI\",\"SE\",\"EX\",\"EX\",\"MI\",\"MI\",\"SE\",\"EN\",\"MI\",\"SE\",\"SE\",\"EN\",\"MI\",\"MI\",\"SE\",\"MI\",\"MI\",\"EN\",\"EN\",\"MI\",\"SE\",\"EN\",\"SE\",\"SE\",\"MI\",\"MI\",\"MI\",\"EN\",\"SE\",\"SE\",\"EN\",\"SE\",\"SE\",\"SE\",\"SE\",\"MI\",\"MI\",\"MI\",\"MI\",\"SE\",\"SE\",\"SE\",\"SE\",\"SE\",\"SE\",\"SE\",\"SE\",\"EN\",\"SE\",\"SE\",\"MI\",\"MI\",\"EX\",\"EX\",\"MI\",\"MI\",\"MI\",\"MI\",\"SE\",\"EN\",\"SE\",\"SE\",\"SE\",\"SE\",\"SE\",\"SE\",\"SE\",\"EX\",\"EX\",\"SE\",\"MI\",\"SE\",\"SE\",\"SE\",\"SE\",\"SE\",\"SE\",\"MI\",\"SE\",\"SE\",\"SE\",\"SE\",\"SE\",\"EX\",\"EX\",\"EX\",\"SE\",\"SE\",\"SE\",\"SE\",\"SE\",\"SE\",\"SE\",\"SE\",\"SE\",\"SE\",\"SE\",\"SE\",\"SE\",\"SE\",\"SE\",\"SE\",\"SE\",\"SE\",\"SE\",\"SE\",\"EX\",\"SE\",\"SE\",\"SE\",\"SE\",\"MI\",\"MI\",\"SE\",\"SE\",\"SE\",\"SE\",\"SE\",\"SE\",\"SE\",\"SE\",\"SE\",\"SE\",\"SE\",\"MI\",\"MI\",\"MI\",\"SE\",\"SE\",\"SE\",\"SE\",\"MI\",\"MI\",\"SE\",\"SE\",\"SE\",\"MI\",\"MI\",\"SE\",\"MI\",\"MI\",\"MI\",\"MI\",\"MI\",\"MI\",\"SE\",\"MI\",\"MI\",\"MI\",\"SE\",\"SE\",\"MI\",\"MI\",\"MI\",\"MI\",\"MI\",\"MI\",\"MI\",\"MI\",\"MI\",\"MI\",\"MI\",\"SE\",\"SE\",\"MI\",\"MI\",\"MI\",\"MI\",\"MI\",\"SE\",\"SE\",\"MI\",\"EN\",\"SE\",\"SE\",\"MI\",\"EN\",\"SE\",\"EN\",\"SE\",\"SE\",\"SE\",\"MI\",\"MI\",\"SE\",\"SE\",\"MI\",\"MI\",\"SE\",\"SE\",\"MI\",\"MI\",\"EX\",\"EX\",\"SE\",\"SE\",\"SE\",\"EN\",\"MI\",\"EN\",\"SE\",\"SE\",\"SE\",\"MI\",\"EN\",\"SE\",\"SE\",\"EN\",\"EN\",\"SE\",\"MI\",\"MI\",\"EN\",\"MI\",\"SE\",\"SE\",\"SE\",\"MI\",\"MI\",\"SE\",\"SE\",\"SE\",\"SE\",\"SE\",\"SE\",\"MI\",\"MI\",\"SE\",\"SE\",\"MI\",\"MI\",\"SE\",\"SE\",\"SE\",\"SE\",\"SE\",\"SE\",\"SE\",\"SE\",\"SE\",\"SE\",\"SE\",\"SE\",\"SE\",\"SE\",\"SE\",\"SE\",\"SE\",\"SE\",\"SE\",\"SE\",\"SE\",\"MI\",\"SE\",\"SE\",\"SE\",\"SE\",\"SE\",\"SE\",\"SE\",\"SE\",\"SE\",\"SE\",\"SE\",\"SE\",\"SE\",\"SE\",\"SE\",\"SE\",\"SE\",\"SE\",\"MI\",\"SE\",\"SE\",\"SE\",\"SE\",\"SE\",\"SE\",\"SE\",\"SE\",\"SE\",\"SE\",\"SE\",\"MI\",\"MI\",\"EN\",\"EN\",\"SE\",\"SE\",\"SE\",\"SE\"],\"x0\":\" \",\"xaxis\":\"x\",\"y\":[109024,39916,5707,56000,43331,98000,450000,50180,148261,38776,118000,138350,130800,190200,100000,5409,80000,59102,70000,150000,113476,12000,40189,60000,200000,50000,10354,49646,38400,24000,90000,80000,82744,62649,150000,119059,120000,85000,130026,12000,4000,50000,21844,61467,195000,165000,24823,88654,33808,71786,63810,46809,4000,21637,12103,170000,28399,99703,173762,93150,111775,28016,65013,18907,77684,100000,105000,135000,155000,120600,130000,90000,170000,150000,102100,84900,136620,99360,117789,104702,146000,123000,52351,99000,116000,106260,126500,242000,200000,65438,39263,78526,52351,165220,45807,120160,90320,181940,132320,220110,160080,124190,130000,110000,170000,115500,112900,90320,112900,90320,165400,132320,167000,243900,136600,109280,128875,93700,224000,167875,175000,156600,108800,95550,135000,161342,137141,167000,123000,78526,65438,150000,211500,192400,90700,130000,61300,130000,61300,138600,136000,135000,170000,123000,189650,164996,54957,54957,132000,165400,208775,147800,136994,101570,128875,93700,132320,164000,155000,124333,98158,120000,112900,90320,145000,105400,87932,117789,115934,81666,175000,98158,52351,180000,71982,45807,65949,49461,78526,58894,260000,63900,241000,159000,180000,80000,82900,49461,39263,43966,32974,87932,76940,104702,91614,65949,87932,189650,164996,43966,32974,98158,78526,76940,180000,80000,78791,125000,105000,87932,18442,18442,162674,120000,104890,100000,140000,135000,50000,220000,140000,183228,91614,185100,220000,200000,120000,324000,216000,210000,120000,230000,100000,100000,31875,200000,78791,100000,153000,58035,165000,115000,86703,20000,152500,68147,69336,10000,78000,135000,100000,90320,85000,75000,214000,192600,266400,213120,112900,155000,141300,102100,115934,81666,206699,99100,130000,115000,110500,130000,99050,160000,176000,144000,200100,160000,145000,70500,205300,140400,205300,184700,175100,140250,116150,54000,170000,65438,80000,140000,210000,140000,100000,69000,210000,140000,210000,150075,100000,25000,126500,106260,220110,160080,105000,110925,45807,140000,99000,60000,192564,144854,230000,150000,150260,109280,210000,170000,160000,130000,67000,52000,154000,126000,129000,150000],\"y0\":\" \",\"yaxis\":\"y\",\"type\":\"box\"}],                        {\"template\":{\"data\":{\"bar\":[{\"error_x\":{\"color\":\"#2a3f5f\"},\"error_y\":{\"color\":\"#2a3f5f\"},\"marker\":{\"line\":{\"color\":\"#E5ECF6\",\"width\":0.5},\"pattern\":{\"fillmode\":\"overlay\",\"size\":10,\"solidity\":0.2}},\"type\":\"bar\"}],\"barpolar\":[{\"marker\":{\"line\":{\"color\":\"#E5ECF6\",\"width\":0.5},\"pattern\":{\"fillmode\":\"overlay\",\"size\":10,\"solidity\":0.2}},\"type\":\"barpolar\"}],\"carpet\":[{\"aaxis\":{\"endlinecolor\":\"#2a3f5f\",\"gridcolor\":\"white\",\"linecolor\":\"white\",\"minorgridcolor\":\"white\",\"startlinecolor\":\"#2a3f5f\"},\"baxis\":{\"endlinecolor\":\"#2a3f5f\",\"gridcolor\":\"white\",\"linecolor\":\"white\",\"minorgridcolor\":\"white\",\"startlinecolor\":\"#2a3f5f\"},\"type\":\"carpet\"}],\"choropleth\":[{\"colorbar\":{\"outlinewidth\":0,\"ticks\":\"\"},\"type\":\"choropleth\"}],\"contour\":[{\"colorbar\":{\"outlinewidth\":0,\"ticks\":\"\"},\"colorscale\":[[0.0,\"#0d0887\"],[0.1111111111111111,\"#46039f\"],[0.2222222222222222,\"#7201a8\"],[0.3333333333333333,\"#9c179e\"],[0.4444444444444444,\"#bd3786\"],[0.5555555555555556,\"#d8576b\"],[0.6666666666666666,\"#ed7953\"],[0.7777777777777778,\"#fb9f3a\"],[0.8888888888888888,\"#fdca26\"],[1.0,\"#f0f921\"]],\"type\":\"contour\"}],\"contourcarpet\":[{\"colorbar\":{\"outlinewidth\":0,\"ticks\":\"\"},\"type\":\"contourcarpet\"}],\"heatmap\":[{\"colorbar\":{\"outlinewidth\":0,\"ticks\":\"\"},\"colorscale\":[[0.0,\"#0d0887\"],[0.1111111111111111,\"#46039f\"],[0.2222222222222222,\"#7201a8\"],[0.3333333333333333,\"#9c179e\"],[0.4444444444444444,\"#bd3786\"],[0.5555555555555556,\"#d8576b\"],[0.6666666666666666,\"#ed7953\"],[0.7777777777777778,\"#fb9f3a\"],[0.8888888888888888,\"#fdca26\"],[1.0,\"#f0f921\"]],\"type\":\"heatmap\"}],\"heatmapgl\":[{\"colorbar\":{\"outlinewidth\":0,\"ticks\":\"\"},\"colorscale\":[[0.0,\"#0d0887\"],[0.1111111111111111,\"#46039f\"],[0.2222222222222222,\"#7201a8\"],[0.3333333333333333,\"#9c179e\"],[0.4444444444444444,\"#bd3786\"],[0.5555555555555556,\"#d8576b\"],[0.6666666666666666,\"#ed7953\"],[0.7777777777777778,\"#fb9f3a\"],[0.8888888888888888,\"#fdca26\"],[1.0,\"#f0f921\"]],\"type\":\"heatmapgl\"}],\"histogram\":[{\"marker\":{\"pattern\":{\"fillmode\":\"overlay\",\"size\":10,\"solidity\":0.2}},\"type\":\"histogram\"}],\"histogram2d\":[{\"colorbar\":{\"outlinewidth\":0,\"ticks\":\"\"},\"colorscale\":[[0.0,\"#0d0887\"],[0.1111111111111111,\"#46039f\"],[0.2222222222222222,\"#7201a8\"],[0.3333333333333333,\"#9c179e\"],[0.4444444444444444,\"#bd3786\"],[0.5555555555555556,\"#d8576b\"],[0.6666666666666666,\"#ed7953\"],[0.7777777777777778,\"#fb9f3a\"],[0.8888888888888888,\"#fdca26\"],[1.0,\"#f0f921\"]],\"type\":\"histogram2d\"}],\"histogram2dcontour\":[{\"colorbar\":{\"outlinewidth\":0,\"ticks\":\"\"},\"colorscale\":[[0.0,\"#0d0887\"],[0.1111111111111111,\"#46039f\"],[0.2222222222222222,\"#7201a8\"],[0.3333333333333333,\"#9c179e\"],[0.4444444444444444,\"#bd3786\"],[0.5555555555555556,\"#d8576b\"],[0.6666666666666666,\"#ed7953\"],[0.7777777777777778,\"#fb9f3a\"],[0.8888888888888888,\"#fdca26\"],[1.0,\"#f0f921\"]],\"type\":\"histogram2dcontour\"}],\"mesh3d\":[{\"colorbar\":{\"outlinewidth\":0,\"ticks\":\"\"},\"type\":\"mesh3d\"}],\"parcoords\":[{\"line\":{\"colorbar\":{\"outlinewidth\":0,\"ticks\":\"\"}},\"type\":\"parcoords\"}],\"pie\":[{\"automargin\":true,\"type\":\"pie\"}],\"scatter\":[{\"marker\":{\"colorbar\":{\"outlinewidth\":0,\"ticks\":\"\"}},\"type\":\"scatter\"}],\"scatter3d\":[{\"line\":{\"colorbar\":{\"outlinewidth\":0,\"ticks\":\"\"}},\"marker\":{\"colorbar\":{\"outlinewidth\":0,\"ticks\":\"\"}},\"type\":\"scatter3d\"}],\"scattercarpet\":[{\"marker\":{\"colorbar\":{\"outlinewidth\":0,\"ticks\":\"\"}},\"type\":\"scattercarpet\"}],\"scattergeo\":[{\"marker\":{\"colorbar\":{\"outlinewidth\":0,\"ticks\":\"\"}},\"type\":\"scattergeo\"}],\"scattergl\":[{\"marker\":{\"colorbar\":{\"outlinewidth\":0,\"ticks\":\"\"}},\"type\":\"scattergl\"}],\"scattermapbox\":[{\"marker\":{\"colorbar\":{\"outlinewidth\":0,\"ticks\":\"\"}},\"type\":\"scattermapbox\"}],\"scatterpolar\":[{\"marker\":{\"colorbar\":{\"outlinewidth\":0,\"ticks\":\"\"}},\"type\":\"scatterpolar\"}],\"scatterpolargl\":[{\"marker\":{\"colorbar\":{\"outlinewidth\":0,\"ticks\":\"\"}},\"type\":\"scatterpolargl\"}],\"scatterternary\":[{\"marker\":{\"colorbar\":{\"outlinewidth\":0,\"ticks\":\"\"}},\"type\":\"scatterternary\"}],\"surface\":[{\"colorbar\":{\"outlinewidth\":0,\"ticks\":\"\"},\"colorscale\":[[0.0,\"#0d0887\"],[0.1111111111111111,\"#46039f\"],[0.2222222222222222,\"#7201a8\"],[0.3333333333333333,\"#9c179e\"],[0.4444444444444444,\"#bd3786\"],[0.5555555555555556,\"#d8576b\"],[0.6666666666666666,\"#ed7953\"],[0.7777777777777778,\"#fb9f3a\"],[0.8888888888888888,\"#fdca26\"],[1.0,\"#f0f921\"]],\"type\":\"surface\"}],\"table\":[{\"cells\":{\"fill\":{\"color\":\"#EBF0F8\"},\"line\":{\"color\":\"white\"}},\"header\":{\"fill\":{\"color\":\"#C8D4E3\"},\"line\":{\"color\":\"white\"}},\"type\":\"table\"}]},\"layout\":{\"annotationdefaults\":{\"arrowcolor\":\"#2a3f5f\",\"arrowhead\":0,\"arrowwidth\":1},\"autotypenumbers\":\"strict\",\"coloraxis\":{\"colorbar\":{\"outlinewidth\":0,\"ticks\":\"\"}},\"colorscale\":{\"diverging\":[[0,\"#8e0152\"],[0.1,\"#c51b7d\"],[0.2,\"#de77ae\"],[0.3,\"#f1b6da\"],[0.4,\"#fde0ef\"],[0.5,\"#f7f7f7\"],[0.6,\"#e6f5d0\"],[0.7,\"#b8e186\"],[0.8,\"#7fbc41\"],[0.9,\"#4d9221\"],[1,\"#276419\"]],\"sequential\":[[0.0,\"#0d0887\"],[0.1111111111111111,\"#46039f\"],[0.2222222222222222,\"#7201a8\"],[0.3333333333333333,\"#9c179e\"],[0.4444444444444444,\"#bd3786\"],[0.5555555555555556,\"#d8576b\"],[0.6666666666666666,\"#ed7953\"],[0.7777777777777778,\"#fb9f3a\"],[0.8888888888888888,\"#fdca26\"],[1.0,\"#f0f921\"]],\"sequentialminus\":[[0.0,\"#0d0887\"],[0.1111111111111111,\"#46039f\"],[0.2222222222222222,\"#7201a8\"],[0.3333333333333333,\"#9c179e\"],[0.4444444444444444,\"#bd3786\"],[0.5555555555555556,\"#d8576b\"],[0.6666666666666666,\"#ed7953\"],[0.7777777777777778,\"#fb9f3a\"],[0.8888888888888888,\"#fdca26\"],[1.0,\"#f0f921\"]]},\"colorway\":[\"#636efa\",\"#EF553B\",\"#00cc96\",\"#ab63fa\",\"#FFA15A\",\"#19d3f3\",\"#FF6692\",\"#B6E880\",\"#FF97FF\",\"#FECB52\"],\"font\":{\"color\":\"#2a3f5f\"},\"geo\":{\"bgcolor\":\"white\",\"lakecolor\":\"white\",\"landcolor\":\"#E5ECF6\",\"showlakes\":true,\"showland\":true,\"subunitcolor\":\"white\"},\"hoverlabel\":{\"align\":\"left\"},\"hovermode\":\"closest\",\"mapbox\":{\"style\":\"light\"},\"paper_bgcolor\":\"white\",\"plot_bgcolor\":\"#E5ECF6\",\"polar\":{\"angularaxis\":{\"gridcolor\":\"white\",\"linecolor\":\"white\",\"ticks\":\"\"},\"bgcolor\":\"#E5ECF6\",\"radialaxis\":{\"gridcolor\":\"white\",\"linecolor\":\"white\",\"ticks\":\"\"}},\"scene\":{\"xaxis\":{\"backgroundcolor\":\"#E5ECF6\",\"gridcolor\":\"white\",\"gridwidth\":2,\"linecolor\":\"white\",\"showbackground\":true,\"ticks\":\"\",\"zerolinecolor\":\"white\"},\"yaxis\":{\"backgroundcolor\":\"#E5ECF6\",\"gridcolor\":\"white\",\"gridwidth\":2,\"linecolor\":\"white\",\"showbackground\":true,\"ticks\":\"\",\"zerolinecolor\":\"white\"},\"zaxis\":{\"backgroundcolor\":\"#E5ECF6\",\"gridcolor\":\"white\",\"gridwidth\":2,\"linecolor\":\"white\",\"showbackground\":true,\"ticks\":\"\",\"zerolinecolor\":\"white\"}},\"shapedefaults\":{\"line\":{\"color\":\"#2a3f5f\"}},\"ternary\":{\"aaxis\":{\"gridcolor\":\"white\",\"linecolor\":\"white\",\"ticks\":\"\"},\"baxis\":{\"gridcolor\":\"white\",\"linecolor\":\"white\",\"ticks\":\"\"},\"bgcolor\":\"#E5ECF6\",\"caxis\":{\"gridcolor\":\"white\",\"linecolor\":\"white\",\"ticks\":\"\"}},\"title\":{\"x\":0.05},\"xaxis\":{\"automargin\":true,\"gridcolor\":\"white\",\"linecolor\":\"white\",\"ticks\":\"\",\"title\":{\"standoff\":15},\"zerolinecolor\":\"white\",\"zerolinewidth\":2},\"yaxis\":{\"automargin\":true,\"gridcolor\":\"white\",\"linecolor\":\"white\",\"ticks\":\"\",\"title\":{\"standoff\":15},\"zerolinecolor\":\"white\",\"zerolinewidth\":2}}},\"xaxis\":{\"anchor\":\"y\",\"domain\":[0.0,1.0],\"title\":{\"text\":\"Experience Level\"}},\"yaxis\":{\"anchor\":\"x\",\"domain\":[0.0,1.0],\"title\":{\"text\":\"Salary in USD\"}},\"legend\":{\"title\":{\"text\":\"company_size\"},\"tracegroupgap\":0},\"title\":{\"text\":\"Salary vs Experience level based on Company Size\"},\"boxmode\":\"group\"},                        {\"responsive\": true}                    ).then(function(){\n",
       "                            \n",
       "var gd = document.getElementById('9871310a-c2f8-44b6-8b96-a36bb4ee5729');\n",
       "var x = new MutationObserver(function (mutations, observer) {{\n",
       "        var display = window.getComputedStyle(gd).display;\n",
       "        if (!display || display === 'none') {{\n",
       "            console.log([gd, 'removed!']);\n",
       "            Plotly.purge(gd);\n",
       "            observer.disconnect();\n",
       "        }}\n",
       "}});\n",
       "\n",
       "// Listen for the removal of the full notebook cells\n",
       "var notebookContainer = gd.closest('#notebook-container');\n",
       "if (notebookContainer) {{\n",
       "    x.observe(notebookContainer, {childList: true});\n",
       "}}\n",
       "\n",
       "// Listen for the clearing of the current output cell\n",
       "var outputEl = gd.closest('.output');\n",
       "if (outputEl) {{\n",
       "    x.observe(outputEl, {childList: true});\n",
       "}}\n",
       "\n",
       "                        })                };                });            </script>        </div>"
      ]
     },
     "metadata": {},
     "output_type": "display_data"
    }
   ],
   "source": [
    "fig = px.box(dsjobs, x=\"experience_level\", y=\"salary_in_usd\", color=\"company_size\",\n",
    "            title = 'Salary vs Experience level based on Company Size', \n",
    "            color_discrete_sequence=px.colors.qualitative.Antique)\n",
    "fig.update_layout(xaxis_title=\"Experience Level\", yaxis_title=\"Salary in USD\")\n",
    "fig.show()"
   ]
  },
  {
   "cell_type": "markdown",
   "metadata": {},
   "source": [
    "#### Adding a hue 'company size' for the previous 'experience level' vs 'salary' graph reveals more information. Senior levels jobs salaries on an average concides with Executive level salaries. Moreover, on an average senior levels jobs salaries of small companies almost coincide with executive level salaries of respective company size."
   ]
  },
  {
   "cell_type": "markdown",
   "metadata": {},
   "source": [
    "### Country-wise comparison of salaries"
   ]
  },
  {
   "cell_type": "code",
   "execution_count": 63,
   "metadata": {},
   "outputs": [
    {
     "data": {
      "application/vnd.plotly.v1+json": {
       "config": {
        "plotlyServerURL": "https://plot.ly"
       },
       "data": [
        {
         "coloraxis": "coloraxis",
         "customdata": [
          [
           100000
          ],
          [
           18053
          ],
          [
           324128
          ],
          [
           291683
          ],
          [
           171398
          ],
          [
           55808
          ],
          [
           2994712
          ],
          [
           40038
          ],
          [
           143331
          ],
          [
           21844
          ],
          [
           45618
          ],
          [
           101874
          ],
          [
           163159
          ],
          [
           32974
          ],
          [
           959560
          ],
          [
           2292842
          ],
          [
           575224
          ],
          [
           20000
          ],
          [
           35735
          ],
          [
           685962
          ],
          [
           4000
          ],
          [
           100000
          ],
          [
           71444
          ],
          [
           119059
          ],
          [
           72733
          ],
          [
           684764
          ],
          [
           9272
          ],
          [
           131828
          ],
          [
           40000
          ],
          [
           28369
          ],
          [
           96370
          ],
          [
           18000
          ],
          [
           219783
          ],
          [
           125000
          ],
          [
           60000
          ],
          [
           40000
          ],
          [
           264330
          ],
          [
           191175
          ],
          [
           60000
          ],
          [
           315000
          ],
          [
           89294
          ],
          [
           127662
          ],
          [
           742842
          ],
          [
           128228
          ],
          [
           60290
          ],
          [
           13400
          ],
          [
           300000
          ],
          [
           3834403
          ],
          [
           51139618
          ],
          [
           4000
          ]
         ],
         "geo": "geo",
         "hovertemplate": "<b>%{hovertext}</b><br><br>company_country=%{location}<br>salary_in_usd=%{customdata[0]}<br>salary_scale=%{z}<extra></extra>",
         "hovertext": [
          "Algeria",
          "American Samoa",
          "Australia",
          "Austria",
          "Belgium",
          "Brazil",
          "Canada",
          "Chile",
          "China",
          "Colombia",
          "Croatia",
          "Czech Republic",
          "Denmark",
          "Estonia",
          "France",
          "Germany",
          "Greece",
          "Honduras",
          "Hungary",
          "India",
          "Iran",
          "Iraq",
          "Ireland",
          "Israel",
          "Italy",
          "Japan",
          "Kenya",
          "Luxembourg",
          "Malaysia",
          "Malta",
          "Mexico",
          "Moldova",
          "Netherlands",
          "New Zealand",
          "Nigeria",
          "Pakistan",
          "Poland",
          "Portugal",
          "Romania",
          "Russia",
          "Singapore",
          "Slovenia",
          "Spain",
          "Switzerland",
          "Turkey",
          "Ukraine",
          "United Arab Emirates",
          "United Kingdom",
          "United States",
          "Vietnam"
         ],
         "locationmode": "country names",
         "locations": [
          "Algeria",
          "American Samoa",
          "Australia",
          "Austria",
          "Belgium",
          "Brazil",
          "Canada",
          "Chile",
          "China",
          "Colombia",
          "Croatia",
          "Czech Republic",
          "Denmark",
          "Estonia",
          "France",
          "Germany",
          "Greece",
          "Honduras",
          "Hungary",
          "India",
          "Iran",
          "Iraq",
          "Ireland",
          "Israel",
          "Italy",
          "Japan",
          "Kenya",
          "Luxembourg",
          "Malaysia",
          "Malta",
          "Mexico",
          "Moldova",
          "Netherlands",
          "New Zealand",
          "Nigeria",
          "Pakistan",
          "Poland",
          "Portugal",
          "Romania",
          "Russia",
          "Singapore",
          "Slovenia",
          "Spain",
          "Switzerland",
          "Turkey",
          "Ukraine",
          "United Arab Emirates",
          "United Kingdom",
          "United States",
          "Vietnam"
         ],
         "name": "",
         "type": "choropleth",
         "z": [
          5,
          4.256549382152194,
          5.510716549453201,
          5.464911118112689,
          5.234005749944055,
          4.746696458916454,
          6.4763550628439,
          4.602472375234415,
          5.156340130892207,
          4.339332167863506,
          4.659136240870397,
          5.008063358713791,
          5.212611034866356,
          4.518171633602262,
          5.9820721357720865,
          6.360374128479463,
          5.7598369977679456,
          4.301029995663981,
          4.553093786437186,
          5.836300057911687,
          3.6020599913279625,
          5,
          4.85396576180009,
          5.075762230506128,
          4.861731501177587,
          5.835540920167462,
          3.9671734229555398,
          5.120007663323212,
          4.6020599913279625,
          4.4528440272961625,
          4.983941858983888,
          4.2552725051033065,
          5.341994097133336,
          5.096910013008056,
          4.778151250383644,
          4.6020599913279625,
          5.4221464559621255,
          5.281431098860968,
          4.778151250383644,
          5.498310553789601,
          4.950822277987817,
          5.1060616439646935,
          5.870896450604332,
          5.107982868534863,
          4.780245283865352,
          4.127104798364807,
          5.477121254719663,
          6.583697755771687,
          7.708757479632599,
          3.6020599913279625
         ]
        }
       ],
       "layout": {
        "coloraxis": {
         "colorbar": {
          "title": {
           "text": "salary_scale"
          }
         },
         "colorscale": [
          [
           0,
           "rgb(0,0,131)"
          ],
          [
           0.2,
           "rgb(0,60,170)"
          ],
          [
           0.4,
           "rgb(5,255,255)"
          ],
          [
           0.6,
           "rgb(255,255,0)"
          ],
          [
           0.8,
           "rgb(250,0,0)"
          ],
          [
           1,
           "rgb(128,0,0)"
          ]
         ]
        },
        "geo": {
         "center": {},
         "domain": {
          "x": [
           0,
           1
          ],
          "y": [
           0,
           1
          ]
         }
        },
        "legend": {
         "tracegroupgap": 0
        },
        "template": {
         "data": {
          "bar": [
           {
            "error_x": {
             "color": "#2a3f5f"
            },
            "error_y": {
             "color": "#2a3f5f"
            },
            "marker": {
             "line": {
              "color": "#E5ECF6",
              "width": 0.5
             },
             "pattern": {
              "fillmode": "overlay",
              "size": 10,
              "solidity": 0.2
             }
            },
            "type": "bar"
           }
          ],
          "barpolar": [
           {
            "marker": {
             "line": {
              "color": "#E5ECF6",
              "width": 0.5
             },
             "pattern": {
              "fillmode": "overlay",
              "size": 10,
              "solidity": 0.2
             }
            },
            "type": "barpolar"
           }
          ],
          "carpet": [
           {
            "aaxis": {
             "endlinecolor": "#2a3f5f",
             "gridcolor": "white",
             "linecolor": "white",
             "minorgridcolor": "white",
             "startlinecolor": "#2a3f5f"
            },
            "baxis": {
             "endlinecolor": "#2a3f5f",
             "gridcolor": "white",
             "linecolor": "white",
             "minorgridcolor": "white",
             "startlinecolor": "#2a3f5f"
            },
            "type": "carpet"
           }
          ],
          "choropleth": [
           {
            "colorbar": {
             "outlinewidth": 0,
             "ticks": ""
            },
            "type": "choropleth"
           }
          ],
          "contour": [
           {
            "colorbar": {
             "outlinewidth": 0,
             "ticks": ""
            },
            "colorscale": [
             [
              0,
              "#0d0887"
             ],
             [
              0.1111111111111111,
              "#46039f"
             ],
             [
              0.2222222222222222,
              "#7201a8"
             ],
             [
              0.3333333333333333,
              "#9c179e"
             ],
             [
              0.4444444444444444,
              "#bd3786"
             ],
             [
              0.5555555555555556,
              "#d8576b"
             ],
             [
              0.6666666666666666,
              "#ed7953"
             ],
             [
              0.7777777777777778,
              "#fb9f3a"
             ],
             [
              0.8888888888888888,
              "#fdca26"
             ],
             [
              1,
              "#f0f921"
             ]
            ],
            "type": "contour"
           }
          ],
          "contourcarpet": [
           {
            "colorbar": {
             "outlinewidth": 0,
             "ticks": ""
            },
            "type": "contourcarpet"
           }
          ],
          "heatmap": [
           {
            "colorbar": {
             "outlinewidth": 0,
             "ticks": ""
            },
            "colorscale": [
             [
              0,
              "#0d0887"
             ],
             [
              0.1111111111111111,
              "#46039f"
             ],
             [
              0.2222222222222222,
              "#7201a8"
             ],
             [
              0.3333333333333333,
              "#9c179e"
             ],
             [
              0.4444444444444444,
              "#bd3786"
             ],
             [
              0.5555555555555556,
              "#d8576b"
             ],
             [
              0.6666666666666666,
              "#ed7953"
             ],
             [
              0.7777777777777778,
              "#fb9f3a"
             ],
             [
              0.8888888888888888,
              "#fdca26"
             ],
             [
              1,
              "#f0f921"
             ]
            ],
            "type": "heatmap"
           }
          ],
          "heatmapgl": [
           {
            "colorbar": {
             "outlinewidth": 0,
             "ticks": ""
            },
            "colorscale": [
             [
              0,
              "#0d0887"
             ],
             [
              0.1111111111111111,
              "#46039f"
             ],
             [
              0.2222222222222222,
              "#7201a8"
             ],
             [
              0.3333333333333333,
              "#9c179e"
             ],
             [
              0.4444444444444444,
              "#bd3786"
             ],
             [
              0.5555555555555556,
              "#d8576b"
             ],
             [
              0.6666666666666666,
              "#ed7953"
             ],
             [
              0.7777777777777778,
              "#fb9f3a"
             ],
             [
              0.8888888888888888,
              "#fdca26"
             ],
             [
              1,
              "#f0f921"
             ]
            ],
            "type": "heatmapgl"
           }
          ],
          "histogram": [
           {
            "marker": {
             "pattern": {
              "fillmode": "overlay",
              "size": 10,
              "solidity": 0.2
             }
            },
            "type": "histogram"
           }
          ],
          "histogram2d": [
           {
            "colorbar": {
             "outlinewidth": 0,
             "ticks": ""
            },
            "colorscale": [
             [
              0,
              "#0d0887"
             ],
             [
              0.1111111111111111,
              "#46039f"
             ],
             [
              0.2222222222222222,
              "#7201a8"
             ],
             [
              0.3333333333333333,
              "#9c179e"
             ],
             [
              0.4444444444444444,
              "#bd3786"
             ],
             [
              0.5555555555555556,
              "#d8576b"
             ],
             [
              0.6666666666666666,
              "#ed7953"
             ],
             [
              0.7777777777777778,
              "#fb9f3a"
             ],
             [
              0.8888888888888888,
              "#fdca26"
             ],
             [
              1,
              "#f0f921"
             ]
            ],
            "type": "histogram2d"
           }
          ],
          "histogram2dcontour": [
           {
            "colorbar": {
             "outlinewidth": 0,
             "ticks": ""
            },
            "colorscale": [
             [
              0,
              "#0d0887"
             ],
             [
              0.1111111111111111,
              "#46039f"
             ],
             [
              0.2222222222222222,
              "#7201a8"
             ],
             [
              0.3333333333333333,
              "#9c179e"
             ],
             [
              0.4444444444444444,
              "#bd3786"
             ],
             [
              0.5555555555555556,
              "#d8576b"
             ],
             [
              0.6666666666666666,
              "#ed7953"
             ],
             [
              0.7777777777777778,
              "#fb9f3a"
             ],
             [
              0.8888888888888888,
              "#fdca26"
             ],
             [
              1,
              "#f0f921"
             ]
            ],
            "type": "histogram2dcontour"
           }
          ],
          "mesh3d": [
           {
            "colorbar": {
             "outlinewidth": 0,
             "ticks": ""
            },
            "type": "mesh3d"
           }
          ],
          "parcoords": [
           {
            "line": {
             "colorbar": {
              "outlinewidth": 0,
              "ticks": ""
             }
            },
            "type": "parcoords"
           }
          ],
          "pie": [
           {
            "automargin": true,
            "type": "pie"
           }
          ],
          "scatter": [
           {
            "marker": {
             "colorbar": {
              "outlinewidth": 0,
              "ticks": ""
             }
            },
            "type": "scatter"
           }
          ],
          "scatter3d": [
           {
            "line": {
             "colorbar": {
              "outlinewidth": 0,
              "ticks": ""
             }
            },
            "marker": {
             "colorbar": {
              "outlinewidth": 0,
              "ticks": ""
             }
            },
            "type": "scatter3d"
           }
          ],
          "scattercarpet": [
           {
            "marker": {
             "colorbar": {
              "outlinewidth": 0,
              "ticks": ""
             }
            },
            "type": "scattercarpet"
           }
          ],
          "scattergeo": [
           {
            "marker": {
             "colorbar": {
              "outlinewidth": 0,
              "ticks": ""
             }
            },
            "type": "scattergeo"
           }
          ],
          "scattergl": [
           {
            "marker": {
             "colorbar": {
              "outlinewidth": 0,
              "ticks": ""
             }
            },
            "type": "scattergl"
           }
          ],
          "scattermapbox": [
           {
            "marker": {
             "colorbar": {
              "outlinewidth": 0,
              "ticks": ""
             }
            },
            "type": "scattermapbox"
           }
          ],
          "scatterpolar": [
           {
            "marker": {
             "colorbar": {
              "outlinewidth": 0,
              "ticks": ""
             }
            },
            "type": "scatterpolar"
           }
          ],
          "scatterpolargl": [
           {
            "marker": {
             "colorbar": {
              "outlinewidth": 0,
              "ticks": ""
             }
            },
            "type": "scatterpolargl"
           }
          ],
          "scatterternary": [
           {
            "marker": {
             "colorbar": {
              "outlinewidth": 0,
              "ticks": ""
             }
            },
            "type": "scatterternary"
           }
          ],
          "surface": [
           {
            "colorbar": {
             "outlinewidth": 0,
             "ticks": ""
            },
            "colorscale": [
             [
              0,
              "#0d0887"
             ],
             [
              0.1111111111111111,
              "#46039f"
             ],
             [
              0.2222222222222222,
              "#7201a8"
             ],
             [
              0.3333333333333333,
              "#9c179e"
             ],
             [
              0.4444444444444444,
              "#bd3786"
             ],
             [
              0.5555555555555556,
              "#d8576b"
             ],
             [
              0.6666666666666666,
              "#ed7953"
             ],
             [
              0.7777777777777778,
              "#fb9f3a"
             ],
             [
              0.8888888888888888,
              "#fdca26"
             ],
             [
              1,
              "#f0f921"
             ]
            ],
            "type": "surface"
           }
          ],
          "table": [
           {
            "cells": {
             "fill": {
              "color": "#EBF0F8"
             },
             "line": {
              "color": "white"
             }
            },
            "header": {
             "fill": {
              "color": "#C8D4E3"
             },
             "line": {
              "color": "white"
             }
            },
            "type": "table"
           }
          ]
         },
         "layout": {
          "annotationdefaults": {
           "arrowcolor": "#2a3f5f",
           "arrowhead": 0,
           "arrowwidth": 1
          },
          "autotypenumbers": "strict",
          "coloraxis": {
           "colorbar": {
            "outlinewidth": 0,
            "ticks": ""
           }
          },
          "colorscale": {
           "diverging": [
            [
             0,
             "#8e0152"
            ],
            [
             0.1,
             "#c51b7d"
            ],
            [
             0.2,
             "#de77ae"
            ],
            [
             0.3,
             "#f1b6da"
            ],
            [
             0.4,
             "#fde0ef"
            ],
            [
             0.5,
             "#f7f7f7"
            ],
            [
             0.6,
             "#e6f5d0"
            ],
            [
             0.7,
             "#b8e186"
            ],
            [
             0.8,
             "#7fbc41"
            ],
            [
             0.9,
             "#4d9221"
            ],
            [
             1,
             "#276419"
            ]
           ],
           "sequential": [
            [
             0,
             "#0d0887"
            ],
            [
             0.1111111111111111,
             "#46039f"
            ],
            [
             0.2222222222222222,
             "#7201a8"
            ],
            [
             0.3333333333333333,
             "#9c179e"
            ],
            [
             0.4444444444444444,
             "#bd3786"
            ],
            [
             0.5555555555555556,
             "#d8576b"
            ],
            [
             0.6666666666666666,
             "#ed7953"
            ],
            [
             0.7777777777777778,
             "#fb9f3a"
            ],
            [
             0.8888888888888888,
             "#fdca26"
            ],
            [
             1,
             "#f0f921"
            ]
           ],
           "sequentialminus": [
            [
             0,
             "#0d0887"
            ],
            [
             0.1111111111111111,
             "#46039f"
            ],
            [
             0.2222222222222222,
             "#7201a8"
            ],
            [
             0.3333333333333333,
             "#9c179e"
            ],
            [
             0.4444444444444444,
             "#bd3786"
            ],
            [
             0.5555555555555556,
             "#d8576b"
            ],
            [
             0.6666666666666666,
             "#ed7953"
            ],
            [
             0.7777777777777778,
             "#fb9f3a"
            ],
            [
             0.8888888888888888,
             "#fdca26"
            ],
            [
             1,
             "#f0f921"
            ]
           ]
          },
          "colorway": [
           "#636efa",
           "#EF553B",
           "#00cc96",
           "#ab63fa",
           "#FFA15A",
           "#19d3f3",
           "#FF6692",
           "#B6E880",
           "#FF97FF",
           "#FECB52"
          ],
          "font": {
           "color": "#2a3f5f"
          },
          "geo": {
           "bgcolor": "white",
           "lakecolor": "white",
           "landcolor": "#E5ECF6",
           "showlakes": true,
           "showland": true,
           "subunitcolor": "white"
          },
          "hoverlabel": {
           "align": "left"
          },
          "hovermode": "closest",
          "mapbox": {
           "style": "light"
          },
          "paper_bgcolor": "white",
          "plot_bgcolor": "#E5ECF6",
          "polar": {
           "angularaxis": {
            "gridcolor": "white",
            "linecolor": "white",
            "ticks": ""
           },
           "bgcolor": "#E5ECF6",
           "radialaxis": {
            "gridcolor": "white",
            "linecolor": "white",
            "ticks": ""
           }
          },
          "scene": {
           "xaxis": {
            "backgroundcolor": "#E5ECF6",
            "gridcolor": "white",
            "gridwidth": 2,
            "linecolor": "white",
            "showbackground": true,
            "ticks": "",
            "zerolinecolor": "white"
           },
           "yaxis": {
            "backgroundcolor": "#E5ECF6",
            "gridcolor": "white",
            "gridwidth": 2,
            "linecolor": "white",
            "showbackground": true,
            "ticks": "",
            "zerolinecolor": "white"
           },
           "zaxis": {
            "backgroundcolor": "#E5ECF6",
            "gridcolor": "white",
            "gridwidth": 2,
            "linecolor": "white",
            "showbackground": true,
            "ticks": "",
            "zerolinecolor": "white"
           }
          },
          "shapedefaults": {
           "line": {
            "color": "#2a3f5f"
           }
          },
          "ternary": {
           "aaxis": {
            "gridcolor": "white",
            "linecolor": "white",
            "ticks": ""
           },
           "baxis": {
            "gridcolor": "white",
            "linecolor": "white",
            "ticks": ""
           },
           "bgcolor": "#E5ECF6",
           "caxis": {
            "gridcolor": "white",
            "linecolor": "white",
            "ticks": ""
           }
          },
          "title": {
           "x": 0.05
          },
          "xaxis": {
           "automargin": true,
           "gridcolor": "white",
           "linecolor": "white",
           "ticks": "",
           "title": {
            "standoff": 15
           },
           "zerolinecolor": "white",
           "zerolinewidth": 2
          },
          "yaxis": {
           "automargin": true,
           "gridcolor": "white",
           "linecolor": "white",
           "ticks": "",
           "title": {
            "standoff": 15
           },
           "zerolinecolor": "white",
           "zerolinewidth": 2
          }
         }
        },
        "title": {
         "text": "Salaries across the World"
        }
       }
      },
      "text/html": [
       "<div>                            <div id=\"1b829b00-3f37-445a-a48c-a8dd0a12520b\" class=\"plotly-graph-div\" style=\"height:525px; width:100%;\"></div>            <script type=\"text/javascript\">                require([\"plotly\"], function(Plotly) {                    window.PLOTLYENV=window.PLOTLYENV || {};                                    if (document.getElementById(\"1b829b00-3f37-445a-a48c-a8dd0a12520b\")) {                    Plotly.newPlot(                        \"1b829b00-3f37-445a-a48c-a8dd0a12520b\",                        [{\"coloraxis\":\"coloraxis\",\"customdata\":[[100000],[18053],[324128],[291683],[171398],[55808],[2994712],[40038],[143331],[21844],[45618],[101874],[163159],[32974],[959560],[2292842],[575224],[20000],[35735],[685962],[4000],[100000],[71444],[119059],[72733],[684764],[9272],[131828],[40000],[28369],[96370],[18000],[219783],[125000],[60000],[40000],[264330],[191175],[60000],[315000],[89294],[127662],[742842],[128228],[60290],[13400],[300000],[3834403],[51139618],[4000]],\"geo\":\"geo\",\"hovertemplate\":\"<b>%{hovertext}</b><br><br>company_country=%{location}<br>salary_in_usd=%{customdata[0]}<br>salary_scale=%{z}<extra></extra>\",\"hovertext\":[\"Algeria\",\"American Samoa\",\"Australia\",\"Austria\",\"Belgium\",\"Brazil\",\"Canada\",\"Chile\",\"China\",\"Colombia\",\"Croatia\",\"Czech Republic\",\"Denmark\",\"Estonia\",\"France\",\"Germany\",\"Greece\",\"Honduras\",\"Hungary\",\"India\",\"Iran\",\"Iraq\",\"Ireland\",\"Israel\",\"Italy\",\"Japan\",\"Kenya\",\"Luxembourg\",\"Malaysia\",\"Malta\",\"Mexico\",\"Moldova\",\"Netherlands\",\"New Zealand\",\"Nigeria\",\"Pakistan\",\"Poland\",\"Portugal\",\"Romania\",\"Russia\",\"Singapore\",\"Slovenia\",\"Spain\",\"Switzerland\",\"Turkey\",\"Ukraine\",\"United Arab Emirates\",\"United Kingdom\",\"United States\",\"Vietnam\"],\"locationmode\":\"country names\",\"locations\":[\"Algeria\",\"American Samoa\",\"Australia\",\"Austria\",\"Belgium\",\"Brazil\",\"Canada\",\"Chile\",\"China\",\"Colombia\",\"Croatia\",\"Czech Republic\",\"Denmark\",\"Estonia\",\"France\",\"Germany\",\"Greece\",\"Honduras\",\"Hungary\",\"India\",\"Iran\",\"Iraq\",\"Ireland\",\"Israel\",\"Italy\",\"Japan\",\"Kenya\",\"Luxembourg\",\"Malaysia\",\"Malta\",\"Mexico\",\"Moldova\",\"Netherlands\",\"New Zealand\",\"Nigeria\",\"Pakistan\",\"Poland\",\"Portugal\",\"Romania\",\"Russia\",\"Singapore\",\"Slovenia\",\"Spain\",\"Switzerland\",\"Turkey\",\"Ukraine\",\"United Arab Emirates\",\"United Kingdom\",\"United States\",\"Vietnam\"],\"name\":\"\",\"z\":[5.0,4.256549382152194,5.510716549453201,5.464911118112689,5.234005749944055,4.746696458916454,6.4763550628439,4.602472375234415,5.156340130892207,4.339332167863506,4.659136240870397,5.008063358713791,5.212611034866356,4.518171633602262,5.9820721357720865,6.360374128479463,5.7598369977679456,4.301029995663981,4.553093786437186,5.836300057911687,3.6020599913279625,5.0,4.85396576180009,5.075762230506128,4.861731501177587,5.835540920167462,3.9671734229555398,5.120007663323212,4.6020599913279625,4.4528440272961625,4.983941858983888,4.2552725051033065,5.341994097133336,5.096910013008056,4.778151250383644,4.6020599913279625,5.4221464559621255,5.281431098860968,4.778151250383644,5.498310553789601,4.950822277987817,5.1060616439646935,5.870896450604332,5.107982868534863,4.780245283865352,4.127104798364807,5.477121254719663,6.583697755771687,7.708757479632599,3.6020599913279625],\"type\":\"choropleth\"}],                        {\"template\":{\"data\":{\"bar\":[{\"error_x\":{\"color\":\"#2a3f5f\"},\"error_y\":{\"color\":\"#2a3f5f\"},\"marker\":{\"line\":{\"color\":\"#E5ECF6\",\"width\":0.5},\"pattern\":{\"fillmode\":\"overlay\",\"size\":10,\"solidity\":0.2}},\"type\":\"bar\"}],\"barpolar\":[{\"marker\":{\"line\":{\"color\":\"#E5ECF6\",\"width\":0.5},\"pattern\":{\"fillmode\":\"overlay\",\"size\":10,\"solidity\":0.2}},\"type\":\"barpolar\"}],\"carpet\":[{\"aaxis\":{\"endlinecolor\":\"#2a3f5f\",\"gridcolor\":\"white\",\"linecolor\":\"white\",\"minorgridcolor\":\"white\",\"startlinecolor\":\"#2a3f5f\"},\"baxis\":{\"endlinecolor\":\"#2a3f5f\",\"gridcolor\":\"white\",\"linecolor\":\"white\",\"minorgridcolor\":\"white\",\"startlinecolor\":\"#2a3f5f\"},\"type\":\"carpet\"}],\"choropleth\":[{\"colorbar\":{\"outlinewidth\":0,\"ticks\":\"\"},\"type\":\"choropleth\"}],\"contour\":[{\"colorbar\":{\"outlinewidth\":0,\"ticks\":\"\"},\"colorscale\":[[0.0,\"#0d0887\"],[0.1111111111111111,\"#46039f\"],[0.2222222222222222,\"#7201a8\"],[0.3333333333333333,\"#9c179e\"],[0.4444444444444444,\"#bd3786\"],[0.5555555555555556,\"#d8576b\"],[0.6666666666666666,\"#ed7953\"],[0.7777777777777778,\"#fb9f3a\"],[0.8888888888888888,\"#fdca26\"],[1.0,\"#f0f921\"]],\"type\":\"contour\"}],\"contourcarpet\":[{\"colorbar\":{\"outlinewidth\":0,\"ticks\":\"\"},\"type\":\"contourcarpet\"}],\"heatmap\":[{\"colorbar\":{\"outlinewidth\":0,\"ticks\":\"\"},\"colorscale\":[[0.0,\"#0d0887\"],[0.1111111111111111,\"#46039f\"],[0.2222222222222222,\"#7201a8\"],[0.3333333333333333,\"#9c179e\"],[0.4444444444444444,\"#bd3786\"],[0.5555555555555556,\"#d8576b\"],[0.6666666666666666,\"#ed7953\"],[0.7777777777777778,\"#fb9f3a\"],[0.8888888888888888,\"#fdca26\"],[1.0,\"#f0f921\"]],\"type\":\"heatmap\"}],\"heatmapgl\":[{\"colorbar\":{\"outlinewidth\":0,\"ticks\":\"\"},\"colorscale\":[[0.0,\"#0d0887\"],[0.1111111111111111,\"#46039f\"],[0.2222222222222222,\"#7201a8\"],[0.3333333333333333,\"#9c179e\"],[0.4444444444444444,\"#bd3786\"],[0.5555555555555556,\"#d8576b\"],[0.6666666666666666,\"#ed7953\"],[0.7777777777777778,\"#fb9f3a\"],[0.8888888888888888,\"#fdca26\"],[1.0,\"#f0f921\"]],\"type\":\"heatmapgl\"}],\"histogram\":[{\"marker\":{\"pattern\":{\"fillmode\":\"overlay\",\"size\":10,\"solidity\":0.2}},\"type\":\"histogram\"}],\"histogram2d\":[{\"colorbar\":{\"outlinewidth\":0,\"ticks\":\"\"},\"colorscale\":[[0.0,\"#0d0887\"],[0.1111111111111111,\"#46039f\"],[0.2222222222222222,\"#7201a8\"],[0.3333333333333333,\"#9c179e\"],[0.4444444444444444,\"#bd3786\"],[0.5555555555555556,\"#d8576b\"],[0.6666666666666666,\"#ed7953\"],[0.7777777777777778,\"#fb9f3a\"],[0.8888888888888888,\"#fdca26\"],[1.0,\"#f0f921\"]],\"type\":\"histogram2d\"}],\"histogram2dcontour\":[{\"colorbar\":{\"outlinewidth\":0,\"ticks\":\"\"},\"colorscale\":[[0.0,\"#0d0887\"],[0.1111111111111111,\"#46039f\"],[0.2222222222222222,\"#7201a8\"],[0.3333333333333333,\"#9c179e\"],[0.4444444444444444,\"#bd3786\"],[0.5555555555555556,\"#d8576b\"],[0.6666666666666666,\"#ed7953\"],[0.7777777777777778,\"#fb9f3a\"],[0.8888888888888888,\"#fdca26\"],[1.0,\"#f0f921\"]],\"type\":\"histogram2dcontour\"}],\"mesh3d\":[{\"colorbar\":{\"outlinewidth\":0,\"ticks\":\"\"},\"type\":\"mesh3d\"}],\"parcoords\":[{\"line\":{\"colorbar\":{\"outlinewidth\":0,\"ticks\":\"\"}},\"type\":\"parcoords\"}],\"pie\":[{\"automargin\":true,\"type\":\"pie\"}],\"scatter\":[{\"marker\":{\"colorbar\":{\"outlinewidth\":0,\"ticks\":\"\"}},\"type\":\"scatter\"}],\"scatter3d\":[{\"line\":{\"colorbar\":{\"outlinewidth\":0,\"ticks\":\"\"}},\"marker\":{\"colorbar\":{\"outlinewidth\":0,\"ticks\":\"\"}},\"type\":\"scatter3d\"}],\"scattercarpet\":[{\"marker\":{\"colorbar\":{\"outlinewidth\":0,\"ticks\":\"\"}},\"type\":\"scattercarpet\"}],\"scattergeo\":[{\"marker\":{\"colorbar\":{\"outlinewidth\":0,\"ticks\":\"\"}},\"type\":\"scattergeo\"}],\"scattergl\":[{\"marker\":{\"colorbar\":{\"outlinewidth\":0,\"ticks\":\"\"}},\"type\":\"scattergl\"}],\"scattermapbox\":[{\"marker\":{\"colorbar\":{\"outlinewidth\":0,\"ticks\":\"\"}},\"type\":\"scattermapbox\"}],\"scatterpolar\":[{\"marker\":{\"colorbar\":{\"outlinewidth\":0,\"ticks\":\"\"}},\"type\":\"scatterpolar\"}],\"scatterpolargl\":[{\"marker\":{\"colorbar\":{\"outlinewidth\":0,\"ticks\":\"\"}},\"type\":\"scatterpolargl\"}],\"scatterternary\":[{\"marker\":{\"colorbar\":{\"outlinewidth\":0,\"ticks\":\"\"}},\"type\":\"scatterternary\"}],\"surface\":[{\"colorbar\":{\"outlinewidth\":0,\"ticks\":\"\"},\"colorscale\":[[0.0,\"#0d0887\"],[0.1111111111111111,\"#46039f\"],[0.2222222222222222,\"#7201a8\"],[0.3333333333333333,\"#9c179e\"],[0.4444444444444444,\"#bd3786\"],[0.5555555555555556,\"#d8576b\"],[0.6666666666666666,\"#ed7953\"],[0.7777777777777778,\"#fb9f3a\"],[0.8888888888888888,\"#fdca26\"],[1.0,\"#f0f921\"]],\"type\":\"surface\"}],\"table\":[{\"cells\":{\"fill\":{\"color\":\"#EBF0F8\"},\"line\":{\"color\":\"white\"}},\"header\":{\"fill\":{\"color\":\"#C8D4E3\"},\"line\":{\"color\":\"white\"}},\"type\":\"table\"}]},\"layout\":{\"annotationdefaults\":{\"arrowcolor\":\"#2a3f5f\",\"arrowhead\":0,\"arrowwidth\":1},\"autotypenumbers\":\"strict\",\"coloraxis\":{\"colorbar\":{\"outlinewidth\":0,\"ticks\":\"\"}},\"colorscale\":{\"diverging\":[[0,\"#8e0152\"],[0.1,\"#c51b7d\"],[0.2,\"#de77ae\"],[0.3,\"#f1b6da\"],[0.4,\"#fde0ef\"],[0.5,\"#f7f7f7\"],[0.6,\"#e6f5d0\"],[0.7,\"#b8e186\"],[0.8,\"#7fbc41\"],[0.9,\"#4d9221\"],[1,\"#276419\"]],\"sequential\":[[0.0,\"#0d0887\"],[0.1111111111111111,\"#46039f\"],[0.2222222222222222,\"#7201a8\"],[0.3333333333333333,\"#9c179e\"],[0.4444444444444444,\"#bd3786\"],[0.5555555555555556,\"#d8576b\"],[0.6666666666666666,\"#ed7953\"],[0.7777777777777778,\"#fb9f3a\"],[0.8888888888888888,\"#fdca26\"],[1.0,\"#f0f921\"]],\"sequentialminus\":[[0.0,\"#0d0887\"],[0.1111111111111111,\"#46039f\"],[0.2222222222222222,\"#7201a8\"],[0.3333333333333333,\"#9c179e\"],[0.4444444444444444,\"#bd3786\"],[0.5555555555555556,\"#d8576b\"],[0.6666666666666666,\"#ed7953\"],[0.7777777777777778,\"#fb9f3a\"],[0.8888888888888888,\"#fdca26\"],[1.0,\"#f0f921\"]]},\"colorway\":[\"#636efa\",\"#EF553B\",\"#00cc96\",\"#ab63fa\",\"#FFA15A\",\"#19d3f3\",\"#FF6692\",\"#B6E880\",\"#FF97FF\",\"#FECB52\"],\"font\":{\"color\":\"#2a3f5f\"},\"geo\":{\"bgcolor\":\"white\",\"lakecolor\":\"white\",\"landcolor\":\"#E5ECF6\",\"showlakes\":true,\"showland\":true,\"subunitcolor\":\"white\"},\"hoverlabel\":{\"align\":\"left\"},\"hovermode\":\"closest\",\"mapbox\":{\"style\":\"light\"},\"paper_bgcolor\":\"white\",\"plot_bgcolor\":\"#E5ECF6\",\"polar\":{\"angularaxis\":{\"gridcolor\":\"white\",\"linecolor\":\"white\",\"ticks\":\"\"},\"bgcolor\":\"#E5ECF6\",\"radialaxis\":{\"gridcolor\":\"white\",\"linecolor\":\"white\",\"ticks\":\"\"}},\"scene\":{\"xaxis\":{\"backgroundcolor\":\"#E5ECF6\",\"gridcolor\":\"white\",\"gridwidth\":2,\"linecolor\":\"white\",\"showbackground\":true,\"ticks\":\"\",\"zerolinecolor\":\"white\"},\"yaxis\":{\"backgroundcolor\":\"#E5ECF6\",\"gridcolor\":\"white\",\"gridwidth\":2,\"linecolor\":\"white\",\"showbackground\":true,\"ticks\":\"\",\"zerolinecolor\":\"white\"},\"zaxis\":{\"backgroundcolor\":\"#E5ECF6\",\"gridcolor\":\"white\",\"gridwidth\":2,\"linecolor\":\"white\",\"showbackground\":true,\"ticks\":\"\",\"zerolinecolor\":\"white\"}},\"shapedefaults\":{\"line\":{\"color\":\"#2a3f5f\"}},\"ternary\":{\"aaxis\":{\"gridcolor\":\"white\",\"linecolor\":\"white\",\"ticks\":\"\"},\"baxis\":{\"gridcolor\":\"white\",\"linecolor\":\"white\",\"ticks\":\"\"},\"bgcolor\":\"#E5ECF6\",\"caxis\":{\"gridcolor\":\"white\",\"linecolor\":\"white\",\"ticks\":\"\"}},\"title\":{\"x\":0.05},\"xaxis\":{\"automargin\":true,\"gridcolor\":\"white\",\"linecolor\":\"white\",\"ticks\":\"\",\"title\":{\"standoff\":15},\"zerolinecolor\":\"white\",\"zerolinewidth\":2},\"yaxis\":{\"automargin\":true,\"gridcolor\":\"white\",\"linecolor\":\"white\",\"ticks\":\"\",\"title\":{\"standoff\":15},\"zerolinecolor\":\"white\",\"zerolinewidth\":2}}},\"geo\":{\"domain\":{\"x\":[0.0,1.0],\"y\":[0.0,1.0]},\"center\":{}},\"coloraxis\":{\"colorbar\":{\"title\":{\"text\":\"salary_scale\"}},\"colorscale\":[[0.0,\"rgb(0,0,131)\"],[0.2,\"rgb(0,60,170)\"],[0.4,\"rgb(5,255,255)\"],[0.6,\"rgb(255,255,0)\"],[0.8,\"rgb(250,0,0)\"],[1.0,\"rgb(128,0,0)\"]]},\"legend\":{\"tracegroupgap\":0},\"title\":{\"text\":\"Salaries across the World\"}},                        {\"responsive\": true}                    ).then(function(){\n",
       "                            \n",
       "var gd = document.getElementById('1b829b00-3f37-445a-a48c-a8dd0a12520b');\n",
       "var x = new MutationObserver(function (mutations, observer) {{\n",
       "        var display = window.getComputedStyle(gd).display;\n",
       "        if (!display || display === 'none') {{\n",
       "            console.log([gd, 'removed!']);\n",
       "            Plotly.purge(gd);\n",
       "            observer.disconnect();\n",
       "        }}\n",
       "}});\n",
       "\n",
       "// Listen for the removal of the full notebook cells\n",
       "var notebookContainer = gd.closest('#notebook-container');\n",
       "if (notebookContainer) {{\n",
       "    x.observe(notebookContainer, {childList: true});\n",
       "}}\n",
       "\n",
       "// Listen for the clearing of the current output cell\n",
       "var outputEl = gd.closest('.output');\n",
       "if (outputEl) {{\n",
       "    x.observe(outputEl, {childList: true});\n",
       "}}\n",
       "\n",
       "                        })                };                });            </script>        </div>"
      ]
     },
     "metadata": {},
     "output_type": "display_data"
    }
   ],
   "source": [
    "# Converting country code into country name\n",
    "import country_converter as coco\n",
    "dsjobs[\"company_country\"] = coco.convert(names = dsjobs[\"company_location\"], to = 'name_short')\n",
    "dsjobs[\"company_country\"]\n",
    "\n",
    "# Getting the sum of salaries across the countries\n",
    "df = dsjobs.groupby('company_country')['salary_in_usd'].sum().reset_index()\n",
    "# The data is skewed towards USA, so we linearize it with log10\n",
    "df['salary_scale'] = np.log10(df['salary_in_usd'])\n",
    "\n",
    "# Plotting the data on the world map\n",
    "fig = px.choropleth(df,locationmode = \"country names\" ,locations = \"company_country\" , \n",
    "                    color=\"salary_scale\",hover_name=\"company_country\" ,\n",
    "                    hover_data = df[['salary_in_usd']], color_continuous_scale = \"Jet\",\n",
    "                    title = 'Salaries across the World')\n",
    "fig.show()"
   ]
  },
  {
   "cell_type": "markdown",
   "metadata": {},
   "source": [
    "#### By summing the salaries column we end up with a very skewed data towards USA. This might be because of various factors like most data scientist jobs being created in USA, the data being mostly collected in US, or the data collection form might be in english and this from might have been circulated in non-english speaking countries. However, in order to linearize the data, we will take a log10 scale on salaries column and this scaled values are passed for drawing the colors of the map."
   ]
  },
  {
   "cell_type": "code",
   "execution_count": 64,
   "metadata": {},
   "outputs": [
    {
     "data": {
      "application/vnd.plotly.v1+json": {
       "config": {
        "plotlyServerURL": "https://plot.ly"
       },
       "data": [
        {
         "coloraxis": "coloraxis",
         "customdata": [
          [
           100000
          ],
          [
           18053
          ],
          [
           108042.66666666667
          ],
          [
           72920.75
          ],
          [
           85699
          ],
          [
           18602.666666666668
          ],
          [
           99823.73333333334
          ],
          [
           40038
          ],
          [
           71665.5
          ],
          [
           21844
          ],
          [
           45618
          ],
          [
           50937
          ],
          [
           54386.333333333336
          ],
          [
           32974
          ],
          [
           63970.666666666664
          ],
          [
           81887.21428571429
          ],
          [
           52293.09090909091
          ],
          [
           20000
          ],
          [
           35735
          ],
          [
           28581.75
          ],
          [
           4000
          ],
          [
           100000
          ],
          [
           71444
          ],
          [
           119059
          ],
          [
           36366.5
          ],
          [
           114127.33333333333
          ],
          [
           9272
          ],
          [
           43942.666666666664
          ],
          [
           40000
          ],
          [
           28369
          ],
          [
           32123.333333333332
          ],
          [
           18000
          ],
          [
           54945.75
          ],
          [
           125000
          ],
          [
           30000
          ],
          [
           13333.333333333334
          ],
          [
           66082.5
          ],
          [
           47793.75
          ],
          [
           60000
          ],
          [
           157500
          ],
          [
           89294
          ],
          [
           63831
          ],
          [
           53060.142857142855
          ],
          [
           64114
          ],
          [
           20096.666666666668
          ],
          [
           13400
          ],
          [
           100000
          ],
          [
           81583.0425531915
          ],
          [
           144055.26197183097
          ],
          [
           4000
          ]
         ],
         "geo": "geo",
         "hovertemplate": "<b>%{hovertext}</b><br><br>company_country=%{location}<br>salary_in_usd=%{customdata[0]}<br>salary_scale=%{z}<extra></extra>",
         "hovertext": [
          "Algeria",
          "American Samoa",
          "Australia",
          "Austria",
          "Belgium",
          "Brazil",
          "Canada",
          "Chile",
          "China",
          "Colombia",
          "Croatia",
          "Czech Republic",
          "Denmark",
          "Estonia",
          "France",
          "Germany",
          "Greece",
          "Honduras",
          "Hungary",
          "India",
          "Iran",
          "Iraq",
          "Ireland",
          "Israel",
          "Italy",
          "Japan",
          "Kenya",
          "Luxembourg",
          "Malaysia",
          "Malta",
          "Mexico",
          "Moldova",
          "Netherlands",
          "New Zealand",
          "Nigeria",
          "Pakistan",
          "Poland",
          "Portugal",
          "Romania",
          "Russia",
          "Singapore",
          "Slovenia",
          "Spain",
          "Switzerland",
          "Turkey",
          "Ukraine",
          "United Arab Emirates",
          "United Kingdom",
          "United States",
          "Vietnam"
         ],
         "locationmode": "country names",
         "locations": [
          "Algeria",
          "American Samoa",
          "Australia",
          "Austria",
          "Belgium",
          "Brazil",
          "Canada",
          "Chile",
          "China",
          "Colombia",
          "Croatia",
          "Czech Republic",
          "Denmark",
          "Estonia",
          "France",
          "Germany",
          "Greece",
          "Honduras",
          "Hungary",
          "India",
          "Iran",
          "Iraq",
          "Ireland",
          "Israel",
          "Italy",
          "Japan",
          "Kenya",
          "Luxembourg",
          "Malaysia",
          "Malta",
          "Mexico",
          "Moldova",
          "Netherlands",
          "New Zealand",
          "Nigeria",
          "Pakistan",
          "Poland",
          "Portugal",
          "Romania",
          "Russia",
          "Singapore",
          "Slovenia",
          "Spain",
          "Switzerland",
          "Turkey",
          "Ukraine",
          "United Arab Emirates",
          "United Kingdom",
          "United States",
          "Vietnam"
         ],
         "name": "",
         "type": "choropleth",
         "z": [
          5,
          4.256549382152194,
          5.033595294733538,
          4.862851126784727,
          4.932975754280074,
          4.269575204196792,
          4.999233808124237,
          4.602472375234415,
          4.855310135228226,
          4.339332167863506,
          4.659136240870397,
          4.70703336304981,
          4.735489780146694,
          4.518171633602262,
          4.805980876716405,
          4.913216097137243,
          4.718444312609721,
          4.301029995663981,
          4.553093786437186,
          4.45608881620008,
          3.6020599913279625,
          5,
          4.85396576180009,
          5.075762230506128,
          4.560701505513606,
          5.057389669783819,
          3.9671734229555398,
          4.642886408603549,
          4.6020599913279625,
          4.4528440272961625,
          4.506820604264226,
          4.2552725051033065,
          4.739934105805373,
          5.096910013008056,
          4.477121254719663,
          4.1249387366083,
          4.820086464634163,
          4.679371107533005,
          4.778151250383644,
          5.19728055812562,
          4.950822277987817,
          4.805031648300712,
          4.7247684149260945,
          4.806952872870882,
          4.30312402914569,
          4.127104798364807,
          5,
          4.911599897835969,
          5.158529126577505,
          3.6020599913279625
         ]
        }
       ],
       "layout": {
        "coloraxis": {
         "colorbar": {
          "title": {
           "text": "salary_scale"
          }
         },
         "colorscale": [
          [
           0,
           "rgb(0,0,131)"
          ],
          [
           0.2,
           "rgb(0,60,170)"
          ],
          [
           0.4,
           "rgb(5,255,255)"
          ],
          [
           0.6,
           "rgb(255,255,0)"
          ],
          [
           0.8,
           "rgb(250,0,0)"
          ],
          [
           1,
           "rgb(128,0,0)"
          ]
         ]
        },
        "geo": {
         "center": {},
         "domain": {
          "x": [
           0,
           1
          ],
          "y": [
           0,
           1
          ]
         }
        },
        "legend": {
         "tracegroupgap": 0
        },
        "template": {
         "data": {
          "bar": [
           {
            "error_x": {
             "color": "#2a3f5f"
            },
            "error_y": {
             "color": "#2a3f5f"
            },
            "marker": {
             "line": {
              "color": "#E5ECF6",
              "width": 0.5
             },
             "pattern": {
              "fillmode": "overlay",
              "size": 10,
              "solidity": 0.2
             }
            },
            "type": "bar"
           }
          ],
          "barpolar": [
           {
            "marker": {
             "line": {
              "color": "#E5ECF6",
              "width": 0.5
             },
             "pattern": {
              "fillmode": "overlay",
              "size": 10,
              "solidity": 0.2
             }
            },
            "type": "barpolar"
           }
          ],
          "carpet": [
           {
            "aaxis": {
             "endlinecolor": "#2a3f5f",
             "gridcolor": "white",
             "linecolor": "white",
             "minorgridcolor": "white",
             "startlinecolor": "#2a3f5f"
            },
            "baxis": {
             "endlinecolor": "#2a3f5f",
             "gridcolor": "white",
             "linecolor": "white",
             "minorgridcolor": "white",
             "startlinecolor": "#2a3f5f"
            },
            "type": "carpet"
           }
          ],
          "choropleth": [
           {
            "colorbar": {
             "outlinewidth": 0,
             "ticks": ""
            },
            "type": "choropleth"
           }
          ],
          "contour": [
           {
            "colorbar": {
             "outlinewidth": 0,
             "ticks": ""
            },
            "colorscale": [
             [
              0,
              "#0d0887"
             ],
             [
              0.1111111111111111,
              "#46039f"
             ],
             [
              0.2222222222222222,
              "#7201a8"
             ],
             [
              0.3333333333333333,
              "#9c179e"
             ],
             [
              0.4444444444444444,
              "#bd3786"
             ],
             [
              0.5555555555555556,
              "#d8576b"
             ],
             [
              0.6666666666666666,
              "#ed7953"
             ],
             [
              0.7777777777777778,
              "#fb9f3a"
             ],
             [
              0.8888888888888888,
              "#fdca26"
             ],
             [
              1,
              "#f0f921"
             ]
            ],
            "type": "contour"
           }
          ],
          "contourcarpet": [
           {
            "colorbar": {
             "outlinewidth": 0,
             "ticks": ""
            },
            "type": "contourcarpet"
           }
          ],
          "heatmap": [
           {
            "colorbar": {
             "outlinewidth": 0,
             "ticks": ""
            },
            "colorscale": [
             [
              0,
              "#0d0887"
             ],
             [
              0.1111111111111111,
              "#46039f"
             ],
             [
              0.2222222222222222,
              "#7201a8"
             ],
             [
              0.3333333333333333,
              "#9c179e"
             ],
             [
              0.4444444444444444,
              "#bd3786"
             ],
             [
              0.5555555555555556,
              "#d8576b"
             ],
             [
              0.6666666666666666,
              "#ed7953"
             ],
             [
              0.7777777777777778,
              "#fb9f3a"
             ],
             [
              0.8888888888888888,
              "#fdca26"
             ],
             [
              1,
              "#f0f921"
             ]
            ],
            "type": "heatmap"
           }
          ],
          "heatmapgl": [
           {
            "colorbar": {
             "outlinewidth": 0,
             "ticks": ""
            },
            "colorscale": [
             [
              0,
              "#0d0887"
             ],
             [
              0.1111111111111111,
              "#46039f"
             ],
             [
              0.2222222222222222,
              "#7201a8"
             ],
             [
              0.3333333333333333,
              "#9c179e"
             ],
             [
              0.4444444444444444,
              "#bd3786"
             ],
             [
              0.5555555555555556,
              "#d8576b"
             ],
             [
              0.6666666666666666,
              "#ed7953"
             ],
             [
              0.7777777777777778,
              "#fb9f3a"
             ],
             [
              0.8888888888888888,
              "#fdca26"
             ],
             [
              1,
              "#f0f921"
             ]
            ],
            "type": "heatmapgl"
           }
          ],
          "histogram": [
           {
            "marker": {
             "pattern": {
              "fillmode": "overlay",
              "size": 10,
              "solidity": 0.2
             }
            },
            "type": "histogram"
           }
          ],
          "histogram2d": [
           {
            "colorbar": {
             "outlinewidth": 0,
             "ticks": ""
            },
            "colorscale": [
             [
              0,
              "#0d0887"
             ],
             [
              0.1111111111111111,
              "#46039f"
             ],
             [
              0.2222222222222222,
              "#7201a8"
             ],
             [
              0.3333333333333333,
              "#9c179e"
             ],
             [
              0.4444444444444444,
              "#bd3786"
             ],
             [
              0.5555555555555556,
              "#d8576b"
             ],
             [
              0.6666666666666666,
              "#ed7953"
             ],
             [
              0.7777777777777778,
              "#fb9f3a"
             ],
             [
              0.8888888888888888,
              "#fdca26"
             ],
             [
              1,
              "#f0f921"
             ]
            ],
            "type": "histogram2d"
           }
          ],
          "histogram2dcontour": [
           {
            "colorbar": {
             "outlinewidth": 0,
             "ticks": ""
            },
            "colorscale": [
             [
              0,
              "#0d0887"
             ],
             [
              0.1111111111111111,
              "#46039f"
             ],
             [
              0.2222222222222222,
              "#7201a8"
             ],
             [
              0.3333333333333333,
              "#9c179e"
             ],
             [
              0.4444444444444444,
              "#bd3786"
             ],
             [
              0.5555555555555556,
              "#d8576b"
             ],
             [
              0.6666666666666666,
              "#ed7953"
             ],
             [
              0.7777777777777778,
              "#fb9f3a"
             ],
             [
              0.8888888888888888,
              "#fdca26"
             ],
             [
              1,
              "#f0f921"
             ]
            ],
            "type": "histogram2dcontour"
           }
          ],
          "mesh3d": [
           {
            "colorbar": {
             "outlinewidth": 0,
             "ticks": ""
            },
            "type": "mesh3d"
           }
          ],
          "parcoords": [
           {
            "line": {
             "colorbar": {
              "outlinewidth": 0,
              "ticks": ""
             }
            },
            "type": "parcoords"
           }
          ],
          "pie": [
           {
            "automargin": true,
            "type": "pie"
           }
          ],
          "scatter": [
           {
            "marker": {
             "colorbar": {
              "outlinewidth": 0,
              "ticks": ""
             }
            },
            "type": "scatter"
           }
          ],
          "scatter3d": [
           {
            "line": {
             "colorbar": {
              "outlinewidth": 0,
              "ticks": ""
             }
            },
            "marker": {
             "colorbar": {
              "outlinewidth": 0,
              "ticks": ""
             }
            },
            "type": "scatter3d"
           }
          ],
          "scattercarpet": [
           {
            "marker": {
             "colorbar": {
              "outlinewidth": 0,
              "ticks": ""
             }
            },
            "type": "scattercarpet"
           }
          ],
          "scattergeo": [
           {
            "marker": {
             "colorbar": {
              "outlinewidth": 0,
              "ticks": ""
             }
            },
            "type": "scattergeo"
           }
          ],
          "scattergl": [
           {
            "marker": {
             "colorbar": {
              "outlinewidth": 0,
              "ticks": ""
             }
            },
            "type": "scattergl"
           }
          ],
          "scattermapbox": [
           {
            "marker": {
             "colorbar": {
              "outlinewidth": 0,
              "ticks": ""
             }
            },
            "type": "scattermapbox"
           }
          ],
          "scatterpolar": [
           {
            "marker": {
             "colorbar": {
              "outlinewidth": 0,
              "ticks": ""
             }
            },
            "type": "scatterpolar"
           }
          ],
          "scatterpolargl": [
           {
            "marker": {
             "colorbar": {
              "outlinewidth": 0,
              "ticks": ""
             }
            },
            "type": "scatterpolargl"
           }
          ],
          "scatterternary": [
           {
            "marker": {
             "colorbar": {
              "outlinewidth": 0,
              "ticks": ""
             }
            },
            "type": "scatterternary"
           }
          ],
          "surface": [
           {
            "colorbar": {
             "outlinewidth": 0,
             "ticks": ""
            },
            "colorscale": [
             [
              0,
              "#0d0887"
             ],
             [
              0.1111111111111111,
              "#46039f"
             ],
             [
              0.2222222222222222,
              "#7201a8"
             ],
             [
              0.3333333333333333,
              "#9c179e"
             ],
             [
              0.4444444444444444,
              "#bd3786"
             ],
             [
              0.5555555555555556,
              "#d8576b"
             ],
             [
              0.6666666666666666,
              "#ed7953"
             ],
             [
              0.7777777777777778,
              "#fb9f3a"
             ],
             [
              0.8888888888888888,
              "#fdca26"
             ],
             [
              1,
              "#f0f921"
             ]
            ],
            "type": "surface"
           }
          ],
          "table": [
           {
            "cells": {
             "fill": {
              "color": "#EBF0F8"
             },
             "line": {
              "color": "white"
             }
            },
            "header": {
             "fill": {
              "color": "#C8D4E3"
             },
             "line": {
              "color": "white"
             }
            },
            "type": "table"
           }
          ]
         },
         "layout": {
          "annotationdefaults": {
           "arrowcolor": "#2a3f5f",
           "arrowhead": 0,
           "arrowwidth": 1
          },
          "autotypenumbers": "strict",
          "coloraxis": {
           "colorbar": {
            "outlinewidth": 0,
            "ticks": ""
           }
          },
          "colorscale": {
           "diverging": [
            [
             0,
             "#8e0152"
            ],
            [
             0.1,
             "#c51b7d"
            ],
            [
             0.2,
             "#de77ae"
            ],
            [
             0.3,
             "#f1b6da"
            ],
            [
             0.4,
             "#fde0ef"
            ],
            [
             0.5,
             "#f7f7f7"
            ],
            [
             0.6,
             "#e6f5d0"
            ],
            [
             0.7,
             "#b8e186"
            ],
            [
             0.8,
             "#7fbc41"
            ],
            [
             0.9,
             "#4d9221"
            ],
            [
             1,
             "#276419"
            ]
           ],
           "sequential": [
            [
             0,
             "#0d0887"
            ],
            [
             0.1111111111111111,
             "#46039f"
            ],
            [
             0.2222222222222222,
             "#7201a8"
            ],
            [
             0.3333333333333333,
             "#9c179e"
            ],
            [
             0.4444444444444444,
             "#bd3786"
            ],
            [
             0.5555555555555556,
             "#d8576b"
            ],
            [
             0.6666666666666666,
             "#ed7953"
            ],
            [
             0.7777777777777778,
             "#fb9f3a"
            ],
            [
             0.8888888888888888,
             "#fdca26"
            ],
            [
             1,
             "#f0f921"
            ]
           ],
           "sequentialminus": [
            [
             0,
             "#0d0887"
            ],
            [
             0.1111111111111111,
             "#46039f"
            ],
            [
             0.2222222222222222,
             "#7201a8"
            ],
            [
             0.3333333333333333,
             "#9c179e"
            ],
            [
             0.4444444444444444,
             "#bd3786"
            ],
            [
             0.5555555555555556,
             "#d8576b"
            ],
            [
             0.6666666666666666,
             "#ed7953"
            ],
            [
             0.7777777777777778,
             "#fb9f3a"
            ],
            [
             0.8888888888888888,
             "#fdca26"
            ],
            [
             1,
             "#f0f921"
            ]
           ]
          },
          "colorway": [
           "#636efa",
           "#EF553B",
           "#00cc96",
           "#ab63fa",
           "#FFA15A",
           "#19d3f3",
           "#FF6692",
           "#B6E880",
           "#FF97FF",
           "#FECB52"
          ],
          "font": {
           "color": "#2a3f5f"
          },
          "geo": {
           "bgcolor": "white",
           "lakecolor": "white",
           "landcolor": "#E5ECF6",
           "showlakes": true,
           "showland": true,
           "subunitcolor": "white"
          },
          "hoverlabel": {
           "align": "left"
          },
          "hovermode": "closest",
          "mapbox": {
           "style": "light"
          },
          "paper_bgcolor": "white",
          "plot_bgcolor": "#E5ECF6",
          "polar": {
           "angularaxis": {
            "gridcolor": "white",
            "linecolor": "white",
            "ticks": ""
           },
           "bgcolor": "#E5ECF6",
           "radialaxis": {
            "gridcolor": "white",
            "linecolor": "white",
            "ticks": ""
           }
          },
          "scene": {
           "xaxis": {
            "backgroundcolor": "#E5ECF6",
            "gridcolor": "white",
            "gridwidth": 2,
            "linecolor": "white",
            "showbackground": true,
            "ticks": "",
            "zerolinecolor": "white"
           },
           "yaxis": {
            "backgroundcolor": "#E5ECF6",
            "gridcolor": "white",
            "gridwidth": 2,
            "linecolor": "white",
            "showbackground": true,
            "ticks": "",
            "zerolinecolor": "white"
           },
           "zaxis": {
            "backgroundcolor": "#E5ECF6",
            "gridcolor": "white",
            "gridwidth": 2,
            "linecolor": "white",
            "showbackground": true,
            "ticks": "",
            "zerolinecolor": "white"
           }
          },
          "shapedefaults": {
           "line": {
            "color": "#2a3f5f"
           }
          },
          "ternary": {
           "aaxis": {
            "gridcolor": "white",
            "linecolor": "white",
            "ticks": ""
           },
           "baxis": {
            "gridcolor": "white",
            "linecolor": "white",
            "ticks": ""
           },
           "bgcolor": "#E5ECF6",
           "caxis": {
            "gridcolor": "white",
            "linecolor": "white",
            "ticks": ""
           }
          },
          "title": {
           "x": 0.05
          },
          "xaxis": {
           "automargin": true,
           "gridcolor": "white",
           "linecolor": "white",
           "ticks": "",
           "title": {
            "standoff": 15
           },
           "zerolinecolor": "white",
           "zerolinewidth": 2
          },
          "yaxis": {
           "automargin": true,
           "gridcolor": "white",
           "linecolor": "white",
           "ticks": "",
           "title": {
            "standoff": 15
           },
           "zerolinecolor": "white",
           "zerolinewidth": 2
          }
         }
        },
        "title": {
         "text": "Mean Salaries across the World"
        }
       }
      },
      "text/html": [
       "<div>                            <div id=\"98974739-f363-41dd-8f9e-17ef91fbb0c1\" class=\"plotly-graph-div\" style=\"height:525px; width:100%;\"></div>            <script type=\"text/javascript\">                require([\"plotly\"], function(Plotly) {                    window.PLOTLYENV=window.PLOTLYENV || {};                                    if (document.getElementById(\"98974739-f363-41dd-8f9e-17ef91fbb0c1\")) {                    Plotly.newPlot(                        \"98974739-f363-41dd-8f9e-17ef91fbb0c1\",                        [{\"coloraxis\":\"coloraxis\",\"customdata\":[[100000.0],[18053.0],[108042.66666666667],[72920.75],[85699.0],[18602.666666666668],[99823.73333333334],[40038.0],[71665.5],[21844.0],[45618.0],[50937.0],[54386.333333333336],[32974.0],[63970.666666666664],[81887.21428571429],[52293.09090909091],[20000.0],[35735.0],[28581.75],[4000.0],[100000.0],[71444.0],[119059.0],[36366.5],[114127.33333333333],[9272.0],[43942.666666666664],[40000.0],[28369.0],[32123.333333333332],[18000.0],[54945.75],[125000.0],[30000.0],[13333.333333333334],[66082.5],[47793.75],[60000.0],[157500.0],[89294.0],[63831.0],[53060.142857142855],[64114.0],[20096.666666666668],[13400.0],[100000.0],[81583.0425531915],[144055.26197183097],[4000.0]],\"geo\":\"geo\",\"hovertemplate\":\"<b>%{hovertext}</b><br><br>company_country=%{location}<br>salary_in_usd=%{customdata[0]}<br>salary_scale=%{z}<extra></extra>\",\"hovertext\":[\"Algeria\",\"American Samoa\",\"Australia\",\"Austria\",\"Belgium\",\"Brazil\",\"Canada\",\"Chile\",\"China\",\"Colombia\",\"Croatia\",\"Czech Republic\",\"Denmark\",\"Estonia\",\"France\",\"Germany\",\"Greece\",\"Honduras\",\"Hungary\",\"India\",\"Iran\",\"Iraq\",\"Ireland\",\"Israel\",\"Italy\",\"Japan\",\"Kenya\",\"Luxembourg\",\"Malaysia\",\"Malta\",\"Mexico\",\"Moldova\",\"Netherlands\",\"New Zealand\",\"Nigeria\",\"Pakistan\",\"Poland\",\"Portugal\",\"Romania\",\"Russia\",\"Singapore\",\"Slovenia\",\"Spain\",\"Switzerland\",\"Turkey\",\"Ukraine\",\"United Arab Emirates\",\"United Kingdom\",\"United States\",\"Vietnam\"],\"locationmode\":\"country names\",\"locations\":[\"Algeria\",\"American Samoa\",\"Australia\",\"Austria\",\"Belgium\",\"Brazil\",\"Canada\",\"Chile\",\"China\",\"Colombia\",\"Croatia\",\"Czech Republic\",\"Denmark\",\"Estonia\",\"France\",\"Germany\",\"Greece\",\"Honduras\",\"Hungary\",\"India\",\"Iran\",\"Iraq\",\"Ireland\",\"Israel\",\"Italy\",\"Japan\",\"Kenya\",\"Luxembourg\",\"Malaysia\",\"Malta\",\"Mexico\",\"Moldova\",\"Netherlands\",\"New Zealand\",\"Nigeria\",\"Pakistan\",\"Poland\",\"Portugal\",\"Romania\",\"Russia\",\"Singapore\",\"Slovenia\",\"Spain\",\"Switzerland\",\"Turkey\",\"Ukraine\",\"United Arab Emirates\",\"United Kingdom\",\"United States\",\"Vietnam\"],\"name\":\"\",\"z\":[5.0,4.256549382152194,5.033595294733538,4.862851126784727,4.932975754280074,4.269575204196792,4.999233808124237,4.602472375234415,4.855310135228226,4.339332167863506,4.659136240870397,4.70703336304981,4.735489780146694,4.518171633602262,4.805980876716405,4.913216097137243,4.718444312609721,4.301029995663981,4.553093786437186,4.45608881620008,3.6020599913279625,5.0,4.85396576180009,5.075762230506128,4.560701505513606,5.057389669783819,3.9671734229555398,4.642886408603549,4.6020599913279625,4.4528440272961625,4.506820604264226,4.2552725051033065,4.739934105805373,5.096910013008056,4.477121254719663,4.1249387366083,4.820086464634163,4.679371107533005,4.778151250383644,5.19728055812562,4.950822277987817,4.805031648300712,4.7247684149260945,4.806952872870882,4.30312402914569,4.127104798364807,5.0,4.911599897835969,5.158529126577505,3.6020599913279625],\"type\":\"choropleth\"}],                        {\"template\":{\"data\":{\"bar\":[{\"error_x\":{\"color\":\"#2a3f5f\"},\"error_y\":{\"color\":\"#2a3f5f\"},\"marker\":{\"line\":{\"color\":\"#E5ECF6\",\"width\":0.5},\"pattern\":{\"fillmode\":\"overlay\",\"size\":10,\"solidity\":0.2}},\"type\":\"bar\"}],\"barpolar\":[{\"marker\":{\"line\":{\"color\":\"#E5ECF6\",\"width\":0.5},\"pattern\":{\"fillmode\":\"overlay\",\"size\":10,\"solidity\":0.2}},\"type\":\"barpolar\"}],\"carpet\":[{\"aaxis\":{\"endlinecolor\":\"#2a3f5f\",\"gridcolor\":\"white\",\"linecolor\":\"white\",\"minorgridcolor\":\"white\",\"startlinecolor\":\"#2a3f5f\"},\"baxis\":{\"endlinecolor\":\"#2a3f5f\",\"gridcolor\":\"white\",\"linecolor\":\"white\",\"minorgridcolor\":\"white\",\"startlinecolor\":\"#2a3f5f\"},\"type\":\"carpet\"}],\"choropleth\":[{\"colorbar\":{\"outlinewidth\":0,\"ticks\":\"\"},\"type\":\"choropleth\"}],\"contour\":[{\"colorbar\":{\"outlinewidth\":0,\"ticks\":\"\"},\"colorscale\":[[0.0,\"#0d0887\"],[0.1111111111111111,\"#46039f\"],[0.2222222222222222,\"#7201a8\"],[0.3333333333333333,\"#9c179e\"],[0.4444444444444444,\"#bd3786\"],[0.5555555555555556,\"#d8576b\"],[0.6666666666666666,\"#ed7953\"],[0.7777777777777778,\"#fb9f3a\"],[0.8888888888888888,\"#fdca26\"],[1.0,\"#f0f921\"]],\"type\":\"contour\"}],\"contourcarpet\":[{\"colorbar\":{\"outlinewidth\":0,\"ticks\":\"\"},\"type\":\"contourcarpet\"}],\"heatmap\":[{\"colorbar\":{\"outlinewidth\":0,\"ticks\":\"\"},\"colorscale\":[[0.0,\"#0d0887\"],[0.1111111111111111,\"#46039f\"],[0.2222222222222222,\"#7201a8\"],[0.3333333333333333,\"#9c179e\"],[0.4444444444444444,\"#bd3786\"],[0.5555555555555556,\"#d8576b\"],[0.6666666666666666,\"#ed7953\"],[0.7777777777777778,\"#fb9f3a\"],[0.8888888888888888,\"#fdca26\"],[1.0,\"#f0f921\"]],\"type\":\"heatmap\"}],\"heatmapgl\":[{\"colorbar\":{\"outlinewidth\":0,\"ticks\":\"\"},\"colorscale\":[[0.0,\"#0d0887\"],[0.1111111111111111,\"#46039f\"],[0.2222222222222222,\"#7201a8\"],[0.3333333333333333,\"#9c179e\"],[0.4444444444444444,\"#bd3786\"],[0.5555555555555556,\"#d8576b\"],[0.6666666666666666,\"#ed7953\"],[0.7777777777777778,\"#fb9f3a\"],[0.8888888888888888,\"#fdca26\"],[1.0,\"#f0f921\"]],\"type\":\"heatmapgl\"}],\"histogram\":[{\"marker\":{\"pattern\":{\"fillmode\":\"overlay\",\"size\":10,\"solidity\":0.2}},\"type\":\"histogram\"}],\"histogram2d\":[{\"colorbar\":{\"outlinewidth\":0,\"ticks\":\"\"},\"colorscale\":[[0.0,\"#0d0887\"],[0.1111111111111111,\"#46039f\"],[0.2222222222222222,\"#7201a8\"],[0.3333333333333333,\"#9c179e\"],[0.4444444444444444,\"#bd3786\"],[0.5555555555555556,\"#d8576b\"],[0.6666666666666666,\"#ed7953\"],[0.7777777777777778,\"#fb9f3a\"],[0.8888888888888888,\"#fdca26\"],[1.0,\"#f0f921\"]],\"type\":\"histogram2d\"}],\"histogram2dcontour\":[{\"colorbar\":{\"outlinewidth\":0,\"ticks\":\"\"},\"colorscale\":[[0.0,\"#0d0887\"],[0.1111111111111111,\"#46039f\"],[0.2222222222222222,\"#7201a8\"],[0.3333333333333333,\"#9c179e\"],[0.4444444444444444,\"#bd3786\"],[0.5555555555555556,\"#d8576b\"],[0.6666666666666666,\"#ed7953\"],[0.7777777777777778,\"#fb9f3a\"],[0.8888888888888888,\"#fdca26\"],[1.0,\"#f0f921\"]],\"type\":\"histogram2dcontour\"}],\"mesh3d\":[{\"colorbar\":{\"outlinewidth\":0,\"ticks\":\"\"},\"type\":\"mesh3d\"}],\"parcoords\":[{\"line\":{\"colorbar\":{\"outlinewidth\":0,\"ticks\":\"\"}},\"type\":\"parcoords\"}],\"pie\":[{\"automargin\":true,\"type\":\"pie\"}],\"scatter\":[{\"marker\":{\"colorbar\":{\"outlinewidth\":0,\"ticks\":\"\"}},\"type\":\"scatter\"}],\"scatter3d\":[{\"line\":{\"colorbar\":{\"outlinewidth\":0,\"ticks\":\"\"}},\"marker\":{\"colorbar\":{\"outlinewidth\":0,\"ticks\":\"\"}},\"type\":\"scatter3d\"}],\"scattercarpet\":[{\"marker\":{\"colorbar\":{\"outlinewidth\":0,\"ticks\":\"\"}},\"type\":\"scattercarpet\"}],\"scattergeo\":[{\"marker\":{\"colorbar\":{\"outlinewidth\":0,\"ticks\":\"\"}},\"type\":\"scattergeo\"}],\"scattergl\":[{\"marker\":{\"colorbar\":{\"outlinewidth\":0,\"ticks\":\"\"}},\"type\":\"scattergl\"}],\"scattermapbox\":[{\"marker\":{\"colorbar\":{\"outlinewidth\":0,\"ticks\":\"\"}},\"type\":\"scattermapbox\"}],\"scatterpolar\":[{\"marker\":{\"colorbar\":{\"outlinewidth\":0,\"ticks\":\"\"}},\"type\":\"scatterpolar\"}],\"scatterpolargl\":[{\"marker\":{\"colorbar\":{\"outlinewidth\":0,\"ticks\":\"\"}},\"type\":\"scatterpolargl\"}],\"scatterternary\":[{\"marker\":{\"colorbar\":{\"outlinewidth\":0,\"ticks\":\"\"}},\"type\":\"scatterternary\"}],\"surface\":[{\"colorbar\":{\"outlinewidth\":0,\"ticks\":\"\"},\"colorscale\":[[0.0,\"#0d0887\"],[0.1111111111111111,\"#46039f\"],[0.2222222222222222,\"#7201a8\"],[0.3333333333333333,\"#9c179e\"],[0.4444444444444444,\"#bd3786\"],[0.5555555555555556,\"#d8576b\"],[0.6666666666666666,\"#ed7953\"],[0.7777777777777778,\"#fb9f3a\"],[0.8888888888888888,\"#fdca26\"],[1.0,\"#f0f921\"]],\"type\":\"surface\"}],\"table\":[{\"cells\":{\"fill\":{\"color\":\"#EBF0F8\"},\"line\":{\"color\":\"white\"}},\"header\":{\"fill\":{\"color\":\"#C8D4E3\"},\"line\":{\"color\":\"white\"}},\"type\":\"table\"}]},\"layout\":{\"annotationdefaults\":{\"arrowcolor\":\"#2a3f5f\",\"arrowhead\":0,\"arrowwidth\":1},\"autotypenumbers\":\"strict\",\"coloraxis\":{\"colorbar\":{\"outlinewidth\":0,\"ticks\":\"\"}},\"colorscale\":{\"diverging\":[[0,\"#8e0152\"],[0.1,\"#c51b7d\"],[0.2,\"#de77ae\"],[0.3,\"#f1b6da\"],[0.4,\"#fde0ef\"],[0.5,\"#f7f7f7\"],[0.6,\"#e6f5d0\"],[0.7,\"#b8e186\"],[0.8,\"#7fbc41\"],[0.9,\"#4d9221\"],[1,\"#276419\"]],\"sequential\":[[0.0,\"#0d0887\"],[0.1111111111111111,\"#46039f\"],[0.2222222222222222,\"#7201a8\"],[0.3333333333333333,\"#9c179e\"],[0.4444444444444444,\"#bd3786\"],[0.5555555555555556,\"#d8576b\"],[0.6666666666666666,\"#ed7953\"],[0.7777777777777778,\"#fb9f3a\"],[0.8888888888888888,\"#fdca26\"],[1.0,\"#f0f921\"]],\"sequentialminus\":[[0.0,\"#0d0887\"],[0.1111111111111111,\"#46039f\"],[0.2222222222222222,\"#7201a8\"],[0.3333333333333333,\"#9c179e\"],[0.4444444444444444,\"#bd3786\"],[0.5555555555555556,\"#d8576b\"],[0.6666666666666666,\"#ed7953\"],[0.7777777777777778,\"#fb9f3a\"],[0.8888888888888888,\"#fdca26\"],[1.0,\"#f0f921\"]]},\"colorway\":[\"#636efa\",\"#EF553B\",\"#00cc96\",\"#ab63fa\",\"#FFA15A\",\"#19d3f3\",\"#FF6692\",\"#B6E880\",\"#FF97FF\",\"#FECB52\"],\"font\":{\"color\":\"#2a3f5f\"},\"geo\":{\"bgcolor\":\"white\",\"lakecolor\":\"white\",\"landcolor\":\"#E5ECF6\",\"showlakes\":true,\"showland\":true,\"subunitcolor\":\"white\"},\"hoverlabel\":{\"align\":\"left\"},\"hovermode\":\"closest\",\"mapbox\":{\"style\":\"light\"},\"paper_bgcolor\":\"white\",\"plot_bgcolor\":\"#E5ECF6\",\"polar\":{\"angularaxis\":{\"gridcolor\":\"white\",\"linecolor\":\"white\",\"ticks\":\"\"},\"bgcolor\":\"#E5ECF6\",\"radialaxis\":{\"gridcolor\":\"white\",\"linecolor\":\"white\",\"ticks\":\"\"}},\"scene\":{\"xaxis\":{\"backgroundcolor\":\"#E5ECF6\",\"gridcolor\":\"white\",\"gridwidth\":2,\"linecolor\":\"white\",\"showbackground\":true,\"ticks\":\"\",\"zerolinecolor\":\"white\"},\"yaxis\":{\"backgroundcolor\":\"#E5ECF6\",\"gridcolor\":\"white\",\"gridwidth\":2,\"linecolor\":\"white\",\"showbackground\":true,\"ticks\":\"\",\"zerolinecolor\":\"white\"},\"zaxis\":{\"backgroundcolor\":\"#E5ECF6\",\"gridcolor\":\"white\",\"gridwidth\":2,\"linecolor\":\"white\",\"showbackground\":true,\"ticks\":\"\",\"zerolinecolor\":\"white\"}},\"shapedefaults\":{\"line\":{\"color\":\"#2a3f5f\"}},\"ternary\":{\"aaxis\":{\"gridcolor\":\"white\",\"linecolor\":\"white\",\"ticks\":\"\"},\"baxis\":{\"gridcolor\":\"white\",\"linecolor\":\"white\",\"ticks\":\"\"},\"bgcolor\":\"#E5ECF6\",\"caxis\":{\"gridcolor\":\"white\",\"linecolor\":\"white\",\"ticks\":\"\"}},\"title\":{\"x\":0.05},\"xaxis\":{\"automargin\":true,\"gridcolor\":\"white\",\"linecolor\":\"white\",\"ticks\":\"\",\"title\":{\"standoff\":15},\"zerolinecolor\":\"white\",\"zerolinewidth\":2},\"yaxis\":{\"automargin\":true,\"gridcolor\":\"white\",\"linecolor\":\"white\",\"ticks\":\"\",\"title\":{\"standoff\":15},\"zerolinecolor\":\"white\",\"zerolinewidth\":2}}},\"geo\":{\"domain\":{\"x\":[0.0,1.0],\"y\":[0.0,1.0]},\"center\":{}},\"coloraxis\":{\"colorbar\":{\"title\":{\"text\":\"salary_scale\"}},\"colorscale\":[[0.0,\"rgb(0,0,131)\"],[0.2,\"rgb(0,60,170)\"],[0.4,\"rgb(5,255,255)\"],[0.6,\"rgb(255,255,0)\"],[0.8,\"rgb(250,0,0)\"],[1.0,\"rgb(128,0,0)\"]]},\"legend\":{\"tracegroupgap\":0},\"title\":{\"text\":\"Mean Salaries across the World\"}},                        {\"responsive\": true}                    ).then(function(){\n",
       "                            \n",
       "var gd = document.getElementById('98974739-f363-41dd-8f9e-17ef91fbb0c1');\n",
       "var x = new MutationObserver(function (mutations, observer) {{\n",
       "        var display = window.getComputedStyle(gd).display;\n",
       "        if (!display || display === 'none') {{\n",
       "            console.log([gd, 'removed!']);\n",
       "            Plotly.purge(gd);\n",
       "            observer.disconnect();\n",
       "        }}\n",
       "}});\n",
       "\n",
       "// Listen for the removal of the full notebook cells\n",
       "var notebookContainer = gd.closest('#notebook-container');\n",
       "if (notebookContainer) {{\n",
       "    x.observe(notebookContainer, {childList: true});\n",
       "}}\n",
       "\n",
       "// Listen for the clearing of the current output cell\n",
       "var outputEl = gd.closest('.output');\n",
       "if (outputEl) {{\n",
       "    x.observe(outputEl, {childList: true});\n",
       "}}\n",
       "\n",
       "                        })                };                });            </script>        </div>"
      ]
     },
     "metadata": {},
     "output_type": "display_data"
    }
   ],
   "source": [
    "# Converting country code into country name\n",
    "import country_converter as coco\n",
    "dsjobs[\"company_country\"] = coco.convert(names = dsjobs[\"company_location\"], to = 'name_short')\n",
    "dsjobs[\"company_country\"]\n",
    "\n",
    "# Getting the mean salaries across the countries\n",
    "df = dsjobs.groupby('company_country')['salary_in_usd'].mean().reset_index()\n",
    "# The data is skewed towards USA, so we linearize it with log10\n",
    "df['salary_scale'] = np.log10(df['salary_in_usd'])\n",
    "\n",
    "# Plotting the data on the world map\n",
    "fig = px.choropleth(df,locationmode = \"country names\" ,locations = \"company_country\" , \n",
    "                    color=\"salary_scale\",hover_name=\"company_country\" ,\n",
    "                    hover_data = df[['salary_in_usd']], color_continuous_scale = \"Jet\",\n",
    "                    title = 'Mean Salaries across the World')\n",
    "fig.show()"
   ]
  },
  {
   "cell_type": "markdown",
   "metadata": {},
   "source": [
    "#### The sum of salaries might not be a correct measure for comparison as the entries in a particular country might be more than other. So we plot the mean keeping the log10 scale. This gives a much better idea of salaries across the world."
   ]
  },
  {
   "cell_type": "code",
   "execution_count": 65,
   "metadata": {},
   "outputs": [
    {
     "data": {
      "image/png": "[encoded data removed]",
      "text/plain": [
       "<Figure size 1008x1008 with 1 Axes>"
      ]
     },
     "metadata": {},
     "output_type": "display_data"
    }
   ],
   "source": [
    "sns.stripplot(y = 'company_location', x = 'salary_in_usd', data = dsjobs, palette=\"Set2\", s = 10)\n",
    "sns.set(rc = {'figure.figsize':(14,14)})"
   ]
  },
  {
   "cell_type": "markdown",
   "metadata": {},
   "source": [
    "#### It can be observed that majority of data science jobs are in United States of America (US) and it also has highest paying jobs. Canada (CA), Japan (JP), Germany (DE), United Kingdom (GB), Spain (ES), France (FR), Greece (GR) and India (IN) follows in terms of highest job salaries and number of jobs (except Japan) in that order respectively."
   ]
  },
  {
   "cell_type": "markdown",
   "metadata": {},
   "source": [
    "### Average salary as a function of currency"
   ]
  },
  {
   "cell_type": "code",
   "execution_count": 66,
   "metadata": {},
   "outputs": [
    {
     "data": {
      "application/vnd.plotly.v1+json": {
       "config": {
        "plotlyServerURL": "https://plot.ly"
       },
       "data": [
        {
         "alignmentgroup": "True",
         "hovertemplate": "salary_currency=%{x}<br>salary_in_usd=%{y}<extra></extra>",
         "legendgroup": "USD",
         "marker": {
          "color": "rgb(136, 204, 238)",
          "pattern": {
           "shape": ""
          }
         },
         "name": "USD",
         "offsetgroup": "USD",
         "orientation": "v",
         "showlegend": true,
         "textposition": "auto",
         "type": "bar",
         "x": [
          "USD"
         ],
         "xaxis": "x",
         "y": [
          137264.7889447236
         ],
         "yaxis": "y"
        },
        {
         "alignmentgroup": "True",
         "hovertemplate": "salary_currency=%{x}<br>salary_in_usd=%{y}<extra></extra>",
         "legendgroup": "CHF",
         "marker": {
          "color": "rgb(204, 102, 119)",
          "pattern": {
           "shape": ""
          }
         },
         "name": "CHF",
         "offsetgroup": "CHF",
         "orientation": "v",
         "showlegend": true,
         "textposition": "auto",
         "type": "bar",
         "x": [
          "CHF"
         ],
         "xaxis": "x",
         "y": [
          122346
         ],
         "yaxis": "y"
        },
        {
         "alignmentgroup": "True",
         "hovertemplate": "salary_currency=%{x}<br>salary_in_usd=%{y}<extra></extra>",
         "legendgroup": "SGD",
         "marker": {
          "color": "rgb(221, 204, 119)",
          "pattern": {
           "shape": ""
          }
         },
         "name": "SGD",
         "offsetgroup": "SGD",
         "orientation": "v",
         "showlegend": true,
         "textposition": "auto",
         "type": "bar",
         "x": [
          "SGD"
         ],
         "xaxis": "x",
         "y": [
          104176.5
         ],
         "yaxis": "y"
        },
        {
         "alignmentgroup": "True",
         "hovertemplate": "salary_currency=%{x}<br>salary_in_usd=%{y}<extra></extra>",
         "legendgroup": "CAD",
         "marker": {
          "color": "rgb(17, 119, 51)",
          "pattern": {
           "shape": ""
          }
         },
         "name": "CAD",
         "offsetgroup": "CAD",
         "orientation": "v",
         "showlegend": true,
         "textposition": "auto",
         "type": "bar",
         "x": [
          "CAD"
         ],
         "xaxis": "x",
         "y": [
          97222.88888888889
         ],
         "yaxis": "y"
        },
        {
         "alignmentgroup": "True",
         "hovertemplate": "salary_currency=%{x}<br>salary_in_usd=%{y}<extra></extra>",
         "legendgroup": "AUD",
         "marker": {
          "color": "rgb(51, 34, 136)",
          "pattern": {
           "shape": ""
          }
         },
         "name": "AUD",
         "offsetgroup": "AUD",
         "orientation": "v",
         "showlegend": true,
         "textposition": "auto",
         "type": "bar",
         "x": [
          "AUD"
         ],
         "xaxis": "x",
         "y": [
          87064
         ],
         "yaxis": "y"
        },
        {
         "alignmentgroup": "True",
         "hovertemplate": "salary_currency=%{x}<br>salary_in_usd=%{y}<extra></extra>",
         "legendgroup": "GBP",
         "marker": {
          "color": "rgb(170, 68, 153)",
          "pattern": {
           "shape": ""
          }
         },
         "name": "GBP",
         "offsetgroup": "GBP",
         "orientation": "v",
         "showlegend": true,
         "textposition": "auto",
         "type": "bar",
         "x": [
          "GBP"
         ],
         "xaxis": "x",
         "y": [
          81670.97727272728
         ],
         "yaxis": "y"
        },
        {
         "alignmentgroup": "True",
         "hovertemplate": "salary_currency=%{x}<br>salary_in_usd=%{y}<extra></extra>",
         "legendgroup": "EUR",
         "marker": {
          "color": "rgb(68, 170, 153)",
          "pattern": {
           "shape": ""
          }
         },
         "name": "EUR",
         "offsetgroup": "EUR",
         "orientation": "v",
         "showlegend": true,
         "textposition": "auto",
         "type": "bar",
         "x": [
          "EUR"
         ],
         "xaxis": "x",
         "y": [
          65751.47368421052
         ],
         "yaxis": "y"
        },
        {
         "alignmentgroup": "True",
         "hovertemplate": "salary_currency=%{x}<br>salary_in_usd=%{y}<extra></extra>",
         "legendgroup": "JPY",
         "marker": {
          "color": "rgb(153, 153, 51)",
          "pattern": {
           "shape": ""
          }
         },
         "name": "JPY",
         "offsetgroup": "JPY",
         "orientation": "v",
         "showlegend": true,
         "textposition": "auto",
         "type": "bar",
         "x": [
          "JPY"
         ],
         "xaxis": "x",
         "y": [
          60921.333333333336
         ],
         "yaxis": "y"
        },
        {
         "alignmentgroup": "True",
         "hovertemplate": "salary_currency=%{x}<br>salary_in_usd=%{y}<extra></extra>",
         "legendgroup": "CNY",
         "marker": {
          "color": "rgb(136, 34, 85)",
          "pattern": {
           "shape": ""
          }
         },
         "name": "CNY",
         "offsetgroup": "CNY",
         "orientation": "v",
         "showlegend": true,
         "textposition": "auto",
         "type": "bar",
         "x": [
          "CNY"
         ],
         "xaxis": "x",
         "y": [
          40283.5
         ],
         "yaxis": "y"
        },
        {
         "alignmentgroup": "True",
         "hovertemplate": "salary_currency=%{x}<br>salary_in_usd=%{y}<extra></extra>",
         "legendgroup": "CLP",
         "marker": {
          "color": "rgb(102, 17, 0)",
          "pattern": {
           "shape": ""
          }
         },
         "name": "CLP",
         "offsetgroup": "CLP",
         "orientation": "v",
         "showlegend": true,
         "textposition": "auto",
         "type": "bar",
         "x": [
          "CLP"
         ],
         "xaxis": "x",
         "y": [
          40038
         ],
         "yaxis": "y"
        },
        {
         "alignmentgroup": "True",
         "hovertemplate": "salary_currency=%{x}<br>salary_in_usd=%{y}<extra></extra>",
         "legendgroup": "DKK",
         "marker": {
          "color": "rgb(136, 136, 136)",
          "pattern": {
           "shape": ""
          }
         },
         "name": "DKK",
         "offsetgroup": "DKK",
         "orientation": "v",
         "showlegend": true,
         "textposition": "auto",
         "type": "bar",
         "x": [
          "DKK"
         ],
         "xaxis": "x",
         "y": [
          37252.5
         ],
         "yaxis": "y"
        },
        {
         "alignmentgroup": "True",
         "hovertemplate": "salary_currency=%{x}<br>salary_in_usd=%{y}<extra></extra>",
         "legendgroup": "PLN",
         "marker": {
          "color": "rgb(136, 204, 238)",
          "pattern": {
           "shape": ""
          }
         },
         "name": "PLN",
         "offsetgroup": "PLN",
         "orientation": "v",
         "showlegend": true,
         "textposition": "auto",
         "type": "bar",
         "x": [
          "PLN"
         ],
         "xaxis": "x",
         "y": [
          36887.666666666664
         ],
         "yaxis": "y"
        },
        {
         "alignmentgroup": "True",
         "hovertemplate": "salary_currency=%{x}<br>salary_in_usd=%{y}<extra></extra>",
         "legendgroup": "HUF",
         "marker": {
          "color": "rgb(204, 102, 119)",
          "pattern": {
           "shape": ""
          }
         },
         "name": "HUF",
         "offsetgroup": "HUF",
         "orientation": "v",
         "showlegend": true,
         "textposition": "auto",
         "type": "bar",
         "x": [
          "HUF"
         ],
         "xaxis": "x",
         "y": [
          35997
         ],
         "yaxis": "y"
        },
        {
         "alignmentgroup": "True",
         "hovertemplate": "salary_currency=%{x}<br>salary_in_usd=%{y}<extra></extra>",
         "legendgroup": "INR",
         "marker": {
          "color": "rgb(221, 204, 119)",
          "pattern": {
           "shape": ""
          }
         },
         "name": "INR",
         "offsetgroup": "INR",
         "orientation": "v",
         "showlegend": true,
         "textposition": "auto",
         "type": "bar",
         "x": [
          "INR"
         ],
         "xaxis": "x",
         "y": [
          27765.555555555555
         ],
         "yaxis": "y"
        },
        {
         "alignmentgroup": "True",
         "hovertemplate": "salary_currency=%{x}<br>salary_in_usd=%{y}<extra></extra>",
         "legendgroup": "TRY",
         "marker": {
          "color": "rgb(17, 119, 51)",
          "pattern": {
           "shape": ""
          }
         },
         "name": "TRY",
         "offsetgroup": "TRY",
         "orientation": "v",
         "showlegend": true,
         "textposition": "auto",
         "type": "bar",
         "x": [
          "TRY"
         ],
         "xaxis": "x",
         "y": [
          20096.666666666668
         ],
         "yaxis": "y"
        }
       ],
       "layout": {
        "barmode": "relative",
        "legend": {
         "title": {
          "text": "salary_currency"
         },
         "tracegroupgap": 0
        },
        "template": {
         "data": {
          "bar": [
           {
            "error_x": {
             "color": "#2a3f5f"
            },
            "error_y": {
             "color": "#2a3f5f"
            },
            "marker": {
             "line": {
              "color": "#E5ECF6",
              "width": 0.5
             },
             "pattern": {
              "fillmode": "overlay",
              "size": 10,
              "solidity": 0.2
             }
            },
            "type": "bar"
           }
          ],
          "barpolar": [
           {
            "marker": {
             "line": {
              "color": "#E5ECF6",
              "width": 0.5
             },
             "pattern": {
              "fillmode": "overlay",
              "size": 10,
              "solidity": 0.2
             }
            },
            "type": "barpolar"
           }
          ],
          "carpet": [
           {
            "aaxis": {
             "endlinecolor": "#2a3f5f",
             "gridcolor": "white",
             "linecolor": "white",
             "minorgridcolor": "white",
             "startlinecolor": "#2a3f5f"
            },
            "baxis": {
             "endlinecolor": "#2a3f5f",
             "gridcolor": "white",
             "linecolor": "white",
             "minorgridcolor": "white",
             "startlinecolor": "#2a3f5f"
            },
            "type": "carpet"
           }
          ],
          "choropleth": [
           {
            "colorbar": {
             "outlinewidth": 0,
             "ticks": ""
            },
            "type": "choropleth"
           }
          ],
          "contour": [
           {
            "colorbar": {
             "outlinewidth": 0,
             "ticks": ""
            },
            "colorscale": [
             [
              0,
              "#0d0887"
             ],
             [
              0.1111111111111111,
              "#46039f"
             ],
             [
              0.2222222222222222,
              "#7201a8"
             ],
             [
              0.3333333333333333,
              "#9c179e"
             ],
             [
              0.4444444444444444,
              "#bd3786"
             ],
             [
              0.5555555555555556,
              "#d8576b"
             ],
             [
              0.6666666666666666,
              "#ed7953"
             ],
             [
              0.7777777777777778,
              "#fb9f3a"
             ],
             [
              0.8888888888888888,
              "#fdca26"
             ],
             [
              1,
              "#f0f921"
             ]
            ],
            "type": "contour"
           }
          ],
          "contourcarpet": [
           {
            "colorbar": {
             "outlinewidth": 0,
             "ticks": ""
            },
            "type": "contourcarpet"
           }
          ],
          "heatmap": [
           {
            "colorbar": {
             "outlinewidth": 0,
             "ticks": ""
            },
            "colorscale": [
             [
              0,
              "#0d0887"
             ],
             [
              0.1111111111111111,
              "#46039f"
             ],
             [
              0.2222222222222222,
              "#7201a8"
             ],
             [
              0.3333333333333333,
              "#9c179e"
             ],
             [
              0.4444444444444444,
              "#bd3786"
             ],
             [
              0.5555555555555556,
              "#d8576b"
             ],
             [
              0.6666666666666666,
              "#ed7953"
             ],
             [
              0.7777777777777778,
              "#fb9f3a"
             ],
             [
              0.8888888888888888,
              "#fdca26"
             ],
             [
              1,
              "#f0f921"
             ]
            ],
            "type": "heatmap"
           }
          ],
          "heatmapgl": [
           {
            "colorbar": {
             "outlinewidth": 0,
             "ticks": ""
            },
            "colorscale": [
             [
              0,
              "#0d0887"
             ],
             [
              0.1111111111111111,
              "#46039f"
             ],
             [
              0.2222222222222222,
              "#7201a8"
             ],
             [
              0.3333333333333333,
              "#9c179e"
             ],
             [
              0.4444444444444444,
              "#bd3786"
             ],
             [
              0.5555555555555556,
              "#d8576b"
             ],
             [
              0.6666666666666666,
              "#ed7953"
             ],
             [
              0.7777777777777778,
              "#fb9f3a"
             ],
             [
              0.8888888888888888,
              "#fdca26"
             ],
             [
              1,
              "#f0f921"
             ]
            ],
            "type": "heatmapgl"
           }
          ],
          "histogram": [
           {
            "marker": {
             "pattern": {
              "fillmode": "overlay",
              "size": 10,
              "solidity": 0.2
             }
            },
            "type": "histogram"
           }
          ],
          "histogram2d": [
           {
            "colorbar": {
             "outlinewidth": 0,
             "ticks": ""
            },
            "colorscale": [
             [
              0,
              "#0d0887"
             ],
             [
              0.1111111111111111,
              "#46039f"
             ],
             [
              0.2222222222222222,
              "#7201a8"
             ],
             [
              0.3333333333333333,
              "#9c179e"
             ],
             [
              0.4444444444444444,
              "#bd3786"
             ],
             [
              0.5555555555555556,
              "#d8576b"
             ],
             [
              0.6666666666666666,
              "#ed7953"
             ],
             [
              0.7777777777777778,
              "#fb9f3a"
             ],
             [
              0.8888888888888888,
              "#fdca26"
             ],
             [
              1,
              "#f0f921"
             ]
            ],
            "type": "histogram2d"
           }
          ],
          "histogram2dcontour": [
           {
            "colorbar": {
             "outlinewidth": 0,
             "ticks": ""
            },
            "colorscale": [
             [
              0,
              "#0d0887"
             ],
             [
              0.1111111111111111,
              "#46039f"
             ],
             [
              0.2222222222222222,
              "#7201a8"
             ],
             [
              0.3333333333333333,
              "#9c179e"
             ],
             [
              0.4444444444444444,
              "#bd3786"
             ],
             [
              0.5555555555555556,
              "#d8576b"
             ],
             [
              0.6666666666666666,
              "#ed7953"
             ],
             [
              0.7777777777777778,
              "#fb9f3a"
             ],
             [
              0.8888888888888888,
              "#fdca26"
             ],
             [
              1,
              "#f0f921"
             ]
            ],
            "type": "histogram2dcontour"
           }
          ],
          "mesh3d": [
           {
            "colorbar": {
             "outlinewidth": 0,
             "ticks": ""
            },
            "type": "mesh3d"
           }
          ],
          "parcoords": [
           {
            "line": {
             "colorbar": {
              "outlinewidth": 0,
              "ticks": ""
             }
            },
            "type": "parcoords"
           }
          ],
          "pie": [
           {
            "automargin": true,
            "type": "pie"
           }
          ],
          "scatter": [
           {
            "marker": {
             "colorbar": {
              "outlinewidth": 0,
              "ticks": ""
             }
            },
            "type": "scatter"
           }
          ],
          "scatter3d": [
           {
            "line": {
             "colorbar": {
              "outlinewidth": 0,
              "ticks": ""
             }
            },
            "marker": {
             "colorbar": {
              "outlinewidth": 0,
              "ticks": ""
             }
            },
            "type": "scatter3d"
           }
          ],
          "scattercarpet": [
           {
            "marker": {
             "colorbar": {
              "outlinewidth": 0,
              "ticks": ""
             }
            },
            "type": "scattercarpet"
           }
          ],
          "scattergeo": [
           {
            "marker": {
             "colorbar": {
              "outlinewidth": 0,
              "ticks": ""
             }
            },
            "type": "scattergeo"
           }
          ],
          "scattergl": [
           {
            "marker": {
             "colorbar": {
              "outlinewidth": 0,
              "ticks": ""
             }
            },
            "type": "scattergl"
           }
          ],
          "scattermapbox": [
           {
            "marker": {
             "colorbar": {
              "outlinewidth": 0,
              "ticks": ""
             }
            },
            "type": "scattermapbox"
           }
          ],
          "scatterpolar": [
           {
            "marker": {
             "colorbar": {
              "outlinewidth": 0,
              "ticks": ""
             }
            },
            "type": "scatterpolar"
           }
          ],
          "scatterpolargl": [
           {
            "marker": {
             "colorbar": {
              "outlinewidth": 0,
              "ticks": ""
             }
            },
            "type": "scatterpolargl"
           }
          ],
          "scatterternary": [
           {
            "marker": {
             "colorbar": {
              "outlinewidth": 0,
              "ticks": ""
             }
            },
            "type": "scatterternary"
           }
          ],
          "surface": [
           {
            "colorbar": {
             "outlinewidth": 0,
             "ticks": ""
            },
            "colorscale": [
             [
              0,
              "#0d0887"
             ],
             [
              0.1111111111111111,
              "#46039f"
             ],
             [
              0.2222222222222222,
              "#7201a8"
             ],
             [
              0.3333333333333333,
              "#9c179e"
             ],
             [
              0.4444444444444444,
              "#bd3786"
             ],
             [
              0.5555555555555556,
              "#d8576b"
             ],
             [
              0.6666666666666666,
              "#ed7953"
             ],
             [
              0.7777777777777778,
              "#fb9f3a"
             ],
             [
              0.8888888888888888,
              "#fdca26"
             ],
             [
              1,
              "#f0f921"
             ]
            ],
            "type": "surface"
           }
          ],
          "table": [
           {
            "cells": {
             "fill": {
              "color": "#EBF0F8"
             },
             "line": {
              "color": "white"
             }
            },
            "header": {
             "fill": {
              "color": "#C8D4E3"
             },
             "line": {
              "color": "white"
             }
            },
            "type": "table"
           }
          ]
         },
         "layout": {
          "annotationdefaults": {
           "arrowcolor": "#2a3f5f",
           "arrowhead": 0,
           "arrowwidth": 1
          },
          "autotypenumbers": "strict",
          "coloraxis": {
           "colorbar": {
            "outlinewidth": 0,
            "ticks": ""
           }
          },
          "colorscale": {
           "diverging": [
            [
             0,
             "#8e0152"
            ],
            [
             0.1,
             "#c51b7d"
            ],
            [
             0.2,
             "#de77ae"
            ],
            [
             0.3,
             "#f1b6da"
            ],
            [
             0.4,
             "#fde0ef"
            ],
            [
             0.5,
             "#f7f7f7"
            ],
            [
             0.6,
             "#e6f5d0"
            ],
            [
             0.7,
             "#b8e186"
            ],
            [
             0.8,
             "#7fbc41"
            ],
            [
             0.9,
             "#4d9221"
            ],
            [
             1,
             "#276419"
            ]
           ],
           "sequential": [
            [
             0,
             "#0d0887"
            ],
            [
             0.1111111111111111,
             "#46039f"
            ],
            [
             0.2222222222222222,
             "#7201a8"
            ],
            [
             0.3333333333333333,
             "#9c179e"
            ],
            [
             0.4444444444444444,
             "#bd3786"
            ],
            [
             0.5555555555555556,
             "#d8576b"
            ],
            [
             0.6666666666666666,
             "#ed7953"
            ],
            [
             0.7777777777777778,
             "#fb9f3a"
            ],
            [
             0.8888888888888888,
             "#fdca26"
            ],
            [
             1,
             "#f0f921"
            ]
           ],
           "sequentialminus": [
            [
             0,
             "#0d0887"
            ],
            [
             0.1111111111111111,
             "#46039f"
            ],
            [
             0.2222222222222222,
             "#7201a8"
            ],
            [
             0.3333333333333333,
             "#9c179e"
            ],
            [
             0.4444444444444444,
             "#bd3786"
            ],
            [
             0.5555555555555556,
             "#d8576b"
            ],
            [
             0.6666666666666666,
             "#ed7953"
            ],
            [
             0.7777777777777778,
             "#fb9f3a"
            ],
            [
             0.8888888888888888,
             "#fdca26"
            ],
            [
             1,
             "#f0f921"
            ]
           ]
          },
          "colorway": [
           "#636efa",
           "#EF553B",
           "#00cc96",
           "#ab63fa",
           "#FFA15A",
           "#19d3f3",
           "#FF6692",
           "#B6E880",
           "#FF97FF",
           "#FECB52"
          ],
          "font": {
           "color": "#2a3f5f"
          },
          "geo": {
           "bgcolor": "white",
           "lakecolor": "white",
           "landcolor": "#E5ECF6",
           "showlakes": true,
           "showland": true,
           "subunitcolor": "white"
          },
          "hoverlabel": {
           "align": "left"
          },
          "hovermode": "closest",
          "mapbox": {
           "style": "light"
          },
          "paper_bgcolor": "white",
          "plot_bgcolor": "#E5ECF6",
          "polar": {
           "angularaxis": {
            "gridcolor": "white",
            "linecolor": "white",
            "ticks": ""
           },
           "bgcolor": "#E5ECF6",
           "radialaxis": {
            "gridcolor": "white",
            "linecolor": "white",
            "ticks": ""
           }
          },
          "scene": {
           "xaxis": {
            "backgroundcolor": "#E5ECF6",
            "gridcolor": "white",
            "gridwidth": 2,
            "linecolor": "white",
            "showbackground": true,
            "ticks": "",
            "zerolinecolor": "white"
           },
           "yaxis": {
            "backgroundcolor": "#E5ECF6",
            "gridcolor": "white",
            "gridwidth": 2,
            "linecolor": "white",
            "showbackground": true,
            "ticks": "",
            "zerolinecolor": "white"
           },
           "zaxis": {
            "backgroundcolor": "#E5ECF6",
            "gridcolor": "white",
            "gridwidth": 2,
            "linecolor": "white",
            "showbackground": true,
            "ticks": "",
            "zerolinecolor": "white"
           }
          },
          "shapedefaults": {
           "line": {
            "color": "#2a3f5f"
           }
          },
          "ternary": {
           "aaxis": {
            "gridcolor": "white",
            "linecolor": "white",
            "ticks": ""
           },
           "baxis": {
            "gridcolor": "white",
            "linecolor": "white",
            "ticks": ""
           },
           "bgcolor": "#E5ECF6",
           "caxis": {
            "gridcolor": "white",
            "linecolor": "white",
            "ticks": ""
           }
          },
          "title": {
           "x": 0.05
          },
          "xaxis": {
           "automargin": true,
           "gridcolor": "white",
           "linecolor": "white",
           "ticks": "",
           "title": {
            "standoff": 15
           },
           "zerolinecolor": "white",
           "zerolinewidth": 2
          },
          "yaxis": {
           "automargin": true,
           "gridcolor": "white",
           "linecolor": "white",
           "ticks": "",
           "title": {
            "standoff": 15
           },
           "zerolinecolor": "white",
           "zerolinewidth": 2
          }
         }
        },
        "title": {
         "text": "Average salary as a function of currency"
        },
        "xaxis": {
         "anchor": "y",
         "categoryarray": [
          "USD",
          "CHF",
          "SGD",
          "CAD",
          "AUD",
          "GBP",
          "EUR",
          "JPY",
          "CNY",
          "CLP",
          "DKK",
          "PLN",
          "HUF",
          "INR",
          "TRY"
         ],
         "categoryorder": "array",
         "domain": [
          0,
          1
         ],
         "title": {
          "text": "Currency"
         }
        },
        "yaxis": {
         "anchor": "x",
         "domain": [
          0,
          1
         ],
         "title": {
          "text": "Mean Salary"
         }
        }
       }
      },
      "text/html": [
       "<div>                            <div id=\"cd8bf382-7005-4a6e-869f-be29a3c4c506\" class=\"plotly-graph-div\" style=\"height:525px; width:100%;\"></div>            <script type=\"text/javascript\">                require([\"plotly\"], function(Plotly) {                    window.PLOTLYENV=window.PLOTLYENV || {};                                    if (document.getElementById(\"cd8bf382-7005-4a6e-869f-be29a3c4c506\")) {                    Plotly.newPlot(                        \"cd8bf382-7005-4a6e-869f-be29a3c4c506\",                        [{\"alignmentgroup\":\"True\",\"hovertemplate\":\"salary_currency=%{x}<br>salary_in_usd=%{y}<extra></extra>\",\"legendgroup\":\"USD\",\"marker\":{\"color\":\"rgb(136, 204, 238)\",\"pattern\":{\"shape\":\"\"}},\"name\":\"USD\",\"offsetgroup\":\"USD\",\"orientation\":\"v\",\"showlegend\":true,\"textposition\":\"auto\",\"x\":[\"USD\"],\"xaxis\":\"x\",\"y\":[137264.7889447236],\"yaxis\":\"y\",\"type\":\"bar\"},{\"alignmentgroup\":\"True\",\"hovertemplate\":\"salary_currency=%{x}<br>salary_in_usd=%{y}<extra></extra>\",\"legendgroup\":\"CHF\",\"marker\":{\"color\":\"rgb(204, 102, 119)\",\"pattern\":{\"shape\":\"\"}},\"name\":\"CHF\",\"offsetgroup\":\"CHF\",\"orientation\":\"v\",\"showlegend\":true,\"textposition\":\"auto\",\"x\":[\"CHF\"],\"xaxis\":\"x\",\"y\":[122346.0],\"yaxis\":\"y\",\"type\":\"bar\"},{\"alignmentgroup\":\"True\",\"hovertemplate\":\"salary_currency=%{x}<br>salary_in_usd=%{y}<extra></extra>\",\"legendgroup\":\"SGD\",\"marker\":{\"color\":\"rgb(221, 204, 119)\",\"pattern\":{\"shape\":\"\"}},\"name\":\"SGD\",\"offsetgroup\":\"SGD\",\"orientation\":\"v\",\"showlegend\":true,\"textposition\":\"auto\",\"x\":[\"SGD\"],\"xaxis\":\"x\",\"y\":[104176.5],\"yaxis\":\"y\",\"type\":\"bar\"},{\"alignmentgroup\":\"True\",\"hovertemplate\":\"salary_currency=%{x}<br>salary_in_usd=%{y}<extra></extra>\",\"legendgroup\":\"CAD\",\"marker\":{\"color\":\"rgb(17, 119, 51)\",\"pattern\":{\"shape\":\"\"}},\"name\":\"CAD\",\"offsetgroup\":\"CAD\",\"orientation\":\"v\",\"showlegend\":true,\"textposition\":\"auto\",\"x\":[\"CAD\"],\"xaxis\":\"x\",\"y\":[97222.88888888889],\"yaxis\":\"y\",\"type\":\"bar\"},{\"alignmentgroup\":\"True\",\"hovertemplate\":\"salary_currency=%{x}<br>salary_in_usd=%{y}<extra></extra>\",\"legendgroup\":\"AUD\",\"marker\":{\"color\":\"rgb(51, 34, 136)\",\"pattern\":{\"shape\":\"\"}},\"name\":\"AUD\",\"offsetgroup\":\"AUD\",\"orientation\":\"v\",\"showlegend\":true,\"textposition\":\"auto\",\"x\":[\"AUD\"],\"xaxis\":\"x\",\"y\":[87064.0],\"yaxis\":\"y\",\"type\":\"bar\"},{\"alignmentgroup\":\"True\",\"hovertemplate\":\"salary_currency=%{x}<br>salary_in_usd=%{y}<extra></extra>\",\"legendgroup\":\"GBP\",\"marker\":{\"color\":\"rgb(170, 68, 153)\",\"pattern\":{\"shape\":\"\"}},\"name\":\"GBP\",\"offsetgroup\":\"GBP\",\"orientation\":\"v\",\"showlegend\":true,\"textposition\":\"auto\",\"x\":[\"GBP\"],\"xaxis\":\"x\",\"y\":[81670.97727272728],\"yaxis\":\"y\",\"type\":\"bar\"},{\"alignmentgroup\":\"True\",\"hovertemplate\":\"salary_currency=%{x}<br>salary_in_usd=%{y}<extra></extra>\",\"legendgroup\":\"EUR\",\"marker\":{\"color\":\"rgb(68, 170, 153)\",\"pattern\":{\"shape\":\"\"}},\"name\":\"EUR\",\"offsetgroup\":\"EUR\",\"orientation\":\"v\",\"showlegend\":true,\"textposition\":\"auto\",\"x\":[\"EUR\"],\"xaxis\":\"x\",\"y\":[65751.47368421052],\"yaxis\":\"y\",\"type\":\"bar\"},{\"alignmentgroup\":\"True\",\"hovertemplate\":\"salary_currency=%{x}<br>salary_in_usd=%{y}<extra></extra>\",\"legendgroup\":\"JPY\",\"marker\":{\"color\":\"rgb(153, 153, 51)\",\"pattern\":{\"shape\":\"\"}},\"name\":\"JPY\",\"offsetgroup\":\"JPY\",\"orientation\":\"v\",\"showlegend\":true,\"textposition\":\"auto\",\"x\":[\"JPY\"],\"xaxis\":\"x\",\"y\":[60921.333333333336],\"yaxis\":\"y\",\"type\":\"bar\"},{\"alignmentgroup\":\"True\",\"hovertemplate\":\"salary_currency=%{x}<br>salary_in_usd=%{y}<extra></extra>\",\"legendgroup\":\"CNY\",\"marker\":{\"color\":\"rgb(136, 34, 85)\",\"pattern\":{\"shape\":\"\"}},\"name\":\"CNY\",\"offsetgroup\":\"CNY\",\"orientation\":\"v\",\"showlegend\":true,\"textposition\":\"auto\",\"x\":[\"CNY\"],\"xaxis\":\"x\",\"y\":[40283.5],\"yaxis\":\"y\",\"type\":\"bar\"},{\"alignmentgroup\":\"True\",\"hovertemplate\":\"salary_currency=%{x}<br>salary_in_usd=%{y}<extra></extra>\",\"legendgroup\":\"CLP\",\"marker\":{\"color\":\"rgb(102, 17, 0)\",\"pattern\":{\"shape\":\"\"}},\"name\":\"CLP\",\"offsetgroup\":\"CLP\",\"orientation\":\"v\",\"showlegend\":true,\"textposition\":\"auto\",\"x\":[\"CLP\"],\"xaxis\":\"x\",\"y\":[40038.0],\"yaxis\":\"y\",\"type\":\"bar\"},{\"alignmentgroup\":\"True\",\"hovertemplate\":\"salary_currency=%{x}<br>salary_in_usd=%{y}<extra></extra>\",\"legendgroup\":\"DKK\",\"marker\":{\"color\":\"rgb(136, 136, 136)\",\"pattern\":{\"shape\":\"\"}},\"name\":\"DKK\",\"offsetgroup\":\"DKK\",\"orientation\":\"v\",\"showlegend\":true,\"textposition\":\"auto\",\"x\":[\"DKK\"],\"xaxis\":\"x\",\"y\":[37252.5],\"yaxis\":\"y\",\"type\":\"bar\"},{\"alignmentgroup\":\"True\",\"hovertemplate\":\"salary_currency=%{x}<br>salary_in_usd=%{y}<extra></extra>\",\"legendgroup\":\"PLN\",\"marker\":{\"color\":\"rgb(136, 204, 238)\",\"pattern\":{\"shape\":\"\"}},\"name\":\"PLN\",\"offsetgroup\":\"PLN\",\"orientation\":\"v\",\"showlegend\":true,\"textposition\":\"auto\",\"x\":[\"PLN\"],\"xaxis\":\"x\",\"y\":[36887.666666666664],\"yaxis\":\"y\",\"type\":\"bar\"},{\"alignmentgroup\":\"True\",\"hovertemplate\":\"salary_currency=%{x}<br>salary_in_usd=%{y}<extra></extra>\",\"legendgroup\":\"HUF\",\"marker\":{\"color\":\"rgb(204, 102, 119)\",\"pattern\":{\"shape\":\"\"}},\"name\":\"HUF\",\"offsetgroup\":\"HUF\",\"orientation\":\"v\",\"showlegend\":true,\"textposition\":\"auto\",\"x\":[\"HUF\"],\"xaxis\":\"x\",\"y\":[35997.0],\"yaxis\":\"y\",\"type\":\"bar\"},{\"alignmentgroup\":\"True\",\"hovertemplate\":\"salary_currency=%{x}<br>salary_in_usd=%{y}<extra></extra>\",\"legendgroup\":\"INR\",\"marker\":{\"color\":\"rgb(221, 204, 119)\",\"pattern\":{\"shape\":\"\"}},\"name\":\"INR\",\"offsetgroup\":\"INR\",\"orientation\":\"v\",\"showlegend\":true,\"textposition\":\"auto\",\"x\":[\"INR\"],\"xaxis\":\"x\",\"y\":[27765.555555555555],\"yaxis\":\"y\",\"type\":\"bar\"},{\"alignmentgroup\":\"True\",\"hovertemplate\":\"salary_currency=%{x}<br>salary_in_usd=%{y}<extra></extra>\",\"legendgroup\":\"TRY\",\"marker\":{\"color\":\"rgb(17, 119, 51)\",\"pattern\":{\"shape\":\"\"}},\"name\":\"TRY\",\"offsetgroup\":\"TRY\",\"orientation\":\"v\",\"showlegend\":true,\"textposition\":\"auto\",\"x\":[\"TRY\"],\"xaxis\":\"x\",\"y\":[20096.666666666668],\"yaxis\":\"y\",\"type\":\"bar\"}],                        {\"template\":{\"data\":{\"bar\":[{\"error_x\":{\"color\":\"#2a3f5f\"},\"error_y\":{\"color\":\"#2a3f5f\"},\"marker\":{\"line\":{\"color\":\"#E5ECF6\",\"width\":0.5},\"pattern\":{\"fillmode\":\"overlay\",\"size\":10,\"solidity\":0.2}},\"type\":\"bar\"}],\"barpolar\":[{\"marker\":{\"line\":{\"color\":\"#E5ECF6\",\"width\":0.5},\"pattern\":{\"fillmode\":\"overlay\",\"size\":10,\"solidity\":0.2}},\"type\":\"barpolar\"}],\"carpet\":[{\"aaxis\":{\"endlinecolor\":\"#2a3f5f\",\"gridcolor\":\"white\",\"linecolor\":\"white\",\"minorgridcolor\":\"white\",\"startlinecolor\":\"#2a3f5f\"},\"baxis\":{\"endlinecolor\":\"#2a3f5f\",\"gridcolor\":\"white\",\"linecolor\":\"white\",\"minorgridcolor\":\"white\",\"startlinecolor\":\"#2a3f5f\"},\"type\":\"carpet\"}],\"choropleth\":[{\"colorbar\":{\"outlinewidth\":0,\"ticks\":\"\"},\"type\":\"choropleth\"}],\"contour\":[{\"colorbar\":{\"outlinewidth\":0,\"ticks\":\"\"},\"colorscale\":[[0.0,\"#0d0887\"],[0.1111111111111111,\"#46039f\"],[0.2222222222222222,\"#7201a8\"],[0.3333333333333333,\"#9c179e\"],[0.4444444444444444,\"#bd3786\"],[0.5555555555555556,\"#d8576b\"],[0.6666666666666666,\"#ed7953\"],[0.7777777777777778,\"#fb9f3a\"],[0.8888888888888888,\"#fdca26\"],[1.0,\"#f0f921\"]],\"type\":\"contour\"}],\"contourcarpet\":[{\"colorbar\":{\"outlinewidth\":0,\"ticks\":\"\"},\"type\":\"contourcarpet\"}],\"heatmap\":[{\"colorbar\":{\"outlinewidth\":0,\"ticks\":\"\"},\"colorscale\":[[0.0,\"#0d0887\"],[0.1111111111111111,\"#46039f\"],[0.2222222222222222,\"#7201a8\"],[0.3333333333333333,\"#9c179e\"],[0.4444444444444444,\"#bd3786\"],[0.5555555555555556,\"#d8576b\"],[0.6666666666666666,\"#ed7953\"],[0.7777777777777778,\"#fb9f3a\"],[0.8888888888888888,\"#fdca26\"],[1.0,\"#f0f921\"]],\"type\":\"heatmap\"}],\"heatmapgl\":[{\"colorbar\":{\"outlinewidth\":0,\"ticks\":\"\"},\"colorscale\":[[0.0,\"#0d0887\"],[0.1111111111111111,\"#46039f\"],[0.2222222222222222,\"#7201a8\"],[0.3333333333333333,\"#9c179e\"],[0.4444444444444444,\"#bd3786\"],[0.5555555555555556,\"#d8576b\"],[0.6666666666666666,\"#ed7953\"],[0.7777777777777778,\"#fb9f3a\"],[0.8888888888888888,\"#fdca26\"],[1.0,\"#f0f921\"]],\"type\":\"heatmapgl\"}],\"histogram\":[{\"marker\":{\"pattern\":{\"fillmode\":\"overlay\",\"size\":10,\"solidity\":0.2}},\"type\":\"histogram\"}],\"histogram2d\":[{\"colorbar\":{\"outlinewidth\":0,\"ticks\":\"\"},\"colorscale\":[[0.0,\"#0d0887\"],[0.1111111111111111,\"#46039f\"],[0.2222222222222222,\"#7201a8\"],[0.3333333333333333,\"#9c179e\"],[0.4444444444444444,\"#bd3786\"],[0.5555555555555556,\"#d8576b\"],[0.6666666666666666,\"#ed7953\"],[0.7777777777777778,\"#fb9f3a\"],[0.8888888888888888,\"#fdca26\"],[1.0,\"#f0f921\"]],\"type\":\"histogram2d\"}],\"histogram2dcontour\":[{\"colorbar\":{\"outlinewidth\":0,\"ticks\":\"\"},\"colorscale\":[[0.0,\"#0d0887\"],[0.1111111111111111,\"#46039f\"],[0.2222222222222222,\"#7201a8\"],[0.3333333333333333,\"#9c179e\"],[0.4444444444444444,\"#bd3786\"],[0.5555555555555556,\"#d8576b\"],[0.6666666666666666,\"#ed7953\"],[0.7777777777777778,\"#fb9f3a\"],[0.8888888888888888,\"#fdca26\"],[1.0,\"#f0f921\"]],\"type\":\"histogram2dcontour\"}],\"mesh3d\":[{\"colorbar\":{\"outlinewidth\":0,\"ticks\":\"\"},\"type\":\"mesh3d\"}],\"parcoords\":[{\"line\":{\"colorbar\":{\"outlinewidth\":0,\"ticks\":\"\"}},\"type\":\"parcoords\"}],\"pie\":[{\"automargin\":true,\"type\":\"pie\"}],\"scatter\":[{\"marker\":{\"colorbar\":{\"outlinewidth\":0,\"ticks\":\"\"}},\"type\":\"scatter\"}],\"scatter3d\":[{\"line\":{\"colorbar\":{\"outlinewidth\":0,\"ticks\":\"\"}},\"marker\":{\"colorbar\":{\"outlinewidth\":0,\"ticks\":\"\"}},\"type\":\"scatter3d\"}],\"scattercarpet\":[{\"marker\":{\"colorbar\":{\"outlinewidth\":0,\"ticks\":\"\"}},\"type\":\"scattercarpet\"}],\"scattergeo\":[{\"marker\":{\"colorbar\":{\"outlinewidth\":0,\"ticks\":\"\"}},\"type\":\"scattergeo\"}],\"scattergl\":[{\"marker\":{\"colorbar\":{\"outlinewidth\":0,\"ticks\":\"\"}},\"type\":\"scattergl\"}],\"scattermapbox\":[{\"marker\":{\"colorbar\":{\"outlinewidth\":0,\"ticks\":\"\"}},\"type\":\"scattermapbox\"}],\"scatterpolar\":[{\"marker\":{\"colorbar\":{\"outlinewidth\":0,\"ticks\":\"\"}},\"type\":\"scatterpolar\"}],\"scatterpolargl\":[{\"marker\":{\"colorbar\":{\"outlinewidth\":0,\"ticks\":\"\"}},\"type\":\"scatterpolargl\"}],\"scatterternary\":[{\"marker\":{\"colorbar\":{\"outlinewidth\":0,\"ticks\":\"\"}},\"type\":\"scatterternary\"}],\"surface\":[{\"colorbar\":{\"outlinewidth\":0,\"ticks\":\"\"},\"colorscale\":[[0.0,\"#0d0887\"],[0.1111111111111111,\"#46039f\"],[0.2222222222222222,\"#7201a8\"],[0.3333333333333333,\"#9c179e\"],[0.4444444444444444,\"#bd3786\"],[0.5555555555555556,\"#d8576b\"],[0.6666666666666666,\"#ed7953\"],[0.7777777777777778,\"#fb9f3a\"],[0.8888888888888888,\"#fdca26\"],[1.0,\"#f0f921\"]],\"type\":\"surface\"}],\"table\":[{\"cells\":{\"fill\":{\"color\":\"#EBF0F8\"},\"line\":{\"color\":\"white\"}},\"header\":{\"fill\":{\"color\":\"#C8D4E3\"},\"line\":{\"color\":\"white\"}},\"type\":\"table\"}]},\"layout\":{\"annotationdefaults\":{\"arrowcolor\":\"#2a3f5f\",\"arrowhead\":0,\"arrowwidth\":1},\"autotypenumbers\":\"strict\",\"coloraxis\":{\"colorbar\":{\"outlinewidth\":0,\"ticks\":\"\"}},\"colorscale\":{\"diverging\":[[0,\"#8e0152\"],[0.1,\"#c51b7d\"],[0.2,\"#de77ae\"],[0.3,\"#f1b6da\"],[0.4,\"#fde0ef\"],[0.5,\"#f7f7f7\"],[0.6,\"#e6f5d0\"],[0.7,\"#b8e186\"],[0.8,\"#7fbc41\"],[0.9,\"#4d9221\"],[1,\"#276419\"]],\"sequential\":[[0.0,\"#0d0887\"],[0.1111111111111111,\"#46039f\"],[0.2222222222222222,\"#7201a8\"],[0.3333333333333333,\"#9c179e\"],[0.4444444444444444,\"#bd3786\"],[0.5555555555555556,\"#d8576b\"],[0.6666666666666666,\"#ed7953\"],[0.7777777777777778,\"#fb9f3a\"],[0.8888888888888888,\"#fdca26\"],[1.0,\"#f0f921\"]],\"sequentialminus\":[[0.0,\"#0d0887\"],[0.1111111111111111,\"#46039f\"],[0.2222222222222222,\"#7201a8\"],[0.3333333333333333,\"#9c179e\"],[0.4444444444444444,\"#bd3786\"],[0.5555555555555556,\"#d8576b\"],[0.6666666666666666,\"#ed7953\"],[0.7777777777777778,\"#fb9f3a\"],[0.8888888888888888,\"#fdca26\"],[1.0,\"#f0f921\"]]},\"colorway\":[\"#636efa\",\"#EF553B\",\"#00cc96\",\"#ab63fa\",\"#FFA15A\",\"#19d3f3\",\"#FF6692\",\"#B6E880\",\"#FF97FF\",\"#FECB52\"],\"font\":{\"color\":\"#2a3f5f\"},\"geo\":{\"bgcolor\":\"white\",\"lakecolor\":\"white\",\"landcolor\":\"#E5ECF6\",\"showlakes\":true,\"showland\":true,\"subunitcolor\":\"white\"},\"hoverlabel\":{\"align\":\"left\"},\"hovermode\":\"closest\",\"mapbox\":{\"style\":\"light\"},\"paper_bgcolor\":\"white\",\"plot_bgcolor\":\"#E5ECF6\",\"polar\":{\"angularaxis\":{\"gridcolor\":\"white\",\"linecolor\":\"white\",\"ticks\":\"\"},\"bgcolor\":\"#E5ECF6\",\"radialaxis\":{\"gridcolor\":\"white\",\"linecolor\":\"white\",\"ticks\":\"\"}},\"scene\":{\"xaxis\":{\"backgroundcolor\":\"#E5ECF6\",\"gridcolor\":\"white\",\"gridwidth\":2,\"linecolor\":\"white\",\"showbackground\":true,\"ticks\":\"\",\"zerolinecolor\":\"white\"},\"yaxis\":{\"backgroundcolor\":\"#E5ECF6\",\"gridcolor\":\"white\",\"gridwidth\":2,\"linecolor\":\"white\",\"showbackground\":true,\"ticks\":\"\",\"zerolinecolor\":\"white\"},\"zaxis\":{\"backgroundcolor\":\"#E5ECF6\",\"gridcolor\":\"white\",\"gridwidth\":2,\"linecolor\":\"white\",\"showbackground\":true,\"ticks\":\"\",\"zerolinecolor\":\"white\"}},\"shapedefaults\":{\"line\":{\"color\":\"#2a3f5f\"}},\"ternary\":{\"aaxis\":{\"gridcolor\":\"white\",\"linecolor\":\"white\",\"ticks\":\"\"},\"baxis\":{\"gridcolor\":\"white\",\"linecolor\":\"white\",\"ticks\":\"\"},\"bgcolor\":\"#E5ECF6\",\"caxis\":{\"gridcolor\":\"white\",\"linecolor\":\"white\",\"ticks\":\"\"}},\"title\":{\"x\":0.05},\"xaxis\":{\"automargin\":true,\"gridcolor\":\"white\",\"linecolor\":\"white\",\"ticks\":\"\",\"title\":{\"standoff\":15},\"zerolinecolor\":\"white\",\"zerolinewidth\":2},\"yaxis\":{\"automargin\":true,\"gridcolor\":\"white\",\"linecolor\":\"white\",\"ticks\":\"\",\"title\":{\"standoff\":15},\"zerolinecolor\":\"white\",\"zerolinewidth\":2}}},\"xaxis\":{\"anchor\":\"y\",\"domain\":[0.0,1.0],\"title\":{\"text\":\"Currency\"},\"categoryorder\":\"array\",\"categoryarray\":[\"USD\",\"CHF\",\"SGD\",\"CAD\",\"AUD\",\"GBP\",\"EUR\",\"JPY\",\"CNY\",\"CLP\",\"DKK\",\"PLN\",\"HUF\",\"INR\",\"TRY\"]},\"yaxis\":{\"anchor\":\"x\",\"domain\":[0.0,1.0],\"title\":{\"text\":\"Mean Salary\"}},\"legend\":{\"title\":{\"text\":\"salary_currency\"},\"tracegroupgap\":0},\"title\":{\"text\":\"Average salary as a function of currency\"},\"barmode\":\"relative\"},                        {\"responsive\": true}                    ).then(function(){\n",
       "                            \n",
       "var gd = document.getElementById('cd8bf382-7005-4a6e-869f-be29a3c4c506');\n",
       "var x = new MutationObserver(function (mutations, observer) {{\n",
       "        var display = window.getComputedStyle(gd).display;\n",
       "        if (!display || display === 'none') {{\n",
       "            console.log([gd, 'removed!']);\n",
       "            Plotly.purge(gd);\n",
       "            observer.disconnect();\n",
       "        }}\n",
       "}});\n",
       "\n",
       "// Listen for the removal of the full notebook cells\n",
       "var notebookContainer = gd.closest('#notebook-container');\n",
       "if (notebookContainer) {{\n",
       "    x.observe(notebookContainer, {childList: true});\n",
       "}}\n",
       "\n",
       "// Listen for the clearing of the current output cell\n",
       "var outputEl = gd.closest('.output');\n",
       "if (outputEl) {{\n",
       "    x.observe(outputEl, {childList: true});\n",
       "}}\n",
       "\n",
       "                        })                };                });            </script>        </div>"
      ]
     },
     "metadata": {},
     "output_type": "display_data"
    }
   ],
   "source": [
    "df = dsjobs[['salary_currency','salary_in_usd']].groupby(['salary_currency'], as_index=False).mean().set_index('salary_currency').reset_index().sort_values('salary_in_usd',ascending = False)\n",
    "df = df.iloc[:15]\n",
    "fig = px.bar(df, x='salary_currency', y='salary_in_usd', color = 'salary_currency',\n",
    "            color_discrete_sequence=px.colors.qualitative.Safe,\n",
    "            title = 'Average salary as a function of currency')\n",
    "fig.update_layout(xaxis_title=\"Currency\", yaxis_title=\"Mean Salary\")\n",
    "fig.show()"
   ]
  },
  {
   "cell_type": "markdown",
   "metadata": {},
   "source": [
    "#### Taking average salaries as a function of currency reveals that people earn most in USD, followed by Swiss franc and Singapore dollar. This graph is heavily influenced by the value of a particular currency as most currencies on the left hand side of graph have relatively high value against USD."
   ]
  },
  {
   "cell_type": "markdown",
   "metadata": {},
   "source": [
    "### Average Salary as a function of Company location"
   ]
  },
  {
   "cell_type": "code",
   "execution_count": 67,
   "metadata": {},
   "outputs": [
    {
     "data": {
      "application/vnd.plotly.v1+json": {
       "config": {
        "plotlyServerURL": "https://plot.ly"
       },
       "data": [
        {
         "alignmentgroup": "True",
         "hovertemplate": "company_country=%{x}<br>salary_in_usd=%{y}<extra></extra>",
         "legendgroup": "Russia",
         "marker": {
          "color": "rgb(27,158,119)",
          "pattern": {
           "shape": ""
          }
         },
         "name": "Russia",
         "offsetgroup": "Russia",
         "orientation": "v",
         "showlegend": true,
         "textposition": "auto",
         "type": "bar",
         "x": [
          "Russia"
         ],
         "xaxis": "x",
         "y": [
          157500
         ],
         "yaxis": "y"
        },
        {
         "alignmentgroup": "True",
         "hovertemplate": "company_country=%{x}<br>salary_in_usd=%{y}<extra></extra>",
         "legendgroup": "United States",
         "marker": {
          "color": "rgb(217,95,2)",
          "pattern": {
           "shape": ""
          }
         },
         "name": "United States",
         "offsetgroup": "United States",
         "orientation": "v",
         "showlegend": true,
         "textposition": "auto",
         "type": "bar",
         "x": [
          "United States"
         ],
         "xaxis": "x",
         "y": [
          144055.26197183097
         ],
         "yaxis": "y"
        },
        {
         "alignmentgroup": "True",
         "hovertemplate": "company_country=%{x}<br>salary_in_usd=%{y}<extra></extra>",
         "legendgroup": "New Zealand",
         "marker": {
          "color": "rgb(117,112,179)",
          "pattern": {
           "shape": ""
          }
         },
         "name": "New Zealand",
         "offsetgroup": "New Zealand",
         "orientation": "v",
         "showlegend": true,
         "textposition": "auto",
         "type": "bar",
         "x": [
          "New Zealand"
         ],
         "xaxis": "x",
         "y": [
          125000
         ],
         "yaxis": "y"
        },
        {
         "alignmentgroup": "True",
         "hovertemplate": "company_country=%{x}<br>salary_in_usd=%{y}<extra></extra>",
         "legendgroup": "Israel",
         "marker": {
          "color": "rgb(231,41,138)",
          "pattern": {
           "shape": ""
          }
         },
         "name": "Israel",
         "offsetgroup": "Israel",
         "orientation": "v",
         "showlegend": true,
         "textposition": "auto",
         "type": "bar",
         "x": [
          "Israel"
         ],
         "xaxis": "x",
         "y": [
          119059
         ],
         "yaxis": "y"
        },
        {
         "alignmentgroup": "True",
         "hovertemplate": "company_country=%{x}<br>salary_in_usd=%{y}<extra></extra>",
         "legendgroup": "Japan",
         "marker": {
          "color": "rgb(102,166,30)",
          "pattern": {
           "shape": ""
          }
         },
         "name": "Japan",
         "offsetgroup": "Japan",
         "orientation": "v",
         "showlegend": true,
         "textposition": "auto",
         "type": "bar",
         "x": [
          "Japan"
         ],
         "xaxis": "x",
         "y": [
          114127.33333333333
         ],
         "yaxis": "y"
        },
        {
         "alignmentgroup": "True",
         "hovertemplate": "company_country=%{x}<br>salary_in_usd=%{y}<extra></extra>",
         "legendgroup": "Australia",
         "marker": {
          "color": "rgb(230,171,2)",
          "pattern": {
           "shape": ""
          }
         },
         "name": "Australia",
         "offsetgroup": "Australia",
         "orientation": "v",
         "showlegend": true,
         "textposition": "auto",
         "type": "bar",
         "x": [
          "Australia"
         ],
         "xaxis": "x",
         "y": [
          108042.66666666667
         ],
         "yaxis": "y"
        },
        {
         "alignmentgroup": "True",
         "hovertemplate": "company_country=%{x}<br>salary_in_usd=%{y}<extra></extra>",
         "legendgroup": "Iraq",
         "marker": {
          "color": "rgb(166,118,29)",
          "pattern": {
           "shape": ""
          }
         },
         "name": "Iraq",
         "offsetgroup": "Iraq",
         "orientation": "v",
         "showlegend": true,
         "textposition": "auto",
         "type": "bar",
         "x": [
          "Iraq"
         ],
         "xaxis": "x",
         "y": [
          100000
         ],
         "yaxis": "y"
        },
        {
         "alignmentgroup": "True",
         "hovertemplate": "company_country=%{x}<br>salary_in_usd=%{y}<extra></extra>",
         "legendgroup": "United Arab Emirates",
         "marker": {
          "color": "rgb(102,102,102)",
          "pattern": {
           "shape": ""
          }
         },
         "name": "United Arab Emirates",
         "offsetgroup": "United Arab Emirates",
         "orientation": "v",
         "showlegend": true,
         "textposition": "auto",
         "type": "bar",
         "x": [
          "United Arab Emirates"
         ],
         "xaxis": "x",
         "y": [
          100000
         ],
         "yaxis": "y"
        },
        {
         "alignmentgroup": "True",
         "hovertemplate": "company_country=%{x}<br>salary_in_usd=%{y}<extra></extra>",
         "legendgroup": "Algeria",
         "marker": {
          "color": "rgb(27,158,119)",
          "pattern": {
           "shape": ""
          }
         },
         "name": "Algeria",
         "offsetgroup": "Algeria",
         "orientation": "v",
         "showlegend": true,
         "textposition": "auto",
         "type": "bar",
         "x": [
          "Algeria"
         ],
         "xaxis": "x",
         "y": [
          100000
         ],
         "yaxis": "y"
        },
        {
         "alignmentgroup": "True",
         "hovertemplate": "company_country=%{x}<br>salary_in_usd=%{y}<extra></extra>",
         "legendgroup": "Canada",
         "marker": {
          "color": "rgb(217,95,2)",
          "pattern": {
           "shape": ""
          }
         },
         "name": "Canada",
         "offsetgroup": "Canada",
         "orientation": "v",
         "showlegend": true,
         "textposition": "auto",
         "type": "bar",
         "x": [
          "Canada"
         ],
         "xaxis": "x",
         "y": [
          99823.73333333334
         ],
         "yaxis": "y"
        }
       ],
       "layout": {
        "barmode": "relative",
        "legend": {
         "title": {
          "text": "company_country"
         },
         "tracegroupgap": 0
        },
        "template": {
         "data": {
          "bar": [
           {
            "error_x": {
             "color": "#2a3f5f"
            },
            "error_y": {
             "color": "#2a3f5f"
            },
            "marker": {
             "line": {
              "color": "#E5ECF6",
              "width": 0.5
             },
             "pattern": {
              "fillmode": "overlay",
              "size": 10,
              "solidity": 0.2
             }
            },
            "type": "bar"
           }
          ],
          "barpolar": [
           {
            "marker": {
             "line": {
              "color": "#E5ECF6",
              "width": 0.5
             },
             "pattern": {
              "fillmode": "overlay",
              "size": 10,
              "solidity": 0.2
             }
            },
            "type": "barpolar"
           }
          ],
          "carpet": [
           {
            "aaxis": {
             "endlinecolor": "#2a3f5f",
             "gridcolor": "white",
             "linecolor": "white",
             "minorgridcolor": "white",
             "startlinecolor": "#2a3f5f"
            },
            "baxis": {
             "endlinecolor": "#2a3f5f",
             "gridcolor": "white",
             "linecolor": "white",
             "minorgridcolor": "white",
             "startlinecolor": "#2a3f5f"
            },
            "type": "carpet"
           }
          ],
          "choropleth": [
           {
            "colorbar": {
             "outlinewidth": 0,
             "ticks": ""
            },
            "type": "choropleth"
           }
          ],
          "contour": [
           {
            "colorbar": {
             "outlinewidth": 0,
             "ticks": ""
            },
            "colorscale": [
             [
              0,
              "#0d0887"
             ],
             [
              0.1111111111111111,
              "#46039f"
             ],
             [
              0.2222222222222222,
              "#7201a8"
             ],
             [
              0.3333333333333333,
              "#9c179e"
             ],
             [
              0.4444444444444444,
              "#bd3786"
             ],
             [
              0.5555555555555556,
              "#d8576b"
             ],
             [
              0.6666666666666666,
              "#ed7953"
             ],
             [
              0.7777777777777778,
              "#fb9f3a"
             ],
             [
              0.8888888888888888,
              "#fdca26"
             ],
             [
              1,
              "#f0f921"
             ]
            ],
            "type": "contour"
           }
          ],
          "contourcarpet": [
           {
            "colorbar": {
             "outlinewidth": 0,
             "ticks": ""
            },
            "type": "contourcarpet"
           }
          ],
          "heatmap": [
           {
            "colorbar": {
             "outlinewidth": 0,
             "ticks": ""
            },
            "colorscale": [
             [
              0,
              "#0d0887"
             ],
             [
              0.1111111111111111,
              "#46039f"
             ],
             [
              0.2222222222222222,
              "#7201a8"
             ],
             [
              0.3333333333333333,
              "#9c179e"
             ],
             [
              0.4444444444444444,
              "#bd3786"
             ],
             [
              0.5555555555555556,
              "#d8576b"
             ],
             [
              0.6666666666666666,
              "#ed7953"
             ],
             [
              0.7777777777777778,
              "#fb9f3a"
             ],
             [
              0.8888888888888888,
              "#fdca26"
             ],
             [
              1,
              "#f0f921"
             ]
            ],
            "type": "heatmap"
           }
          ],
          "heatmapgl": [
           {
            "colorbar": {
             "outlinewidth": 0,
             "ticks": ""
            },
            "colorscale": [
             [
              0,
              "#0d0887"
             ],
             [
              0.1111111111111111,
              "#46039f"
             ],
             [
              0.2222222222222222,
              "#7201a8"
             ],
             [
              0.3333333333333333,
              "#9c179e"
             ],
             [
              0.4444444444444444,
              "#bd3786"
             ],
             [
              0.5555555555555556,
              "#d8576b"
             ],
             [
              0.6666666666666666,
              "#ed7953"
             ],
             [
              0.7777777777777778,
              "#fb9f3a"
             ],
             [
              0.8888888888888888,
              "#fdca26"
             ],
             [
              1,
              "#f0f921"
             ]
            ],
            "type": "heatmapgl"
           }
          ],
          "histogram": [
           {
            "marker": {
             "pattern": {
              "fillmode": "overlay",
              "size": 10,
              "solidity": 0.2
             }
            },
            "type": "histogram"
           }
          ],
          "histogram2d": [
           {
            "colorbar": {
             "outlinewidth": 0,
             "ticks": ""
            },
            "colorscale": [
             [
              0,
              "#0d0887"
             ],
             [
              0.1111111111111111,
              "#46039f"
             ],
             [
              0.2222222222222222,
              "#7201a8"
             ],
             [
              0.3333333333333333,
              "#9c179e"
             ],
             [
              0.4444444444444444,
              "#bd3786"
             ],
             [
              0.5555555555555556,
              "#d8576b"
             ],
             [
              0.6666666666666666,
              "#ed7953"
             ],
             [
              0.7777777777777778,
              "#fb9f3a"
             ],
             [
              0.8888888888888888,
              "#fdca26"
             ],
             [
              1,
              "#f0f921"
             ]
            ],
            "type": "histogram2d"
           }
          ],
          "histogram2dcontour": [
           {
            "colorbar": {
             "outlinewidth": 0,
             "ticks": ""
            },
            "colorscale": [
             [
              0,
              "#0d0887"
             ],
             [
              0.1111111111111111,
              "#46039f"
             ],
             [
              0.2222222222222222,
              "#7201a8"
             ],
             [
              0.3333333333333333,
              "#9c179e"
             ],
             [
              0.4444444444444444,
              "#bd3786"
             ],
             [
              0.5555555555555556,
              "#d8576b"
             ],
             [
              0.6666666666666666,
              "#ed7953"
             ],
             [
              0.7777777777777778,
              "#fb9f3a"
             ],
             [
              0.8888888888888888,
              "#fdca26"
             ],
             [
              1,
              "#f0f921"
             ]
            ],
            "type": "histogram2dcontour"
           }
          ],
          "mesh3d": [
           {
            "colorbar": {
             "outlinewidth": 0,
             "ticks": ""
            },
            "type": "mesh3d"
           }
          ],
          "parcoords": [
           {
            "line": {
             "colorbar": {
              "outlinewidth": 0,
              "ticks": ""
             }
            },
            "type": "parcoords"
           }
          ],
          "pie": [
           {
            "automargin": true,
            "type": "pie"
           }
          ],
          "scatter": [
           {
            "marker": {
             "colorbar": {
              "outlinewidth": 0,
              "ticks": ""
             }
            },
            "type": "scatter"
           }
          ],
          "scatter3d": [
           {
            "line": {
             "colorbar": {
              "outlinewidth": 0,
              "ticks": ""
             }
            },
            "marker": {
             "colorbar": {
              "outlinewidth": 0,
              "ticks": ""
             }
            },
            "type": "scatter3d"
           }
          ],
          "scattercarpet": [
           {
            "marker": {
             "colorbar": {
              "outlinewidth": 0,
              "ticks": ""
             }
            },
            "type": "scattercarpet"
           }
          ],
          "scattergeo": [
           {
            "marker": {
             "colorbar": {
              "outlinewidth": 0,
              "ticks": ""
             }
            },
            "type": "scattergeo"
           }
          ],
          "scattergl": [
           {
            "marker": {
             "colorbar": {
              "outlinewidth": 0,
              "ticks": ""
             }
            },
            "type": "scattergl"
           }
          ],
          "scattermapbox": [
           {
            "marker": {
             "colorbar": {
              "outlinewidth": 0,
              "ticks": ""
             }
            },
            "type": "scattermapbox"
           }
          ],
          "scatterpolar": [
           {
            "marker": {
             "colorbar": {
              "outlinewidth": 0,
              "ticks": ""
             }
            },
            "type": "scatterpolar"
           }
          ],
          "scatterpolargl": [
           {
            "marker": {
             "colorbar": {
              "outlinewidth": 0,
              "ticks": ""
             }
            },
            "type": "scatterpolargl"
           }
          ],
          "scatterternary": [
           {
            "marker": {
             "colorbar": {
              "outlinewidth": 0,
              "ticks": ""
             }
            },
            "type": "scatterternary"
           }
          ],
          "surface": [
           {
            "colorbar": {
             "outlinewidth": 0,
             "ticks": ""
            },
            "colorscale": [
             [
              0,
              "#0d0887"
             ],
             [
              0.1111111111111111,
              "#46039f"
             ],
             [
              0.2222222222222222,
              "#7201a8"
             ],
             [
              0.3333333333333333,
              "#9c179e"
             ],
             [
              0.4444444444444444,
              "#bd3786"
             ],
             [
              0.5555555555555556,
              "#d8576b"
             ],
             [
              0.6666666666666666,
              "#ed7953"
             ],
             [
              0.7777777777777778,
              "#fb9f3a"
             ],
             [
              0.8888888888888888,
              "#fdca26"
             ],
             [
              1,
              "#f0f921"
             ]
            ],
            "type": "surface"
           }
          ],
          "table": [
           {
            "cells": {
             "fill": {
              "color": "#EBF0F8"
             },
             "line": {
              "color": "white"
             }
            },
            "header": {
             "fill": {
              "color": "#C8D4E3"
             },
             "line": {
              "color": "white"
             }
            },
            "type": "table"
           }
          ]
         },
         "layout": {
          "annotationdefaults": {
           "arrowcolor": "#2a3f5f",
           "arrowhead": 0,
           "arrowwidth": 1
          },
          "autotypenumbers": "strict",
          "coloraxis": {
           "colorbar": {
            "outlinewidth": 0,
            "ticks": ""
           }
          },
          "colorscale": {
           "diverging": [
            [
             0,
             "#8e0152"
            ],
            [
             0.1,
             "#c51b7d"
            ],
            [
             0.2,
             "#de77ae"
            ],
            [
             0.3,
             "#f1b6da"
            ],
            [
             0.4,
             "#fde0ef"
            ],
            [
             0.5,
             "#f7f7f7"
            ],
            [
             0.6,
             "#e6f5d0"
            ],
            [
             0.7,
             "#b8e186"
            ],
            [
             0.8,
             "#7fbc41"
            ],
            [
             0.9,
             "#4d9221"
            ],
            [
             1,
             "#276419"
            ]
           ],
           "sequential": [
            [
             0,
             "#0d0887"
            ],
            [
             0.1111111111111111,
             "#46039f"
            ],
            [
             0.2222222222222222,
             "#7201a8"
            ],
            [
             0.3333333333333333,
             "#9c179e"
            ],
            [
             0.4444444444444444,
             "#bd3786"
            ],
            [
             0.5555555555555556,
             "#d8576b"
            ],
            [
             0.6666666666666666,
             "#ed7953"
            ],
            [
             0.7777777777777778,
             "#fb9f3a"
            ],
            [
             0.8888888888888888,
             "#fdca26"
            ],
            [
             1,
             "#f0f921"
            ]
           ],
           "sequentialminus": [
            [
             0,
             "#0d0887"
            ],
            [
             0.1111111111111111,
             "#46039f"
            ],
            [
             0.2222222222222222,
             "#7201a8"
            ],
            [
             0.3333333333333333,
             "#9c179e"
            ],
            [
             0.4444444444444444,
             "#bd3786"
            ],
            [
             0.5555555555555556,
             "#d8576b"
            ],
            [
             0.6666666666666666,
             "#ed7953"
            ],
            [
             0.7777777777777778,
             "#fb9f3a"
            ],
            [
             0.8888888888888888,
             "#fdca26"
            ],
            [
             1,
             "#f0f921"
            ]
           ]
          },
          "colorway": [
           "#636efa",
           "#EF553B",
           "#00cc96",
           "#ab63fa",
           "#FFA15A",
           "#19d3f3",
           "#FF6692",
           "#B6E880",
           "#FF97FF",
           "#FECB52"
          ],
          "font": {
           "color": "#2a3f5f"
          },
          "geo": {
           "bgcolor": "white",
           "lakecolor": "white",
           "landcolor": "#E5ECF6",
           "showlakes": true,
           "showland": true,
           "subunitcolor": "white"
          },
          "hoverlabel": {
           "align": "left"
          },
          "hovermode": "closest",
          "mapbox": {
           "style": "light"
          },
          "paper_bgcolor": "white",
          "plot_bgcolor": "#E5ECF6",
          "polar": {
           "angularaxis": {
            "gridcolor": "white",
            "linecolor": "white",
            "ticks": ""
           },
           "bgcolor": "#E5ECF6",
           "radialaxis": {
            "gridcolor": "white",
            "linecolor": "white",
            "ticks": ""
           }
          },
          "scene": {
           "xaxis": {
            "backgroundcolor": "#E5ECF6",
            "gridcolor": "white",
            "gridwidth": 2,
            "linecolor": "white",
            "showbackground": true,
            "ticks": "",
            "zerolinecolor": "white"
           },
           "yaxis": {
            "backgroundcolor": "#E5ECF6",
            "gridcolor": "white",
            "gridwidth": 2,
            "linecolor": "white",
            "showbackground": true,
            "ticks": "",
            "zerolinecolor": "white"
           },
           "zaxis": {
            "backgroundcolor": "#E5ECF6",
            "gridcolor": "white",
            "gridwidth": 2,
            "linecolor": "white",
            "showbackground": true,
            "ticks": "",
            "zerolinecolor": "white"
           }
          },
          "shapedefaults": {
           "line": {
            "color": "#2a3f5f"
           }
          },
          "ternary": {
           "aaxis": {
            "gridcolor": "white",
            "linecolor": "white",
            "ticks": ""
           },
           "baxis": {
            "gridcolor": "white",
            "linecolor": "white",
            "ticks": ""
           },
           "bgcolor": "#E5ECF6",
           "caxis": {
            "gridcolor": "white",
            "linecolor": "white",
            "ticks": ""
           }
          },
          "title": {
           "x": 0.05
          },
          "xaxis": {
           "automargin": true,
           "gridcolor": "white",
           "linecolor": "white",
           "ticks": "",
           "title": {
            "standoff": 15
           },
           "zerolinecolor": "white",
           "zerolinewidth": 2
          },
          "yaxis": {
           "automargin": true,
           "gridcolor": "white",
           "linecolor": "white",
           "ticks": "",
           "title": {
            "standoff": 15
           },
           "zerolinecolor": "white",
           "zerolinewidth": 2
          }
         }
        },
        "title": {
         "text": "Average Salary as a function of Company location"
        },
        "xaxis": {
         "anchor": "y",
         "categoryarray": [
          "Russia",
          "United States",
          "New Zealand",
          "Israel",
          "Japan",
          "Australia",
          "Iraq",
          "United Arab Emirates",
          "Algeria",
          "Canada"
         ],
         "categoryorder": "array",
         "domain": [
          0,
          1
         ],
         "title": {
          "text": "Company Location"
         }
        },
        "yaxis": {
         "anchor": "x",
         "domain": [
          0,
          1
         ],
         "title": {
          "text": "Mean Salary"
         }
        }
       }
      },
      "text/html": [
       "<div>                            <div id=\"7677b93c-79d3-4a48-af4c-99377518d935\" class=\"plotly-graph-div\" style=\"height:525px; width:100%;\"></div>            <script type=\"text/javascript\">                require([\"plotly\"], function(Plotly) {                    window.PLOTLYENV=window.PLOTLYENV || {};                                    if (document.getElementById(\"7677b93c-79d3-4a48-af4c-99377518d935\")) {                    Plotly.newPlot(                        \"7677b93c-79d3-4a48-af4c-99377518d935\",                        [{\"alignmentgroup\":\"True\",\"hovertemplate\":\"company_country=%{x}<br>salary_in_usd=%{y}<extra></extra>\",\"legendgroup\":\"Russia\",\"marker\":{\"color\":\"rgb(27,158,119)\",\"pattern\":{\"shape\":\"\"}},\"name\":\"Russia\",\"offsetgroup\":\"Russia\",\"orientation\":\"v\",\"showlegend\":true,\"textposition\":\"auto\",\"x\":[\"Russia\"],\"xaxis\":\"x\",\"y\":[157500.0],\"yaxis\":\"y\",\"type\":\"bar\"},{\"alignmentgroup\":\"True\",\"hovertemplate\":\"company_country=%{x}<br>salary_in_usd=%{y}<extra></extra>\",\"legendgroup\":\"United States\",\"marker\":{\"color\":\"rgb(217,95,2)\",\"pattern\":{\"shape\":\"\"}},\"name\":\"United States\",\"offsetgroup\":\"United States\",\"orientation\":\"v\",\"showlegend\":true,\"textposition\":\"auto\",\"x\":[\"United States\"],\"xaxis\":\"x\",\"y\":[144055.26197183097],\"yaxis\":\"y\",\"type\":\"bar\"},{\"alignmentgroup\":\"True\",\"hovertemplate\":\"company_country=%{x}<br>salary_in_usd=%{y}<extra></extra>\",\"legendgroup\":\"New Zealand\",\"marker\":{\"color\":\"rgb(117,112,179)\",\"pattern\":{\"shape\":\"\"}},\"name\":\"New Zealand\",\"offsetgroup\":\"New Zealand\",\"orientation\":\"v\",\"showlegend\":true,\"textposition\":\"auto\",\"x\":[\"New Zealand\"],\"xaxis\":\"x\",\"y\":[125000.0],\"yaxis\":\"y\",\"type\":\"bar\"},{\"alignmentgroup\":\"True\",\"hovertemplate\":\"company_country=%{x}<br>salary_in_usd=%{y}<extra></extra>\",\"legendgroup\":\"Israel\",\"marker\":{\"color\":\"rgb(231,41,138)\",\"pattern\":{\"shape\":\"\"}},\"name\":\"Israel\",\"offsetgroup\":\"Israel\",\"orientation\":\"v\",\"showlegend\":true,\"textposition\":\"auto\",\"x\":[\"Israel\"],\"xaxis\":\"x\",\"y\":[119059.0],\"yaxis\":\"y\",\"type\":\"bar\"},{\"alignmentgroup\":\"True\",\"hovertemplate\":\"company_country=%{x}<br>salary_in_usd=%{y}<extra></extra>\",\"legendgroup\":\"Japan\",\"marker\":{\"color\":\"rgb(102,166,30)\",\"pattern\":{\"shape\":\"\"}},\"name\":\"Japan\",\"offsetgroup\":\"Japan\",\"orientation\":\"v\",\"showlegend\":true,\"textposition\":\"auto\",\"x\":[\"Japan\"],\"xaxis\":\"x\",\"y\":[114127.33333333333],\"yaxis\":\"y\",\"type\":\"bar\"},{\"alignmentgroup\":\"True\",\"hovertemplate\":\"company_country=%{x}<br>salary_in_usd=%{y}<extra></extra>\",\"legendgroup\":\"Australia\",\"marker\":{\"color\":\"rgb(230,171,2)\",\"pattern\":{\"shape\":\"\"}},\"name\":\"Australia\",\"offsetgroup\":\"Australia\",\"orientation\":\"v\",\"showlegend\":true,\"textposition\":\"auto\",\"x\":[\"Australia\"],\"xaxis\":\"x\",\"y\":[108042.66666666667],\"yaxis\":\"y\",\"type\":\"bar\"},{\"alignmentgroup\":\"True\",\"hovertemplate\":\"company_country=%{x}<br>salary_in_usd=%{y}<extra></extra>\",\"legendgroup\":\"Iraq\",\"marker\":{\"color\":\"rgb(166,118,29)\",\"pattern\":{\"shape\":\"\"}},\"name\":\"Iraq\",\"offsetgroup\":\"Iraq\",\"orientation\":\"v\",\"showlegend\":true,\"textposition\":\"auto\",\"x\":[\"Iraq\"],\"xaxis\":\"x\",\"y\":[100000.0],\"yaxis\":\"y\",\"type\":\"bar\"},{\"alignmentgroup\":\"True\",\"hovertemplate\":\"company_country=%{x}<br>salary_in_usd=%{y}<extra></extra>\",\"legendgroup\":\"United Arab Emirates\",\"marker\":{\"color\":\"rgb(102,102,102)\",\"pattern\":{\"shape\":\"\"}},\"name\":\"United Arab Emirates\",\"offsetgroup\":\"United Arab Emirates\",\"orientation\":\"v\",\"showlegend\":true,\"textposition\":\"auto\",\"x\":[\"United Arab Emirates\"],\"xaxis\":\"x\",\"y\":[100000.0],\"yaxis\":\"y\",\"type\":\"bar\"},{\"alignmentgroup\":\"True\",\"hovertemplate\":\"company_country=%{x}<br>salary_in_usd=%{y}<extra></extra>\",\"legendgroup\":\"Algeria\",\"marker\":{\"color\":\"rgb(27,158,119)\",\"pattern\":{\"shape\":\"\"}},\"name\":\"Algeria\",\"offsetgroup\":\"Algeria\",\"orientation\":\"v\",\"showlegend\":true,\"textposition\":\"auto\",\"x\":[\"Algeria\"],\"xaxis\":\"x\",\"y\":[100000.0],\"yaxis\":\"y\",\"type\":\"bar\"},{\"alignmentgroup\":\"True\",\"hovertemplate\":\"company_country=%{x}<br>salary_in_usd=%{y}<extra></extra>\",\"legendgroup\":\"Canada\",\"marker\":{\"color\":\"rgb(217,95,2)\",\"pattern\":{\"shape\":\"\"}},\"name\":\"Canada\",\"offsetgroup\":\"Canada\",\"orientation\":\"v\",\"showlegend\":true,\"textposition\":\"auto\",\"x\":[\"Canada\"],\"xaxis\":\"x\",\"y\":[99823.73333333334],\"yaxis\":\"y\",\"type\":\"bar\"}],                        {\"template\":{\"data\":{\"bar\":[{\"error_x\":{\"color\":\"#2a3f5f\"},\"error_y\":{\"color\":\"#2a3f5f\"},\"marker\":{\"line\":{\"color\":\"#E5ECF6\",\"width\":0.5},\"pattern\":{\"fillmode\":\"overlay\",\"size\":10,\"solidity\":0.2}},\"type\":\"bar\"}],\"barpolar\":[{\"marker\":{\"line\":{\"color\":\"#E5ECF6\",\"width\":0.5},\"pattern\":{\"fillmode\":\"overlay\",\"size\":10,\"solidity\":0.2}},\"type\":\"barpolar\"}],\"carpet\":[{\"aaxis\":{\"endlinecolor\":\"#2a3f5f\",\"gridcolor\":\"white\",\"linecolor\":\"white\",\"minorgridcolor\":\"white\",\"startlinecolor\":\"#2a3f5f\"},\"baxis\":{\"endlinecolor\":\"#2a3f5f\",\"gridcolor\":\"white\",\"linecolor\":\"white\",\"minorgridcolor\":\"white\",\"startlinecolor\":\"#2a3f5f\"},\"type\":\"carpet\"}],\"choropleth\":[{\"colorbar\":{\"outlinewidth\":0,\"ticks\":\"\"},\"type\":\"choropleth\"}],\"contour\":[{\"colorbar\":{\"outlinewidth\":0,\"ticks\":\"\"},\"colorscale\":[[0.0,\"#0d0887\"],[0.1111111111111111,\"#46039f\"],[0.2222222222222222,\"#7201a8\"],[0.3333333333333333,\"#9c179e\"],[0.4444444444444444,\"#bd3786\"],[0.5555555555555556,\"#d8576b\"],[0.6666666666666666,\"#ed7953\"],[0.7777777777777778,\"#fb9f3a\"],[0.8888888888888888,\"#fdca26\"],[1.0,\"#f0f921\"]],\"type\":\"contour\"}],\"contourcarpet\":[{\"colorbar\":{\"outlinewidth\":0,\"ticks\":\"\"},\"type\":\"contourcarpet\"}],\"heatmap\":[{\"colorbar\":{\"outlinewidth\":0,\"ticks\":\"\"},\"colorscale\":[[0.0,\"#0d0887\"],[0.1111111111111111,\"#46039f\"],[0.2222222222222222,\"#7201a8\"],[0.3333333333333333,\"#9c179e\"],[0.4444444444444444,\"#bd3786\"],[0.5555555555555556,\"#d8576b\"],[0.6666666666666666,\"#ed7953\"],[0.7777777777777778,\"#fb9f3a\"],[0.8888888888888888,\"#fdca26\"],[1.0,\"#f0f921\"]],\"type\":\"heatmap\"}],\"heatmapgl\":[{\"colorbar\":{\"outlinewidth\":0,\"ticks\":\"\"},\"colorscale\":[[0.0,\"#0d0887\"],[0.1111111111111111,\"#46039f\"],[0.2222222222222222,\"#7201a8\"],[0.3333333333333333,\"#9c179e\"],[0.4444444444444444,\"#bd3786\"],[0.5555555555555556,\"#d8576b\"],[0.6666666666666666,\"#ed7953\"],[0.7777777777777778,\"#fb9f3a\"],[0.8888888888888888,\"#fdca26\"],[1.0,\"#f0f921\"]],\"type\":\"heatmapgl\"}],\"histogram\":[{\"marker\":{\"pattern\":{\"fillmode\":\"overlay\",\"size\":10,\"solidity\":0.2}},\"type\":\"histogram\"}],\"histogram2d\":[{\"colorbar\":{\"outlinewidth\":0,\"ticks\":\"\"},\"colorscale\":[[0.0,\"#0d0887\"],[0.1111111111111111,\"#46039f\"],[0.2222222222222222,\"#7201a8\"],[0.3333333333333333,\"#9c179e\"],[0.4444444444444444,\"#bd3786\"],[0.5555555555555556,\"#d8576b\"],[0.6666666666666666,\"#ed7953\"],[0.7777777777777778,\"#fb9f3a\"],[0.8888888888888888,\"#fdca26\"],[1.0,\"#f0f921\"]],\"type\":\"histogram2d\"}],\"histogram2dcontour\":[{\"colorbar\":{\"outlinewidth\":0,\"ticks\":\"\"},\"colorscale\":[[0.0,\"#0d0887\"],[0.1111111111111111,\"#46039f\"],[0.2222222222222222,\"#7201a8\"],[0.3333333333333333,\"#9c179e\"],[0.4444444444444444,\"#bd3786\"],[0.5555555555555556,\"#d8576b\"],[0.6666666666666666,\"#ed7953\"],[0.7777777777777778,\"#fb9f3a\"],[0.8888888888888888,\"#fdca26\"],[1.0,\"#f0f921\"]],\"type\":\"histogram2dcontour\"}],\"mesh3d\":[{\"colorbar\":{\"outlinewidth\":0,\"ticks\":\"\"},\"type\":\"mesh3d\"}],\"parcoords\":[{\"line\":{\"colorbar\":{\"outlinewidth\":0,\"ticks\":\"\"}},\"type\":\"parcoords\"}],\"pie\":[{\"automargin\":true,\"type\":\"pie\"}],\"scatter\":[{\"marker\":{\"colorbar\":{\"outlinewidth\":0,\"ticks\":\"\"}},\"type\":\"scatter\"}],\"scatter3d\":[{\"line\":{\"colorbar\":{\"outlinewidth\":0,\"ticks\":\"\"}},\"marker\":{\"colorbar\":{\"outlinewidth\":0,\"ticks\":\"\"}},\"type\":\"scatter3d\"}],\"scattercarpet\":[{\"marker\":{\"colorbar\":{\"outlinewidth\":0,\"ticks\":\"\"}},\"type\":\"scattercarpet\"}],\"scattergeo\":[{\"marker\":{\"colorbar\":{\"outlinewidth\":0,\"ticks\":\"\"}},\"type\":\"scattergeo\"}],\"scattergl\":[{\"marker\":{\"colorbar\":{\"outlinewidth\":0,\"ticks\":\"\"}},\"type\":\"scattergl\"}],\"scattermapbox\":[{\"marker\":{\"colorbar\":{\"outlinewidth\":0,\"ticks\":\"\"}},\"type\":\"scattermapbox\"}],\"scatterpolar\":[{\"marker\":{\"colorbar\":{\"outlinewidth\":0,\"ticks\":\"\"}},\"type\":\"scatterpolar\"}],\"scatterpolargl\":[{\"marker\":{\"colorbar\":{\"outlinewidth\":0,\"ticks\":\"\"}},\"type\":\"scatterpolargl\"}],\"scatterternary\":[{\"marker\":{\"colorbar\":{\"outlinewidth\":0,\"ticks\":\"\"}},\"type\":\"scatterternary\"}],\"surface\":[{\"colorbar\":{\"outlinewidth\":0,\"ticks\":\"\"},\"colorscale\":[[0.0,\"#0d0887\"],[0.1111111111111111,\"#46039f\"],[0.2222222222222222,\"#7201a8\"],[0.3333333333333333,\"#9c179e\"],[0.4444444444444444,\"#bd3786\"],[0.5555555555555556,\"#d8576b\"],[0.6666666666666666,\"#ed7953\"],[0.7777777777777778,\"#fb9f3a\"],[0.8888888888888888,\"#fdca26\"],[1.0,\"#f0f921\"]],\"type\":\"surface\"}],\"table\":[{\"cells\":{\"fill\":{\"color\":\"#EBF0F8\"},\"line\":{\"color\":\"white\"}},\"header\":{\"fill\":{\"color\":\"#C8D4E3\"},\"line\":{\"color\":\"white\"}},\"type\":\"table\"}]},\"layout\":{\"annotationdefaults\":{\"arrowcolor\":\"#2a3f5f\",\"arrowhead\":0,\"arrowwidth\":1},\"autotypenumbers\":\"strict\",\"coloraxis\":{\"colorbar\":{\"outlinewidth\":0,\"ticks\":\"\"}},\"colorscale\":{\"diverging\":[[0,\"#8e0152\"],[0.1,\"#c51b7d\"],[0.2,\"#de77ae\"],[0.3,\"#f1b6da\"],[0.4,\"#fde0ef\"],[0.5,\"#f7f7f7\"],[0.6,\"#e6f5d0\"],[0.7,\"#b8e186\"],[0.8,\"#7fbc41\"],[0.9,\"#4d9221\"],[1,\"#276419\"]],\"sequential\":[[0.0,\"#0d0887\"],[0.1111111111111111,\"#46039f\"],[0.2222222222222222,\"#7201a8\"],[0.3333333333333333,\"#9c179e\"],[0.4444444444444444,\"#bd3786\"],[0.5555555555555556,\"#d8576b\"],[0.6666666666666666,\"#ed7953\"],[0.7777777777777778,\"#fb9f3a\"],[0.8888888888888888,\"#fdca26\"],[1.0,\"#f0f921\"]],\"sequentialminus\":[[0.0,\"#0d0887\"],[0.1111111111111111,\"#46039f\"],[0.2222222222222222,\"#7201a8\"],[0.3333333333333333,\"#9c179e\"],[0.4444444444444444,\"#bd3786\"],[0.5555555555555556,\"#d8576b\"],[0.6666666666666666,\"#ed7953\"],[0.7777777777777778,\"#fb9f3a\"],[0.8888888888888888,\"#fdca26\"],[1.0,\"#f0f921\"]]},\"colorway\":[\"#636efa\",\"#EF553B\",\"#00cc96\",\"#ab63fa\",\"#FFA15A\",\"#19d3f3\",\"#FF6692\",\"#B6E880\",\"#FF97FF\",\"#FECB52\"],\"font\":{\"color\":\"#2a3f5f\"},\"geo\":{\"bgcolor\":\"white\",\"lakecolor\":\"white\",\"landcolor\":\"#E5ECF6\",\"showlakes\":true,\"showland\":true,\"subunitcolor\":\"white\"},\"hoverlabel\":{\"align\":\"left\"},\"hovermode\":\"closest\",\"mapbox\":{\"style\":\"light\"},\"paper_bgcolor\":\"white\",\"plot_bgcolor\":\"#E5ECF6\",\"polar\":{\"angularaxis\":{\"gridcolor\":\"white\",\"linecolor\":\"white\",\"ticks\":\"\"},\"bgcolor\":\"#E5ECF6\",\"radialaxis\":{\"gridcolor\":\"white\",\"linecolor\":\"white\",\"ticks\":\"\"}},\"scene\":{\"xaxis\":{\"backgroundcolor\":\"#E5ECF6\",\"gridcolor\":\"white\",\"gridwidth\":2,\"linecolor\":\"white\",\"showbackground\":true,\"ticks\":\"\",\"zerolinecolor\":\"white\"},\"yaxis\":{\"backgroundcolor\":\"#E5ECF6\",\"gridcolor\":\"white\",\"gridwidth\":2,\"linecolor\":\"white\",\"showbackground\":true,\"ticks\":\"\",\"zerolinecolor\":\"white\"},\"zaxis\":{\"backgroundcolor\":\"#E5ECF6\",\"gridcolor\":\"white\",\"gridwidth\":2,\"linecolor\":\"white\",\"showbackground\":true,\"ticks\":\"\",\"zerolinecolor\":\"white\"}},\"shapedefaults\":{\"line\":{\"color\":\"#2a3f5f\"}},\"ternary\":{\"aaxis\":{\"gridcolor\":\"white\",\"linecolor\":\"white\",\"ticks\":\"\"},\"baxis\":{\"gridcolor\":\"white\",\"linecolor\":\"white\",\"ticks\":\"\"},\"bgcolor\":\"#E5ECF6\",\"caxis\":{\"gridcolor\":\"white\",\"linecolor\":\"white\",\"ticks\":\"\"}},\"title\":{\"x\":0.05},\"xaxis\":{\"automargin\":true,\"gridcolor\":\"white\",\"linecolor\":\"white\",\"ticks\":\"\",\"title\":{\"standoff\":15},\"zerolinecolor\":\"white\",\"zerolinewidth\":2},\"yaxis\":{\"automargin\":true,\"gridcolor\":\"white\",\"linecolor\":\"white\",\"ticks\":\"\",\"title\":{\"standoff\":15},\"zerolinecolor\":\"white\",\"zerolinewidth\":2}}},\"xaxis\":{\"anchor\":\"y\",\"domain\":[0.0,1.0],\"title\":{\"text\":\"Company Location\"},\"categoryorder\":\"array\",\"categoryarray\":[\"Russia\",\"United States\",\"New Zealand\",\"Israel\",\"Japan\",\"Australia\",\"Iraq\",\"United Arab Emirates\",\"Algeria\",\"Canada\"]},\"yaxis\":{\"anchor\":\"x\",\"domain\":[0.0,1.0],\"title\":{\"text\":\"Mean Salary\"}},\"legend\":{\"title\":{\"text\":\"company_country\"},\"tracegroupgap\":0},\"title\":{\"text\":\"Average Salary as a function of Company location\"},\"barmode\":\"relative\"},                        {\"responsive\": true}                    ).then(function(){\n",
       "                            \n",
       "var gd = document.getElementById('7677b93c-79d3-4a48-af4c-99377518d935');\n",
       "var x = new MutationObserver(function (mutations, observer) {{\n",
       "        var display = window.getComputedStyle(gd).display;\n",
       "        if (!display || display === 'none') {{\n",
       "            console.log([gd, 'removed!']);\n",
       "            Plotly.purge(gd);\n",
       "            observer.disconnect();\n",
       "        }}\n",
       "}});\n",
       "\n",
       "// Listen for the removal of the full notebook cells\n",
       "var notebookContainer = gd.closest('#notebook-container');\n",
       "if (notebookContainer) {{\n",
       "    x.observe(notebookContainer, {childList: true});\n",
       "}}\n",
       "\n",
       "// Listen for the clearing of the current output cell\n",
       "var outputEl = gd.closest('.output');\n",
       "if (outputEl) {{\n",
       "    x.observe(outputEl, {childList: true});\n",
       "}}\n",
       "\n",
       "                        })                };                });            </script>        </div>"
      ]
     },
     "metadata": {},
     "output_type": "display_data"
    }
   ],
   "source": [
    "df = dsjobs[['company_country','salary_in_usd']].groupby(['company_country'], as_index=False).mean().set_index('company_country').reset_index().sort_values('salary_in_usd',ascending = False)\n",
    "df = df.iloc[:10]\n",
    "fig = px.bar(df, x='company_country', y='salary_in_usd', color = 'company_country',\n",
    "            color_discrete_sequence=px.colors.qualitative.Dark2,\n",
    "            title = 'Average Salary as a function of Company location')\n",
    "fig.update_layout(xaxis_title=\"Company Location\", yaxis_title=\"Mean Salary\")\n",
    "fig.show()"
   ]
  },
  {
   "cell_type": "markdown",
   "metadata": {},
   "source": [
    "#### The location of the company also plays a vital role in determining the mean salaries. The top 10 countries in terms of average salaries are plotted."
   ]
  },
  {
   "cell_type": "markdown",
   "metadata": {},
   "source": [
    "## Top 10 Data Science job positions"
   ]
  },
  {
   "cell_type": "code",
   "execution_count": 68,
   "metadata": {
    "scrolled": false
   },
   "outputs": [
    {
     "data": {
      "application/vnd.plotly.v1+json": {
       "config": {
        "plotlyServerURL": "https://plot.ly"
       },
       "data": [
        {
         "domain": {
          "x": [
           0,
           1
          ],
          "y": [
           0,
           1
          ]
         },
         "hovertemplate": "index=%{label}<br>job_title=%{value}<extra></extra>",
         "labels": [
          "Data Scientist",
          "Data Engineer",
          "Data Analyst",
          "Machine Learning Engineer",
          "Research Scientist",
          "Data Science Manager",
          "Data Architect",
          "Big Data Engineer",
          "Machine Learning Scientist",
          "Principal Data Scientist"
         ],
         "legendgroup": "",
         "name": "",
         "showlegend": true,
         "type": "pie",
         "values": [
          143,
          132,
          97,
          41,
          16,
          12,
          11,
          8,
          8,
          7
         ]
        }
       ],
       "layout": {
        "legend": {
         "tracegroupgap": 0
        },
        "piecolorway": [
         "rgb(251,180,174)",
         "rgb(179,205,227)",
         "rgb(204,235,197)",
         "rgb(222,203,228)",
         "rgb(254,217,166)",
         "rgb(255,255,204)",
         "rgb(229,216,189)",
         "rgb(253,218,236)",
         "rgb(242,242,242)"
        ],
        "template": {
         "data": {
          "bar": [
           {
            "error_x": {
             "color": "#2a3f5f"
            },
            "error_y": {
             "color": "#2a3f5f"
            },
            "marker": {
             "line": {
              "color": "#E5ECF6",
              "width": 0.5
             },
             "pattern": {
              "fillmode": "overlay",
              "size": 10,
              "solidity": 0.2
             }
            },
            "type": "bar"
           }
          ],
          "barpolar": [
           {
            "marker": {
             "line": {
              "color": "#E5ECF6",
              "width": 0.5
             },
             "pattern": {
              "fillmode": "overlay",
              "size": 10,
              "solidity": 0.2
             }
            },
            "type": "barpolar"
           }
          ],
          "carpet": [
           {
            "aaxis": {
             "endlinecolor": "#2a3f5f",
             "gridcolor": "white",
             "linecolor": "white",
             "minorgridcolor": "white",
             "startlinecolor": "#2a3f5f"
            },
            "baxis": {
             "endlinecolor": "#2a3f5f",
             "gridcolor": "white",
             "linecolor": "white",
             "minorgridcolor": "white",
             "startlinecolor": "#2a3f5f"
            },
            "type": "carpet"
           }
          ],
          "choropleth": [
           {
            "colorbar": {
             "outlinewidth": 0,
             "ticks": ""
            },
            "type": "choropleth"
           }
          ],
          "contour": [
           {
            "colorbar": {
             "outlinewidth": 0,
             "ticks": ""
            },
            "colorscale": [
             [
              0,
              "#0d0887"
             ],
             [
              0.1111111111111111,
              "#46039f"
             ],
             [
              0.2222222222222222,
              "#7201a8"
             ],
             [
              0.3333333333333333,
              "#9c179e"
             ],
             [
              0.4444444444444444,
              "#bd3786"
             ],
             [
              0.5555555555555556,
              "#d8576b"
             ],
             [
              0.6666666666666666,
              "#ed7953"
             ],
             [
              0.7777777777777778,
              "#fb9f3a"
             ],
             [
              0.8888888888888888,
              "#fdca26"
             ],
             [
              1,
              "#f0f921"
             ]
            ],
            "type": "contour"
           }
          ],
          "contourcarpet": [
           {
            "colorbar": {
             "outlinewidth": 0,
             "ticks": ""
            },
            "type": "contourcarpet"
           }
          ],
          "heatmap": [
           {
            "colorbar": {
             "outlinewidth": 0,
             "ticks": ""
            },
            "colorscale": [
             [
              0,
              "#0d0887"
             ],
             [
              0.1111111111111111,
              "#46039f"
             ],
             [
              0.2222222222222222,
              "#7201a8"
             ],
             [
              0.3333333333333333,
              "#9c179e"
             ],
             [
              0.4444444444444444,
              "#bd3786"
             ],
             [
              0.5555555555555556,
              "#d8576b"
             ],
             [
              0.6666666666666666,
              "#ed7953"
             ],
             [
              0.7777777777777778,
              "#fb9f3a"
             ],
             [
              0.8888888888888888,
              "#fdca26"
             ],
             [
              1,
              "#f0f921"
             ]
            ],
            "type": "heatmap"
           }
          ],
          "heatmapgl": [
           {
            "colorbar": {
             "outlinewidth": 0,
             "ticks": ""
            },
            "colorscale": [
             [
              0,
              "#0d0887"
             ],
             [
              0.1111111111111111,
              "#46039f"
             ],
             [
              0.2222222222222222,
              "#7201a8"
             ],
             [
              0.3333333333333333,
              "#9c179e"
             ],
             [
              0.4444444444444444,
              "#bd3786"
             ],
             [
              0.5555555555555556,
              "#d8576b"
             ],
             [
              0.6666666666666666,
              "#ed7953"
             ],
             [
              0.7777777777777778,
              "#fb9f3a"
             ],
             [
              0.8888888888888888,
              "#fdca26"
             ],
             [
              1,
              "#f0f921"
             ]
            ],
            "type": "heatmapgl"
           }
          ],
          "histogram": [
           {
            "marker": {
             "pattern": {
              "fillmode": "overlay",
              "size": 10,
              "solidity": 0.2
             }
            },
            "type": "histogram"
           }
          ],
          "histogram2d": [
           {
            "colorbar": {
             "outlinewidth": 0,
             "ticks": ""
            },
            "colorscale": [
             [
              0,
              "#0d0887"
             ],
             [
              0.1111111111111111,
              "#46039f"
             ],
             [
              0.2222222222222222,
              "#7201a8"
             ],
             [
              0.3333333333333333,
              "#9c179e"
             ],
             [
              0.4444444444444444,
              "#bd3786"
             ],
             [
              0.5555555555555556,
              "#d8576b"
             ],
             [
              0.6666666666666666,
              "#ed7953"
             ],
             [
              0.7777777777777778,
              "#fb9f3a"
             ],
             [
              0.8888888888888888,
              "#fdca26"
             ],
             [
              1,
              "#f0f921"
             ]
            ],
            "type": "histogram2d"
           }
          ],
          "histogram2dcontour": [
           {
            "colorbar": {
             "outlinewidth": 0,
             "ticks": ""
            },
            "colorscale": [
             [
              0,
              "#0d0887"
             ],
             [
              0.1111111111111111,
              "#46039f"
             ],
             [
              0.2222222222222222,
              "#7201a8"
             ],
             [
              0.3333333333333333,
              "#9c179e"
             ],
             [
              0.4444444444444444,
              "#bd3786"
             ],
             [
              0.5555555555555556,
              "#d8576b"
             ],
             [
              0.6666666666666666,
              "#ed7953"
             ],
             [
              0.7777777777777778,
              "#fb9f3a"
             ],
             [
              0.8888888888888888,
              "#fdca26"
             ],
             [
              1,
              "#f0f921"
             ]
            ],
            "type": "histogram2dcontour"
           }
          ],
          "mesh3d": [
           {
            "colorbar": {
             "outlinewidth": 0,
             "ticks": ""
            },
            "type": "mesh3d"
           }
          ],
          "parcoords": [
           {
            "line": {
             "colorbar": {
              "outlinewidth": 0,
              "ticks": ""
             }
            },
            "type": "parcoords"
           }
          ],
          "pie": [
           {
            "automargin": true,
            "type": "pie"
           }
          ],
          "scatter": [
           {
            "marker": {
             "colorbar": {
              "outlinewidth": 0,
              "ticks": ""
             }
            },
            "type": "scatter"
           }
          ],
          "scatter3d": [
           {
            "line": {
             "colorbar": {
              "outlinewidth": 0,
              "ticks": ""
             }
            },
            "marker": {
             "colorbar": {
              "outlinewidth": 0,
              "ticks": ""
             }
            },
            "type": "scatter3d"
           }
          ],
          "scattercarpet": [
           {
            "marker": {
             "colorbar": {
              "outlinewidth": 0,
              "ticks": ""
             }
            },
            "type": "scattercarpet"
           }
          ],
          "scattergeo": [
           {
            "marker": {
             "colorbar": {
              "outlinewidth": 0,
              "ticks": ""
             }
            },
            "type": "scattergeo"
           }
          ],
          "scattergl": [
           {
            "marker": {
             "colorbar": {
              "outlinewidth": 0,
              "ticks": ""
             }
            },
            "type": "scattergl"
           }
          ],
          "scattermapbox": [
           {
            "marker": {
             "colorbar": {
              "outlinewidth": 0,
              "ticks": ""
             }
            },
            "type": "scattermapbox"
           }
          ],
          "scatterpolar": [
           {
            "marker": {
             "colorbar": {
              "outlinewidth": 0,
              "ticks": ""
             }
            },
            "type": "scatterpolar"
           }
          ],
          "scatterpolargl": [
           {
            "marker": {
             "colorbar": {
              "outlinewidth": 0,
              "ticks": ""
             }
            },
            "type": "scatterpolargl"
           }
          ],
          "scatterternary": [
           {
            "marker": {
             "colorbar": {
              "outlinewidth": 0,
              "ticks": ""
             }
            },
            "type": "scatterternary"
           }
          ],
          "surface": [
           {
            "colorbar": {
             "outlinewidth": 0,
             "ticks": ""
            },
            "colorscale": [
             [
              0,
              "#0d0887"
             ],
             [
              0.1111111111111111,
              "#46039f"
             ],
             [
              0.2222222222222222,
              "#7201a8"
             ],
             [
              0.3333333333333333,
              "#9c179e"
             ],
             [
              0.4444444444444444,
              "#bd3786"
             ],
             [
              0.5555555555555556,
              "#d8576b"
             ],
             [
              0.6666666666666666,
              "#ed7953"
             ],
             [
              0.7777777777777778,
              "#fb9f3a"
             ],
             [
              0.8888888888888888,
              "#fdca26"
             ],
             [
              1,
              "#f0f921"
             ]
            ],
            "type": "surface"
           }
          ],
          "table": [
           {
            "cells": {
             "fill": {
              "color": "#EBF0F8"
             },
             "line": {
              "color": "white"
             }
            },
            "header": {
             "fill": {
              "color": "#C8D4E3"
             },
             "line": {
              "color": "white"
             }
            },
            "type": "table"
           }
          ]
         },
         "layout": {
          "annotationdefaults": {
           "arrowcolor": "#2a3f5f",
           "arrowhead": 0,
           "arrowwidth": 1
          },
          "autotypenumbers": "strict",
          "coloraxis": {
           "colorbar": {
            "outlinewidth": 0,
            "ticks": ""
           }
          },
          "colorscale": {
           "diverging": [
            [
             0,
             "#8e0152"
            ],
            [
             0.1,
             "#c51b7d"
            ],
            [
             0.2,
             "#de77ae"
            ],
            [
             0.3,
             "#f1b6da"
            ],
            [
             0.4,
             "#fde0ef"
            ],
            [
             0.5,
             "#f7f7f7"
            ],
            [
             0.6,
             "#e6f5d0"
            ],
            [
             0.7,
             "#b8e186"
            ],
            [
             0.8,
             "#7fbc41"
            ],
            [
             0.9,
             "#4d9221"
            ],
            [
             1,
             "#276419"
            ]
           ],
           "sequential": [
            [
             0,
             "#0d0887"
            ],
            [
             0.1111111111111111,
             "#46039f"
            ],
            [
             0.2222222222222222,
             "#7201a8"
            ],
            [
             0.3333333333333333,
             "#9c179e"
            ],
            [
             0.4444444444444444,
             "#bd3786"
            ],
            [
             0.5555555555555556,
             "#d8576b"
            ],
            [
             0.6666666666666666,
             "#ed7953"
            ],
            [
             0.7777777777777778,
             "#fb9f3a"
            ],
            [
             0.8888888888888888,
             "#fdca26"
            ],
            [
             1,
             "#f0f921"
            ]
           ],
           "sequentialminus": [
            [
             0,
             "#0d0887"
            ],
            [
             0.1111111111111111,
             "#46039f"
            ],
            [
             0.2222222222222222,
             "#7201a8"
            ],
            [
             0.3333333333333333,
             "#9c179e"
            ],
            [
             0.4444444444444444,
             "#bd3786"
            ],
            [
             0.5555555555555556,
             "#d8576b"
            ],
            [
             0.6666666666666666,
             "#ed7953"
            ],
            [
             0.7777777777777778,
             "#fb9f3a"
            ],
            [
             0.8888888888888888,
             "#fdca26"
            ],
            [
             1,
             "#f0f921"
            ]
           ]
          },
          "colorway": [
           "#636efa",
           "#EF553B",
           "#00cc96",
           "#ab63fa",
           "#FFA15A",
           "#19d3f3",
           "#FF6692",
           "#B6E880",
           "#FF97FF",
           "#FECB52"
          ],
          "font": {
           "color": "#2a3f5f"
          },
          "geo": {
           "bgcolor": "white",
           "lakecolor": "white",
           "landcolor": "#E5ECF6",
           "showlakes": true,
           "showland": true,
           "subunitcolor": "white"
          },
          "hoverlabel": {
           "align": "left"
          },
          "hovermode": "closest",
          "mapbox": {
           "style": "light"
          },
          "paper_bgcolor": "white",
          "plot_bgcolor": "#E5ECF6",
          "polar": {
           "angularaxis": {
            "gridcolor": "white",
            "linecolor": "white",
            "ticks": ""
           },
           "bgcolor": "#E5ECF6",
           "radialaxis": {
            "gridcolor": "white",
            "linecolor": "white",
            "ticks": ""
           }
          },
          "scene": {
           "xaxis": {
            "backgroundcolor": "#E5ECF6",
            "gridcolor": "white",
            "gridwidth": 2,
            "linecolor": "white",
            "showbackground": true,
            "ticks": "",
            "zerolinecolor": "white"
           },
           "yaxis": {
            "backgroundcolor": "#E5ECF6",
            "gridcolor": "white",
            "gridwidth": 2,
            "linecolor": "white",
            "showbackground": true,
            "ticks": "",
            "zerolinecolor": "white"
           },
           "zaxis": {
            "backgroundcolor": "#E5ECF6",
            "gridcolor": "white",
            "gridwidth": 2,
            "linecolor": "white",
            "showbackground": true,
            "ticks": "",
            "zerolinecolor": "white"
           }
          },
          "shapedefaults": {
           "line": {
            "color": "#2a3f5f"
           }
          },
          "ternary": {
           "aaxis": {
            "gridcolor": "white",
            "linecolor": "white",
            "ticks": ""
           },
           "baxis": {
            "gridcolor": "white",
            "linecolor": "white",
            "ticks": ""
           },
           "bgcolor": "#E5ECF6",
           "caxis": {
            "gridcolor": "white",
            "linecolor": "white",
            "ticks": ""
           }
          },
          "title": {
           "x": 0.05
          },
          "xaxis": {
           "automargin": true,
           "gridcolor": "white",
           "linecolor": "white",
           "ticks": "",
           "title": {
            "standoff": 15
           },
           "zerolinecolor": "white",
           "zerolinewidth": 2
          },
          "yaxis": {
           "automargin": true,
           "gridcolor": "white",
           "linecolor": "white",
           "ticks": "",
           "title": {
            "standoff": 15
           },
           "zerolinecolor": "white",
           "zerolinewidth": 2
          }
         }
        },
        "title": {
         "text": "Distribution of job positions"
        }
       }
      },
      "text/html": [
       "<div>                            <div id=\"8f85adbe-1a10-4b13-b1b3-e9417c60d886\" class=\"plotly-graph-div\" style=\"height:525px; width:100%;\"></div>            <script type=\"text/javascript\">                require([\"plotly\"], function(Plotly) {                    window.PLOTLYENV=window.PLOTLYENV || {};                                    if (document.getElementById(\"8f85adbe-1a10-4b13-b1b3-e9417c60d886\")) {                    Plotly.newPlot(                        \"8f85adbe-1a10-4b13-b1b3-e9417c60d886\",                        [{\"domain\":{\"x\":[0.0,1.0],\"y\":[0.0,1.0]},\"hovertemplate\":\"index=%{label}<br>job_title=%{value}<extra></extra>\",\"labels\":[\"Data Scientist\",\"Data Engineer\",\"Data Analyst\",\"Machine Learning Engineer\",\"Research Scientist\",\"Data Science Manager\",\"Data Architect\",\"Big Data Engineer\",\"Machine Learning Scientist\",\"Principal Data Scientist\"],\"legendgroup\":\"\",\"name\":\"\",\"showlegend\":true,\"values\":[143,132,97,41,16,12,11,8,8,7],\"type\":\"pie\"}],                        {\"template\":{\"data\":{\"bar\":[{\"error_x\":{\"color\":\"#2a3f5f\"},\"error_y\":{\"color\":\"#2a3f5f\"},\"marker\":{\"line\":{\"color\":\"#E5ECF6\",\"width\":0.5},\"pattern\":{\"fillmode\":\"overlay\",\"size\":10,\"solidity\":0.2}},\"type\":\"bar\"}],\"barpolar\":[{\"marker\":{\"line\":{\"color\":\"#E5ECF6\",\"width\":0.5},\"pattern\":{\"fillmode\":\"overlay\",\"size\":10,\"solidity\":0.2}},\"type\":\"barpolar\"}],\"carpet\":[{\"aaxis\":{\"endlinecolor\":\"#2a3f5f\",\"gridcolor\":\"white\",\"linecolor\":\"white\",\"minorgridcolor\":\"white\",\"startlinecolor\":\"#2a3f5f\"},\"baxis\":{\"endlinecolor\":\"#2a3f5f\",\"gridcolor\":\"white\",\"linecolor\":\"white\",\"minorgridcolor\":\"white\",\"startlinecolor\":\"#2a3f5f\"},\"type\":\"carpet\"}],\"choropleth\":[{\"colorbar\":{\"outlinewidth\":0,\"ticks\":\"\"},\"type\":\"choropleth\"}],\"contour\":[{\"colorbar\":{\"outlinewidth\":0,\"ticks\":\"\"},\"colorscale\":[[0.0,\"#0d0887\"],[0.1111111111111111,\"#46039f\"],[0.2222222222222222,\"#7201a8\"],[0.3333333333333333,\"#9c179e\"],[0.4444444444444444,\"#bd3786\"],[0.5555555555555556,\"#d8576b\"],[0.6666666666666666,\"#ed7953\"],[0.7777777777777778,\"#fb9f3a\"],[0.8888888888888888,\"#fdca26\"],[1.0,\"#f0f921\"]],\"type\":\"contour\"}],\"contourcarpet\":[{\"colorbar\":{\"outlinewidth\":0,\"ticks\":\"\"},\"type\":\"contourcarpet\"}],\"heatmap\":[{\"colorbar\":{\"outlinewidth\":0,\"ticks\":\"\"},\"colorscale\":[[0.0,\"#0d0887\"],[0.1111111111111111,\"#46039f\"],[0.2222222222222222,\"#7201a8\"],[0.3333333333333333,\"#9c179e\"],[0.4444444444444444,\"#bd3786\"],[0.5555555555555556,\"#d8576b\"],[0.6666666666666666,\"#ed7953\"],[0.7777777777777778,\"#fb9f3a\"],[0.8888888888888888,\"#fdca26\"],[1.0,\"#f0f921\"]],\"type\":\"heatmap\"}],\"heatmapgl\":[{\"colorbar\":{\"outlinewidth\":0,\"ticks\":\"\"},\"colorscale\":[[0.0,\"#0d0887\"],[0.1111111111111111,\"#46039f\"],[0.2222222222222222,\"#7201a8\"],[0.3333333333333333,\"#9c179e\"],[0.4444444444444444,\"#bd3786\"],[0.5555555555555556,\"#d8576b\"],[0.6666666666666666,\"#ed7953\"],[0.7777777777777778,\"#fb9f3a\"],[0.8888888888888888,\"#fdca26\"],[1.0,\"#f0f921\"]],\"type\":\"heatmapgl\"}],\"histogram\":[{\"marker\":{\"pattern\":{\"fillmode\":\"overlay\",\"size\":10,\"solidity\":0.2}},\"type\":\"histogram\"}],\"histogram2d\":[{\"colorbar\":{\"outlinewidth\":0,\"ticks\":\"\"},\"colorscale\":[[0.0,\"#0d0887\"],[0.1111111111111111,\"#46039f\"],[0.2222222222222222,\"#7201a8\"],[0.3333333333333333,\"#9c179e\"],[0.4444444444444444,\"#bd3786\"],[0.5555555555555556,\"#d8576b\"],[0.6666666666666666,\"#ed7953\"],[0.7777777777777778,\"#fb9f3a\"],[0.8888888888888888,\"#fdca26\"],[1.0,\"#f0f921\"]],\"type\":\"histogram2d\"}],\"histogram2dcontour\":[{\"colorbar\":{\"outlinewidth\":0,\"ticks\":\"\"},\"colorscale\":[[0.0,\"#0d0887\"],[0.1111111111111111,\"#46039f\"],[0.2222222222222222,\"#7201a8\"],[0.3333333333333333,\"#9c179e\"],[0.4444444444444444,\"#bd3786\"],[0.5555555555555556,\"#d8576b\"],[0.6666666666666666,\"#ed7953\"],[0.7777777777777778,\"#fb9f3a\"],[0.8888888888888888,\"#fdca26\"],[1.0,\"#f0f921\"]],\"type\":\"histogram2dcontour\"}],\"mesh3d\":[{\"colorbar\":{\"outlinewidth\":0,\"ticks\":\"\"},\"type\":\"mesh3d\"}],\"parcoords\":[{\"line\":{\"colorbar\":{\"outlinewidth\":0,\"ticks\":\"\"}},\"type\":\"parcoords\"}],\"pie\":[{\"automargin\":true,\"type\":\"pie\"}],\"scatter\":[{\"marker\":{\"colorbar\":{\"outlinewidth\":0,\"ticks\":\"\"}},\"type\":\"scatter\"}],\"scatter3d\":[{\"line\":{\"colorbar\":{\"outlinewidth\":0,\"ticks\":\"\"}},\"marker\":{\"colorbar\":{\"outlinewidth\":0,\"ticks\":\"\"}},\"type\":\"scatter3d\"}],\"scattercarpet\":[{\"marker\":{\"colorbar\":{\"outlinewidth\":0,\"ticks\":\"\"}},\"type\":\"scattercarpet\"}],\"scattergeo\":[{\"marker\":{\"colorbar\":{\"outlinewidth\":0,\"ticks\":\"\"}},\"type\":\"scattergeo\"}],\"scattergl\":[{\"marker\":{\"colorbar\":{\"outlinewidth\":0,\"ticks\":\"\"}},\"type\":\"scattergl\"}],\"scattermapbox\":[{\"marker\":{\"colorbar\":{\"outlinewidth\":0,\"ticks\":\"\"}},\"type\":\"scattermapbox\"}],\"scatterpolar\":[{\"marker\":{\"colorbar\":{\"outlinewidth\":0,\"ticks\":\"\"}},\"type\":\"scatterpolar\"}],\"scatterpolargl\":[{\"marker\":{\"colorbar\":{\"outlinewidth\":0,\"ticks\":\"\"}},\"type\":\"scatterpolargl\"}],\"scatterternary\":[{\"marker\":{\"colorbar\":{\"outlinewidth\":0,\"ticks\":\"\"}},\"type\":\"scatterternary\"}],\"surface\":[{\"colorbar\":{\"outlinewidth\":0,\"ticks\":\"\"},\"colorscale\":[[0.0,\"#0d0887\"],[0.1111111111111111,\"#46039f\"],[0.2222222222222222,\"#7201a8\"],[0.3333333333333333,\"#9c179e\"],[0.4444444444444444,\"#bd3786\"],[0.5555555555555556,\"#d8576b\"],[0.6666666666666666,\"#ed7953\"],[0.7777777777777778,\"#fb9f3a\"],[0.8888888888888888,\"#fdca26\"],[1.0,\"#f0f921\"]],\"type\":\"surface\"}],\"table\":[{\"cells\":{\"fill\":{\"color\":\"#EBF0F8\"},\"line\":{\"color\":\"white\"}},\"header\":{\"fill\":{\"color\":\"#C8D4E3\"},\"line\":{\"color\":\"white\"}},\"type\":\"table\"}]},\"layout\":{\"annotationdefaults\":{\"arrowcolor\":\"#2a3f5f\",\"arrowhead\":0,\"arrowwidth\":1},\"autotypenumbers\":\"strict\",\"coloraxis\":{\"colorbar\":{\"outlinewidth\":0,\"ticks\":\"\"}},\"colorscale\":{\"diverging\":[[0,\"#8e0152\"],[0.1,\"#c51b7d\"],[0.2,\"#de77ae\"],[0.3,\"#f1b6da\"],[0.4,\"#fde0ef\"],[0.5,\"#f7f7f7\"],[0.6,\"#e6f5d0\"],[0.7,\"#b8e186\"],[0.8,\"#7fbc41\"],[0.9,\"#4d9221\"],[1,\"#276419\"]],\"sequential\":[[0.0,\"#0d0887\"],[0.1111111111111111,\"#46039f\"],[0.2222222222222222,\"#7201a8\"],[0.3333333333333333,\"#9c179e\"],[0.4444444444444444,\"#bd3786\"],[0.5555555555555556,\"#d8576b\"],[0.6666666666666666,\"#ed7953\"],[0.7777777777777778,\"#fb9f3a\"],[0.8888888888888888,\"#fdca26\"],[1.0,\"#f0f921\"]],\"sequentialminus\":[[0.0,\"#0d0887\"],[0.1111111111111111,\"#46039f\"],[0.2222222222222222,\"#7201a8\"],[0.3333333333333333,\"#9c179e\"],[0.4444444444444444,\"#bd3786\"],[0.5555555555555556,\"#d8576b\"],[0.6666666666666666,\"#ed7953\"],[0.7777777777777778,\"#fb9f3a\"],[0.8888888888888888,\"#fdca26\"],[1.0,\"#f0f921\"]]},\"colorway\":[\"#636efa\",\"#EF553B\",\"#00cc96\",\"#ab63fa\",\"#FFA15A\",\"#19d3f3\",\"#FF6692\",\"#B6E880\",\"#FF97FF\",\"#FECB52\"],\"font\":{\"color\":\"#2a3f5f\"},\"geo\":{\"bgcolor\":\"white\",\"lakecolor\":\"white\",\"landcolor\":\"#E5ECF6\",\"showlakes\":true,\"showland\":true,\"subunitcolor\":\"white\"},\"hoverlabel\":{\"align\":\"left\"},\"hovermode\":\"closest\",\"mapbox\":{\"style\":\"light\"},\"paper_bgcolor\":\"white\",\"plot_bgcolor\":\"#E5ECF6\",\"polar\":{\"angularaxis\":{\"gridcolor\":\"white\",\"linecolor\":\"white\",\"ticks\":\"\"},\"bgcolor\":\"#E5ECF6\",\"radialaxis\":{\"gridcolor\":\"white\",\"linecolor\":\"white\",\"ticks\":\"\"}},\"scene\":{\"xaxis\":{\"backgroundcolor\":\"#E5ECF6\",\"gridcolor\":\"white\",\"gridwidth\":2,\"linecolor\":\"white\",\"showbackground\":true,\"ticks\":\"\",\"zerolinecolor\":\"white\"},\"yaxis\":{\"backgroundcolor\":\"#E5ECF6\",\"gridcolor\":\"white\",\"gridwidth\":2,\"linecolor\":\"white\",\"showbackground\":true,\"ticks\":\"\",\"zerolinecolor\":\"white\"},\"zaxis\":{\"backgroundcolor\":\"#E5ECF6\",\"gridcolor\":\"white\",\"gridwidth\":2,\"linecolor\":\"white\",\"showbackground\":true,\"ticks\":\"\",\"zerolinecolor\":\"white\"}},\"shapedefaults\":{\"line\":{\"color\":\"#2a3f5f\"}},\"ternary\":{\"aaxis\":{\"gridcolor\":\"white\",\"linecolor\":\"white\",\"ticks\":\"\"},\"baxis\":{\"gridcolor\":\"white\",\"linecolor\":\"white\",\"ticks\":\"\"},\"bgcolor\":\"#E5ECF6\",\"caxis\":{\"gridcolor\":\"white\",\"linecolor\":\"white\",\"ticks\":\"\"}},\"title\":{\"x\":0.05},\"xaxis\":{\"automargin\":true,\"gridcolor\":\"white\",\"linecolor\":\"white\",\"ticks\":\"\",\"title\":{\"standoff\":15},\"zerolinecolor\":\"white\",\"zerolinewidth\":2},\"yaxis\":{\"automargin\":true,\"gridcolor\":\"white\",\"linecolor\":\"white\",\"ticks\":\"\",\"title\":{\"standoff\":15},\"zerolinecolor\":\"white\",\"zerolinewidth\":2}}},\"legend\":{\"tracegroupgap\":0},\"title\":{\"text\":\"Distribution of job positions\"},\"piecolorway\":[\"rgb(251,180,174)\",\"rgb(179,205,227)\",\"rgb(204,235,197)\",\"rgb(222,203,228)\",\"rgb(254,217,166)\",\"rgb(255,255,204)\",\"rgb(229,216,189)\",\"rgb(253,218,236)\",\"rgb(242,242,242)\"]},                        {\"responsive\": true}                    ).then(function(){\n",
       "                            \n",
       "var gd = document.getElementById('8f85adbe-1a10-4b13-b1b3-e9417c60d886');\n",
       "var x = new MutationObserver(function (mutations, observer) {{\n",
       "        var display = window.getComputedStyle(gd).display;\n",
       "        if (!display || display === 'none') {{\n",
       "            console.log([gd, 'removed!']);\n",
       "            Plotly.purge(gd);\n",
       "            observer.disconnect();\n",
       "        }}\n",
       "}});\n",
       "\n",
       "// Listen for the removal of the full notebook cells\n",
       "var notebookContainer = gd.closest('#notebook-container');\n",
       "if (notebookContainer) {{\n",
       "    x.observe(notebookContainer, {childList: true});\n",
       "}}\n",
       "\n",
       "// Listen for the clearing of the current output cell\n",
       "var outputEl = gd.closest('.output');\n",
       "if (outputEl) {{\n",
       "    x.observe(outputEl, {childList: true});\n",
       "}}\n",
       "\n",
       "                        })                };                });            </script>        </div>"
      ]
     },
     "metadata": {},
     "output_type": "display_data"
    }
   ],
   "source": [
    "df = dsjobs[\"job_title\"].value_counts().reset_index()\n",
    "df = df.iloc[:10]\n",
    "fig = px.pie(df, values='job_title', names='index', title= 'Distribution of job positions',\n",
    "            color_discrete_sequence=px.colors.qualitative.Pastel1)\n",
    "fig.show()"
   ]
  },
  {
   "cell_type": "markdown",
   "metadata": {},
   "source": [
    "#### It can be observed that Data Scientist is the most common job title followed by Data Engineers and Data Analysts respectively."
   ]
  },
  {
   "cell_type": "markdown",
   "metadata": {},
   "source": [
    "### Remote work preference/status as a function of time"
   ]
  },
  {
   "cell_type": "code",
   "execution_count": 69,
   "metadata": {},
   "outputs": [
    {
     "data": {
      "application/vnd.plotly.v1+json": {
       "config": {
        "plotlyServerURL": "https://plot.ly"
       },
       "data": [
        {
         "coloraxis": "coloraxis",
         "customdata": [
          [
           "EUR",
           0,
           "Work From Home"
          ],
          [
           "USD",
           0,
           "Work From Home"
          ],
          [
           "GBP",
           50,
           "Hybrid"
          ],
          [
           "USD",
           0,
           "Work From Home"
          ],
          [
           "USD",
           50,
           "Hybrid"
          ],
          [
           "USD",
           100,
           "Office Work"
          ],
          [
           "USD",
           100,
           "Office Work"
          ],
          [
           "HUF",
           50,
           "Hybrid"
          ],
          [
           "USD",
           100,
           "Office Work"
          ],
          [
           "USD",
           50,
           "Hybrid"
          ],
          [
           "EUR",
           0,
           "Work From Home"
          ],
          [
           "INR",
           0,
           "Work From Home"
          ],
          [
           "EUR",
           0,
           "Work From Home"
          ],
          [
           "USD",
           100,
           "Office Work"
          ],
          [
           "USD",
           100,
           "Office Work"
          ],
          [
           "USD",
           50,
           "Hybrid"
          ],
          [
           "JPY",
           100,
           "Office Work"
          ],
          [
           "EUR",
           100,
           "Office Work"
          ],
          [
           "INR",
           50,
           "Hybrid"
          ],
          [
           "USD",
           100,
           "Office Work"
          ],
          [
           "CNY",
           0,
           "Work From Home"
          ],
          [
           "INR",
           100,
           "Office Work"
          ],
          [
           "EUR",
           50,
           "Hybrid"
          ],
          [
           "USD",
           0,
           "Work From Home"
          ],
          [
           "USD",
           0,
           "Work From Home"
          ],
          [
           "USD",
           100,
           "Office Work"
          ],
          [
           "USD",
           50,
           "Hybrid"
          ],
          [
           "MXN",
           0,
           "Work From Home"
          ],
          [
           "USD",
           100,
           "Office Work"
          ],
          [
           "CAD",
           50,
           "Hybrid"
          ],
          [
           "EUR",
           100,
           "Office Work"
          ],
          [
           "USD",
           100,
           "Office Work"
          ],
          [
           "EUR",
           100,
           "Office Work"
          ],
          [
           "USD",
           0,
           "Work From Home"
          ],
          [
           "EUR",
           50,
           "Hybrid"
          ],
          [
           "EUR",
           50,
           "Hybrid"
          ],
          [
           "USD",
           100,
           "Office Work"
          ],
          [
           "USD",
           50,
           "Hybrid"
          ],
          [
           "USD",
           100,
           "Office Work"
          ],
          [
           "USD",
           100,
           "Office Work"
          ],
          [
           "USD",
           100,
           "Office Work"
          ],
          [
           "EUR",
           50,
           "Hybrid"
          ],
          [
           "EUR",
           0,
           "Work From Home"
          ],
          [
           "USD",
           100,
           "Office Work"
          ],
          [
           "GBP",
           50,
           "Hybrid"
          ],
          [
           "EUR",
           100,
           "Office Work"
          ],
          [
           "GBP",
           100,
           "Office Work"
          ],
          [
           "USD",
           100,
           "Office Work"
          ],
          [
           "USD",
           100,
           "Office Work"
          ],
          [
           "EUR",
           50,
           "Hybrid"
          ],
          [
           "INR",
           0,
           "Work From Home"
          ],
          [
           "USD",
           100,
           "Office Work"
          ],
          [
           "DKK",
           50,
           "Hybrid"
          ],
          [
           "EUR",
           100,
           "Office Work"
          ],
          [
           "USD",
           100,
           "Office Work"
          ],
          [
           "EUR",
           100,
           "Office Work"
          ],
          [
           "EUR",
           100,
           "Office Work"
          ],
          [
           "USD",
           100,
           "Office Work"
          ],
          [
           "USD",
           50,
           "Hybrid"
          ],
          [
           "USD",
           100,
           "Office Work"
          ],
          [
           "USD",
           100,
           "Office Work"
          ],
          [
           "USD",
           100,
           "Office Work"
          ],
          [
           "EUR",
           50,
           "Hybrid"
          ],
          [
           "USD",
           100,
           "Office Work"
          ],
          [
           "EUR",
           100,
           "Office Work"
          ],
          [
           "EUR",
           50,
           "Hybrid"
          ],
          [
           "EUR",
           0,
           "Work From Home"
          ],
          [
           "USD",
           100,
           "Office Work"
          ],
          [
           "USD",
           100,
           "Office Work"
          ],
          [
           "EUR",
           0,
           "Work From Home"
          ],
          [
           "EUR",
           50,
           "Hybrid"
          ],
          [
           "EUR",
           50,
           "Hybrid"
          ]
         ],
         "geo": "geo",
         "hovertemplate": "<b>%{hovertext}</b><br><br>work_year=2020<br>company_country=%{location}<br>salary_currency=%{customdata[0]}<br>remote_ratio=%{z}<br>remote_ratio_num=%{customdata[2]}<extra></extra>",
         "hovertext": [
          "Germany",
          "Japan",
          "United Kingdom",
          "Honduras",
          "United States",
          "United States",
          "United States",
          "Hungary",
          "United States",
          "New Zealand",
          "France",
          "India",
          "France",
          "United States",
          "United States",
          "Pakistan",
          "Japan",
          "United Kingdom",
          "India",
          "United States",
          "China",
          "India",
          "Greece",
          "United States",
          "United Arab Emirates",
          "United States",
          "Netherlands",
          "Mexico",
          "United States",
          "Canada",
          "Germany",
          "United States",
          "United States",
          "United States",
          "France",
          "Austria",
          "United States",
          "United States",
          "Nigeria",
          "United States",
          "United States",
          "Spain",
          "Portugal",
          "United States",
          "United Kingdom",
          "Germany",
          "United Kingdom",
          "United States",
          "United States",
          "France",
          "India",
          "United States",
          "Denmark",
          "Germany",
          "United States",
          "Germany",
          "Spain",
          "United States",
          "United States",
          "United States",
          "United States",
          "United States",
          "Italy",
          "United States",
          "Croatia",
          "Germany",
          "Germany",
          "United States",
          "United States",
          "Austria",
          "Luxembourg",
          "France"
         ],
         "locationmode": "country names",
         "locations": [
          "Germany",
          "Japan",
          "United Kingdom",
          "Honduras",
          "United States",
          "United States",
          "United States",
          "Hungary",
          "United States",
          "New Zealand",
          "France",
          "India",
          "France",
          "United States",
          "United States",
          "Pakistan",
          "Japan",
          "United Kingdom",
          "India",
          "United States",
          "China",
          "India",
          "Greece",
          "United States",
          "United Arab Emirates",
          "United States",
          "Netherlands",
          "Mexico",
          "United States",
          "Canada",
          "Germany",
          "United States",
          "United States",
          "United States",
          "France",
          "Austria",
          "United States",
          "United States",
          "Nigeria",
          "United States",
          "United States",
          "Spain",
          "Portugal",
          "United States",
          "United Kingdom",
          "Germany",
          "United Kingdom",
          "United States",
          "United States",
          "France",
          "India",
          "United States",
          "Denmark",
          "Germany",
          "United States",
          "Germany",
          "Spain",
          "United States",
          "United States",
          "United States",
          "United States",
          "United States",
          "Italy",
          "United States",
          "Croatia",
          "Germany",
          "Germany",
          "United States",
          "United States",
          "Austria",
          "Luxembourg",
          "France"
         ],
         "name": "",
         "type": "choropleth",
         "z": [
          0,
          0,
          50,
          0,
          50,
          100,
          100,
          50,
          100,
          50,
          0,
          0,
          0,
          100,
          100,
          50,
          100,
          100,
          50,
          100,
          0,
          100,
          50,
          0,
          0,
          100,
          50,
          0,
          100,
          50,
          100,
          100,
          100,
          0,
          50,
          50,
          100,
          50,
          100,
          100,
          100,
          50,
          0,
          100,
          50,
          100,
          100,
          100,
          100,
          50,
          0,
          100,
          50,
          100,
          100,
          100,
          100,
          100,
          50,
          100,
          100,
          100,
          50,
          100,
          100,
          50,
          0,
          100,
          100,
          0,
          50,
          50
         ]
        }
       ],
       "frames": [
        {
         "data": [
          {
           "coloraxis": "coloraxis",
           "customdata": [
            [
             "EUR",
             0,
             "Work From Home"
            ],
            [
             "USD",
             0,
             "Work From Home"
            ],
            [
             "GBP",
             50,
             "Hybrid"
            ],
            [
             "USD",
             0,
             "Work From Home"
            ],
            [
             "USD",
             50,
             "Hybrid"
            ],
            [
             "USD",
             100,
             "Office Work"
            ],
            [
             "USD",
             100,
             "Office Work"
            ],
            [
             "HUF",
             50,
             "Hybrid"
            ],
            [
             "USD",
             100,
             "Office Work"
            ],
            [
             "USD",
             50,
             "Hybrid"
            ],
            [
             "EUR",
             0,
             "Work From Home"
            ],
            [
             "INR",
             0,
             "Work From Home"
            ],
            [
             "EUR",
             0,
             "Work From Home"
            ],
            [
             "USD",
             100,
             "Office Work"
            ],
            [
             "USD",
             100,
             "Office Work"
            ],
            [
             "USD",
             50,
             "Hybrid"
            ],
            [
             "JPY",
             100,
             "Office Work"
            ],
            [
             "EUR",
             100,
             "Office Work"
            ],
            [
             "INR",
             50,
             "Hybrid"
            ],
            [
             "USD",
             100,
             "Office Work"
            ],
            [
             "CNY",
             0,
             "Work From Home"
            ],
            [
             "INR",
             100,
             "Office Work"
            ],
            [
             "EUR",
             50,
             "Hybrid"
            ],
            [
             "USD",
             0,
             "Work From Home"
            ],
            [
             "USD",
             0,
             "Work From Home"
            ],
            [
             "USD",
             100,
             "Office Work"
            ],
            [
             "USD",
             50,
             "Hybrid"
            ],
            [
             "MXN",
             0,
             "Work From Home"
            ],
            [
             "USD",
             100,
             "Office Work"
            ],
            [
             "CAD",
             50,
             "Hybrid"
            ],
            [
             "EUR",
             100,
             "Office Work"
            ],
            [
             "USD",
             100,
             "Office Work"
            ],
            [
             "EUR",
             100,
             "Office Work"
            ],
            [
             "USD",
             0,
             "Work From Home"
            ],
            [
             "EUR",
             50,
             "Hybrid"
            ],
            [
             "EUR",
             50,
             "Hybrid"
            ],
            [
             "USD",
             100,
             "Office Work"
            ],
            [
             "USD",
             50,
             "Hybrid"
            ],
            [
             "USD",
             100,
             "Office Work"
            ],
            [
             "USD",
             100,
             "Office Work"
            ],
            [
             "USD",
             100,
             "Office Work"
            ],
            [
             "EUR",
             50,
             "Hybrid"
            ],
            [
             "EUR",
             0,
             "Work From Home"
            ],
            [
             "USD",
             100,
             "Office Work"
            ],
            [
             "GBP",
             50,
             "Hybrid"
            ],
            [
             "EUR",
             100,
             "Office Work"
            ],
            [
             "GBP",
             100,
             "Office Work"
            ],
            [
             "USD",
             100,
             "Office Work"
            ],
            [
             "USD",
             100,
             "Office Work"
            ],
            [
             "EUR",
             50,
             "Hybrid"
            ],
            [
             "INR",
             0,
             "Work From Home"
            ],
            [
             "USD",
             100,
             "Office Work"
            ],
            [
             "DKK",
             50,
             "Hybrid"
            ],
            [
             "EUR",
             100,
             "Office Work"
            ],
            [
             "USD",
             100,
             "Office Work"
            ],
            [
             "EUR",
             100,
             "Office Work"
            ],
            [
             "EUR",
             100,
             "Office Work"
            ],
            [
             "USD",
             100,
             "Office Work"
            ],
            [
             "USD",
             50,
             "Hybrid"
            ],
            [
             "USD",
             100,
             "Office Work"
            ],
            [
             "USD",
             100,
             "Office Work"
            ],
            [
             "USD",
             100,
             "Office Work"
            ],
            [
             "EUR",
             50,
             "Hybrid"
            ],
            [
             "USD",
             100,
             "Office Work"
            ],
            [
             "EUR",
             100,
             "Office Work"
            ],
            [
             "EUR",
             50,
             "Hybrid"
            ],
            [
             "EUR",
             0,
             "Work From Home"
            ],
            [
             "USD",
             100,
             "Office Work"
            ],
            [
             "USD",
             100,
             "Office Work"
            ],
            [
             "EUR",
             0,
             "Work From Home"
            ],
            [
             "EUR",
             50,
             "Hybrid"
            ],
            [
             "EUR",
             50,
             "Hybrid"
            ]
           ],
           "geo": "geo",
           "hovertemplate": "<b>%{hovertext}</b><br><br>work_year=2020<br>company_country=%{location}<br>salary_currency=%{customdata[0]}<br>remote_ratio=%{z}<br>remote_ratio_num=%{customdata[2]}<extra></extra>",
           "hovertext": [
            "Germany",
            "Japan",
            "United Kingdom",
            "Honduras",
            "United States",
            "United States",
            "United States",
            "Hungary",
            "United States",
            "New Zealand",
            "France",
            "India",
            "France",
            "United States",
            "United States",
            "Pakistan",
            "Japan",
            "United Kingdom",
            "India",
            "United States",
            "China",
            "India",
            "Greece",
            "United States",
            "United Arab Emirates",
            "United States",
            "Netherlands",
            "Mexico",
            "United States",
            "Canada",
            "Germany",
            "United States",
            "United States",
            "United States",
            "France",
            "Austria",
            "United States",
            "United States",
            "Nigeria",
            "United States",
            "United States",
            "Spain",
            "Portugal",
            "United States",
            "United Kingdom",
            "Germany",
            "United Kingdom",
            "United States",
            "United States",
            "France",
            "India",
            "United States",
            "Denmark",
            "Germany",
            "United States",
            "Germany",
            "Spain",
            "United States",
            "United States",
            "United States",
            "United States",
            "United States",
            "Italy",
            "United States",
            "Croatia",
            "Germany",
            "Germany",
            "United States",
            "United States",
            "Austria",
            "Luxembourg",
            "France"
           ],
           "locationmode": "country names",
           "locations": [
            "Germany",
            "Japan",
            "United Kingdom",
            "Honduras",
            "United States",
            "United States",
            "United States",
            "Hungary",
            "United States",
            "New Zealand",
            "France",
            "India",
            "France",
            "United States",
            "United States",
            "Pakistan",
            "Japan",
            "United Kingdom",
            "India",
            "United States",
            "China",
            "India",
            "Greece",
            "United States",
            "United Arab Emirates",
            "United States",
            "Netherlands",
            "Mexico",
            "United States",
            "Canada",
            "Germany",
            "United States",
            "United States",
            "United States",
            "France",
            "Austria",
            "United States",
            "United States",
            "Nigeria",
            "United States",
            "United States",
            "Spain",
            "Portugal",
            "United States",
            "United Kingdom",
            "Germany",
            "United Kingdom",
            "United States",
            "United States",
            "France",
            "India",
            "United States",
            "Denmark",
            "Germany",
            "United States",
            "Germany",
            "Spain",
            "United States",
            "United States",
            "United States",
            "United States",
            "United States",
            "Italy",
            "United States",
            "Croatia",
            "Germany",
            "Germany",
            "United States",
            "United States",
            "Austria",
            "Luxembourg",
            "France"
           ],
           "name": "",
           "type": "choropleth",
           "z": [
            0,
            0,
            50,
            0,
            50,
            100,
            100,
            50,
            100,
            50,
            0,
            0,
            0,
            100,
            100,
            50,
            100,
            100,
            50,
            100,
            0,
            100,
            50,
            0,
            0,
            100,
            50,
            0,
            100,
            50,
            100,
            100,
            100,
            0,
            50,
            50,
            100,
            50,
            100,
            100,
            100,
            50,
            0,
            100,
            50,
            100,
            100,
            100,
            100,
            50,
            0,
            100,
            50,
            100,
            100,
            100,
            100,
            100,
            50,
            100,
            100,
            100,
            50,
            100,
            100,
            50,
            0,
            100,
            100,
            0,
            50,
            50
           ]
          }
         ],
         "name": "2020"
        },
        {
         "data": [
          {
           "coloraxis": "coloraxis",
           "customdata": [
            [
             "GBP",
             50,
             "Hybrid"
            ],
            [
             "USD",
             100,
             "Office Work"
            ],
            [
             "USD",
             100,
             "Office Work"
            ],
            [
             "EUR",
             50,
             "Hybrid"
            ],
            [
             "USD",
             100,
             "Office Work"
            ],
            [
             "INR",
             50,
             "Hybrid"
            ],
            [
             "USD",
             100,
             "Office Work"
            ],
            [
             "USD",
             100,
             "Office Work"
            ],
            [
             "EUR",
             100,
             "Office Work"
            ],
            [
             "USD",
             100,
             "Office Work"
            ],
            [
             "CAD",
             50,
             "Hybrid"
            ],
            [
             "EUR",
             100,
             "Office Work"
            ],
            [
             "EUR",
             100,
             "Office Work"
            ],
            [
             "PLN",
             100,
             "Office Work"
            ],
            [
             "EUR",
             50,
             "Hybrid"
            ],
            [
             "USD",
             100,
             "Office Work"
            ],
            [
             "USD",
             100,
             "Office Work"
            ],
            [
             "USD",
             100,
             "Office Work"
            ],
            [
             "EUR",
             100,
             "Office Work"
            ],
            [
             "EUR",
             100,
             "Office Work"
            ],
            [
             "INR",
             100,
             "Office Work"
            ],
            [
             "USD",
             0,
             "Work From Home"
            ],
            [
             "INR",
             50,
             "Hybrid"
            ],
            [
             "SGD",
             50,
             "Hybrid"
            ],
            [
             "USD",
             100,
             "Office Work"
            ],
            [
             "USD",
             100,
             "Office Work"
            ],
            [
             "USD",
             100,
             "Office Work"
            ],
            [
             "EUR",
             100,
             "Office Work"
            ],
            [
             "USD",
             0,
             "Work From Home"
            ],
            [
             "USD",
             100,
             "Office Work"
            ],
            [
             "HUF",
             50,
             "Hybrid"
            ],
            [
             "USD",
             0,
             "Work From Home"
            ],
            [
             "USD",
             0,
             "Work From Home"
            ],
            [
             "GBP",
             50,
             "Hybrid"
            ],
            [
             "CAD",
             100,
             "Office Work"
            ],
            [
             "USD",
             100,
             "Office Work"
            ],
            [
             "USD",
             100,
             "Office Work"
            ],
            [
             "INR",
             100,
             "Office Work"
            ],
            [
             "EUR",
             50,
             "Hybrid"
            ],
            [
             "GBP",
             100,
             "Office Work"
            ],
            [
             "GBP",
             100,
             "Office Work"
            ],
            [
             "USD",
             100,
             "Office Work"
            ],
            [
             "EUR",
             100,
             "Office Work"
            ],
            [
             "USD",
             100,
             "Office Work"
            ],
            [
             "USD",
             100,
             "Office Work"
            ],
            [
             "EUR",
             100,
             "Office Work"
            ],
            [
             "USD",
             100,
             "Office Work"
            ],
            [
             "USD",
             100,
             "Office Work"
            ],
            [
             "USD",
             50,
             "Hybrid"
            ],
            [
             "USD",
             100,
             "Office Work"
            ],
            [
             "USD",
             100,
             "Office Work"
            ],
            [
             "GBP",
             0,
             "Work From Home"
            ],
            [
             "EUR",
             50,
             "Hybrid"
            ],
            [
             "USD",
             100,
             "Office Work"
            ],
            [
             "USD",
             50,
             "Hybrid"
            ],
            [
             "INR",
             0,
             "Work From Home"
            ],
            [
             "USD",
             100,
             "Office Work"
            ],
            [
             "INR",
             50,
             "Hybrid"
            ],
            [
             "USD",
             50,
             "Hybrid"
            ],
            [
             "EUR",
             50,
             "Hybrid"
            ],
            [
             "USD",
             100,
             "Office Work"
            ],
            [
             "USD",
             100,
             "Office Work"
            ],
            [
             "USD",
             0,
             "Work From Home"
            ],
            [
             "USD",
             100,
             "Office Work"
            ],
            [
             "JPY",
             50,
             "Hybrid"
            ],
            [
             "JPY",
             50,
             "Hybrid"
            ],
            [
             "USD",
             0,
             "Work From Home"
            ],
            [
             "USD",
             100,
             "Office Work"
            ],
            [
             "USD",
             100,
             "Office Work"
            ],
            [
             "USD",
             0,
             "Work From Home"
            ],
            [
             "USD",
             0,
             "Work From Home"
            ],
            [
             "USD",
             100,
             "Office Work"
            ],
            [
             "USD",
             100,
             "Office Work"
            ],
            [
             "EUR",
             50,
             "Hybrid"
            ],
            [
             "EUR",
             50,
             "Hybrid"
            ],
            [
             "USD",
             100,
             "Office Work"
            ],
            [
             "USD",
             100,
             "Office Work"
            ],
            [
             "USD",
             100,
             "Office Work"
            ],
            [
             "USD",
             0,
             "Work From Home"
            ],
            [
             "USD",
             100,
             "Office Work"
            ],
            [
             "CAD",
             100,
             "Office Work"
            ],
            [
             "USD",
             100,
             "Office Work"
            ],
            [
             "USD",
             100,
             "Office Work"
            ],
            [
             "CAD",
             50,
             "Hybrid"
            ],
            [
             "SGD",
             100,
             "Office Work"
            ],
            [
             "USD",
             50,
             "Hybrid"
            ],
            [
             "USD",
             100,
             "Office Work"
            ],
            [
             "USD",
             100,
             "Office Work"
            ],
            [
             "USD",
             50,
             "Hybrid"
            ],
            [
             "USD",
             0,
             "Work From Home"
            ],
            [
             "EUR",
             50,
             "Hybrid"
            ],
            [
             "EUR",
             50,
             "Hybrid"
            ],
            [
             "EUR",
             50,
             "Hybrid"
            ],
            [
             "USD",
             100,
             "Office Work"
            ],
            [
             "USD",
             100,
             "Office Work"
            ],
            [
             "USD",
             0,
             "Work From Home"
            ],
            [
             "USD",
             50,
             "Hybrid"
            ],
            [
             "USD",
             100,
             "Office Work"
            ],
            [
             "USD",
             100,
             "Office Work"
            ],
            [
             "GBP",
             100,
             "Office Work"
            ],
            [
             "USD",
             100,
             "Office Work"
            ],
            [
             "USD",
             100,
             "Office Work"
            ],
            [
             "EUR",
             50,
             "Hybrid"
            ],
            [
             "USD",
             100,
             "Office Work"
            ],
            [
             "MXN",
             0,
             "Work From Home"
            ],
            [
             "CLP",
             100,
             "Office Work"
            ],
            [
             "USD",
             50,
             "Hybrid"
            ],
            [
             "INR",
             100,
             "Office Work"
            ],
            [
             "INR",
             0,
             "Work From Home"
            ],
            [
             "EUR",
             50,
             "Hybrid"
            ],
            [
             "EUR",
             0,
             "Work From Home"
            ],
            [
             "GBP",
             50,
             "Hybrid"
            ],
            [
             "USD",
             50,
             "Hybrid"
            ],
            [
             "USD",
             100,
             "Office Work"
            ],
            [
             "USD",
             100,
             "Office Work"
            ],
            [
             "EUR",
             100,
             "Office Work"
            ],
            [
             "EUR",
             50,
             "Hybrid"
            ],
            [
             "USD",
             50,
             "Hybrid"
            ],
            [
             "USD",
             100,
             "Office Work"
            ],
            [
             "USD",
             50,
             "Hybrid"
            ],
            [
             "USD",
             0,
             "Work From Home"
            ],
            [
             "USD",
             100,
             "Office Work"
            ],
            [
             "CAD",
             50,
             "Hybrid"
            ],
            [
             "USD",
             50,
             "Hybrid"
            ],
            [
             "USD",
             100,
             "Office Work"
            ],
            [
             "INR",
             100,
             "Office Work"
            ],
            [
             "INR",
             50,
             "Hybrid"
            ],
            [
             "USD",
             100,
             "Office Work"
            ],
            [
             "EUR",
             50,
             "Hybrid"
            ],
            [
             "USD",
             100,
             "Office Work"
            ],
            [
             "EUR",
             100,
             "Office Work"
            ],
            [
             "USD",
             100,
             "Office Work"
            ],
            [
             "USD",
             100,
             "Office Work"
            ],
            [
             "BRL",
             0,
             "Work From Home"
            ],
            [
             "USD",
             100,
             "Office Work"
            ],
            [
             "USD",
             0,
             "Work From Home"
            ],
            [
             "USD",
             0,
             "Work From Home"
            ],
            [
             "USD",
             0,
             "Work From Home"
            ],
            [
             "EUR",
             50,
             "Hybrid"
            ],
            [
             "EUR",
             50,
             "Hybrid"
            ],
            [
             "GBP",
             50,
             "Hybrid"
            ],
            [
             "INR",
             0,
             "Work From Home"
            ],
            [
             "EUR",
             50,
             "Hybrid"
            ],
            [
             "USD",
             100,
             "Office Work"
            ],
            [
             "DKK",
             50,
             "Hybrid"
            ],
            [
             "EUR",
             50,
             "Hybrid"
            ],
            [
             "EUR",
             100,
             "Office Work"
            ],
            [
             "USD",
             100,
             "Office Work"
            ],
            [
             "PLN",
             100,
             "Office Work"
            ],
            [
             "GBP",
             50,
             "Hybrid"
            ],
            [
             "INR",
             0,
             "Work From Home"
            ],
            [
             "GBP",
             50,
             "Hybrid"
            ],
            [
             "USD",
             100,
             "Office Work"
            ],
            [
             "USD",
             100,
             "Office Work"
            ],
            [
             "CAD",
             100,
             "Office Work"
            ],
            [
             "EUR",
             50,
             "Hybrid"
            ],
            [
             "USD",
             0,
             "Work From Home"
            ],
            [
             "CAD",
             100,
             "Office Work"
            ],
            [
             "INR",
             100,
             "Office Work"
            ],
            [
             "USD",
             100,
             "Office Work"
            ],
            [
             "USD",
             100,
             "Office Work"
            ],
            [
             "USD",
             100,
             "Office Work"
            ],
            [
             "USD",
             100,
             "Office Work"
            ],
            [
             "USD",
             0,
             "Work From Home"
            ],
            [
             "CAD",
             100,
             "Office Work"
            ],
            [
             "EUR",
             100,
             "Office Work"
            ],
            [
             "USD",
             0,
             "Work From Home"
            ],
            [
             "INR",
             50,
             "Hybrid"
            ],
            [
             "CAD",
             100,
             "Office Work"
            ],
            [
             "USD",
             100,
             "Office Work"
            ],
            [
             "USD",
             100,
             "Office Work"
            ],
            [
             "USD",
             100,
             "Office Work"
            ],
            [
             "INR",
             100,
             "Office Work"
            ],
            [
             "GBP",
             50,
             "Hybrid"
            ],
            [
             "EUR",
             50,
             "Hybrid"
            ],
            [
             "TRY",
             0,
             "Work From Home"
            ],
            [
             "GBP",
             50,
             "Hybrid"
            ],
            [
             "USD",
             100,
             "Office Work"
            ],
            [
             "USD",
             50,
             "Hybrid"
            ],
            [
             "USD",
             100,
             "Office Work"
            ],
            [
             "USD",
             100,
             "Office Work"
            ],
            [
             "INR",
             100,
             "Office Work"
            ],
            [
             "USD",
             100,
             "Office Work"
            ],
            [
             "CAD",
             50,
             "Hybrid"
            ],
            [
             "USD",
             100,
             "Office Work"
            ],
            [
             "EUR",
             100,
             "Office Work"
            ],
            [
             "USD",
             50,
             "Hybrid"
            ],
            [
             "EUR",
             0,
             "Work From Home"
            ],
            [
             "USD",
             50,
             "Hybrid"
            ],
            [
             "EUR",
             50,
             "Hybrid"
            ],
            [
             "INR",
             100,
             "Office Work"
            ],
            [
             "INR",
             0,
             "Work From Home"
            ],
            [
             "EUR",
             100,
             "Office Work"
            ],
            [
             "USD",
             50,
             "Hybrid"
            ],
            [
             "USD",
             0,
             "Work From Home"
            ],
            [
             "USD",
             0,
             "Work From Home"
            ],
            [
             "TRY",
             100,
             "Office Work"
            ],
            [
             "EUR",
             50,
             "Hybrid"
            ],
            [
             "USD",
             100,
             "Office Work"
            ],
            [
             "BRL",
             0,
             "Work From Home"
            ],
            [
             "EUR",
             0,
             "Work From Home"
            ],
            [
             "USD",
             100,
             "Office Work"
            ],
            [
             "EUR",
             50,
             "Hybrid"
            ],
            [
             "USD",
             100,
             "Office Work"
            ],
            [
             "USD",
             50,
             "Hybrid"
            ],
            [
             "USD",
             100,
             "Office Work"
            ],
            [
             "TRY",
             50,
             "Hybrid"
            ],
            [
             "EUR",
             100,
             "Office Work"
            ],
            [
             "USD",
             100,
             "Office Work"
            ],
            [
             "USD",
             0,
             "Work From Home"
            ],
            [
             "EUR",
             100,
             "Office Work"
            ],
            [
             "USD",
             100,
             "Office Work"
            ],
            [
             "USD",
             50,
             "Hybrid"
            ],
            [
             "INR",
             50,
             "Hybrid"
            ],
            [
             "EUR",
             100,
             "Office Work"
            ],
            [
             "USD",
             50,
             "Hybrid"
            ],
            [
             "EUR",
             50,
             "Hybrid"
            ]
           ],
           "geo": "geo",
           "hovertemplate": "<b>%{hovertext}</b><br><br>work_year=2021<br>company_country=%{location}<br>salary_currency=%{customdata[0]}<br>remote_ratio=%{z}<br>remote_ratio_num=%{customdata[2]}<extra></extra>",
           "hovertext": [
            "United Kingdom",
            "United States",
            "United States",
            "France",
            "United States",
            "India",
            "United States",
            "United States",
            "Germany",
            "United States",
            "Canada",
            "Spain",
            "Poland",
            "Poland",
            "France",
            "United States",
            "United States",
            "United States",
            "Denmark",
            "Germany",
            "India",
            "United States",
            "India",
            "Singapore",
            "United States",
            "United States",
            "United States",
            "United States",
            "United States",
            "United States",
            "United States",
            "United States",
            "United States",
            "United Kingdom",
            "Canada",
            "United States",
            "United States",
            "India",
            "Germany",
            "United Kingdom",
            "United Kingdom",
            "United States",
            "Netherlands",
            "United States",
            "Nigeria",
            "Greece",
            "United States",
            "United States",
            "Romania",
            "United States",
            "United States",
            "United Kingdom",
            "Spain",
            "United States",
            "United States",
            "India",
            "India",
            "India",
            "Iraq",
            "France",
            "United States",
            "Brazil",
            "United States",
            "United States",
            "Japan",
            "Japan",
            "United States",
            "United States",
            "United States",
            "United States",
            "United States",
            "United States",
            "United States",
            "Belgium",
            "France",
            "United States",
            "United States",
            "United States",
            "Japan",
            "United States",
            "Canada",
            "Ukraine",
            "United States",
            "Canada",
            "Israel",
            "United States",
            "United States",
            "United States",
            "Russia",
            "Russia",
            "Malta",
            "Germany",
            "Germany",
            "United States",
            "United States",
            "United States",
            "United States",
            "United States",
            "United States",
            "United Kingdom",
            "United States",
            "United States",
            "Portugal",
            "United States",
            "Mexico",
            "Chile",
            "United States",
            "United States",
            "India",
            "Germany",
            "United States",
            "United Kingdom",
            "Pakistan",
            "Iran",
            "United Kingdom",
            "Spain",
            "United Kingdom",
            "Japan",
            "France",
            "Colombia",
            "Moldova",
            "United States",
            "Canada",
            "United States",
            "Kenya",
            "India",
            "United States",
            "United States",
            "Austria",
            "United States",
            "Spain",
            "United States",
            "United States",
            "Brazil",
            "United States",
            "United States",
            "United States",
            "United States",
            "Slovenia",
            "France",
            "United Kingdom",
            "Switzerland",
            "Germany",
            "United States",
            "Denmark",
            "Germany",
            "Belgium",
            "United States",
            "Poland",
            "United Kingdom",
            "India",
            "United Kingdom",
            "Canada",
            "United States",
            "Canada",
            "Germany",
            "United States",
            "Canada",
            "India",
            "United States",
            "United States",
            "United States",
            "United States",
            "United States",
            "Canada",
            "Spain",
            "Vietnam",
            "India",
            "Canada",
            "United States",
            "United States",
            "United States",
            "American Samoa",
            "United Kingdom",
            "France",
            "Turkey",
            "United Kingdom",
            "United States",
            "United States",
            "United States",
            "United States",
            "India",
            "United States",
            "Canada",
            "United States",
            "Germany",
            "United States",
            "Germany",
            "United States",
            "Germany",
            "India",
            "India",
            "Germany",
            "United States",
            "United States",
            "United States",
            "Turkey",
            "Germany",
            "United States",
            "Brazil",
            "Germany",
            "Germany",
            "France",
            "United States",
            "United States",
            "Spain",
            "Turkey",
            "Luxembourg",
            "United States",
            "China",
            "Netherlands",
            "United States",
            "Czech Republic",
            "India",
            "Slovenia",
            "United States",
            "Italy"
           ],
           "locationmode": "country names",
           "locations": [
            "United Kingdom",
            "United States",
            "United States",
            "France",
            "United States",
            "India",
            "United States",
            "United States",
            "Germany",
            "United States",
            "Canada",
            "Spain",
            "Poland",
            "Poland",
            "France",
            "United States",
            "United States",
            "United States",
            "Denmark",
            "Germany",
            "India",
            "United States",
            "India",
            "Singapore",
            "United States",
            "United States",
            "United States",
            "United States",
            "United States",
            "United States",
            "United States",
            "United States",
            "United States",
            "United Kingdom",
            "Canada",
            "United States",
            "United States",
            "India",
            "Germany",
            "United Kingdom",
            "United Kingdom",
            "United States",
            "Netherlands",
            "United States",
            "Nigeria",
            "Greece",
            "United States",
            "United States",
            "Romania",
            "United States",
            "United States",
            "United Kingdom",
            "Spain",
            "United States",
            "United States",
            "India",
            "India",
            "India",
            "Iraq",
            "France",
            "United States",
            "Brazil",
            "United States",
            "United States",
            "Japan",
            "Japan",
            "United States",
            "United States",
            "United States",
            "United States",
            "United States",
            "United States",
            "United States",
            "Belgium",
            "France",
            "United States",
            "United States",
            "United States",
            "Japan",
            "United States",
            "Canada",
            "Ukraine",
            "United States",
            "Canada",
            "Israel",
            "United States",
            "United States",
            "United States",
            "Russia",
            "Russia",
            "Malta",
            "Germany",
            "Germany",
            "United States",
            "United States",
            "United States",
            "United States",
            "United States",
            "United States",
            "United Kingdom",
            "United States",
            "United States",
            "Portugal",
            "United States",
            "Mexico",
            "Chile",
            "United States",
            "United States",
            "India",
            "Germany",
            "United States",
            "United Kingdom",
            "Pakistan",
            "Iran",
            "United Kingdom",
            "Spain",
            "United Kingdom",
            "Japan",
            "France",
            "Colombia",
            "Moldova",
            "United States",
            "Canada",
            "United States",
            "Kenya",
            "India",
            "United States",
            "United States",
            "Austria",
            "United States",
            "Spain",
            "United States",
            "United States",
            "Brazil",
            "United States",
            "United States",
            "United States",
            "United States",
            "Slovenia",
            "France",
            "United Kingdom",
            "Switzerland",
            "Germany",
            "United States",
            "Denmark",
            "Germany",
            "Belgium",
            "United States",
            "Poland",
            "United Kingdom",
            "India",
            "United Kingdom",
            "Canada",
            "United States",
            "Canada",
            "Germany",
            "United States",
            "Canada",
            "India",
            "United States",
            "United States",
            "United States",
            "United States",
            "United States",
            "Canada",
            "Spain",
            "Vietnam",
            "India",
            "Canada",
            "United States",
            "United States",
            "United States",
            "American Samoa",
            "United Kingdom",
            "France",
            "Turkey",
            "United Kingdom",
            "United States",
            "United States",
            "United States",
            "United States",
            "India",
            "United States",
            "Canada",
            "United States",
            "Germany",
            "United States",
            "Germany",
            "United States",
            "Germany",
            "India",
            "India",
            "Germany",
            "United States",
            "United States",
            "United States",
            "Turkey",
            "Germany",
            "United States",
            "Brazil",
            "Germany",
            "Germany",
            "France",
            "United States",
            "United States",
            "Spain",
            "Turkey",
            "Luxembourg",
            "United States",
            "China",
            "Netherlands",
            "United States",
            "Czech Republic",
            "India",
            "Slovenia",
            "United States",
            "Italy"
           ],
           "name": "",
           "type": "choropleth",
           "z": [
            50,
            100,
            100,
            50,
            100,
            50,
            100,
            100,
            100,
            100,
            50,
            100,
            100,
            100,
            50,
            100,
            100,
            100,
            100,
            100,
            100,
            0,
            50,
            50,
            100,
            100,
            100,
            100,
            0,
            100,
            50,
            0,
            0,
            50,
            100,
            100,
            100,
            100,
            50,
            100,
            100,
            100,
            100,
            100,
            100,
            100,
            100,
            100,
            50,
            100,
            100,
            0,
            50,
            100,
            50,
            0,
            100,
            50,
            50,
            50,
            100,
            100,
            0,
            100,
            50,
            50,
            0,
            100,
            100,
            0,
            0,
            100,
            100,
            50,
            50,
            100,
            100,
            100,
            0,
            100,
            100,
            100,
            100,
            50,
            100,
            50,
            100,
            100,
            50,
            0,
            50,
            50,
            50,
            100,
            100,
            0,
            50,
            100,
            100,
            100,
            100,
            100,
            50,
            100,
            0,
            100,
            50,
            100,
            0,
            50,
            0,
            50,
            50,
            100,
            100,
            100,
            50,
            50,
            100,
            50,
            0,
            100,
            50,
            50,
            100,
            100,
            50,
            100,
            50,
            100,
            100,
            100,
            100,
            0,
            100,
            0,
            0,
            0,
            50,
            50,
            50,
            0,
            50,
            100,
            50,
            50,
            100,
            100,
            100,
            50,
            0,
            50,
            100,
            100,
            100,
            50,
            0,
            100,
            100,
            100,
            100,
            100,
            100,
            0,
            100,
            100,
            0,
            50,
            100,
            100,
            100,
            100,
            100,
            50,
            50,
            0,
            50,
            100,
            50,
            100,
            100,
            100,
            100,
            50,
            100,
            100,
            50,
            0,
            50,
            50,
            100,
            0,
            100,
            50,
            0,
            0,
            100,
            50,
            100,
            0,
            0,
            100,
            50,
            100,
            50,
            100,
            50,
            100,
            100,
            0,
            100,
            100,
            50,
            50,
            100,
            50,
            50
           ]
          }
         ],
         "name": "2021"
        },
        {
         "data": [
          {
           "coloraxis": "coloraxis",
           "customdata": [
            [
             "USD",
             100,
             "Office Work"
            ],
            [
             "USD",
             100,
             "Office Work"
            ],
            [
             "USD",
             100,
             "Office Work"
            ],
            [
             "USD",
             0,
             "Work From Home"
            ],
            [
             "USD",
             0,
             "Work From Home"
            ],
            [
             "USD",
             100,
             "Office Work"
            ],
            [
             "USD",
             100,
             "Office Work"
            ],
            [
             "USD",
             100,
             "Office Work"
            ],
            [
             "USD",
             100,
             "Office Work"
            ],
            [
             "USD",
             100,
             "Office Work"
            ],
            [
             "USD",
             100,
             "Office Work"
            ],
            [
             "GBP",
             0,
             "Work From Home"
            ],
            [
             "GBP",
             0,
             "Work From Home"
            ],
            [
             "USD",
             100,
             "Office Work"
            ],
            [
             "USD",
             100,
             "Office Work"
            ],
            [
             "GBP",
             100,
             "Office Work"
            ],
            [
             "USD",
             0,
             "Work From Home"
            ],
            [
             "USD",
             0,
             "Work From Home"
            ],
            [
             "USD",
             0,
             "Work From Home"
            ],
            [
             "USD",
             0,
             "Work From Home"
            ],
            [
             "USD",
             100,
             "Office Work"
            ],
            [
             "USD",
             100,
             "Office Work"
            ],
            [
             "GBP",
             0,
             "Work From Home"
            ],
            [
             "GBP",
             0,
             "Work From Home"
            ],
            [
             "GBP",
             0,
             "Work From Home"
            ],
            [
             "GBP",
             0,
             "Work From Home"
            ],
            [
             "USD",
             100,
             "Office Work"
            ],
            [
             "GBP",
             100,
             "Office Work"
            ],
            [
             "USD",
             100,
             "Office Work"
            ],
            [
             "USD",
             100,
             "Office Work"
            ],
            [
             "USD",
             0,
             "Work From Home"
            ],
            [
             "USD",
             0,
             "Work From Home"
            ],
            [
             "USD",
             0,
             "Work From Home"
            ],
            [
             "USD",
             0,
             "Work From Home"
            ],
            [
             "USD",
             0,
             "Work From Home"
            ],
            [
             "USD",
             0,
             "Work From Home"
            ],
            [
             "USD",
             100,
             "Office Work"
            ],
            [
             "USD",
             100,
             "Office Work"
            ],
            [
             "USD",
             100,
             "Office Work"
            ],
            [
             "USD",
             100,
             "Office Work"
            ],
            [
             "USD",
             100,
             "Office Work"
            ],
            [
             "USD",
             100,
             "Office Work"
            ],
            [
             "USD",
             100,
             "Office Work"
            ],
            [
             "USD",
             100,
             "Office Work"
            ],
            [
             "USD",
             100,
             "Office Work"
            ],
            [
             "USD",
             100,
             "Office Work"
            ],
            [
             "USD",
             100,
             "Office Work"
            ],
            [
             "USD",
             100,
             "Office Work"
            ],
            [
             "USD",
             100,
             "Office Work"
            ],
            [
             "USD",
             100,
             "Office Work"
            ],
            [
             "USD",
             100,
             "Office Work"
            ],
            [
             "USD",
             100,
             "Office Work"
            ],
            [
             "USD",
             100,
             "Office Work"
            ],
            [
             "USD",
             100,
             "Office Work"
            ],
            [
             "USD",
             100,
             "Office Work"
            ],
            [
             "USD",
             100,
             "Office Work"
            ],
            [
             "USD",
             100,
             "Office Work"
            ],
            [
             "USD",
             0,
             "Work From Home"
            ],
            [
             "USD",
             0,
             "Work From Home"
            ],
            [
             "USD",
             0,
             "Work From Home"
            ],
            [
             "USD",
             100,
             "Office Work"
            ],
            [
             "USD",
             100,
             "Office Work"
            ],
            [
             "USD",
             100,
             "Office Work"
            ],
            [
             "USD",
             100,
             "Office Work"
            ],
            [
             "USD",
             100,
             "Office Work"
            ],
            [
             "GBP",
             0,
             "Work From Home"
            ],
            [
             "GBP",
             0,
             "Work From Home"
            ],
            [
             "USD",
             0,
             "Work From Home"
            ],
            [
             "USD",
             100,
             "Office Work"
            ],
            [
             "USD",
             100,
             "Office Work"
            ],
            [
             "USD",
             100,
             "Office Work"
            ],
            [
             "USD",
             100,
             "Office Work"
            ],
            [
             "USD",
             100,
             "Office Work"
            ],
            [
             "USD",
             100,
             "Office Work"
            ],
            [
             "USD",
             100,
             "Office Work"
            ],
            [
             "USD",
             0,
             "Work From Home"
            ],
            [
             "USD",
             100,
             "Office Work"
            ],
            [
             "USD",
             0,
             "Work From Home"
            ],
            [
             "USD",
             0,
             "Work From Home"
            ],
            [
             "USD",
             100,
             "Office Work"
            ],
            [
             "USD",
             100,
             "Office Work"
            ],
            [
             "USD",
             100,
             "Office Work"
            ],
            [
             "USD",
             0,
             "Work From Home"
            ],
            [
             "USD",
             0,
             "Work From Home"
            ],
            [
             "EUR",
             0,
             "Work From Home"
            ],
            [
             "EUR",
             0,
             "Work From Home"
            ],
            [
             "CAD",
             100,
             "Office Work"
            ],
            [
             "USD",
             0,
             "Work From Home"
            ],
            [
             "USD",
             100,
             "Office Work"
            ],
            [
             "USD",
             100,
             "Office Work"
            ],
            [
             "USD",
             100,
             "Office Work"
            ],
            [
             "USD",
             100,
             "Office Work"
            ],
            [
             "USD",
             100,
             "Office Work"
            ],
            [
             "USD",
             100,
             "Office Work"
            ],
            [
             "USD",
             100,
             "Office Work"
            ],
            [
             "INR",
             50,
             "Hybrid"
            ],
            [
             "USD",
             100,
             "Office Work"
            ],
            [
             "GBP",
             100,
             "Office Work"
            ],
            [
             "USD",
             0,
             "Work From Home"
            ],
            [
             "USD",
             100,
             "Office Work"
            ],
            [
             "GBP",
             0,
             "Work From Home"
            ],
            [
             "GBP",
             0,
             "Work From Home"
            ],
            [
             "USD",
             0,
             "Work From Home"
            ],
            [
             "USD",
             100,
             "Office Work"
            ],
            [
             "USD",
             100,
             "Office Work"
            ],
            [
             "USD",
             100,
             "Office Work"
            ],
            [
             "USD",
             100,
             "Office Work"
            ],
            [
             "EUR",
             100,
             "Office Work"
            ],
            [
             "GBP",
             0,
             "Work From Home"
            ],
            [
             "USD",
             100,
             "Office Work"
            ],
            [
             "USD",
             100,
             "Office Work"
            ],
            [
             "USD",
             100,
             "Office Work"
            ],
            [
             "USD",
             100,
             "Office Work"
            ],
            [
             "USD",
             0,
             "Work From Home"
            ],
            [
             "USD",
             0,
             "Work From Home"
            ],
            [
             "USD",
             100,
             "Office Work"
            ],
            [
             "GBP",
             0,
             "Work From Home"
            ],
            [
             "USD",
             0,
             "Work From Home"
            ],
            [
             "USD",
             100,
             "Office Work"
            ],
            [
             "GBP",
             100,
             "Office Work"
            ],
            [
             "USD",
             100,
             "Office Work"
            ],
            [
             "GBP",
             0,
             "Work From Home"
            ],
            [
             "GBP",
             0,
             "Work From Home"
            ],
            [
             "EUR",
             100,
             "Office Work"
            ],
            [
             "EUR",
             100,
             "Office Work"
            ],
            [
             "GBP",
             100,
             "Office Work"
            ],
            [
             "GBP",
             100,
             "Office Work"
            ],
            [
             "USD",
             100,
             "Office Work"
            ],
            [
             "USD",
             100,
             "Office Work"
            ],
            [
             "USD",
             0,
             "Work From Home"
            ],
            [
             "USD",
             100,
             "Office Work"
            ],
            [
             "USD",
             100,
             "Office Work"
            ],
            [
             "USD",
             100,
             "Office Work"
            ],
            [
             "USD",
             100,
             "Office Work"
            ],
            [
             "USD",
             0,
             "Work From Home"
            ],
            [
             "USD",
             0,
             "Work From Home"
            ],
            [
             "USD",
             0,
             "Work From Home"
            ],
            [
             "USD",
             100,
             "Office Work"
            ],
            [
             "EUR",
             100,
             "Office Work"
            ],
            [
             "USD",
             0,
             "Work From Home"
            ],
            [
             "GBP",
             100,
             "Office Work"
            ],
            [
             "EUR",
             100,
             "Office Work"
            ],
            [
             "EUR",
             100,
             "Office Work"
            ],
            [
             "EUR",
             100,
             "Office Work"
            ],
            [
             "EUR",
             100,
             "Office Work"
            ],
            [
             "GBP",
             100,
             "Office Work"
            ],
            [
             "GBP",
             100,
             "Office Work"
            ],
            [
             "EUR",
             100,
             "Office Work"
            ],
            [
             "EUR",
             100,
             "Office Work"
            ],
            [
             "USD",
             0,
             "Work From Home"
            ],
            [
             "USD",
             0,
             "Work From Home"
            ],
            [
             "EUR",
             100,
             "Office Work"
            ],
            [
             "EUR",
             100,
             "Office Work"
            ],
            [
             "GBP",
             100,
             "Office Work"
            ],
            [
             "GBP",
             100,
             "Office Work"
            ],
            [
             "USD",
             0,
             "Work From Home"
            ],
            [
             "EUR",
             100,
             "Office Work"
            ],
            [
             "USD",
             100,
             "Office Work"
            ],
            [
             "USD",
             100,
             "Office Work"
            ],
            [
             "USD",
             100,
             "Office Work"
            ],
            [
             "EUR",
             100,
             "Office Work"
            ],
            [
             "USD",
             100,
             "Office Work"
            ],
            [
             "CAD",
             100,
             "Office Work"
            ],
            [
             "CAD",
             50,
             "Hybrid"
            ],
            [
             "USD",
             100,
             "Office Work"
            ],
            [
             "USD",
             0,
             "Work From Home"
            ],
            [
             "CNY",
             50,
             "Hybrid"
            ],
            [
             "USD",
             100,
             "Office Work"
            ],
            [
             "EUR",
             0,
             "Work From Home"
            ],
            [
             "INR",
             100,
             "Office Work"
            ],
            [
             "INR",
             100,
             "Office Work"
            ],
            [
             "EUR",
             50,
             "Hybrid"
            ],
            [
             "USD",
             50,
             "Hybrid"
            ],
            [
             "EUR",
             50,
             "Hybrid"
            ],
            [
             "INR",
             100,
             "Office Work"
            ],
            [
             "EUR",
             100,
             "Office Work"
            ],
            [
             "USD",
             100,
             "Office Work"
            ],
            [
             "USD",
             50,
             "Hybrid"
            ],
            [
             "USD",
             100,
             "Office Work"
            ],
            [
             "USD",
             100,
             "Office Work"
            ],
            [
             "USD",
             100,
             "Office Work"
            ],
            [
             "USD",
             100,
             "Office Work"
            ],
            [
             "USD",
             100,
             "Office Work"
            ],
            [
             "USD",
             100,
             "Office Work"
            ],
            [
             "USD",
             100,
             "Office Work"
            ],
            [
             "GBP",
             0,
             "Work From Home"
            ],
            [
             "GBP",
             0,
             "Work From Home"
            ],
            [
             "USD",
             100,
             "Office Work"
            ],
            [
             "USD",
             100,
             "Office Work"
            ],
            [
             "USD",
             100,
             "Office Work"
            ],
            [
             "USD",
             100,
             "Office Work"
            ],
            [
             "USD",
             100,
             "Office Work"
            ],
            [
             "USD",
             100,
             "Office Work"
            ],
            [
             "USD",
             100,
             "Office Work"
            ],
            [
             "USD",
             100,
             "Office Work"
            ],
            [
             "USD",
             100,
             "Office Work"
            ],
            [
             "USD",
             100,
             "Office Work"
            ],
            [
             "USD",
             100,
             "Office Work"
            ],
            [
             "USD",
             50,
             "Hybrid"
            ],
            [
             "USD",
             100,
             "Office Work"
            ],
            [
             "EUR",
             100,
             "Office Work"
            ],
            [
             "USD",
             100,
             "Office Work"
            ],
            [
             "USD",
             100,
             "Office Work"
            ],
            [
             "PLN",
             100,
             "Office Work"
            ],
            [
             "CAD",
             100,
             "Office Work"
            ],
            [
             "USD",
             100,
             "Office Work"
            ],
            [
             "USD",
             50,
             "Hybrid"
            ],
            [
             "EUR",
             100,
             "Office Work"
            ],
            [
             "USD",
             100,
             "Office Work"
            ],
            [
             "EUR",
             50,
             "Hybrid"
            ],
            [
             "CAD",
             100,
             "Office Work"
            ],
            [
             "EUR",
             100,
             "Office Work"
            ],
            [
             "EUR",
             100,
             "Office Work"
            ],
            [
             "USD",
             100,
             "Office Work"
            ],
            [
             "AUD",
             100,
             "Office Work"
            ],
            [
             "USD",
             100,
             "Office Work"
            ],
            [
             "AUD",
             50,
             "Hybrid"
            ],
            [
             "USD",
             100,
             "Office Work"
            ],
            [
             "EUR",
             0,
             "Work From Home"
            ],
            [
             "USD",
             100,
             "Office Work"
            ],
            [
             "USD",
             100,
             "Office Work"
            ],
            [
             "USD",
             100,
             "Office Work"
            ],
            [
             "CAD",
             50,
             "Hybrid"
            ],
            [
             "USD",
             100,
             "Office Work"
            ],
            [
             "EUR",
             100,
             "Office Work"
            ],
            [
             "USD",
             0,
             "Work From Home"
            ],
            [
             "USD",
             100,
             "Office Work"
            ],
            [
             "USD",
             100,
             "Office Work"
            ],
            [
             "EUR",
             100,
             "Office Work"
            ],
            [
             "CHF",
             0,
             "Work From Home"
            ],
            [
             "USD",
             100,
             "Office Work"
            ],
            [
             "CAD",
             100,
             "Office Work"
            ],
            [
             "USD",
             100,
             "Office Work"
            ],
            [
             "USD",
             100,
             "Office Work"
            ],
            [
             "USD",
             100,
             "Office Work"
            ],
            [
             "USD",
             100,
             "Office Work"
            ],
            [
             "USD",
             100,
             "Office Work"
            ],
            [
             "USD",
             100,
             "Office Work"
            ],
            [
             "USD",
             100,
             "Office Work"
            ],
            [
             "USD",
             100,
             "Office Work"
            ],
            [
             "USD",
             100,
             "Office Work"
            ],
            [
             "USD",
             0,
             "Work From Home"
            ],
            [
             "USD",
             0,
             "Work From Home"
            ],
            [
             "USD",
             100,
             "Office Work"
            ],
            [
             "USD",
             100,
             "Office Work"
            ],
            [
             "USD",
             100,
             "Office Work"
            ],
            [
             "USD",
             100,
             "Office Work"
            ],
            [
             "USD",
             100,
             "Office Work"
            ],
            [
             "USD",
             100,
             "Office Work"
            ],
            [
             "USD",
             0,
             "Work From Home"
            ],
            [
             "USD",
             0,
             "Work From Home"
            ],
            [
             "USD",
             100,
             "Office Work"
            ],
            [
             "USD",
             100,
             "Office Work"
            ],
            [
             "USD",
             0,
             "Work From Home"
            ],
            [
             "USD",
             0,
             "Work From Home"
            ],
            [
             "USD",
             100,
             "Office Work"
            ],
            [
             "USD",
             100,
             "Office Work"
            ],
            [
             "USD",
             100,
             "Office Work"
            ],
            [
             "USD",
             100,
             "Office Work"
            ],
            [
             "USD",
             100,
             "Office Work"
            ],
            [
             "USD",
             100,
             "Office Work"
            ],
            [
             "USD",
             0,
             "Work From Home"
            ],
            [
             "USD",
             0,
             "Work From Home"
            ],
            [
             "USD",
             100,
             "Office Work"
            ],
            [
             "USD",
             100,
             "Office Work"
            ],
            [
             "USD",
             100,
             "Office Work"
            ],
            [
             "USD",
             100,
             "Office Work"
            ],
            [
             "USD",
             100,
             "Office Work"
            ],
            [
             "USD",
             0,
             "Work From Home"
            ],
            [
             "USD",
             0,
             "Work From Home"
            ],
            [
             "USD",
             0,
             "Work From Home"
            ],
            [
             "USD",
             0,
             "Work From Home"
            ],
            [
             "USD",
             0,
             "Work From Home"
            ],
            [
             "USD",
             100,
             "Office Work"
            ],
            [
             "USD",
             100,
             "Office Work"
            ],
            [
             "USD",
             100,
             "Office Work"
            ],
            [
             "USD",
             0,
             "Work From Home"
            ],
            [
             "USD",
             100,
             "Office Work"
            ],
            [
             "GBP",
             0,
             "Work From Home"
            ],
            [
             "USD",
             100,
             "Office Work"
            ],
            [
             "USD",
             100,
             "Office Work"
            ],
            [
             "USD",
             100,
             "Office Work"
            ],
            [
             "USD",
             100,
             "Office Work"
            ],
            [
             "USD",
             100,
             "Office Work"
            ],
            [
             "USD",
             100,
             "Office Work"
            ],
            [
             "USD",
             100,
             "Office Work"
            ],
            [
             "USD",
             100,
             "Office Work"
            ],
            [
             "USD",
             100,
             "Office Work"
            ],
            [
             "USD",
             100,
             "Office Work"
            ],
            [
             "USD",
             100,
             "Office Work"
            ],
            [
             "USD",
             100,
             "Office Work"
            ],
            [
             "USD",
             100,
             "Office Work"
            ],
            [
             "USD",
             100,
             "Office Work"
            ],
            [
             "USD",
             100,
             "Office Work"
            ],
            [
             "USD",
             100,
             "Office Work"
            ],
            [
             "USD",
             100,
             "Office Work"
            ],
            [
             "USD",
             100,
             "Office Work"
            ],
            [
             "GBP",
             0,
             "Work From Home"
            ],
            [
             "USD",
             100,
             "Office Work"
            ],
            [
             "USD",
             0,
             "Work From Home"
            ],
            [
             "USD",
             100,
             "Office Work"
            ],
            [
             "USD",
             100,
             "Office Work"
            ],
            [
             "USD",
             100,
             "Office Work"
            ],
            [
             "USD",
             100,
             "Office Work"
            ],
            [
             "USD",
             100,
             "Office Work"
            ],
            [
             "USD",
             100,
             "Office Work"
            ],
            [
             "USD",
             100,
             "Office Work"
            ],
            [
             "USD",
             100,
             "Office Work"
            ],
            [
             "USD",
             100,
             "Office Work"
            ],
            [
             "USD",
             100,
             "Office Work"
            ],
            [
             "USD",
             100,
             "Office Work"
            ],
            [
             "USD",
             0,
             "Work From Home"
            ],
            [
             "USD",
             0,
             "Work From Home"
            ],
            [
             "USD",
             100,
             "Office Work"
            ],
            [
             "USD",
             100,
             "Office Work"
            ],
            [
             "USD",
             0,
             "Work From Home"
            ],
            [
             "USD",
             100,
             "Office Work"
            ],
            [
             "USD",
             100,
             "Office Work"
            ]
           ],
           "geo": "geo",
           "hovertemplate": "<b>%{hovertext}</b><br><br>work_year=2022<br>company_country=%{location}<br>salary_currency=%{customdata[0]}<br>remote_ratio=%{z}<br>remote_ratio_num=%{customdata[2]}<extra></extra>",
           "hovertext": [
            "United States",
            "United States",
            "United States",
            "United States",
            "United States",
            "United States",
            "United States",
            "United States",
            "United States",
            "United States",
            "United States",
            "United Kingdom",
            "United Kingdom",
            "United States",
            "United States",
            "United Kingdom",
            "United States",
            "United States",
            "United States",
            "United States",
            "United States",
            "United States",
            "United Kingdom",
            "United Kingdom",
            "United Kingdom",
            "United Kingdom",
            "United States",
            "United Kingdom",
            "United States",
            "United States",
            "United States",
            "United States",
            "United States",
            "United States",
            "United States",
            "United States",
            "United States",
            "United States",
            "United States",
            "United States",
            "United States",
            "United States",
            "United States",
            "United States",
            "United States",
            "United States",
            "United States",
            "United States",
            "United States",
            "United States",
            "United States",
            "United States",
            "United States",
            "United States",
            "United States",
            "United States",
            "United States",
            "United States",
            "United States",
            "United States",
            "United States",
            "United States",
            "United States",
            "United States",
            "United States",
            "United Kingdom",
            "United Kingdom",
            "United States",
            "United States",
            "Canada",
            "Canada",
            "Canada",
            "Canada",
            "Canada",
            "Canada",
            "United States",
            "United States",
            "United States",
            "United States",
            "United States",
            "United States",
            "United States",
            "United States",
            "United States",
            "Greece",
            "Greece",
            "Canada",
            "United States",
            "United States",
            "United States",
            "United States",
            "United States",
            "United States",
            "United States",
            "United States",
            "India",
            "United States",
            "United Kingdom",
            "United States",
            "United States",
            "United Kingdom",
            "United Kingdom",
            "United States",
            "United States",
            "United States",
            "United States",
            "United States",
            "Germany",
            "United Kingdom",
            "United States",
            "United States",
            "United States",
            "United States",
            "United States",
            "United States",
            "United States",
            "United Kingdom",
            "United States",
            "United States",
            "United Kingdom",
            "United States",
            "United Kingdom",
            "United Kingdom",
            "Greece",
            "Greece",
            "United Kingdom",
            "United Kingdom",
            "United States",
            "Mexico",
            "United States",
            "United States",
            "United States",
            "United States",
            "United States",
            "United States",
            "United States",
            "United States",
            "United States",
            "Spain",
            "United States",
            "United Kingdom",
            "Spain",
            "Spain",
            "Spain",
            "Spain",
            "United Kingdom",
            "United Kingdom",
            "Spain",
            "Greece",
            "United States",
            "United States",
            "Greece",
            "Greece",
            "United Kingdom",
            "United Kingdom",
            "United States",
            "Greece",
            "United States",
            "United States",
            "United States",
            "Portugal",
            "United States",
            "Canada",
            "Canada",
            "United States",
            "United States",
            "United States",
            "United States",
            "Germany",
            "India",
            "India",
            "Portugal",
            "United States",
            "Germany",
            "India",
            "Germany",
            "United States",
            "United States",
            "United States",
            "United States",
            "United States",
            "United States",
            "United States",
            "United States",
            "United States",
            "United Kingdom",
            "United Kingdom",
            "United States",
            "United States",
            "United States",
            "United States",
            "United Arab Emirates",
            "United Arab Emirates",
            "United States",
            "United States",
            "United States",
            "United States",
            "United States",
            "Algeria",
            "United States",
            "Czech Republic",
            "United States",
            "Canada",
            "Poland",
            "Canada",
            "United States",
            "United States",
            "Germany",
            "United States",
            "France",
            "Canada",
            "Netherlands",
            "Estonia",
            "Malaysia",
            "Australia",
            "United States",
            "Australia",
            "United States",
            "Austria",
            "United States",
            "United States",
            "Australia",
            "Canada",
            "United States",
            "Ireland",
            "Pakistan",
            "United States",
            "United States",
            "France",
            "Switzerland",
            "United States",
            "Canada",
            "Luxembourg",
            "Greece",
            "United States",
            "United States",
            "United States",
            "United States",
            "United States",
            "United States",
            "United States",
            "Canada",
            "Canada",
            "United States",
            "United States",
            "United States",
            "United States",
            "United States",
            "United States",
            "United States",
            "United States",
            "United States",
            "United States",
            "United States",
            "United States",
            "United States",
            "United States",
            "United States",
            "United States",
            "United States",
            "United States",
            "United States",
            "United States",
            "United States",
            "United States",
            "United States",
            "United States",
            "United States",
            "United States",
            "United States",
            "United States",
            "United States",
            "United States",
            "United States",
            "United States",
            "United States",
            "United States",
            "United States",
            "United Kingdom",
            "United States",
            "United States",
            "United States",
            "United States",
            "United States",
            "United States",
            "United States",
            "United States",
            "United States",
            "United States",
            "United States",
            "United States",
            "United States",
            "United States",
            "United States",
            "United States",
            "United States",
            "United States",
            "United Kingdom",
            "United States",
            "United States",
            "United States",
            "United States",
            "United States",
            "United States",
            "United States",
            "United States",
            "United States",
            "United States",
            "United States",
            "United States",
            "United States",
            "Canada",
            "Canada",
            "United States",
            "United States",
            "United States",
            "United States",
            "United States"
           ],
           "locationmode": "country names",
           "locations": [
            "United States",
            "United States",
            "United States",
            "United States",
            "United States",
            "United States",
            "United States",
            "United States",
            "United States",
            "United States",
            "United States",
            "United Kingdom",
            "United Kingdom",
            "United States",
            "United States",
            "United Kingdom",
            "United States",
            "United States",
            "United States",
            "United States",
            "United States",
            "United States",
            "United Kingdom",
            "United Kingdom",
            "United Kingdom",
            "United Kingdom",
            "United States",
            "United Kingdom",
            "United States",
            "United States",
            "United States",
            "United States",
            "United States",
            "United States",
            "United States",
            "United States",
            "United States",
            "United States",
            "United States",
            "United States",
            "United States",
            "United States",
            "United States",
            "United States",
            "United States",
            "United States",
            "United States",
            "United States",
            "United States",
            "United States",
            "United States",
            "United States",
            "United States",
            "United States",
            "United States",
            "United States",
            "United States",
            "United States",
            "United States",
            "United States",
            "United States",
            "United States",
            "United States",
            "United States",
            "United States",
            "United Kingdom",
            "United Kingdom",
            "United States",
            "United States",
            "Canada",
            "Canada",
            "Canada",
            "Canada",
            "Canada",
            "Canada",
            "United States",
            "United States",
            "United States",
            "United States",
            "United States",
            "United States",
            "United States",
            "United States",
            "United States",
            "Greece",
            "Greece",
            "Canada",
            "United States",
            "United States",
            "United States",
            "United States",
            "United States",
            "United States",
            "United States",
            "United States",
            "India",
            "United States",
            "United Kingdom",
            "United States",
            "United States",
            "United Kingdom",
            "United Kingdom",
            "United States",
            "United States",
            "United States",
            "United States",
            "United States",
            "Germany",
            "United Kingdom",
            "United States",
            "United States",
            "United States",
            "United States",
            "United States",
            "United States",
            "United States",
            "United Kingdom",
            "United States",
            "United States",
            "United Kingdom",
            "United States",
            "United Kingdom",
            "United Kingdom",
            "Greece",
            "Greece",
            "United Kingdom",
            "United Kingdom",
            "United States",
            "Mexico",
            "United States",
            "United States",
            "United States",
            "United States",
            "United States",
            "United States",
            "United States",
            "United States",
            "United States",
            "Spain",
            "United States",
            "United Kingdom",
            "Spain",
            "Spain",
            "Spain",
            "Spain",
            "United Kingdom",
            "United Kingdom",
            "Spain",
            "Greece",
            "United States",
            "United States",
            "Greece",
            "Greece",
            "United Kingdom",
            "United Kingdom",
            "United States",
            "Greece",
            "United States",
            "United States",
            "United States",
            "Portugal",
            "United States",
            "Canada",
            "Canada",
            "United States",
            "United States",
            "United States",
            "United States",
            "Germany",
            "India",
            "India",
            "Portugal",
            "United States",
            "Germany",
            "India",
            "Germany",
            "United States",
            "United States",
            "United States",
            "United States",
            "United States",
            "United States",
            "United States",
            "United States",
            "United States",
            "United Kingdom",
            "United Kingdom",
            "United States",
            "United States",
            "United States",
            "United States",
            "United Arab Emirates",
            "United Arab Emirates",
            "United States",
            "United States",
            "United States",
            "United States",
            "United States",
            "Algeria",
            "United States",
            "Czech Republic",
            "United States",
            "Canada",
            "Poland",
            "Canada",
            "United States",
            "United States",
            "Germany",
            "United States",
            "France",
            "Canada",
            "Netherlands",
            "Estonia",
            "Malaysia",
            "Australia",
            "United States",
            "Australia",
            "United States",
            "Austria",
            "United States",
            "United States",
            "Australia",
            "Canada",
            "United States",
            "Ireland",
            "Pakistan",
            "United States",
            "United States",
            "France",
            "Switzerland",
            "United States",
            "Canada",
            "Luxembourg",
            "Greece",
            "United States",
            "United States",
            "United States",
            "United States",
            "United States",
            "United States",
            "United States",
            "Canada",
            "Canada",
            "United States",
            "United States",
            "United States",
            "United States",
            "United States",
            "United States",
            "United States",
            "United States",
            "United States",
            "United States",
            "United States",
            "United States",
            "United States",
            "United States",
            "United States",
            "United States",
            "United States",
            "United States",
            "United States",
            "United States",
            "United States",
            "United States",
            "United States",
            "United States",
            "United States",
            "United States",
            "United States",
            "United States",
            "United States",
            "United States",
            "United States",
            "United States",
            "United States",
            "United States",
            "United States",
            "United Kingdom",
            "United States",
            "United States",
            "United States",
            "United States",
            "United States",
            "United States",
            "United States",
            "United States",
            "United States",
            "United States",
            "United States",
            "United States",
            "United States",
            "United States",
            "United States",
            "United States",
            "United States",
            "United States",
            "United Kingdom",
            "United States",
            "United States",
            "United States",
            "United States",
            "United States",
            "United States",
            "United States",
            "United States",
            "United States",
            "United States",
            "United States",
            "United States",
            "United States",
            "Canada",
            "Canada",
            "United States",
            "United States",
            "United States",
            "United States",
            "United States"
           ],
           "name": "",
           "type": "choropleth",
           "z": [
            100,
            100,
            100,
            0,
            0,
            100,
            100,
            100,
            100,
            100,
            100,
            0,
            0,
            100,
            100,
            100,
            0,
            0,
            0,
            0,
            100,
            100,
            0,
            0,
            0,
            0,
            100,
            100,
            100,
            100,
            0,
            0,
            0,
            0,
            0,
            0,
            100,
            100,
            100,
            100,
            100,
            100,
            100,
            100,
            100,
            100,
            100,
            100,
            100,
            100,
            100,
            100,
            100,
            100,
            100,
            100,
            100,
            0,
            0,
            0,
            100,
            100,
            100,
            100,
            100,
            0,
            0,
            0,
            100,
            100,
            100,
            100,
            100,
            100,
            100,
            0,
            100,
            0,
            0,
            100,
            100,
            100,
            0,
            0,
            0,
            0,
            100,
            0,
            100,
            100,
            100,
            100,
            100,
            100,
            100,
            50,
            100,
            100,
            0,
            100,
            0,
            0,
            0,
            100,
            100,
            100,
            100,
            100,
            0,
            100,
            100,
            100,
            100,
            0,
            0,
            100,
            0,
            0,
            100,
            100,
            100,
            0,
            0,
            100,
            100,
            100,
            100,
            100,
            100,
            0,
            100,
            100,
            100,
            100,
            0,
            0,
            0,
            100,
            100,
            0,
            100,
            100,
            100,
            100,
            100,
            100,
            100,
            100,
            100,
            0,
            0,
            100,
            100,
            100,
            100,
            0,
            100,
            100,
            100,
            100,
            100,
            100,
            100,
            50,
            100,
            0,
            50,
            100,
            0,
            100,
            100,
            50,
            50,
            50,
            100,
            100,
            100,
            50,
            100,
            100,
            100,
            100,
            100,
            100,
            100,
            0,
            0,
            100,
            100,
            100,
            100,
            100,
            100,
            100,
            100,
            100,
            100,
            100,
            50,
            100,
            100,
            100,
            100,
            100,
            100,
            100,
            50,
            100,
            100,
            50,
            100,
            100,
            100,
            100,
            100,
            100,
            50,
            100,
            0,
            100,
            100,
            100,
            50,
            100,
            100,
            0,
            100,
            100,
            100,
            0,
            100,
            100,
            100,
            100,
            100,
            100,
            100,
            100,
            100,
            100,
            100,
            0,
            0,
            100,
            100,
            100,
            100,
            100,
            100,
            0,
            0,
            100,
            100,
            0,
            0,
            100,
            100,
            100,
            100,
            100,
            100,
            0,
            0,
            100,
            100,
            100,
            100,
            100,
            0,
            0,
            0,
            0,
            0,
            100,
            100,
            100,
            0,
            100,
            0,
            100,
            100,
            100,
            100,
            100,
            100,
            100,
            100,
            100,
            100,
            100,
            100,
            100,
            100,
            100,
            100,
            100,
            100,
            0,
            100,
            0,
            100,
            100,
            100,
            100,
            100,
            100,
            100,
            100,
            100,
            100,
            100,
            0,
            0,
            100,
            100,
            0,
            100,
            100
           ]
          }
         ],
         "name": "2022"
        }
       ],
       "layout": {
        "coloraxis": {
         "colorbar": {
          "title": {
           "text": "remote_ratio"
          }
         },
         "colorscale": [
          [
           0,
           "rgb(255,247,236)"
          ],
          [
           0.125,
           "rgb(254,232,200)"
          ],
          [
           0.25,
           "rgb(253,212,158)"
          ],
          [
           0.375,
           "rgb(253,187,132)"
          ],
          [
           0.5,
           "rgb(252,141,89)"
          ],
          [
           0.625,
           "rgb(239,101,72)"
          ],
          [
           0.75,
           "rgb(215,48,31)"
          ],
          [
           0.875,
           "rgb(179,0,0)"
          ],
          [
           1,
           "rgb(127,0,0)"
          ]
         ]
        },
        "geo": {
         "center": {},
         "domain": {
          "x": [
           0,
           1
          ],
          "y": [
           0,
           1
          ]
         }
        },
        "legend": {
         "tracegroupgap": 0
        },
        "sliders": [
         {
          "active": 0,
          "currentvalue": {
           "prefix": "work_year="
          },
          "len": 0.9,
          "pad": {
           "b": 10,
           "t": 60
          },
          "steps": [
           {
            "args": [
             [
              "2020"
             ],
             {
              "frame": {
               "duration": 0,
               "redraw": true
              },
              "fromcurrent": true,
              "mode": "immediate",
              "transition": {
               "duration": 0,
               "easing": "linear"
              }
             }
            ],
            "label": "2020",
            "method": "animate"
           },
           {
            "args": [
             [
              "2021"
             ],
             {
              "frame": {
               "duration": 0,
               "redraw": true
              },
              "fromcurrent": true,
              "mode": "immediate",
              "transition": {
               "duration": 0,
               "easing": "linear"
              }
             }
            ],
            "label": "2021",
            "method": "animate"
           },
           {
            "args": [
             [
              "2022"
             ],
             {
              "frame": {
               "duration": 0,
               "redraw": true
              },
              "fromcurrent": true,
              "mode": "immediate",
              "transition": {
               "duration": 0,
               "easing": "linear"
              }
             }
            ],
            "label": "2022",
            "method": "animate"
           }
          ],
          "x": 0.1,
          "xanchor": "left",
          "y": 0,
          "yanchor": "top"
         }
        ],
        "template": {
         "data": {
          "bar": [
           {
            "error_x": {
             "color": "#2a3f5f"
            },
            "error_y": {
             "color": "#2a3f5f"
            },
            "marker": {
             "line": {
              "color": "#E5ECF6",
              "width": 0.5
             },
             "pattern": {
              "fillmode": "overlay",
              "size": 10,
              "solidity": 0.2
             }
            },
            "type": "bar"
           }
          ],
          "barpolar": [
           {
            "marker": {
             "line": {
              "color": "#E5ECF6",
              "width": 0.5
             },
             "pattern": {
              "fillmode": "overlay",
              "size": 10,
              "solidity": 0.2
             }
            },
            "type": "barpolar"
           }
          ],
          "carpet": [
           {
            "aaxis": {
             "endlinecolor": "#2a3f5f",
             "gridcolor": "white",
             "linecolor": "white",
             "minorgridcolor": "white",
             "startlinecolor": "#2a3f5f"
            },
            "baxis": {
             "endlinecolor": "#2a3f5f",
             "gridcolor": "white",
             "linecolor": "white",
             "minorgridcolor": "white",
             "startlinecolor": "#2a3f5f"
            },
            "type": "carpet"
           }
          ],
          "choropleth": [
           {
            "colorbar": {
             "outlinewidth": 0,
             "ticks": ""
            },
            "type": "choropleth"
           }
          ],
          "contour": [
           {
            "colorbar": {
             "outlinewidth": 0,
             "ticks": ""
            },
            "colorscale": [
             [
              0,
              "#0d0887"
             ],
             [
              0.1111111111111111,
              "#46039f"
             ],
             [
              0.2222222222222222,
              "#7201a8"
             ],
             [
              0.3333333333333333,
              "#9c179e"
             ],
             [
              0.4444444444444444,
              "#bd3786"
             ],
             [
              0.5555555555555556,
              "#d8576b"
             ],
             [
              0.6666666666666666,
              "#ed7953"
             ],
             [
              0.7777777777777778,
              "#fb9f3a"
             ],
             [
              0.8888888888888888,
              "#fdca26"
             ],
             [
              1,
              "#f0f921"
             ]
            ],
            "type": "contour"
           }
          ],
          "contourcarpet": [
           {
            "colorbar": {
             "outlinewidth": 0,
             "ticks": ""
            },
            "type": "contourcarpet"
           }
          ],
          "heatmap": [
           {
            "colorbar": {
             "outlinewidth": 0,
             "ticks": ""
            },
            "colorscale": [
             [
              0,
              "#0d0887"
             ],
             [
              0.1111111111111111,
              "#46039f"
             ],
             [
              0.2222222222222222,
              "#7201a8"
             ],
             [
              0.3333333333333333,
              "#9c179e"
             ],
             [
              0.4444444444444444,
              "#bd3786"
             ],
             [
              0.5555555555555556,
              "#d8576b"
             ],
             [
              0.6666666666666666,
              "#ed7953"
             ],
             [
              0.7777777777777778,
              "#fb9f3a"
             ],
             [
              0.8888888888888888,
              "#fdca26"
             ],
             [
              1,
              "#f0f921"
             ]
            ],
            "type": "heatmap"
           }
          ],
          "heatmapgl": [
           {
            "colorbar": {
             "outlinewidth": 0,
             "ticks": ""
            },
            "colorscale": [
             [
              0,
              "#0d0887"
             ],
             [
              0.1111111111111111,
              "#46039f"
             ],
             [
              0.2222222222222222,
              "#7201a8"
             ],
             [
              0.3333333333333333,
              "#9c179e"
             ],
             [
              0.4444444444444444,
              "#bd3786"
             ],
             [
              0.5555555555555556,
              "#d8576b"
             ],
             [
              0.6666666666666666,
              "#ed7953"
             ],
             [
              0.7777777777777778,
              "#fb9f3a"
             ],
             [
              0.8888888888888888,
              "#fdca26"
             ],
             [
              1,
              "#f0f921"
             ]
            ],
            "type": "heatmapgl"
           }
          ],
          "histogram": [
           {
            "marker": {
             "pattern": {
              "fillmode": "overlay",
              "size": 10,
              "solidity": 0.2
             }
            },
            "type": "histogram"
           }
          ],
          "histogram2d": [
           {
            "colorbar": {
             "outlinewidth": 0,
             "ticks": ""
            },
            "colorscale": [
             [
              0,
              "#0d0887"
             ],
             [
              0.1111111111111111,
              "#46039f"
             ],
             [
              0.2222222222222222,
              "#7201a8"
             ],
             [
              0.3333333333333333,
              "#9c179e"
             ],
             [
              0.4444444444444444,
              "#bd3786"
             ],
             [
              0.5555555555555556,
              "#d8576b"
             ],
             [
              0.6666666666666666,
              "#ed7953"
             ],
             [
              0.7777777777777778,
              "#fb9f3a"
             ],
             [
              0.8888888888888888,
              "#fdca26"
             ],
             [
              1,
              "#f0f921"
             ]
            ],
            "type": "histogram2d"
           }
          ],
          "histogram2dcontour": [
           {
            "colorbar": {
             "outlinewidth": 0,
             "ticks": ""
            },
            "colorscale": [
             [
              0,
              "#0d0887"
             ],
             [
              0.1111111111111111,
              "#46039f"
             ],
             [
              0.2222222222222222,
              "#7201a8"
             ],
             [
              0.3333333333333333,
              "#9c179e"
             ],
             [
              0.4444444444444444,
              "#bd3786"
             ],
             [
              0.5555555555555556,
              "#d8576b"
             ],
             [
              0.6666666666666666,
              "#ed7953"
             ],
             [
              0.7777777777777778,
              "#fb9f3a"
             ],
             [
              0.8888888888888888,
              "#fdca26"
             ],
             [
              1,
              "#f0f921"
             ]
            ],
            "type": "histogram2dcontour"
           }
          ],
          "mesh3d": [
           {
            "colorbar": {
             "outlinewidth": 0,
             "ticks": ""
            },
            "type": "mesh3d"
           }
          ],
          "parcoords": [
           {
            "line": {
             "colorbar": {
              "outlinewidth": 0,
              "ticks": ""
             }
            },
            "type": "parcoords"
           }
          ],
          "pie": [
           {
            "automargin": true,
            "type": "pie"
           }
          ],
          "scatter": [
           {
            "marker": {
             "colorbar": {
              "outlinewidth": 0,
              "ticks": ""
             }
            },
            "type": "scatter"
           }
          ],
          "scatter3d": [
           {
            "line": {
             "colorbar": {
              "outlinewidth": 0,
              "ticks": ""
             }
            },
            "marker": {
             "colorbar": {
              "outlinewidth": 0,
              "ticks": ""
             }
            },
            "type": "scatter3d"
           }
          ],
          "scattercarpet": [
           {
            "marker": {
             "colorbar": {
              "outlinewidth": 0,
              "ticks": ""
             }
            },
            "type": "scattercarpet"
           }
          ],
          "scattergeo": [
           {
            "marker": {
             "colorbar": {
              "outlinewidth": 0,
              "ticks": ""
             }
            },
            "type": "scattergeo"
           }
          ],
          "scattergl": [
           {
            "marker": {
             "colorbar": {
              "outlinewidth": 0,
              "ticks": ""
             }
            },
            "type": "scattergl"
           }
          ],
          "scattermapbox": [
           {
            "marker": {
             "colorbar": {
              "outlinewidth": 0,
              "ticks": ""
             }
            },
            "type": "scattermapbox"
           }
          ],
          "scatterpolar": [
           {
            "marker": {
             "colorbar": {
              "outlinewidth": 0,
              "ticks": ""
             }
            },
            "type": "scatterpolar"
           }
          ],
          "scatterpolargl": [
           {
            "marker": {
             "colorbar": {
              "outlinewidth": 0,
              "ticks": ""
             }
            },
            "type": "scatterpolargl"
           }
          ],
          "scatterternary": [
           {
            "marker": {
             "colorbar": {
              "outlinewidth": 0,
              "ticks": ""
             }
            },
            "type": "scatterternary"
           }
          ],
          "surface": [
           {
            "colorbar": {
             "outlinewidth": 0,
             "ticks": ""
            },
            "colorscale": [
             [
              0,
              "#0d0887"
             ],
             [
              0.1111111111111111,
              "#46039f"
             ],
             [
              0.2222222222222222,
              "#7201a8"
             ],
             [
              0.3333333333333333,
              "#9c179e"
             ],
             [
              0.4444444444444444,
              "#bd3786"
             ],
             [
              0.5555555555555556,
              "#d8576b"
             ],
             [
              0.6666666666666666,
              "#ed7953"
             ],
             [
              0.7777777777777778,
              "#fb9f3a"
             ],
             [
              0.8888888888888888,
              "#fdca26"
             ],
             [
              1,
              "#f0f921"
             ]
            ],
            "type": "surface"
           }
          ],
          "table": [
           {
            "cells": {
             "fill": {
              "color": "#EBF0F8"
             },
             "line": {
              "color": "white"
             }
            },
            "header": {
             "fill": {
              "color": "#C8D4E3"
             },
             "line": {
              "color": "white"
             }
            },
            "type": "table"
           }
          ]
         },
         "layout": {
          "annotationdefaults": {
           "arrowcolor": "#2a3f5f",
           "arrowhead": 0,
           "arrowwidth": 1
          },
          "autotypenumbers": "strict",
          "coloraxis": {
           "colorbar": {
            "outlinewidth": 0,
            "ticks": ""
           }
          },
          "colorscale": {
           "diverging": [
            [
             0,
             "#8e0152"
            ],
            [
             0.1,
             "#c51b7d"
            ],
            [
             0.2,
             "#de77ae"
            ],
            [
             0.3,
             "#f1b6da"
            ],
            [
             0.4,
             "#fde0ef"
            ],
            [
             0.5,
             "#f7f7f7"
            ],
            [
             0.6,
             "#e6f5d0"
            ],
            [
             0.7,
             "#b8e186"
            ],
            [
             0.8,
             "#7fbc41"
            ],
            [
             0.9,
             "#4d9221"
            ],
            [
             1,
             "#276419"
            ]
           ],
           "sequential": [
            [
             0,
             "#0d0887"
            ],
            [
             0.1111111111111111,
             "#46039f"
            ],
            [
             0.2222222222222222,
             "#7201a8"
            ],
            [
             0.3333333333333333,
             "#9c179e"
            ],
            [
             0.4444444444444444,
             "#bd3786"
            ],
            [
             0.5555555555555556,
             "#d8576b"
            ],
            [
             0.6666666666666666,
             "#ed7953"
            ],
            [
             0.7777777777777778,
             "#fb9f3a"
            ],
            [
             0.8888888888888888,
             "#fdca26"
            ],
            [
             1,
             "#f0f921"
            ]
           ],
           "sequentialminus": [
            [
             0,
             "#0d0887"
            ],
            [
             0.1111111111111111,
             "#46039f"
            ],
            [
             0.2222222222222222,
             "#7201a8"
            ],
            [
             0.3333333333333333,
             "#9c179e"
            ],
            [
             0.4444444444444444,
             "#bd3786"
            ],
            [
             0.5555555555555556,
             "#d8576b"
            ],
            [
             0.6666666666666666,
             "#ed7953"
            ],
            [
             0.7777777777777778,
             "#fb9f3a"
            ],
            [
             0.8888888888888888,
             "#fdca26"
            ],
            [
             1,
             "#f0f921"
            ]
           ]
          },
          "colorway": [
           "#636efa",
           "#EF553B",
           "#00cc96",
           "#ab63fa",
           "#FFA15A",
           "#19d3f3",
           "#FF6692",
           "#B6E880",
           "#FF97FF",
           "#FECB52"
          ],
          "font": {
           "color": "#2a3f5f"
          },
          "geo": {
           "bgcolor": "white",
           "lakecolor": "white",
           "landcolor": "#E5ECF6",
           "showlakes": true,
           "showland": true,
           "subunitcolor": "white"
          },
          "hoverlabel": {
           "align": "left"
          },
          "hovermode": "closest",
          "mapbox": {
           "style": "light"
          },
          "paper_bgcolor": "white",
          "plot_bgcolor": "#E5ECF6",
          "polar": {
           "angularaxis": {
            "gridcolor": "white",
            "linecolor": "white",
            "ticks": ""
           },
           "bgcolor": "#E5ECF6",
           "radialaxis": {
            "gridcolor": "white",
            "linecolor": "white",
            "ticks": ""
           }
          },
          "scene": {
           "xaxis": {
            "backgroundcolor": "#E5ECF6",
            "gridcolor": "white",
            "gridwidth": 2,
            "linecolor": "white",
            "showbackground": true,
            "ticks": "",
            "zerolinecolor": "white"
           },
           "yaxis": {
            "backgroundcolor": "#E5ECF6",
            "gridcolor": "white",
            "gridwidth": 2,
            "linecolor": "white",
            "showbackground": true,
            "ticks": "",
            "zerolinecolor": "white"
           },
           "zaxis": {
            "backgroundcolor": "#E5ECF6",
            "gridcolor": "white",
            "gridwidth": 2,
            "linecolor": "white",
            "showbackground": true,
            "ticks": "",
            "zerolinecolor": "white"
           }
          },
          "shapedefaults": {
           "line": {
            "color": "#2a3f5f"
           }
          },
          "ternary": {
           "aaxis": {
            "gridcolor": "white",
            "linecolor": "white",
            "ticks": ""
           },
           "baxis": {
            "gridcolor": "white",
            "linecolor": "white",
            "ticks": ""
           },
           "bgcolor": "#E5ECF6",
           "caxis": {
            "gridcolor": "white",
            "linecolor": "white",
            "ticks": ""
           }
          },
          "title": {
           "x": 0.05
          },
          "xaxis": {
           "automargin": true,
           "gridcolor": "white",
           "linecolor": "white",
           "ticks": "",
           "title": {
            "standoff": 15
           },
           "zerolinecolor": "white",
           "zerolinewidth": 2
          },
          "yaxis": {
           "automargin": true,
           "gridcolor": "white",
           "linecolor": "white",
           "ticks": "",
           "title": {
            "standoff": 15
           },
           "zerolinecolor": "white",
           "zerolinewidth": 2
          }
         }
        },
        "title": {
         "text": "Remote work preference/status as a function of time"
        },
        "updatemenus": [
         {
          "buttons": [
           {
            "args": [
             null,
             {
              "frame": {
               "duration": 500,
               "redraw": true
              },
              "fromcurrent": true,
              "mode": "immediate",
              "transition": {
               "duration": 500,
               "easing": "linear"
              }
             }
            ],
            "label": "&#9654;",
            "method": "animate"
           },
           {
            "args": [
             [
              null
             ],
             {
              "frame": {
               "duration": 0,
               "redraw": true
              },
              "fromcurrent": true,
              "mode": "immediate",
              "transition": {
               "duration": 0,
               "easing": "linear"
              }
             }
            ],
            "label": "&#9724;",
            "method": "animate"
           }
          ],
          "direction": "left",
          "pad": {
           "r": 10,
           "t": 70
          },
          "showactive": false,
          "type": "buttons",
          "x": 0.1,
          "xanchor": "right",
          "y": 0,
          "yanchor": "top"
         }
        ]
       }
      },
      "text/html": [
       "<div>                            <div id=\"99bea15f-0e46-47f8-a835-fb17780e56f2\" class=\"plotly-graph-div\" style=\"height:525px; width:100%;\"></div>            <script type=\"text/javascript\">                require([\"plotly\"], function(Plotly) {                    window.PLOTLYENV=window.PLOTLYENV || {};                                    if (document.getElementById(\"99bea15f-0e46-47f8-a835-fb17780e56f2\")) {                    Plotly.newPlot(                        \"99bea15f-0e46-47f8-a835-fb17780e56f2\",                        [{\"coloraxis\":\"coloraxis\",\"customdata\":[[\"EUR\",0,\"Work From Home\"],[\"USD\",0,\"Work From Home\"],[\"GBP\",50,\"Hybrid\"],[\"USD\",0,\"Work From Home\"],[\"USD\",50,\"Hybrid\"],[\"USD\",100,\"Office Work\"],[\"USD\",100,\"Office Work\"],[\"HUF\",50,\"Hybrid\"],[\"USD\",100,\"Office Work\"],[\"USD\",50,\"Hybrid\"],[\"EUR\",0,\"Work From Home\"],[\"INR\",0,\"Work From Home\"],[\"EUR\",0,\"Work From Home\"],[\"USD\",100,\"Office Work\"],[\"USD\",100,\"Office Work\"],[\"USD\",50,\"Hybrid\"],[\"JPY\",100,\"Office Work\"],[\"EUR\",100,\"Office Work\"],[\"INR\",50,\"Hybrid\"],[\"USD\",100,\"Office Work\"],[\"CNY\",0,\"Work From Home\"],[\"INR\",100,\"Office Work\"],[\"EUR\",50,\"Hybrid\"],[\"USD\",0,\"Work From Home\"],[\"USD\",0,\"Work From Home\"],[\"USD\",100,\"Office Work\"],[\"USD\",50,\"Hybrid\"],[\"MXN\",0,\"Work From Home\"],[\"USD\",100,\"Office Work\"],[\"CAD\",50,\"Hybrid\"],[\"EUR\",100,\"Office Work\"],[\"USD\",100,\"Office Work\"],[\"EUR\",100,\"Office Work\"],[\"USD\",0,\"Work From Home\"],[\"EUR\",50,\"Hybrid\"],[\"EUR\",50,\"Hybrid\"],[\"USD\",100,\"Office Work\"],[\"USD\",50,\"Hybrid\"],[\"USD\",100,\"Office Work\"],[\"USD\",100,\"Office Work\"],[\"USD\",100,\"Office Work\"],[\"EUR\",50,\"Hybrid\"],[\"EUR\",0,\"Work From Home\"],[\"USD\",100,\"Office Work\"],[\"GBP\",50,\"Hybrid\"],[\"EUR\",100,\"Office Work\"],[\"GBP\",100,\"Office Work\"],[\"USD\",100,\"Office Work\"],[\"USD\",100,\"Office Work\"],[\"EUR\",50,\"Hybrid\"],[\"INR\",0,\"Work From Home\"],[\"USD\",100,\"Office Work\"],[\"DKK\",50,\"Hybrid\"],[\"EUR\",100,\"Office Work\"],[\"USD\",100,\"Office Work\"],[\"EUR\",100,\"Office Work\"],[\"EUR\",100,\"Office Work\"],[\"USD\",100,\"Office Work\"],[\"USD\",50,\"Hybrid\"],[\"USD\",100,\"Office Work\"],[\"USD\",100,\"Office Work\"],[\"USD\",100,\"Office Work\"],[\"EUR\",50,\"Hybrid\"],[\"USD\",100,\"Office Work\"],[\"EUR\",100,\"Office Work\"],[\"EUR\",50,\"Hybrid\"],[\"EUR\",0,\"Work From Home\"],[\"USD\",100,\"Office Work\"],[\"USD\",100,\"Office Work\"],[\"EUR\",0,\"Work From Home\"],[\"EUR\",50,\"Hybrid\"],[\"EUR\",50,\"Hybrid\"]],\"geo\":\"geo\",\"hovertemplate\":\"<b>%{hovertext}</b><br><br>work_year=2020<br>company_country=%{location}<br>salary_currency=%{customdata[0]}<br>remote_ratio=%{z}<br>remote_ratio_num=%{customdata[2]}<extra></extra>\",\"hovertext\":[\"Germany\",\"Japan\",\"United Kingdom\",\"Honduras\",\"United States\",\"United States\",\"United States\",\"Hungary\",\"United States\",\"New Zealand\",\"France\",\"India\",\"France\",\"United States\",\"United States\",\"Pakistan\",\"Japan\",\"United Kingdom\",\"India\",\"United States\",\"China\",\"India\",\"Greece\",\"United States\",\"United Arab Emirates\",\"United States\",\"Netherlands\",\"Mexico\",\"United States\",\"Canada\",\"Germany\",\"United States\",\"United States\",\"United States\",\"France\",\"Austria\",\"United States\",\"United States\",\"Nigeria\",\"United States\",\"United States\",\"Spain\",\"Portugal\",\"United States\",\"United Kingdom\",\"Germany\",\"United Kingdom\",\"United States\",\"United States\",\"France\",\"India\",\"United States\",\"Denmark\",\"Germany\",\"United States\",\"Germany\",\"Spain\",\"United States\",\"United States\",\"United States\",\"United States\",\"United States\",\"Italy\",\"United States\",\"Croatia\",\"Germany\",\"Germany\",\"United States\",\"United States\",\"Austria\",\"Luxembourg\",\"France\"],\"locationmode\":\"country names\",\"locations\":[\"Germany\",\"Japan\",\"United Kingdom\",\"Honduras\",\"United States\",\"United States\",\"United States\",\"Hungary\",\"United States\",\"New Zealand\",\"France\",\"India\",\"France\",\"United States\",\"United States\",\"Pakistan\",\"Japan\",\"United Kingdom\",\"India\",\"United States\",\"China\",\"India\",\"Greece\",\"United States\",\"United Arab Emirates\",\"United States\",\"Netherlands\",\"Mexico\",\"United States\",\"Canada\",\"Germany\",\"United States\",\"United States\",\"United States\",\"France\",\"Austria\",\"United States\",\"United States\",\"Nigeria\",\"United States\",\"United States\",\"Spain\",\"Portugal\",\"United States\",\"United Kingdom\",\"Germany\",\"United Kingdom\",\"United States\",\"United States\",\"France\",\"India\",\"United States\",\"Denmark\",\"Germany\",\"United States\",\"Germany\",\"Spain\",\"United States\",\"United States\",\"United States\",\"United States\",\"United States\",\"Italy\",\"United States\",\"Croatia\",\"Germany\",\"Germany\",\"United States\",\"United States\",\"Austria\",\"Luxembourg\",\"France\"],\"name\":\"\",\"z\":[0,0,50,0,50,100,100,50,100,50,0,0,0,100,100,50,100,100,50,100,0,100,50,0,0,100,50,0,100,50,100,100,100,0,50,50,100,50,100,100,100,50,0,100,50,100,100,100,100,50,0,100,50,100,100,100,100,100,50,100,100,100,50,100,100,50,0,100,100,0,50,50],\"type\":\"choropleth\"}],                        {\"template\":{\"data\":{\"bar\":[{\"error_x\":{\"color\":\"#2a3f5f\"},\"error_y\":{\"color\":\"#2a3f5f\"},\"marker\":{\"line\":{\"color\":\"#E5ECF6\",\"width\":0.5},\"pattern\":{\"fillmode\":\"overlay\",\"size\":10,\"solidity\":0.2}},\"type\":\"bar\"}],\"barpolar\":[{\"marker\":{\"line\":{\"color\":\"#E5ECF6\",\"width\":0.5},\"pattern\":{\"fillmode\":\"overlay\",\"size\":10,\"solidity\":0.2}},\"type\":\"barpolar\"}],\"carpet\":[{\"aaxis\":{\"endlinecolor\":\"#2a3f5f\",\"gridcolor\":\"white\",\"linecolor\":\"white\",\"minorgridcolor\":\"white\",\"startlinecolor\":\"#2a3f5f\"},\"baxis\":{\"endlinecolor\":\"#2a3f5f\",\"gridcolor\":\"white\",\"linecolor\":\"white\",\"minorgridcolor\":\"white\",\"startlinecolor\":\"#2a3f5f\"},\"type\":\"carpet\"}],\"choropleth\":[{\"colorbar\":{\"outlinewidth\":0,\"ticks\":\"\"},\"type\":\"choropleth\"}],\"contour\":[{\"colorbar\":{\"outlinewidth\":0,\"ticks\":\"\"},\"colorscale\":[[0.0,\"#0d0887\"],[0.1111111111111111,\"#46039f\"],[0.2222222222222222,\"#7201a8\"],[0.3333333333333333,\"#9c179e\"],[0.4444444444444444,\"#bd3786\"],[0.5555555555555556,\"#d8576b\"],[0.6666666666666666,\"#ed7953\"],[0.7777777777777778,\"#fb9f3a\"],[0.8888888888888888,\"#fdca26\"],[1.0,\"#f0f921\"]],\"type\":\"contour\"}],\"contourcarpet\":[{\"colorbar\":{\"outlinewidth\":0,\"ticks\":\"\"},\"type\":\"contourcarpet\"}],\"heatmap\":[{\"colorbar\":{\"outlinewidth\":0,\"ticks\":\"\"},\"colorscale\":[[0.0,\"#0d0887\"],[0.1111111111111111,\"#46039f\"],[0.2222222222222222,\"#7201a8\"],[0.3333333333333333,\"#9c179e\"],[0.4444444444444444,\"#bd3786\"],[0.5555555555555556,\"#d8576b\"],[0.6666666666666666,\"#ed7953\"],[0.7777777777777778,\"#fb9f3a\"],[0.8888888888888888,\"#fdca26\"],[1.0,\"#f0f921\"]],\"type\":\"heatmap\"}],\"heatmapgl\":[{\"colorbar\":{\"outlinewidth\":0,\"ticks\":\"\"},\"colorscale\":[[0.0,\"#0d0887\"],[0.1111111111111111,\"#46039f\"],[0.2222222222222222,\"#7201a8\"],[0.3333333333333333,\"#9c179e\"],[0.4444444444444444,\"#bd3786\"],[0.5555555555555556,\"#d8576b\"],[0.6666666666666666,\"#ed7953\"],[0.7777777777777778,\"#fb9f3a\"],[0.8888888888888888,\"#fdca26\"],[1.0,\"#f0f921\"]],\"type\":\"heatmapgl\"}],\"histogram\":[{\"marker\":{\"pattern\":{\"fillmode\":\"overlay\",\"size\":10,\"solidity\":0.2}},\"type\":\"histogram\"}],\"histogram2d\":[{\"colorbar\":{\"outlinewidth\":0,\"ticks\":\"\"},\"colorscale\":[[0.0,\"#0d0887\"],[0.1111111111111111,\"#46039f\"],[0.2222222222222222,\"#7201a8\"],[0.3333333333333333,\"#9c179e\"],[0.4444444444444444,\"#bd3786\"],[0.5555555555555556,\"#d8576b\"],[0.6666666666666666,\"#ed7953\"],[0.7777777777777778,\"#fb9f3a\"],[0.8888888888888888,\"#fdca26\"],[1.0,\"#f0f921\"]],\"type\":\"histogram2d\"}],\"histogram2dcontour\":[{\"colorbar\":{\"outlinewidth\":0,\"ticks\":\"\"},\"colorscale\":[[0.0,\"#0d0887\"],[0.1111111111111111,\"#46039f\"],[0.2222222222222222,\"#7201a8\"],[0.3333333333333333,\"#9c179e\"],[0.4444444444444444,\"#bd3786\"],[0.5555555555555556,\"#d8576b\"],[0.6666666666666666,\"#ed7953\"],[0.7777777777777778,\"#fb9f3a\"],[0.8888888888888888,\"#fdca26\"],[1.0,\"#f0f921\"]],\"type\":\"histogram2dcontour\"}],\"mesh3d\":[{\"colorbar\":{\"outlinewidth\":0,\"ticks\":\"\"},\"type\":\"mesh3d\"}],\"parcoords\":[{\"line\":{\"colorbar\":{\"outlinewidth\":0,\"ticks\":\"\"}},\"type\":\"parcoords\"}],\"pie\":[{\"automargin\":true,\"type\":\"pie\"}],\"scatter\":[{\"marker\":{\"colorbar\":{\"outlinewidth\":0,\"ticks\":\"\"}},\"type\":\"scatter\"}],\"scatter3d\":[{\"line\":{\"colorbar\":{\"outlinewidth\":0,\"ticks\":\"\"}},\"marker\":{\"colorbar\":{\"outlinewidth\":0,\"ticks\":\"\"}},\"type\":\"scatter3d\"}],\"scattercarpet\":[{\"marker\":{\"colorbar\":{\"outlinewidth\":0,\"ticks\":\"\"}},\"type\":\"scattercarpet\"}],\"scattergeo\":[{\"marker\":{\"colorbar\":{\"outlinewidth\":0,\"ticks\":\"\"}},\"type\":\"scattergeo\"}],\"scattergl\":[{\"marker\":{\"colorbar\":{\"outlinewidth\":0,\"ticks\":\"\"}},\"type\":\"scattergl\"}],\"scattermapbox\":[{\"marker\":{\"colorbar\":{\"outlinewidth\":0,\"ticks\":\"\"}},\"type\":\"scattermapbox\"}],\"scatterpolar\":[{\"marker\":{\"colorbar\":{\"outlinewidth\":0,\"ticks\":\"\"}},\"type\":\"scatterpolar\"}],\"scatterpolargl\":[{\"marker\":{\"colorbar\":{\"outlinewidth\":0,\"ticks\":\"\"}},\"type\":\"scatterpolargl\"}],\"scatterternary\":[{\"marker\":{\"colorbar\":{\"outlinewidth\":0,\"ticks\":\"\"}},\"type\":\"scatterternary\"}],\"surface\":[{\"colorbar\":{\"outlinewidth\":0,\"ticks\":\"\"},\"colorscale\":[[0.0,\"#0d0887\"],[0.1111111111111111,\"#46039f\"],[0.2222222222222222,\"#7201a8\"],[0.3333333333333333,\"#9c179e\"],[0.4444444444444444,\"#bd3786\"],[0.5555555555555556,\"#d8576b\"],[0.6666666666666666,\"#ed7953\"],[0.7777777777777778,\"#fb9f3a\"],[0.8888888888888888,\"#fdca26\"],[1.0,\"#f0f921\"]],\"type\":\"surface\"}],\"table\":[{\"cells\":{\"fill\":{\"color\":\"#EBF0F8\"},\"line\":{\"color\":\"white\"}},\"header\":{\"fill\":{\"color\":\"#C8D4E3\"},\"line\":{\"color\":\"white\"}},\"type\":\"table\"}]},\"layout\":{\"annotationdefaults\":{\"arrowcolor\":\"#2a3f5f\",\"arrowhead\":0,\"arrowwidth\":1},\"autotypenumbers\":\"strict\",\"coloraxis\":{\"colorbar\":{\"outlinewidth\":0,\"ticks\":\"\"}},\"colorscale\":{\"diverging\":[[0,\"#8e0152\"],[0.1,\"#c51b7d\"],[0.2,\"#de77ae\"],[0.3,\"#f1b6da\"],[0.4,\"#fde0ef\"],[0.5,\"#f7f7f7\"],[0.6,\"#e6f5d0\"],[0.7,\"#b8e186\"],[0.8,\"#7fbc41\"],[0.9,\"#4d9221\"],[1,\"#276419\"]],\"sequential\":[[0.0,\"#0d0887\"],[0.1111111111111111,\"#46039f\"],[0.2222222222222222,\"#7201a8\"],[0.3333333333333333,\"#9c179e\"],[0.4444444444444444,\"#bd3786\"],[0.5555555555555556,\"#d8576b\"],[0.6666666666666666,\"#ed7953\"],[0.7777777777777778,\"#fb9f3a\"],[0.8888888888888888,\"#fdca26\"],[1.0,\"#f0f921\"]],\"sequentialminus\":[[0.0,\"#0d0887\"],[0.1111111111111111,\"#46039f\"],[0.2222222222222222,\"#7201a8\"],[0.3333333333333333,\"#9c179e\"],[0.4444444444444444,\"#bd3786\"],[0.5555555555555556,\"#d8576b\"],[0.6666666666666666,\"#ed7953\"],[0.7777777777777778,\"#fb9f3a\"],[0.8888888888888888,\"#fdca26\"],[1.0,\"#f0f921\"]]},\"colorway\":[\"#636efa\",\"#EF553B\",\"#00cc96\",\"#ab63fa\",\"#FFA15A\",\"#19d3f3\",\"#FF6692\",\"#B6E880\",\"#FF97FF\",\"#FECB52\"],\"font\":{\"color\":\"#2a3f5f\"},\"geo\":{\"bgcolor\":\"white\",\"lakecolor\":\"white\",\"landcolor\":\"#E5ECF6\",\"showlakes\":true,\"showland\":true,\"subunitcolor\":\"white\"},\"hoverlabel\":{\"align\":\"left\"},\"hovermode\":\"closest\",\"mapbox\":{\"style\":\"light\"},\"paper_bgcolor\":\"white\",\"plot_bgcolor\":\"#E5ECF6\",\"polar\":{\"angularaxis\":{\"gridcolor\":\"white\",\"linecolor\":\"white\",\"ticks\":\"\"},\"bgcolor\":\"#E5ECF6\",\"radialaxis\":{\"gridcolor\":\"white\",\"linecolor\":\"white\",\"ticks\":\"\"}},\"scene\":{\"xaxis\":{\"backgroundcolor\":\"#E5ECF6\",\"gridcolor\":\"white\",\"gridwidth\":2,\"linecolor\":\"white\",\"showbackground\":true,\"ticks\":\"\",\"zerolinecolor\":\"white\"},\"yaxis\":{\"backgroundcolor\":\"#E5ECF6\",\"gridcolor\":\"white\",\"gridwidth\":2,\"linecolor\":\"white\",\"showbackground\":true,\"ticks\":\"\",\"zerolinecolor\":\"white\"},\"zaxis\":{\"backgroundcolor\":\"#E5ECF6\",\"gridcolor\":\"white\",\"gridwidth\":2,\"linecolor\":\"white\",\"showbackground\":true,\"ticks\":\"\",\"zerolinecolor\":\"white\"}},\"shapedefaults\":{\"line\":{\"color\":\"#2a3f5f\"}},\"ternary\":{\"aaxis\":{\"gridcolor\":\"white\",\"linecolor\":\"white\",\"ticks\":\"\"},\"baxis\":{\"gridcolor\":\"white\",\"linecolor\":\"white\",\"ticks\":\"\"},\"bgcolor\":\"#E5ECF6\",\"caxis\":{\"gridcolor\":\"white\",\"linecolor\":\"white\",\"ticks\":\"\"}},\"title\":{\"x\":0.05},\"xaxis\":{\"automargin\":true,\"gridcolor\":\"white\",\"linecolor\":\"white\",\"ticks\":\"\",\"title\":{\"standoff\":15},\"zerolinecolor\":\"white\",\"zerolinewidth\":2},\"yaxis\":{\"automargin\":true,\"gridcolor\":\"white\",\"linecolor\":\"white\",\"ticks\":\"\",\"title\":{\"standoff\":15},\"zerolinecolor\":\"white\",\"zerolinewidth\":2}}},\"geo\":{\"domain\":{\"x\":[0.0,1.0],\"y\":[0.0,1.0]},\"center\":{}},\"coloraxis\":{\"colorbar\":{\"title\":{\"text\":\"remote_ratio\"}},\"colorscale\":[[0.0,\"rgb(255,247,236)\"],[0.125,\"rgb(254,232,200)\"],[0.25,\"rgb(253,212,158)\"],[0.375,\"rgb(253,187,132)\"],[0.5,\"rgb(252,141,89)\"],[0.625,\"rgb(239,101,72)\"],[0.75,\"rgb(215,48,31)\"],[0.875,\"rgb(179,0,0)\"],[1.0,\"rgb(127,0,0)\"]]},\"legend\":{\"tracegroupgap\":0},\"title\":{\"text\":\"Remote work preference/status as a function of time\"},\"updatemenus\":[{\"buttons\":[{\"args\":[null,{\"frame\":{\"duration\":500,\"redraw\":true},\"mode\":\"immediate\",\"fromcurrent\":true,\"transition\":{\"duration\":500,\"easing\":\"linear\"}}],\"label\":\"&#9654;\",\"method\":\"animate\"},{\"args\":[[null],{\"frame\":{\"duration\":0,\"redraw\":true},\"mode\":\"immediate\",\"fromcurrent\":true,\"transition\":{\"duration\":0,\"easing\":\"linear\"}}],\"label\":\"&#9724;\",\"method\":\"animate\"}],\"direction\":\"left\",\"pad\":{\"r\":10,\"t\":70},\"showactive\":false,\"type\":\"buttons\",\"x\":0.1,\"xanchor\":\"right\",\"y\":0,\"yanchor\":\"top\"}],\"sliders\":[{\"active\":0,\"currentvalue\":{\"prefix\":\"work_year=\"},\"len\":0.9,\"pad\":{\"b\":10,\"t\":60},\"steps\":[{\"args\":[[\"2020\"],{\"frame\":{\"duration\":0,\"redraw\":true},\"mode\":\"immediate\",\"fromcurrent\":true,\"transition\":{\"duration\":0,\"easing\":\"linear\"}}],\"label\":\"2020\",\"method\":\"animate\"},{\"args\":[[\"2021\"],{\"frame\":{\"duration\":0,\"redraw\":true},\"mode\":\"immediate\",\"fromcurrent\":true,\"transition\":{\"duration\":0,\"easing\":\"linear\"}}],\"label\":\"2021\",\"method\":\"animate\"},{\"args\":[[\"2022\"],{\"frame\":{\"duration\":0,\"redraw\":true},\"mode\":\"immediate\",\"fromcurrent\":true,\"transition\":{\"duration\":0,\"easing\":\"linear\"}}],\"label\":\"2022\",\"method\":\"animate\"}],\"x\":0.1,\"xanchor\":\"left\",\"y\":0,\"yanchor\":\"top\"}]},                        {\"responsive\": true}                    ).then(function(){\n",
       "                            Plotly.addFrames('99bea15f-0e46-47f8-a835-fb17780e56f2', [{\"data\":[{\"coloraxis\":\"coloraxis\",\"customdata\":[[\"EUR\",0,\"Work From Home\"],[\"USD\",0,\"Work From Home\"],[\"GBP\",50,\"Hybrid\"],[\"USD\",0,\"Work From Home\"],[\"USD\",50,\"Hybrid\"],[\"USD\",100,\"Office Work\"],[\"USD\",100,\"Office Work\"],[\"HUF\",50,\"Hybrid\"],[\"USD\",100,\"Office Work\"],[\"USD\",50,\"Hybrid\"],[\"EUR\",0,\"Work From Home\"],[\"INR\",0,\"Work From Home\"],[\"EUR\",0,\"Work From Home\"],[\"USD\",100,\"Office Work\"],[\"USD\",100,\"Office Work\"],[\"USD\",50,\"Hybrid\"],[\"JPY\",100,\"Office Work\"],[\"EUR\",100,\"Office Work\"],[\"INR\",50,\"Hybrid\"],[\"USD\",100,\"Office Work\"],[\"CNY\",0,\"Work From Home\"],[\"INR\",100,\"Office Work\"],[\"EUR\",50,\"Hybrid\"],[\"USD\",0,\"Work From Home\"],[\"USD\",0,\"Work From Home\"],[\"USD\",100,\"Office Work\"],[\"USD\",50,\"Hybrid\"],[\"MXN\",0,\"Work From Home\"],[\"USD\",100,\"Office Work\"],[\"CAD\",50,\"Hybrid\"],[\"EUR\",100,\"Office Work\"],[\"USD\",100,\"Office Work\"],[\"EUR\",100,\"Office Work\"],[\"USD\",0,\"Work From Home\"],[\"EUR\",50,\"Hybrid\"],[\"EUR\",50,\"Hybrid\"],[\"USD\",100,\"Office Work\"],[\"USD\",50,\"Hybrid\"],[\"USD\",100,\"Office Work\"],[\"USD\",100,\"Office Work\"],[\"USD\",100,\"Office Work\"],[\"EUR\",50,\"Hybrid\"],[\"EUR\",0,\"Work From Home\"],[\"USD\",100,\"Office Work\"],[\"GBP\",50,\"Hybrid\"],[\"EUR\",100,\"Office Work\"],[\"GBP\",100,\"Office Work\"],[\"USD\",100,\"Office Work\"],[\"USD\",100,\"Office Work\"],[\"EUR\",50,\"Hybrid\"],[\"INR\",0,\"Work From Home\"],[\"USD\",100,\"Office Work\"],[\"DKK\",50,\"Hybrid\"],[\"EUR\",100,\"Office Work\"],[\"USD\",100,\"Office Work\"],[\"EUR\",100,\"Office Work\"],[\"EUR\",100,\"Office Work\"],[\"USD\",100,\"Office Work\"],[\"USD\",50,\"Hybrid\"],[\"USD\",100,\"Office Work\"],[\"USD\",100,\"Office Work\"],[\"USD\",100,\"Office Work\"],[\"EUR\",50,\"Hybrid\"],[\"USD\",100,\"Office Work\"],[\"EUR\",100,\"Office Work\"],[\"EUR\",50,\"Hybrid\"],[\"EUR\",0,\"Work From Home\"],[\"USD\",100,\"Office Work\"],[\"USD\",100,\"Office Work\"],[\"EUR\",0,\"Work From Home\"],[\"EUR\",50,\"Hybrid\"],[\"EUR\",50,\"Hybrid\"]],\"geo\":\"geo\",\"hovertemplate\":\"<b>%{hovertext}</b><br><br>work_year=2020<br>company_country=%{location}<br>salary_currency=%{customdata[0]}<br>remote_ratio=%{z}<br>remote_ratio_num=%{customdata[2]}<extra></extra>\",\"hovertext\":[\"Germany\",\"Japan\",\"United Kingdom\",\"Honduras\",\"United States\",\"United States\",\"United States\",\"Hungary\",\"United States\",\"New Zealand\",\"France\",\"India\",\"France\",\"United States\",\"United States\",\"Pakistan\",\"Japan\",\"United Kingdom\",\"India\",\"United States\",\"China\",\"India\",\"Greece\",\"United States\",\"United Arab Emirates\",\"United States\",\"Netherlands\",\"Mexico\",\"United States\",\"Canada\",\"Germany\",\"United States\",\"United States\",\"United States\",\"France\",\"Austria\",\"United States\",\"United States\",\"Nigeria\",\"United States\",\"United States\",\"Spain\",\"Portugal\",\"United States\",\"United Kingdom\",\"Germany\",\"United Kingdom\",\"United States\",\"United States\",\"France\",\"India\",\"United States\",\"Denmark\",\"Germany\",\"United States\",\"Germany\",\"Spain\",\"United States\",\"United States\",\"United States\",\"United States\",\"United States\",\"Italy\",\"United States\",\"Croatia\",\"Germany\",\"Germany\",\"United States\",\"United States\",\"Austria\",\"Luxembourg\",\"France\"],\"locationmode\":\"country names\",\"locations\":[\"Germany\",\"Japan\",\"United Kingdom\",\"Honduras\",\"United States\",\"United States\",\"United States\",\"Hungary\",\"United States\",\"New Zealand\",\"France\",\"India\",\"France\",\"United States\",\"United States\",\"Pakistan\",\"Japan\",\"United Kingdom\",\"India\",\"United States\",\"China\",\"India\",\"Greece\",\"United States\",\"United Arab Emirates\",\"United States\",\"Netherlands\",\"Mexico\",\"United States\",\"Canada\",\"Germany\",\"United States\",\"United States\",\"United States\",\"France\",\"Austria\",\"United States\",\"United States\",\"Nigeria\",\"United States\",\"United States\",\"Spain\",\"Portugal\",\"United States\",\"United Kingdom\",\"Germany\",\"United Kingdom\",\"United States\",\"United States\",\"France\",\"India\",\"United States\",\"Denmark\",\"Germany\",\"United States\",\"Germany\",\"Spain\",\"United States\",\"United States\",\"United States\",\"United States\",\"United States\",\"Italy\",\"United States\",\"Croatia\",\"Germany\",\"Germany\",\"United States\",\"United States\",\"Austria\",\"Luxembourg\",\"France\"],\"name\":\"\",\"z\":[0,0,50,0,50,100,100,50,100,50,0,0,0,100,100,50,100,100,50,100,0,100,50,0,0,100,50,0,100,50,100,100,100,0,50,50,100,50,100,100,100,50,0,100,50,100,100,100,100,50,0,100,50,100,100,100,100,100,50,100,100,100,50,100,100,50,0,100,100,0,50,50],\"type\":\"choropleth\"}],\"name\":\"2020\"},{\"data\":[{\"coloraxis\":\"coloraxis\",\"customdata\":[[\"GBP\",50,\"Hybrid\"],[\"USD\",100,\"Office Work\"],[\"USD\",100,\"Office Work\"],[\"EUR\",50,\"Hybrid\"],[\"USD\",100,\"Office Work\"],[\"INR\",50,\"Hybrid\"],[\"USD\",100,\"Office Work\"],[\"USD\",100,\"Office Work\"],[\"EUR\",100,\"Office Work\"],[\"USD\",100,\"Office Work\"],[\"CAD\",50,\"Hybrid\"],[\"EUR\",100,\"Office Work\"],[\"EUR\",100,\"Office Work\"],[\"PLN\",100,\"Office Work\"],[\"EUR\",50,\"Hybrid\"],[\"USD\",100,\"Office Work\"],[\"USD\",100,\"Office Work\"],[\"USD\",100,\"Office Work\"],[\"EUR\",100,\"Office Work\"],[\"EUR\",100,\"Office Work\"],[\"INR\",100,\"Office Work\"],[\"USD\",0,\"Work From Home\"],[\"INR\",50,\"Hybrid\"],[\"SGD\",50,\"Hybrid\"],[\"USD\",100,\"Office Work\"],[\"USD\",100,\"Office Work\"],[\"USD\",100,\"Office Work\"],[\"EUR\",100,\"Office Work\"],[\"USD\",0,\"Work From Home\"],[\"USD\",100,\"Office Work\"],[\"HUF\",50,\"Hybrid\"],[\"USD\",0,\"Work From Home\"],[\"USD\",0,\"Work From Home\"],[\"GBP\",50,\"Hybrid\"],[\"CAD\",100,\"Office Work\"],[\"USD\",100,\"Office Work\"],[\"USD\",100,\"Office Work\"],[\"INR\",100,\"Office Work\"],[\"EUR\",50,\"Hybrid\"],[\"GBP\",100,\"Office Work\"],[\"GBP\",100,\"Office Work\"],[\"USD\",100,\"Office Work\"],[\"EUR\",100,\"Office Work\"],[\"USD\",100,\"Office Work\"],[\"USD\",100,\"Office Work\"],[\"EUR\",100,\"Office Work\"],[\"USD\",100,\"Office Work\"],[\"USD\",100,\"Office Work\"],[\"USD\",50,\"Hybrid\"],[\"USD\",100,\"Office Work\"],[\"USD\",100,\"Office Work\"],[\"GBP\",0,\"Work From Home\"],[\"EUR\",50,\"Hybrid\"],[\"USD\",100,\"Office Work\"],[\"USD\",50,\"Hybrid\"],[\"INR\",0,\"Work From Home\"],[\"USD\",100,\"Office Work\"],[\"INR\",50,\"Hybrid\"],[\"USD\",50,\"Hybrid\"],[\"EUR\",50,\"Hybrid\"],[\"USD\",100,\"Office Work\"],[\"USD\",100,\"Office Work\"],[\"USD\",0,\"Work From Home\"],[\"USD\",100,\"Office Work\"],[\"JPY\",50,\"Hybrid\"],[\"JPY\",50,\"Hybrid\"],[\"USD\",0,\"Work From Home\"],[\"USD\",100,\"Office Work\"],[\"USD\",100,\"Office Work\"],[\"USD\",0,\"Work From Home\"],[\"USD\",0,\"Work From Home\"],[\"USD\",100,\"Office Work\"],[\"USD\",100,\"Office Work\"],[\"EUR\",50,\"Hybrid\"],[\"EUR\",50,\"Hybrid\"],[\"USD\",100,\"Office Work\"],[\"USD\",100,\"Office Work\"],[\"USD\",100,\"Office Work\"],[\"USD\",0,\"Work From Home\"],[\"USD\",100,\"Office Work\"],[\"CAD\",100,\"Office Work\"],[\"USD\",100,\"Office Work\"],[\"USD\",100,\"Office Work\"],[\"CAD\",50,\"Hybrid\"],[\"SGD\",100,\"Office Work\"],[\"USD\",50,\"Hybrid\"],[\"USD\",100,\"Office Work\"],[\"USD\",100,\"Office Work\"],[\"USD\",50,\"Hybrid\"],[\"USD\",0,\"Work From Home\"],[\"EUR\",50,\"Hybrid\"],[\"EUR\",50,\"Hybrid\"],[\"EUR\",50,\"Hybrid\"],[\"USD\",100,\"Office Work\"],[\"USD\",100,\"Office Work\"],[\"USD\",0,\"Work From Home\"],[\"USD\",50,\"Hybrid\"],[\"USD\",100,\"Office Work\"],[\"USD\",100,\"Office Work\"],[\"GBP\",100,\"Office Work\"],[\"USD\",100,\"Office Work\"],[\"USD\",100,\"Office Work\"],[\"EUR\",50,\"Hybrid\"],[\"USD\",100,\"Office Work\"],[\"MXN\",0,\"Work From Home\"],[\"CLP\",100,\"Office Work\"],[\"USD\",50,\"Hybrid\"],[\"INR\",100,\"Office Work\"],[\"INR\",0,\"Work From Home\"],[\"EUR\",50,\"Hybrid\"],[\"EUR\",0,\"Work From Home\"],[\"GBP\",50,\"Hybrid\"],[\"USD\",50,\"Hybrid\"],[\"USD\",100,\"Office Work\"],[\"USD\",100,\"Office Work\"],[\"EUR\",100,\"Office Work\"],[\"EUR\",50,\"Hybrid\"],[\"USD\",50,\"Hybrid\"],[\"USD\",100,\"Office Work\"],[\"USD\",50,\"Hybrid\"],[\"USD\",0,\"Work From Home\"],[\"USD\",100,\"Office Work\"],[\"CAD\",50,\"Hybrid\"],[\"USD\",50,\"Hybrid\"],[\"USD\",100,\"Office Work\"],[\"INR\",100,\"Office Work\"],[\"INR\",50,\"Hybrid\"],[\"USD\",100,\"Office Work\"],[\"EUR\",50,\"Hybrid\"],[\"USD\",100,\"Office Work\"],[\"EUR\",100,\"Office Work\"],[\"USD\",100,\"Office Work\"],[\"USD\",100,\"Office Work\"],[\"BRL\",0,\"Work From Home\"],[\"USD\",100,\"Office Work\"],[\"USD\",0,\"Work From Home\"],[\"USD\",0,\"Work From Home\"],[\"USD\",0,\"Work From Home\"],[\"EUR\",50,\"Hybrid\"],[\"EUR\",50,\"Hybrid\"],[\"GBP\",50,\"Hybrid\"],[\"INR\",0,\"Work From Home\"],[\"EUR\",50,\"Hybrid\"],[\"USD\",100,\"Office Work\"],[\"DKK\",50,\"Hybrid\"],[\"EUR\",50,\"Hybrid\"],[\"EUR\",100,\"Office Work\"],[\"USD\",100,\"Office Work\"],[\"PLN\",100,\"Office Work\"],[\"GBP\",50,\"Hybrid\"],[\"INR\",0,\"Work From Home\"],[\"GBP\",50,\"Hybrid\"],[\"USD\",100,\"Office Work\"],[\"USD\",100,\"Office Work\"],[\"CAD\",100,\"Office Work\"],[\"EUR\",50,\"Hybrid\"],[\"USD\",0,\"Work From Home\"],[\"CAD\",100,\"Office Work\"],[\"INR\",100,\"Office Work\"],[\"USD\",100,\"Office Work\"],[\"USD\",100,\"Office Work\"],[\"USD\",100,\"Office Work\"],[\"USD\",100,\"Office Work\"],[\"USD\",0,\"Work From Home\"],[\"CAD\",100,\"Office Work\"],[\"EUR\",100,\"Office Work\"],[\"USD\",0,\"Work From Home\"],[\"INR\",50,\"Hybrid\"],[\"CAD\",100,\"Office Work\"],[\"USD\",100,\"Office Work\"],[\"USD\",100,\"Office Work\"],[\"USD\",100,\"Office Work\"],[\"INR\",100,\"Office Work\"],[\"GBP\",50,\"Hybrid\"],[\"EUR\",50,\"Hybrid\"],[\"TRY\",0,\"Work From Home\"],[\"GBP\",50,\"Hybrid\"],[\"USD\",100,\"Office Work\"],[\"USD\",50,\"Hybrid\"],[\"USD\",100,\"Office Work\"],[\"USD\",100,\"Office Work\"],[\"INR\",100,\"Office Work\"],[\"USD\",100,\"Office Work\"],[\"CAD\",50,\"Hybrid\"],[\"USD\",100,\"Office Work\"],[\"EUR\",100,\"Office Work\"],[\"USD\",50,\"Hybrid\"],[\"EUR\",0,\"Work From Home\"],[\"USD\",50,\"Hybrid\"],[\"EUR\",50,\"Hybrid\"],[\"INR\",100,\"Office Work\"],[\"INR\",0,\"Work From Home\"],[\"EUR\",100,\"Office Work\"],[\"USD\",50,\"Hybrid\"],[\"USD\",0,\"Work From Home\"],[\"USD\",0,\"Work From Home\"],[\"TRY\",100,\"Office Work\"],[\"EUR\",50,\"Hybrid\"],[\"USD\",100,\"Office Work\"],[\"BRL\",0,\"Work From Home\"],[\"EUR\",0,\"Work From Home\"],[\"USD\",100,\"Office Work\"],[\"EUR\",50,\"Hybrid\"],[\"USD\",100,\"Office Work\"],[\"USD\",50,\"Hybrid\"],[\"USD\",100,\"Office Work\"],[\"TRY\",50,\"Hybrid\"],[\"EUR\",100,\"Office Work\"],[\"USD\",100,\"Office Work\"],[\"USD\",0,\"Work From Home\"],[\"EUR\",100,\"Office Work\"],[\"USD\",100,\"Office Work\"],[\"USD\",50,\"Hybrid\"],[\"INR\",50,\"Hybrid\"],[\"EUR\",100,\"Office Work\"],[\"USD\",50,\"Hybrid\"],[\"EUR\",50,\"Hybrid\"]],\"geo\":\"geo\",\"hovertemplate\":\"<b>%{hovertext}</b><br><br>work_year=2021<br>company_country=%{location}<br>salary_currency=%{customdata[0]}<br>remote_ratio=%{z}<br>remote_ratio_num=%{customdata[2]}<extra></extra>\",\"hovertext\":[\"United Kingdom\",\"United States\",\"United States\",\"France\",\"United States\",\"India\",\"United States\",\"United States\",\"Germany\",\"United States\",\"Canada\",\"Spain\",\"Poland\",\"Poland\",\"France\",\"United States\",\"United States\",\"United States\",\"Denmark\",\"Germany\",\"India\",\"United States\",\"India\",\"Singapore\",\"United States\",\"United States\",\"United States\",\"United States\",\"United States\",\"United States\",\"United States\",\"United States\",\"United States\",\"United Kingdom\",\"Canada\",\"United States\",\"United States\",\"India\",\"Germany\",\"United Kingdom\",\"United Kingdom\",\"United States\",\"Netherlands\",\"United States\",\"Nigeria\",\"Greece\",\"United States\",\"United States\",\"Romania\",\"United States\",\"United States\",\"United Kingdom\",\"Spain\",\"United States\",\"United States\",\"India\",\"India\",\"India\",\"Iraq\",\"France\",\"United States\",\"Brazil\",\"United States\",\"United States\",\"Japan\",\"Japan\",\"United States\",\"United States\",\"United States\",\"United States\",\"United States\",\"United States\",\"United States\",\"Belgium\",\"France\",\"United States\",\"United States\",\"United States\",\"Japan\",\"United States\",\"Canada\",\"Ukraine\",\"United States\",\"Canada\",\"Israel\",\"United States\",\"United States\",\"United States\",\"Russia\",\"Russia\",\"Malta\",\"Germany\",\"Germany\",\"United States\",\"United States\",\"United States\",\"United States\",\"United States\",\"United States\",\"United Kingdom\",\"United States\",\"United States\",\"Portugal\",\"United States\",\"Mexico\",\"Chile\",\"United States\",\"United States\",\"India\",\"Germany\",\"United States\",\"United Kingdom\",\"Pakistan\",\"Iran\",\"United Kingdom\",\"Spain\",\"United Kingdom\",\"Japan\",\"France\",\"Colombia\",\"Moldova\",\"United States\",\"Canada\",\"United States\",\"Kenya\",\"India\",\"United States\",\"United States\",\"Austria\",\"United States\",\"Spain\",\"United States\",\"United States\",\"Brazil\",\"United States\",\"United States\",\"United States\",\"United States\",\"Slovenia\",\"France\",\"United Kingdom\",\"Switzerland\",\"Germany\",\"United States\",\"Denmark\",\"Germany\",\"Belgium\",\"United States\",\"Poland\",\"United Kingdom\",\"India\",\"United Kingdom\",\"Canada\",\"United States\",\"Canada\",\"Germany\",\"United States\",\"Canada\",\"India\",\"United States\",\"United States\",\"United States\",\"United States\",\"United States\",\"Canada\",\"Spain\",\"Vietnam\",\"India\",\"Canada\",\"United States\",\"United States\",\"United States\",\"American Samoa\",\"United Kingdom\",\"France\",\"Turkey\",\"United Kingdom\",\"United States\",\"United States\",\"United States\",\"United States\",\"India\",\"United States\",\"Canada\",\"United States\",\"Germany\",\"United States\",\"Germany\",\"United States\",\"Germany\",\"India\",\"India\",\"Germany\",\"United States\",\"United States\",\"United States\",\"Turkey\",\"Germany\",\"United States\",\"Brazil\",\"Germany\",\"Germany\",\"France\",\"United States\",\"United States\",\"Spain\",\"Turkey\",\"Luxembourg\",\"United States\",\"China\",\"Netherlands\",\"United States\",\"Czech Republic\",\"India\",\"Slovenia\",\"United States\",\"Italy\"],\"locationmode\":\"country names\",\"locations\":[\"United Kingdom\",\"United States\",\"United States\",\"France\",\"United States\",\"India\",\"United States\",\"United States\",\"Germany\",\"United States\",\"Canada\",\"Spain\",\"Poland\",\"Poland\",\"France\",\"United States\",\"United States\",\"United States\",\"Denmark\",\"Germany\",\"India\",\"United States\",\"India\",\"Singapore\",\"United States\",\"United States\",\"United States\",\"United States\",\"United States\",\"United States\",\"United States\",\"United States\",\"United States\",\"United Kingdom\",\"Canada\",\"United States\",\"United States\",\"India\",\"Germany\",\"United Kingdom\",\"United Kingdom\",\"United States\",\"Netherlands\",\"United States\",\"Nigeria\",\"Greece\",\"United States\",\"United States\",\"Romania\",\"United States\",\"United States\",\"United Kingdom\",\"Spain\",\"United States\",\"United States\",\"India\",\"India\",\"India\",\"Iraq\",\"France\",\"United States\",\"Brazil\",\"United States\",\"United States\",\"Japan\",\"Japan\",\"United States\",\"United States\",\"United States\",\"United States\",\"United States\",\"United States\",\"United States\",\"Belgium\",\"France\",\"United States\",\"United States\",\"United States\",\"Japan\",\"United States\",\"Canada\",\"Ukraine\",\"United States\",\"Canada\",\"Israel\",\"United States\",\"United States\",\"United States\",\"Russia\",\"Russia\",\"Malta\",\"Germany\",\"Germany\",\"United States\",\"United States\",\"United States\",\"United States\",\"United States\",\"United States\",\"United Kingdom\",\"United States\",\"United States\",\"Portugal\",\"United States\",\"Mexico\",\"Chile\",\"United States\",\"United States\",\"India\",\"Germany\",\"United States\",\"United Kingdom\",\"Pakistan\",\"Iran\",\"United Kingdom\",\"Spain\",\"United Kingdom\",\"Japan\",\"France\",\"Colombia\",\"Moldova\",\"United States\",\"Canada\",\"United States\",\"Kenya\",\"India\",\"United States\",\"United States\",\"Austria\",\"United States\",\"Spain\",\"United States\",\"United States\",\"Brazil\",\"United States\",\"United States\",\"United States\",\"United States\",\"Slovenia\",\"France\",\"United Kingdom\",\"Switzerland\",\"Germany\",\"United States\",\"Denmark\",\"Germany\",\"Belgium\",\"United States\",\"Poland\",\"United Kingdom\",\"India\",\"United Kingdom\",\"Canada\",\"United States\",\"Canada\",\"Germany\",\"United States\",\"Canada\",\"India\",\"United States\",\"United States\",\"United States\",\"United States\",\"United States\",\"Canada\",\"Spain\",\"Vietnam\",\"India\",\"Canada\",\"United States\",\"United States\",\"United States\",\"American Samoa\",\"United Kingdom\",\"France\",\"Turkey\",\"United Kingdom\",\"United States\",\"United States\",\"United States\",\"United States\",\"India\",\"United States\",\"Canada\",\"United States\",\"Germany\",\"United States\",\"Germany\",\"United States\",\"Germany\",\"India\",\"India\",\"Germany\",\"United States\",\"United States\",\"United States\",\"Turkey\",\"Germany\",\"United States\",\"Brazil\",\"Germany\",\"Germany\",\"France\",\"United States\",\"United States\",\"Spain\",\"Turkey\",\"Luxembourg\",\"United States\",\"China\",\"Netherlands\",\"United States\",\"Czech Republic\",\"India\",\"Slovenia\",\"United States\",\"Italy\"],\"name\":\"\",\"z\":[50,100,100,50,100,50,100,100,100,100,50,100,100,100,50,100,100,100,100,100,100,0,50,50,100,100,100,100,0,100,50,0,0,50,100,100,100,100,50,100,100,100,100,100,100,100,100,100,50,100,100,0,50,100,50,0,100,50,50,50,100,100,0,100,50,50,0,100,100,0,0,100,100,50,50,100,100,100,0,100,100,100,100,50,100,50,100,100,50,0,50,50,50,100,100,0,50,100,100,100,100,100,50,100,0,100,50,100,0,50,0,50,50,100,100,100,50,50,100,50,0,100,50,50,100,100,50,100,50,100,100,100,100,0,100,0,0,0,50,50,50,0,50,100,50,50,100,100,100,50,0,50,100,100,100,50,0,100,100,100,100,100,100,0,100,100,0,50,100,100,100,100,100,50,50,0,50,100,50,100,100,100,100,50,100,100,50,0,50,50,100,0,100,50,0,0,100,50,100,0,0,100,50,100,50,100,50,100,100,0,100,100,50,50,100,50,50],\"type\":\"choropleth\"}],\"name\":\"2021\"},{\"data\":[{\"coloraxis\":\"coloraxis\",\"customdata\":[[\"USD\",100,\"Office Work\"],[\"USD\",100,\"Office Work\"],[\"USD\",100,\"Office Work\"],[\"USD\",0,\"Work From Home\"],[\"USD\",0,\"Work From Home\"],[\"USD\",100,\"Office Work\"],[\"USD\",100,\"Office Work\"],[\"USD\",100,\"Office Work\"],[\"USD\",100,\"Office Work\"],[\"USD\",100,\"Office Work\"],[\"USD\",100,\"Office Work\"],[\"GBP\",0,\"Work From Home\"],[\"GBP\",0,\"Work From Home\"],[\"USD\",100,\"Office Work\"],[\"USD\",100,\"Office Work\"],[\"GBP\",100,\"Office Work\"],[\"USD\",0,\"Work From Home\"],[\"USD\",0,\"Work From Home\"],[\"USD\",0,\"Work From Home\"],[\"USD\",0,\"Work From Home\"],[\"USD\",100,\"Office Work\"],[\"USD\",100,\"Office Work\"],[\"GBP\",0,\"Work From Home\"],[\"GBP\",0,\"Work From Home\"],[\"GBP\",0,\"Work From Home\"],[\"GBP\",0,\"Work From Home\"],[\"USD\",100,\"Office Work\"],[\"GBP\",100,\"Office Work\"],[\"USD\",100,\"Office Work\"],[\"USD\",100,\"Office Work\"],[\"USD\",0,\"Work From Home\"],[\"USD\",0,\"Work From Home\"],[\"USD\",0,\"Work From Home\"],[\"USD\",0,\"Work From Home\"],[\"USD\",0,\"Work From Home\"],[\"USD\",0,\"Work From Home\"],[\"USD\",100,\"Office Work\"],[\"USD\",100,\"Office Work\"],[\"USD\",100,\"Office Work\"],[\"USD\",100,\"Office Work\"],[\"USD\",100,\"Office Work\"],[\"USD\",100,\"Office Work\"],[\"USD\",100,\"Office Work\"],[\"USD\",100,\"Office Work\"],[\"USD\",100,\"Office Work\"],[\"USD\",100,\"Office Work\"],[\"USD\",100,\"Office Work\"],[\"USD\",100,\"Office Work\"],[\"USD\",100,\"Office Work\"],[\"USD\",100,\"Office Work\"],[\"USD\",100,\"Office Work\"],[\"USD\",100,\"Office Work\"],[\"USD\",100,\"Office Work\"],[\"USD\",100,\"Office Work\"],[\"USD\",100,\"Office Work\"],[\"USD\",100,\"Office Work\"],[\"USD\",100,\"Office Work\"],[\"USD\",0,\"Work From Home\"],[\"USD\",0,\"Work From Home\"],[\"USD\",0,\"Work From Home\"],[\"USD\",100,\"Office Work\"],[\"USD\",100,\"Office Work\"],[\"USD\",100,\"Office Work\"],[\"USD\",100,\"Office Work\"],[\"USD\",100,\"Office Work\"],[\"GBP\",0,\"Work From Home\"],[\"GBP\",0,\"Work From Home\"],[\"USD\",0,\"Work From Home\"],[\"USD\",100,\"Office Work\"],[\"USD\",100,\"Office Work\"],[\"USD\",100,\"Office Work\"],[\"USD\",100,\"Office Work\"],[\"USD\",100,\"Office Work\"],[\"USD\",100,\"Office Work\"],[\"USD\",100,\"Office Work\"],[\"USD\",0,\"Work From Home\"],[\"USD\",100,\"Office Work\"],[\"USD\",0,\"Work From Home\"],[\"USD\",0,\"Work From Home\"],[\"USD\",100,\"Office Work\"],[\"USD\",100,\"Office Work\"],[\"USD\",100,\"Office Work\"],[\"USD\",0,\"Work From Home\"],[\"USD\",0,\"Work From Home\"],[\"EUR\",0,\"Work From Home\"],[\"EUR\",0,\"Work From Home\"],[\"CAD\",100,\"Office Work\"],[\"USD\",0,\"Work From Home\"],[\"USD\",100,\"Office Work\"],[\"USD\",100,\"Office Work\"],[\"USD\",100,\"Office Work\"],[\"USD\",100,\"Office Work\"],[\"USD\",100,\"Office Work\"],[\"USD\",100,\"Office Work\"],[\"USD\",100,\"Office Work\"],[\"INR\",50,\"Hybrid\"],[\"USD\",100,\"Office Work\"],[\"GBP\",100,\"Office Work\"],[\"USD\",0,\"Work From Home\"],[\"USD\",100,\"Office Work\"],[\"GBP\",0,\"Work From Home\"],[\"GBP\",0,\"Work From Home\"],[\"USD\",0,\"Work From Home\"],[\"USD\",100,\"Office Work\"],[\"USD\",100,\"Office Work\"],[\"USD\",100,\"Office Work\"],[\"USD\",100,\"Office Work\"],[\"EUR\",100,\"Office Work\"],[\"GBP\",0,\"Work From Home\"],[\"USD\",100,\"Office Work\"],[\"USD\",100,\"Office Work\"],[\"USD\",100,\"Office Work\"],[\"USD\",100,\"Office Work\"],[\"USD\",0,\"Work From Home\"],[\"USD\",0,\"Work From Home\"],[\"USD\",100,\"Office Work\"],[\"GBP\",0,\"Work From Home\"],[\"USD\",0,\"Work From Home\"],[\"USD\",100,\"Office Work\"],[\"GBP\",100,\"Office Work\"],[\"USD\",100,\"Office Work\"],[\"GBP\",0,\"Work From Home\"],[\"GBP\",0,\"Work From Home\"],[\"EUR\",100,\"Office Work\"],[\"EUR\",100,\"Office Work\"],[\"GBP\",100,\"Office Work\"],[\"GBP\",100,\"Office Work\"],[\"USD\",100,\"Office Work\"],[\"USD\",100,\"Office Work\"],[\"USD\",0,\"Work From Home\"],[\"USD\",100,\"Office Work\"],[\"USD\",100,\"Office Work\"],[\"USD\",100,\"Office Work\"],[\"USD\",100,\"Office Work\"],[\"USD\",0,\"Work From Home\"],[\"USD\",0,\"Work From Home\"],[\"USD\",0,\"Work From Home\"],[\"USD\",100,\"Office Work\"],[\"EUR\",100,\"Office Work\"],[\"USD\",0,\"Work From Home\"],[\"GBP\",100,\"Office Work\"],[\"EUR\",100,\"Office Work\"],[\"EUR\",100,\"Office Work\"],[\"EUR\",100,\"Office Work\"],[\"EUR\",100,\"Office Work\"],[\"GBP\",100,\"Office Work\"],[\"GBP\",100,\"Office Work\"],[\"EUR\",100,\"Office Work\"],[\"EUR\",100,\"Office Work\"],[\"USD\",0,\"Work From Home\"],[\"USD\",0,\"Work From Home\"],[\"EUR\",100,\"Office Work\"],[\"EUR\",100,\"Office Work\"],[\"GBP\",100,\"Office Work\"],[\"GBP\",100,\"Office Work\"],[\"USD\",0,\"Work From Home\"],[\"EUR\",100,\"Office Work\"],[\"USD\",100,\"Office Work\"],[\"USD\",100,\"Office Work\"],[\"USD\",100,\"Office Work\"],[\"EUR\",100,\"Office Work\"],[\"USD\",100,\"Office Work\"],[\"CAD\",100,\"Office Work\"],[\"CAD\",50,\"Hybrid\"],[\"USD\",100,\"Office Work\"],[\"USD\",0,\"Work From Home\"],[\"CNY\",50,\"Hybrid\"],[\"USD\",100,\"Office Work\"],[\"EUR\",0,\"Work From Home\"],[\"INR\",100,\"Office Work\"],[\"INR\",100,\"Office Work\"],[\"EUR\",50,\"Hybrid\"],[\"USD\",50,\"Hybrid\"],[\"EUR\",50,\"Hybrid\"],[\"INR\",100,\"Office Work\"],[\"EUR\",100,\"Office Work\"],[\"USD\",100,\"Office Work\"],[\"USD\",50,\"Hybrid\"],[\"USD\",100,\"Office Work\"],[\"USD\",100,\"Office Work\"],[\"USD\",100,\"Office Work\"],[\"USD\",100,\"Office Work\"],[\"USD\",100,\"Office Work\"],[\"USD\",100,\"Office Work\"],[\"USD\",100,\"Office Work\"],[\"GBP\",0,\"Work From Home\"],[\"GBP\",0,\"Work From Home\"],[\"USD\",100,\"Office Work\"],[\"USD\",100,\"Office Work\"],[\"USD\",100,\"Office Work\"],[\"USD\",100,\"Office Work\"],[\"USD\",100,\"Office Work\"],[\"USD\",100,\"Office Work\"],[\"USD\",100,\"Office Work\"],[\"USD\",100,\"Office Work\"],[\"USD\",100,\"Office Work\"],[\"USD\",100,\"Office Work\"],[\"USD\",100,\"Office Work\"],[\"USD\",50,\"Hybrid\"],[\"USD\",100,\"Office Work\"],[\"EUR\",100,\"Office Work\"],[\"USD\",100,\"Office Work\"],[\"USD\",100,\"Office Work\"],[\"PLN\",100,\"Office Work\"],[\"CAD\",100,\"Office Work\"],[\"USD\",100,\"Office Work\"],[\"USD\",50,\"Hybrid\"],[\"EUR\",100,\"Office Work\"],[\"USD\",100,\"Office Work\"],[\"EUR\",50,\"Hybrid\"],[\"CAD\",100,\"Office Work\"],[\"EUR\",100,\"Office Work\"],[\"EUR\",100,\"Office Work\"],[\"USD\",100,\"Office Work\"],[\"AUD\",100,\"Office Work\"],[\"USD\",100,\"Office Work\"],[\"AUD\",50,\"Hybrid\"],[\"USD\",100,\"Office Work\"],[\"EUR\",0,\"Work From Home\"],[\"USD\",100,\"Office Work\"],[\"USD\",100,\"Office Work\"],[\"USD\",100,\"Office Work\"],[\"CAD\",50,\"Hybrid\"],[\"USD\",100,\"Office Work\"],[\"EUR\",100,\"Office Work\"],[\"USD\",0,\"Work From Home\"],[\"USD\",100,\"Office Work\"],[\"USD\",100,\"Office Work\"],[\"EUR\",100,\"Office Work\"],[\"CHF\",0,\"Work From Home\"],[\"USD\",100,\"Office Work\"],[\"CAD\",100,\"Office Work\"],[\"USD\",100,\"Office Work\"],[\"USD\",100,\"Office Work\"],[\"USD\",100,\"Office Work\"],[\"USD\",100,\"Office Work\"],[\"USD\",100,\"Office Work\"],[\"USD\",100,\"Office Work\"],[\"USD\",100,\"Office Work\"],[\"USD\",100,\"Office Work\"],[\"USD\",100,\"Office Work\"],[\"USD\",0,\"Work From Home\"],[\"USD\",0,\"Work From Home\"],[\"USD\",100,\"Office Work\"],[\"USD\",100,\"Office Work\"],[\"USD\",100,\"Office Work\"],[\"USD\",100,\"Office Work\"],[\"USD\",100,\"Office Work\"],[\"USD\",100,\"Office Work\"],[\"USD\",0,\"Work From Home\"],[\"USD\",0,\"Work From Home\"],[\"USD\",100,\"Office Work\"],[\"USD\",100,\"Office Work\"],[\"USD\",0,\"Work From Home\"],[\"USD\",0,\"Work From Home\"],[\"USD\",100,\"Office Work\"],[\"USD\",100,\"Office Work\"],[\"USD\",100,\"Office Work\"],[\"USD\",100,\"Office Work\"],[\"USD\",100,\"Office Work\"],[\"USD\",100,\"Office Work\"],[\"USD\",0,\"Work From Home\"],[\"USD\",0,\"Work From Home\"],[\"USD\",100,\"Office Work\"],[\"USD\",100,\"Office Work\"],[\"USD\",100,\"Office Work\"],[\"USD\",100,\"Office Work\"],[\"USD\",100,\"Office Work\"],[\"USD\",0,\"Work From Home\"],[\"USD\",0,\"Work From Home\"],[\"USD\",0,\"Work From Home\"],[\"USD\",0,\"Work From Home\"],[\"USD\",0,\"Work From Home\"],[\"USD\",100,\"Office Work\"],[\"USD\",100,\"Office Work\"],[\"USD\",100,\"Office Work\"],[\"USD\",0,\"Work From Home\"],[\"USD\",100,\"Office Work\"],[\"GBP\",0,\"Work From Home\"],[\"USD\",100,\"Office Work\"],[\"USD\",100,\"Office Work\"],[\"USD\",100,\"Office Work\"],[\"USD\",100,\"Office Work\"],[\"USD\",100,\"Office Work\"],[\"USD\",100,\"Office Work\"],[\"USD\",100,\"Office Work\"],[\"USD\",100,\"Office Work\"],[\"USD\",100,\"Office Work\"],[\"USD\",100,\"Office Work\"],[\"USD\",100,\"Office Work\"],[\"USD\",100,\"Office Work\"],[\"USD\",100,\"Office Work\"],[\"USD\",100,\"Office Work\"],[\"USD\",100,\"Office Work\"],[\"USD\",100,\"Office Work\"],[\"USD\",100,\"Office Work\"],[\"USD\",100,\"Office Work\"],[\"GBP\",0,\"Work From Home\"],[\"USD\",100,\"Office Work\"],[\"USD\",0,\"Work From Home\"],[\"USD\",100,\"Office Work\"],[\"USD\",100,\"Office Work\"],[\"USD\",100,\"Office Work\"],[\"USD\",100,\"Office Work\"],[\"USD\",100,\"Office Work\"],[\"USD\",100,\"Office Work\"],[\"USD\",100,\"Office Work\"],[\"USD\",100,\"Office Work\"],[\"USD\",100,\"Office Work\"],[\"USD\",100,\"Office Work\"],[\"USD\",100,\"Office Work\"],[\"USD\",0,\"Work From Home\"],[\"USD\",0,\"Work From Home\"],[\"USD\",100,\"Office Work\"],[\"USD\",100,\"Office Work\"],[\"USD\",0,\"Work From Home\"],[\"USD\",100,\"Office Work\"],[\"USD\",100,\"Office Work\"]],\"geo\":\"geo\",\"hovertemplate\":\"<b>%{hovertext}</b><br><br>work_year=2022<br>company_country=%{location}<br>salary_currency=%{customdata[0]}<br>remote_ratio=%{z}<br>remote_ratio_num=%{customdata[2]}<extra></extra>\",\"hovertext\":[\"United States\",\"United States\",\"United States\",\"United States\",\"United States\",\"United States\",\"United States\",\"United States\",\"United States\",\"United States\",\"United States\",\"United Kingdom\",\"United Kingdom\",\"United States\",\"United States\",\"United Kingdom\",\"United States\",\"United States\",\"United States\",\"United States\",\"United States\",\"United States\",\"United Kingdom\",\"United Kingdom\",\"United Kingdom\",\"United Kingdom\",\"United States\",\"United Kingdom\",\"United States\",\"United States\",\"United States\",\"United States\",\"United States\",\"United States\",\"United States\",\"United States\",\"United States\",\"United States\",\"United States\",\"United States\",\"United States\",\"United States\",\"United States\",\"United States\",\"United States\",\"United States\",\"United States\",\"United States\",\"United States\",\"United States\",\"United States\",\"United States\",\"United States\",\"United States\",\"United States\",\"United States\",\"United States\",\"United States\",\"United States\",\"United States\",\"United States\",\"United States\",\"United States\",\"United States\",\"United States\",\"United Kingdom\",\"United Kingdom\",\"United States\",\"United States\",\"Canada\",\"Canada\",\"Canada\",\"Canada\",\"Canada\",\"Canada\",\"United States\",\"United States\",\"United States\",\"United States\",\"United States\",\"United States\",\"United States\",\"United States\",\"United States\",\"Greece\",\"Greece\",\"Canada\",\"United States\",\"United States\",\"United States\",\"United States\",\"United States\",\"United States\",\"United States\",\"United States\",\"India\",\"United States\",\"United Kingdom\",\"United States\",\"United States\",\"United Kingdom\",\"United Kingdom\",\"United States\",\"United States\",\"United States\",\"United States\",\"United States\",\"Germany\",\"United Kingdom\",\"United States\",\"United States\",\"United States\",\"United States\",\"United States\",\"United States\",\"United States\",\"United Kingdom\",\"United States\",\"United States\",\"United Kingdom\",\"United States\",\"United Kingdom\",\"United Kingdom\",\"Greece\",\"Greece\",\"United Kingdom\",\"United Kingdom\",\"United States\",\"Mexico\",\"United States\",\"United States\",\"United States\",\"United States\",\"United States\",\"United States\",\"United States\",\"United States\",\"United States\",\"Spain\",\"United States\",\"United Kingdom\",\"Spain\",\"Spain\",\"Spain\",\"Spain\",\"United Kingdom\",\"United Kingdom\",\"Spain\",\"Greece\",\"United States\",\"United States\",\"Greece\",\"Greece\",\"United Kingdom\",\"United Kingdom\",\"United States\",\"Greece\",\"United States\",\"United States\",\"United States\",\"Portugal\",\"United States\",\"Canada\",\"Canada\",\"United States\",\"United States\",\"United States\",\"United States\",\"Germany\",\"India\",\"India\",\"Portugal\",\"United States\",\"Germany\",\"India\",\"Germany\",\"United States\",\"United States\",\"United States\",\"United States\",\"United States\",\"United States\",\"United States\",\"United States\",\"United States\",\"United Kingdom\",\"United Kingdom\",\"United States\",\"United States\",\"United States\",\"United States\",\"United Arab Emirates\",\"United Arab Emirates\",\"United States\",\"United States\",\"United States\",\"United States\",\"United States\",\"Algeria\",\"United States\",\"Czech Republic\",\"United States\",\"Canada\",\"Poland\",\"Canada\",\"United States\",\"United States\",\"Germany\",\"United States\",\"France\",\"Canada\",\"Netherlands\",\"Estonia\",\"Malaysia\",\"Australia\",\"United States\",\"Australia\",\"United States\",\"Austria\",\"United States\",\"United States\",\"Australia\",\"Canada\",\"United States\",\"Ireland\",\"Pakistan\",\"United States\",\"United States\",\"France\",\"Switzerland\",\"United States\",\"Canada\",\"Luxembourg\",\"Greece\",\"United States\",\"United States\",\"United States\",\"United States\",\"United States\",\"United States\",\"United States\",\"Canada\",\"Canada\",\"United States\",\"United States\",\"United States\",\"United States\",\"United States\",\"United States\",\"United States\",\"United States\",\"United States\",\"United States\",\"United States\",\"United States\",\"United States\",\"United States\",\"United States\",\"United States\",\"United States\",\"United States\",\"United States\",\"United States\",\"United States\",\"United States\",\"United States\",\"United States\",\"United States\",\"United States\",\"United States\",\"United States\",\"United States\",\"United States\",\"United States\",\"United States\",\"United States\",\"United States\",\"United States\",\"United Kingdom\",\"United States\",\"United States\",\"United States\",\"United States\",\"United States\",\"United States\",\"United States\",\"United States\",\"United States\",\"United States\",\"United States\",\"United States\",\"United States\",\"United States\",\"United States\",\"United States\",\"United States\",\"United States\",\"United Kingdom\",\"United States\",\"United States\",\"United States\",\"United States\",\"United States\",\"United States\",\"United States\",\"United States\",\"United States\",\"United States\",\"United States\",\"United States\",\"United States\",\"Canada\",\"Canada\",\"United States\",\"United States\",\"United States\",\"United States\",\"United States\"],\"locationmode\":\"country names\",\"locations\":[\"United States\",\"United States\",\"United States\",\"United States\",\"United States\",\"United States\",\"United States\",\"United States\",\"United States\",\"United States\",\"United States\",\"United Kingdom\",\"United Kingdom\",\"United States\",\"United States\",\"United Kingdom\",\"United States\",\"United States\",\"United States\",\"United States\",\"United States\",\"United States\",\"United Kingdom\",\"United Kingdom\",\"United Kingdom\",\"United Kingdom\",\"United States\",\"United Kingdom\",\"United States\",\"United States\",\"United States\",\"United States\",\"United States\",\"United States\",\"United States\",\"United States\",\"United States\",\"United States\",\"United States\",\"United States\",\"United States\",\"United States\",\"United States\",\"United States\",\"United States\",\"United States\",\"United States\",\"United States\",\"United States\",\"United States\",\"United States\",\"United States\",\"United States\",\"United States\",\"United States\",\"United States\",\"United States\",\"United States\",\"United States\",\"United States\",\"United States\",\"United States\",\"United States\",\"United States\",\"United States\",\"United Kingdom\",\"United Kingdom\",\"United States\",\"United States\",\"Canada\",\"Canada\",\"Canada\",\"Canada\",\"Canada\",\"Canada\",\"United States\",\"United States\",\"United States\",\"United States\",\"United States\",\"United States\",\"United States\",\"United States\",\"United States\",\"Greece\",\"Greece\",\"Canada\",\"United States\",\"United States\",\"United States\",\"United States\",\"United States\",\"United States\",\"United States\",\"United States\",\"India\",\"United States\",\"United Kingdom\",\"United States\",\"United States\",\"United Kingdom\",\"United Kingdom\",\"United States\",\"United States\",\"United States\",\"United States\",\"United States\",\"Germany\",\"United Kingdom\",\"United States\",\"United States\",\"United States\",\"United States\",\"United States\",\"United States\",\"United States\",\"United Kingdom\",\"United States\",\"United States\",\"United Kingdom\",\"United States\",\"United Kingdom\",\"United Kingdom\",\"Greece\",\"Greece\",\"United Kingdom\",\"United Kingdom\",\"United States\",\"Mexico\",\"United States\",\"United States\",\"United States\",\"United States\",\"United States\",\"United States\",\"United States\",\"United States\",\"United States\",\"Spain\",\"United States\",\"United Kingdom\",\"Spain\",\"Spain\",\"Spain\",\"Spain\",\"United Kingdom\",\"United Kingdom\",\"Spain\",\"Greece\",\"United States\",\"United States\",\"Greece\",\"Greece\",\"United Kingdom\",\"United Kingdom\",\"United States\",\"Greece\",\"United States\",\"United States\",\"United States\",\"Portugal\",\"United States\",\"Canada\",\"Canada\",\"United States\",\"United States\",\"United States\",\"United States\",\"Germany\",\"India\",\"India\",\"Portugal\",\"United States\",\"Germany\",\"India\",\"Germany\",\"United States\",\"United States\",\"United States\",\"United States\",\"United States\",\"United States\",\"United States\",\"United States\",\"United States\",\"United Kingdom\",\"United Kingdom\",\"United States\",\"United States\",\"United States\",\"United States\",\"United Arab Emirates\",\"United Arab Emirates\",\"United States\",\"United States\",\"United States\",\"United States\",\"United States\",\"Algeria\",\"United States\",\"Czech Republic\",\"United States\",\"Canada\",\"Poland\",\"Canada\",\"United States\",\"United States\",\"Germany\",\"United States\",\"France\",\"Canada\",\"Netherlands\",\"Estonia\",\"Malaysia\",\"Australia\",\"United States\",\"Australia\",\"United States\",\"Austria\",\"United States\",\"United States\",\"Australia\",\"Canada\",\"United States\",\"Ireland\",\"Pakistan\",\"United States\",\"United States\",\"France\",\"Switzerland\",\"United States\",\"Canada\",\"Luxembourg\",\"Greece\",\"United States\",\"United States\",\"United States\",\"United States\",\"United States\",\"United States\",\"United States\",\"Canada\",\"Canada\",\"United States\",\"United States\",\"United States\",\"United States\",\"United States\",\"United States\",\"United States\",\"United States\",\"United States\",\"United States\",\"United States\",\"United States\",\"United States\",\"United States\",\"United States\",\"United States\",\"United States\",\"United States\",\"United States\",\"United States\",\"United States\",\"United States\",\"United States\",\"United States\",\"United States\",\"United States\",\"United States\",\"United States\",\"United States\",\"United States\",\"United States\",\"United States\",\"United States\",\"United States\",\"United States\",\"United Kingdom\",\"United States\",\"United States\",\"United States\",\"United States\",\"United States\",\"United States\",\"United States\",\"United States\",\"United States\",\"United States\",\"United States\",\"United States\",\"United States\",\"United States\",\"United States\",\"United States\",\"United States\",\"United States\",\"United Kingdom\",\"United States\",\"United States\",\"United States\",\"United States\",\"United States\",\"United States\",\"United States\",\"United States\",\"United States\",\"United States\",\"United States\",\"United States\",\"United States\",\"Canada\",\"Canada\",\"United States\",\"United States\",\"United States\",\"United States\",\"United States\"],\"name\":\"\",\"z\":[100,100,100,0,0,100,100,100,100,100,100,0,0,100,100,100,0,0,0,0,100,100,0,0,0,0,100,100,100,100,0,0,0,0,0,0,100,100,100,100,100,100,100,100,100,100,100,100,100,100,100,100,100,100,100,100,100,0,0,0,100,100,100,100,100,0,0,0,100,100,100,100,100,100,100,0,100,0,0,100,100,100,0,0,0,0,100,0,100,100,100,100,100,100,100,50,100,100,0,100,0,0,0,100,100,100,100,100,0,100,100,100,100,0,0,100,0,0,100,100,100,0,0,100,100,100,100,100,100,0,100,100,100,100,0,0,0,100,100,0,100,100,100,100,100,100,100,100,100,0,0,100,100,100,100,0,100,100,100,100,100,100,100,50,100,0,50,100,0,100,100,50,50,50,100,100,100,50,100,100,100,100,100,100,100,0,0,100,100,100,100,100,100,100,100,100,100,100,50,100,100,100,100,100,100,100,50,100,100,50,100,100,100,100,100,100,50,100,0,100,100,100,50,100,100,0,100,100,100,0,100,100,100,100,100,100,100,100,100,100,100,0,0,100,100,100,100,100,100,0,0,100,100,0,0,100,100,100,100,100,100,0,0,100,100,100,100,100,0,0,0,0,0,100,100,100,0,100,0,100,100,100,100,100,100,100,100,100,100,100,100,100,100,100,100,100,100,0,100,0,100,100,100,100,100,100,100,100,100,100,100,0,0,100,100,0,100,100],\"type\":\"choropleth\"}],\"name\":\"2022\"}]);\n",
       "                        }).then(function(){\n",
       "                            \n",
       "var gd = document.getElementById('99bea15f-0e46-47f8-a835-fb17780e56f2');\n",
       "var x = new MutationObserver(function (mutations, observer) {{\n",
       "        var display = window.getComputedStyle(gd).display;\n",
       "        if (!display || display === 'none') {{\n",
       "            console.log([gd, 'removed!']);\n",
       "            Plotly.purge(gd);\n",
       "            observer.disconnect();\n",
       "        }}\n",
       "}});\n",
       "\n",
       "// Listen for the removal of the full notebook cells\n",
       "var notebookContainer = gd.closest('#notebook-container');\n",
       "if (notebookContainer) {{\n",
       "    x.observe(notebookContainer, {childList: true});\n",
       "}}\n",
       "\n",
       "// Listen for the clearing of the current output cell\n",
       "var outputEl = gd.closest('.output');\n",
       "if (outputEl) {{\n",
       "    x.observe(outputEl, {childList: true});\n",
       "}}\n",
       "\n",
       "                        })                };                });            </script>        </div>"
      ]
     },
     "metadata": {},
     "output_type": "display_data"
    }
   ],
   "source": [
    "remote_map = {0:'Work From Home',50:'Hybrid',100:'Office Work'}\n",
    "\n",
    "dsjobs['remote_ratio_num'] = dsjobs['remote_ratio'].map(remote_map)\n",
    "\n",
    "fig = px.choropleth(dsjobs,locationmode = \"country names\" ,locations = \"company_country\" , \n",
    "                    color=\"remote_ratio\",hover_name=\"company_country\" ,\n",
    "                    hover_data = dsjobs[[\"salary_currency\",\"remote_ratio\",\"remote_ratio_num\"]] ,\n",
    "                    animation_frame=\"work_year\" , color_continuous_scale = 'OrRd',\n",
    "                    title = 'Remote work preference/status as a function of time')\n",
    "\n",
    "fig.show()"
   ]
  },
  {
   "cell_type": "markdown",
   "metadata": {},
   "source": [
    "#### Due to the Covid - 19 crisis, most jobs were shifted to Work from home modality, however as the vaccines started rolling out, everything starts retuning to the normalcy."
   ]
  },
  {
   "cell_type": "markdown",
   "metadata": {},
   "source": [
    "### WordCloud"
   ]
  },
  {
   "cell_type": "code",
   "execution_count": 70,
   "metadata": {},
   "outputs": [
    {
     "data": {
      "image/png": "[encoded data removed]",
      "text/plain": [
       "<Figure size 1080x1080 with 1 Axes>"
      ]
     },
     "metadata": {},
     "output_type": "display_data"
    }
   ],
   "source": [
    "from wordcloud import WordCloud\n",
    "text = \" \".join(job_titles for job_titles in dsjobs[\"job_title\"])\n",
    "word_cloud = WordCloud(background_color = 'white', colormap = 'Spectral', min_font_size = 4).generate(text)\n",
    "plt.figure(figsize = (15, 15))\n",
    "plt.imshow(word_cloud)\n",
    "plt.axis(\"off\")\n",
    "plt.show()"
   ]
  },
  {
   "cell_type": "markdown",
   "metadata": {},
   "source": [
    "#### The word that appear most in the dataset are written in the bigger font while the ones that appear less are written in relatively smaller font. A collage of these words is created. "
   ]
  },
  {
   "cell_type": "markdown",
   "metadata": {},
   "source": [
    "## Inferences and Conclusion\n",
    "\n",
    "A detailed data analysis is done for the given dataset of Data Science Job Salaries. It can be concluded that:\n",
    "\n",
    "1. Data Science is one the most popular and emerging field in almost all industries such as Healthcare, Sports, Art, etc.\n",
    "2. The variation of average salary of data scientists across the world are explored.\n",
    "3. The variation of salaries across type of employment such as Contract basis, Full-time, etc is very crucial. \n",
    "4. The variation of salaries as you gain experience is a rising curve.\n",
    "5. Owing to the Covid - 19 crisis, the work environment was shifted to Work from Home and back to normalcy as the time passed. "
   ]
  },
  {
   "cell_type": "markdown",
   "metadata": {},
   "source": [
    "## References and Future Work\n",
    "\n",
    "All the useful link are listed below:\n",
    "1. https://www.kaggle.com/datasets/ruchi798/data-science-job-salaries\n",
    "2. https://jovian.ai/\n",
    "3. https://plotly.com/python/choropleth-maps/\n",
    "4. https://plotly.com/"
   ]
  }
 ],
 "metadata": {
  "kernelspec": {
   "display_name": "Python 3 (ipykernel)",
   "language": "python",
   "name": "python3"
  },
  "language_info": {
   "codemirror_mode": {
    "name": "ipython",
    "version": 3
   },
   "file_extension": ".py",
   "mimetype": "text/x-python",
   "name": "python",
   "nbconvert_exporter": "python",
   "pygments_lexer": "ipython3",
   "version": "3.9.12"
  }
 },
 "nbformat": 4,
 "nbformat_minor": 4
}
